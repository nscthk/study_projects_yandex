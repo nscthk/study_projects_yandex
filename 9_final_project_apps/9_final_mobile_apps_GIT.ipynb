{
 "cells": [
  {
   "cell_type": "markdown",
   "metadata": {},
   "source": [
    "# Мобильные приложения — Выделение групп пользователей на основе поведения"
   ]
  },
  {
   "cell_type": "markdown",
   "metadata": {},
   "source": [
    "**Задача проекта:** -Выделить группы пользователей на основе поведения\n",
    "\n",
    "**Кто заинтересован в результате вашей работы?** Как мне кажется это достаточно типичная задача продуктового аналитика - классифицировать пользователей и понять, какие группы самые прибыльные для бизнеса. То есть заинтересован заказчик - владелец нашего продукта - мобильного приложения. \n",
    "\n",
    "**Какие решения будут предприняты на основании вашего анализа?** - решение о том через какие каналы привлекать пользователей (на основании проверки гипотез : Привлеченные по ссылке из yandex и по ссылке из google демонстрируют разную конверсию в просмотры контактов, пользователи с событием tips_click(пользователь кликнул по рекомендованному объявлению) и пользователи, использовавшие поиск search монстрируют разную конверсию в просмотры контактов"
   ]
  },
  {
   "cell_type": "markdown",
   "metadata": {},
   "source": [
    "**Этапы проекта**\n",
    "\n",
    "1. Знакомство с данными загрузка данных, описание полей данных\n",
    "2. Предобработка данных \n",
    "    - Приведение полей к формату стиля snake_case и переименование в интуитивно понятные, если необходимо\n",
    "    - Определение наличия пропущенных значений и работа с ними\n",
    "    - Определение наличия дубликатов и работа с дубликатами\n",
    "    - Приведение к определенным типам данных в случае несоответствия типов\n",
    "3. Исследовательский анализ данных (EDA)\n",
    "    - посмотреть какие события есть в датасете, как часто они встречаются\n",
    "    - посмотреть сколько пользователей совершали каждое из этих событий\n",
    "    - посмотреть в каком порядке происходят события, все ли они выстраиваются в последовательную цепочку\n",
    "    - рассчитать retention rate\n",
    "    - расчет метрики время, проведённого в приложении\n",
    "    - расчет метрики частота действий пользователя \n",
    "    - расчет конверсии в целевое действие — просмотр контактов\n",
    "4. Сегментирование пользователей \n",
    "    - разделение пользователей на группы используя кластерный анализ\n",
    "    - анализ retention rate по группам\n",
    "4. Проверка статистических гипотез\n",
    "    - Проверка гипотезы: привлеченные по ссылке из yandex и по ссылке из google демонстрируют разную конверсию в просмотры контактов\n",
    "    - Проверка гипотезы: пользователи с событием tips_click(пользователь кликнул по рекомендованному объявлению) и пользователи, использовавшие поиск search монстрируют разную конверсию в добавление объявления в избранное\n",
    "5. Выводы и рекомендации\n",
    "6. Создание дашборда и презентации"
   ]
  },
  {
   "cell_type": "markdown",
   "metadata": {},
   "source": [
    "## Импорт библиотек"
   ]
  },
  {
   "cell_type": "code",
   "execution_count": 1,
   "metadata": {},
   "outputs": [],
   "source": [
    "import pandas as pd\n",
    "from scipy import stats as st\n",
    "import math as mth\n",
    "import numpy as np\n",
    "import seaborn as sns\n",
    "from matplotlib import pyplot as plt\n",
    "from datetime import datetime, timedelta, date\n",
    "import datetime\n",
    "from scipy.cluster.hierarchy import dendrogram, linkage \n",
    "from sklearn.preprocessing import StandardScaler\n",
    "from sklearn.cluster import KMeans\n",
    "import warnings\n",
    "warnings.filterwarnings('ignore')"
   ]
  },
  {
   "cell_type": "markdown",
   "metadata": {},
   "source": [
    "## Задание пользовательских функций"
   ]
  },
  {
   "cell_type": "code",
   "execution_count": 2,
   "metadata": {},
   "outputs": [],
   "source": [
    "def week_start(date):\n",
    "    \"\"\"\n",
    "    Возвращает лайфтайм\n",
    "    по значению даты первого \n",
    "    события пользователя \n",
    "    \"\"\"\n",
    "    if date <=  datetime.date(2019, 10, 13):\n",
    "        return datetime.date(2019, 10, 7)\n",
    "    elif date > datetime.date(2019, 10, 13) and date <= datetime.date(2019, 10, 20) :\n",
    "        return datetime.date(2019, 10, 14)\n",
    "    elif date > datetime.date(2019, 10, 20) and date <= datetime.date(2019, 10, 27) :\n",
    "        return datetime.date(2019, 10, 21)\n",
    "    else: return datetime.date(2019, 10, 28)"
   ]
  },
  {
   "cell_type": "code",
   "execution_count": 3,
   "metadata": {},
   "outputs": [],
   "source": [
    "def get_retention(df):\n",
    "    \n",
    "    # \n",
    "    df['week_start'] = df['event_time_first'].dt.isocalendar().week \n",
    "    df['week'] = df['event_time'].dt.isocalendar().week \n",
    "    df['lifetime'] = (df['week'] - df['event_time_first'].dt.isocalendar().week )\n",
    "\n",
    "    df['week_start_date'] = df['event_time_first'].apply(week_start)\n",
    "    result_grouped = df.pivot_table(\n",
    "    index=['week_start_date'], columns='lifetime', values='user_id', aggfunc='nunique')\n",
    "    \n",
    "    cohort_sizes = (\n",
    "    df.groupby('week_start_date')\n",
    "    .agg({'user_id': 'nunique'})\n",
    "    .rename(columns={'user_id': 'cohort_size'}))\n",
    "    \n",
    "    result_grouped = cohort_sizes.merge(\n",
    "    result_grouped, on='week_start_date', how='left').fillna(0)\n",
    "    \n",
    "    result_grouped = result_grouped.div(\n",
    "    result_grouped['cohort_size'], axis=0).drop(columns=['cohort_size'])\n",
    "    \n",
    "    return result_grouped"
   ]
  },
  {
   "cell_type": "code",
   "execution_count": 4,
   "metadata": {},
   "outputs": [],
   "source": [
    "def z_test(purchases, leads, alpha = 0.05):\n",
    "    # функция z-критерия проверки гипотез\n",
    "    p1 = purchases[0]/leads[0] # ваш код\n",
    "    p2 = purchases[1]/leads[1] \n",
    "    p_combined = (purchases[0] + purchases[1]) / (leads[0] + leads[1])\n",
    "    difference = p1 - p2 \n",
    "    z_value = difference / mth.sqrt(p_combined * (1 - p_combined) * (1/leads[0] + 1/leads[1])) \n",
    "    distr = st.norm(0, 1)  \n",
    "    p_value = (1 - distr.cdf(abs(z_value))) * 2\n",
    "    print('p-значение: ', p_value)\n",
    "    if p_value < alpha: # ваш код\n",
    "        print('Отвергаем нулевую гипотезу: между долями есть значимая разница')\n",
    "    else:\n",
    "        print(\n",
    "        'Не получилось отвергнуть нулевую гипотезу, нет оснований считать доли разными' )"
   ]
  },
  {
   "cell_type": "markdown",
   "metadata": {},
   "source": [
    "## Загрузка и обзор данных"
   ]
  },
  {
   "cell_type": "markdown",
   "metadata": {},
   "source": [
    "У нас есть два датасета : **mobile_dataset** и **mobile_sourсes**. Посмотрим на данные"
   ]
  },
  {
   "cell_type": "code",
   "execution_count": 5,
   "metadata": {},
   "outputs": [],
   "source": [
    "dataset = pd.read_csv('mobile_dataset.csv')\n",
    "sources = pd.read_csv('mobile_sourсes.csv')"
   ]
  },
  {
   "cell_type": "markdown",
   "metadata": {},
   "source": [
    "### Датасет dataset"
   ]
  },
  {
   "cell_type": "markdown",
   "metadata": {},
   "source": [
    "Изучим датасет dataset"
   ]
  },
  {
   "cell_type": "code",
   "execution_count": 6,
   "metadata": {},
   "outputs": [
    {
     "data": {
      "text/html": [
       "<div>\n",
       "<style scoped>\n",
       "    .dataframe tbody tr th:only-of-type {\n",
       "        vertical-align: middle;\n",
       "    }\n",
       "\n",
       "    .dataframe tbody tr th {\n",
       "        vertical-align: top;\n",
       "    }\n",
       "\n",
       "    .dataframe thead th {\n",
       "        text-align: right;\n",
       "    }\n",
       "</style>\n",
       "<table border=\"1\" class=\"dataframe\">\n",
       "  <thead>\n",
       "    <tr style=\"text-align: right;\">\n",
       "      <th></th>\n",
       "      <th>event.time</th>\n",
       "      <th>event.name</th>\n",
       "      <th>user.id</th>\n",
       "    </tr>\n",
       "  </thead>\n",
       "  <tbody>\n",
       "    <tr>\n",
       "      <th>0</th>\n",
       "      <td>2019-10-07 00:00:00.431357</td>\n",
       "      <td>advert_open</td>\n",
       "      <td>020292ab-89bc-4156-9acf-68bc2783f894</td>\n",
       "    </tr>\n",
       "    <tr>\n",
       "      <th>1</th>\n",
       "      <td>2019-10-07 00:00:01.236320</td>\n",
       "      <td>tips_show</td>\n",
       "      <td>020292ab-89bc-4156-9acf-68bc2783f894</td>\n",
       "    </tr>\n",
       "    <tr>\n",
       "      <th>2</th>\n",
       "      <td>2019-10-07 00:00:02.245341</td>\n",
       "      <td>tips_show</td>\n",
       "      <td>cf7eda61-9349-469f-ac27-e5b6f5ec475c</td>\n",
       "    </tr>\n",
       "    <tr>\n",
       "      <th>3</th>\n",
       "      <td>2019-10-07 00:00:07.039334</td>\n",
       "      <td>tips_show</td>\n",
       "      <td>020292ab-89bc-4156-9acf-68bc2783f894</td>\n",
       "    </tr>\n",
       "    <tr>\n",
       "      <th>4</th>\n",
       "      <td>2019-10-07 00:00:56.319813</td>\n",
       "      <td>advert_open</td>\n",
       "      <td>cf7eda61-9349-469f-ac27-e5b6f5ec475c</td>\n",
       "    </tr>\n",
       "  </tbody>\n",
       "</table>\n",
       "</div>"
      ],
      "text/plain": [
       "                   event.time   event.name  \\\n",
       "0  2019-10-07 00:00:00.431357  advert_open   \n",
       "1  2019-10-07 00:00:01.236320    tips_show   \n",
       "2  2019-10-07 00:00:02.245341    tips_show   \n",
       "3  2019-10-07 00:00:07.039334    tips_show   \n",
       "4  2019-10-07 00:00:56.319813  advert_open   \n",
       "\n",
       "                                user.id  \n",
       "0  020292ab-89bc-4156-9acf-68bc2783f894  \n",
       "1  020292ab-89bc-4156-9acf-68bc2783f894  \n",
       "2  cf7eda61-9349-469f-ac27-e5b6f5ec475c  \n",
       "3  020292ab-89bc-4156-9acf-68bc2783f894  \n",
       "4  cf7eda61-9349-469f-ac27-e5b6f5ec475c  "
      ]
     },
     "execution_count": 6,
     "metadata": {},
     "output_type": "execute_result"
    }
   ],
   "source": [
    "dataset.head()"
   ]
  },
  {
   "cell_type": "code",
   "execution_count": 7,
   "metadata": {},
   "outputs": [
    {
     "name": "stdout",
     "output_type": "stream",
     "text": [
      "<class 'pandas.core.frame.DataFrame'>\n",
      "RangeIndex: 74197 entries, 0 to 74196\n",
      "Data columns (total 3 columns):\n",
      " #   Column      Non-Null Count  Dtype \n",
      "---  ------      --------------  ----- \n",
      " 0   event.time  74197 non-null  object\n",
      " 1   event.name  74197 non-null  object\n",
      " 2   user.id     74197 non-null  object\n",
      "dtypes: object(3)\n",
      "memory usage: 1.7+ MB\n"
     ]
    }
   ],
   "source": [
    "dataset.info()"
   ]
  },
  {
   "cell_type": "markdown",
   "metadata": {},
   "source": [
    "В датасете **dataset** 3 поля и 74197 строк, судя по info пропущенных значений полей нет. В полях содержится следующая информация:"
   ]
  },
  {
   "cell_type": "markdown",
   "metadata": {},
   "source": [
    "1. **event.time** - время совершения события, формат object\n",
    "2. **event.name** - название события, формат object\n",
    "3. **user.id** - идентификатор пользователя, формат object\n"
   ]
  },
  {
   "cell_type": "markdown",
   "metadata": {},
   "source": [
    "### Датасет sources"
   ]
  },
  {
   "cell_type": "markdown",
   "metadata": {},
   "source": [
    "Изучим датасет sources"
   ]
  },
  {
   "cell_type": "code",
   "execution_count": 8,
   "metadata": {},
   "outputs": [
    {
     "data": {
      "text/html": [
       "<div>\n",
       "<style scoped>\n",
       "    .dataframe tbody tr th:only-of-type {\n",
       "        vertical-align: middle;\n",
       "    }\n",
       "\n",
       "    .dataframe tbody tr th {\n",
       "        vertical-align: top;\n",
       "    }\n",
       "\n",
       "    .dataframe thead th {\n",
       "        text-align: right;\n",
       "    }\n",
       "</style>\n",
       "<table border=\"1\" class=\"dataframe\">\n",
       "  <thead>\n",
       "    <tr style=\"text-align: right;\">\n",
       "      <th></th>\n",
       "      <th>userId</th>\n",
       "      <th>source</th>\n",
       "    </tr>\n",
       "  </thead>\n",
       "  <tbody>\n",
       "    <tr>\n",
       "      <th>0</th>\n",
       "      <td>020292ab-89bc-4156-9acf-68bc2783f894</td>\n",
       "      <td>other</td>\n",
       "    </tr>\n",
       "    <tr>\n",
       "      <th>1</th>\n",
       "      <td>cf7eda61-9349-469f-ac27-e5b6f5ec475c</td>\n",
       "      <td>yandex</td>\n",
       "    </tr>\n",
       "    <tr>\n",
       "      <th>2</th>\n",
       "      <td>8c356c42-3ba9-4cb6-80b8-3f868d0192c3</td>\n",
       "      <td>yandex</td>\n",
       "    </tr>\n",
       "    <tr>\n",
       "      <th>3</th>\n",
       "      <td>d9b06b47-0f36-419b-bbb0-3533e582a6cb</td>\n",
       "      <td>other</td>\n",
       "    </tr>\n",
       "    <tr>\n",
       "      <th>4</th>\n",
       "      <td>f32e1e2a-3027-4693-b793-b7b3ff274439</td>\n",
       "      <td>google</td>\n",
       "    </tr>\n",
       "  </tbody>\n",
       "</table>\n",
       "</div>"
      ],
      "text/plain": [
       "                                 userId  source\n",
       "0  020292ab-89bc-4156-9acf-68bc2783f894   other\n",
       "1  cf7eda61-9349-469f-ac27-e5b6f5ec475c  yandex\n",
       "2  8c356c42-3ba9-4cb6-80b8-3f868d0192c3  yandex\n",
       "3  d9b06b47-0f36-419b-bbb0-3533e582a6cb   other\n",
       "4  f32e1e2a-3027-4693-b793-b7b3ff274439  google"
      ]
     },
     "execution_count": 8,
     "metadata": {},
     "output_type": "execute_result"
    }
   ],
   "source": [
    "sources.head()"
   ]
  },
  {
   "cell_type": "code",
   "execution_count": 9,
   "metadata": {},
   "outputs": [
    {
     "name": "stdout",
     "output_type": "stream",
     "text": [
      "<class 'pandas.core.frame.DataFrame'>\n",
      "RangeIndex: 4293 entries, 0 to 4292\n",
      "Data columns (total 2 columns):\n",
      " #   Column  Non-Null Count  Dtype \n",
      "---  ------  --------------  ----- \n",
      " 0   userId  4293 non-null   object\n",
      " 1   source  4293 non-null   object\n",
      "dtypes: object(2)\n",
      "memory usage: 67.2+ KB\n"
     ]
    }
   ],
   "source": [
    "sources.info()"
   ]
  },
  {
   "cell_type": "markdown",
   "metadata": {},
   "source": [
    "В датасете **sources** 2 поля и 4293  строк, судя по info пропущенных значений полей нет. В полях содержится следующая информация:\n",
    "1. **userId** - идентификатор пользователя, формат object\n",
    "2. **source** - источник, с которого пользователь установил приложение, формат object"
   ]
  },
  {
   "cell_type": "markdown",
   "metadata": {},
   "source": [
    "Расшифровки событий dataset:\n",
    "- **advert_open**  — открытие карточки объявления\n",
    "- **photos_show**  — просмотр фотографий в объявлении\n",
    "- **tips_show**  — пользователь увидел рекомендованные объявления\n",
    "- **tips_click**  — пользователь кликнул по рекомендованному объявлению\n",
    "- **contacts_show  и  show_contacts**  — пользователь нажал на кнопку \"посмотреть номер телефона\" на карточке объявления\n",
    "- **contacts_call**  — пользователь позвонил по номеру телефона на карточке объявления\n",
    "- **map**  — пользователь открыл карту размещенных объявлений\n",
    "- **search_1  —  search_7**  — разные события, связанные с поиском по сайту\n",
    "- **favorites_add**  — добавление объявления в избранное"
   ]
  },
  {
   "cell_type": "markdown",
   "metadata": {},
   "source": [
    "В датасетах уже заметны некоторые проблемы: неправильный формат даты dataset, названия полей, неприведенные к силю snake_case. Разберемся с ними в предобработке"
   ]
  },
  {
   "cell_type": "markdown",
   "metadata": {},
   "source": [
    "## Предобработка данных"
   ]
  },
  {
   "cell_type": "markdown",
   "metadata": {},
   "source": [
    "### Изменение названия полей"
   ]
  },
  {
   "cell_type": "markdown",
   "metadata": {},
   "source": [
    "В столбце датасет для приведения к формату snake_case изменим точку на нижнее подчеркивание"
   ]
  },
  {
   "cell_type": "code",
   "execution_count": 10,
   "metadata": {},
   "outputs": [
    {
     "data": {
      "text/plain": [
       "Index(['event_time', 'event_name', 'user_id'], dtype='object')"
      ]
     },
     "execution_count": 10,
     "metadata": {},
     "output_type": "execute_result"
    }
   ],
   "source": [
    "dataset.columns= dataset.columns.str.replace('.', '_')\n",
    "dataset.columns"
   ]
  },
  {
   "cell_type": "markdown",
   "metadata": {},
   "source": [
    "Для датасета sourse приведем к snake_case поле userId "
   ]
  },
  {
   "cell_type": "code",
   "execution_count": 11,
   "metadata": {},
   "outputs": [
    {
     "data": {
      "text/plain": [
       "Index(['user_id', 'source'], dtype='object')"
      ]
     },
     "execution_count": 11,
     "metadata": {},
     "output_type": "execute_result"
    }
   ],
   "source": [
    "sources = sources.rename(columns={'userId':'user_id'})\n",
    "sources.columns"
   ]
  },
  {
   "cell_type": "markdown",
   "metadata": {},
   "source": [
    "### Проверка на пропуски и дубликаты"
   ]
  },
  {
   "cell_type": "code",
   "execution_count": 12,
   "metadata": {},
   "outputs": [],
   "source": [
    "sources.name = 'sources'\n",
    "dataset.name = 'dataset'"
   ]
  },
  {
   "cell_type": "code",
   "execution_count": 13,
   "metadata": {},
   "outputs": [
    {
     "name": "stdout",
     "output_type": "stream",
     "text": [
      "Количество пропусков в датасете dataset равно:\n",
      "event_time    0\n",
      "event_name    0\n",
      "user_id       0\n",
      "dtype: int64\n",
      "Количество дубликатов в датасете dataset равно: 0\n",
      "\n",
      "Количество пропусков в датасете sources равно:\n",
      "user_id    0\n",
      "source     0\n",
      "dtype: int64\n",
      "Количество дубликатов в датасете sources равно: 0\n",
      "\n"
     ]
    }
   ],
   "source": [
    "for i in [dataset, sources]:\n",
    "    name = i.name\n",
    "    print(f'Количество пропусков в датасете {name} равно:')\n",
    "    print(i.isna().sum())\n",
    "    print(f'Количество дубликатов в датасете {name} равно: {i.duplicated().sum()}')\n",
    "    print()"
   ]
  },
  {
   "cell_type": "markdown",
   "metadata": {},
   "source": [
    "Пропусков и явных дубликатов нет"
   ]
  },
  {
   "cell_type": "markdown",
   "metadata": {},
   "source": [
    "### Изменение типов данных"
   ]
  },
  {
   "cell_type": "markdown",
   "metadata": {},
   "source": [
    "Для дальнейшей работы необходимо привести столбец event_time к формату datetime. Также округлим данный датасет до секунд, для того чтобы придать некоторую \"дискретность\" и для более краткой записи"
   ]
  },
  {
   "cell_type": "code",
   "execution_count": 14,
   "metadata": {},
   "outputs": [
    {
     "data": {
      "text/plain": [
       "0   2019-10-07 00:00:00\n",
       "1   2019-10-07 00:00:01\n",
       "2   2019-10-07 00:00:02\n",
       "3   2019-10-07 00:00:07\n",
       "4   2019-10-07 00:00:56\n",
       "Name: event_time, dtype: datetime64[ns]"
      ]
     },
     "execution_count": 14,
     "metadata": {},
     "output_type": "execute_result"
    }
   ],
   "source": [
    "dataset['event_time'] = pd.to_datetime(dataset['event_time']).dt.round('s')\n",
    "dataset['event_time'].head()"
   ]
  },
  {
   "cell_type": "markdown",
   "metadata": {},
   "source": [
    "### Работа со значениями event_name"
   ]
  },
  {
   "cell_type": "code",
   "execution_count": 15,
   "metadata": {},
   "outputs": [
    {
     "data": {
      "text/plain": [
       "tips_show        40055\n",
       "photos_show      10012\n",
       "advert_open       6164\n",
       "contacts_show     4450\n",
       "map               3881\n",
       "search_1          3506\n",
       "favorites_add     1417\n",
       "search_5          1049\n",
       "tips_click         814\n",
       "search_4           701\n",
       "contacts_call      541\n",
       "search_3           522\n",
       "search_6           460\n",
       "search_2           324\n",
       "search_7           222\n",
       "show_contacts       79\n",
       "Name: event_name, dtype: int64"
      ]
     },
     "execution_count": 15,
     "metadata": {},
     "output_type": "execute_result"
    }
   ],
   "source": [
    "dataset['event_name'].value_counts()"
   ]
  },
  {
   "cell_type": "markdown",
   "metadata": {},
   "source": [
    "Наибольшее количество событий - tips_show -  пользователь увидел рекомендованные объявления\n",
    "Объеденим события contacts_show  и show_contacts  тк это одно событие - пользователь нажал на кнопку \"посмотреть номер\n",
    "телефона\" на карточке объявления.\n",
    "\n",
    "Также объеденим все события  search. Так как у нас нет интерпретации того, как данные поиски по сайту категоризовались, в рамках данного исследования будем рассматривать их вместе как событие search - поиск по сайту."
   ]
  },
  {
   "cell_type": "code",
   "execution_count": 16,
   "metadata": {},
   "outputs": [
    {
     "data": {
      "text/plain": [
       "tips_show        40055\n",
       "photos_show      10012\n",
       "advert_open       6164\n",
       "contacts_show     4529\n",
       "map               3881\n",
       "search_1          3506\n",
       "favorites_add     1417\n",
       "search_5          1049\n",
       "tips_click         814\n",
       "search_4           701\n",
       "contacts_call      541\n",
       "search_3           522\n",
       "search_6           460\n",
       "search_2           324\n",
       "search_7           222\n",
       "Name: event_name, dtype: int64"
      ]
     },
     "execution_count": 16,
     "metadata": {},
     "output_type": "execute_result"
    }
   ],
   "source": [
    "# замена show_contacts на contacts_show\n",
    "dataset['event_name']=dataset['event_name'].replace('show_contacts', 'contacts_show')\n",
    "dataset['event_name'].value_counts()"
   ]
  },
  {
   "cell_type": "code",
   "execution_count": 17,
   "metadata": {},
   "outputs": [
    {
     "data": {
      "text/plain": [
       "tips_show        40055\n",
       "photos_show      10012\n",
       "search            6784\n",
       "advert_open       6164\n",
       "contacts_show     4529\n",
       "map               3881\n",
       "favorites_add     1417\n",
       "tips_click         814\n",
       "contacts_call      541\n",
       "Name: event_name, dtype: int64"
      ]
     },
     "execution_count": 17,
     "metadata": {},
     "output_type": "execute_result"
    }
   ],
   "source": [
    "# приведение всех поисков к одному виду \n",
    "searches = dataset.loc[dataset['event_name'].str.contains(\"search\", case=False)]['event_name'].index\n",
    "dataset.loc[searches,'event_name'] = 'search'\n",
    "dataset['event_name'].value_counts()"
   ]
  },
  {
   "cell_type": "markdown",
   "metadata": {},
   "source": [
    "### Объединение датафреймов"
   ]
  },
  {
   "cell_type": "markdown",
   "metadata": {},
   "source": [
    "Создадим общий датафрейм для удобства последующего анализа"
   ]
  },
  {
   "cell_type": "code",
   "execution_count": 18,
   "metadata": {},
   "outputs": [
    {
     "data": {
      "text/html": [
       "<div>\n",
       "<style scoped>\n",
       "    .dataframe tbody tr th:only-of-type {\n",
       "        vertical-align: middle;\n",
       "    }\n",
       "\n",
       "    .dataframe tbody tr th {\n",
       "        vertical-align: top;\n",
       "    }\n",
       "\n",
       "    .dataframe thead th {\n",
       "        text-align: right;\n",
       "    }\n",
       "</style>\n",
       "<table border=\"1\" class=\"dataframe\">\n",
       "  <thead>\n",
       "    <tr style=\"text-align: right;\">\n",
       "      <th></th>\n",
       "      <th>event_time</th>\n",
       "      <th>event_name</th>\n",
       "      <th>user_id</th>\n",
       "      <th>source</th>\n",
       "    </tr>\n",
       "  </thead>\n",
       "  <tbody>\n",
       "    <tr>\n",
       "      <th>0</th>\n",
       "      <td>2019-10-07 00:00:00</td>\n",
       "      <td>advert_open</td>\n",
       "      <td>020292ab-89bc-4156-9acf-68bc2783f894</td>\n",
       "      <td>other</td>\n",
       "    </tr>\n",
       "    <tr>\n",
       "      <th>1</th>\n",
       "      <td>2019-10-07 00:00:01</td>\n",
       "      <td>tips_show</td>\n",
       "      <td>020292ab-89bc-4156-9acf-68bc2783f894</td>\n",
       "      <td>other</td>\n",
       "    </tr>\n",
       "    <tr>\n",
       "      <th>2</th>\n",
       "      <td>2019-10-07 00:00:07</td>\n",
       "      <td>tips_show</td>\n",
       "      <td>020292ab-89bc-4156-9acf-68bc2783f894</td>\n",
       "      <td>other</td>\n",
       "    </tr>\n",
       "    <tr>\n",
       "      <th>3</th>\n",
       "      <td>2019-10-07 00:01:28</td>\n",
       "      <td>advert_open</td>\n",
       "      <td>020292ab-89bc-4156-9acf-68bc2783f894</td>\n",
       "      <td>other</td>\n",
       "    </tr>\n",
       "    <tr>\n",
       "      <th>4</th>\n",
       "      <td>2019-10-07 00:01:35</td>\n",
       "      <td>tips_show</td>\n",
       "      <td>020292ab-89bc-4156-9acf-68bc2783f894</td>\n",
       "      <td>other</td>\n",
       "    </tr>\n",
       "  </tbody>\n",
       "</table>\n",
       "</div>"
      ],
      "text/plain": [
       "           event_time   event_name                               user_id  \\\n",
       "0 2019-10-07 00:00:00  advert_open  020292ab-89bc-4156-9acf-68bc2783f894   \n",
       "1 2019-10-07 00:00:01    tips_show  020292ab-89bc-4156-9acf-68bc2783f894   \n",
       "2 2019-10-07 00:00:07    tips_show  020292ab-89bc-4156-9acf-68bc2783f894   \n",
       "3 2019-10-07 00:01:28  advert_open  020292ab-89bc-4156-9acf-68bc2783f894   \n",
       "4 2019-10-07 00:01:35    tips_show  020292ab-89bc-4156-9acf-68bc2783f894   \n",
       "\n",
       "  source  \n",
       "0  other  \n",
       "1  other  \n",
       "2  other  \n",
       "3  other  \n",
       "4  other  "
      ]
     },
     "execution_count": 18,
     "metadata": {},
     "output_type": "execute_result"
    }
   ],
   "source": [
    "df = dataset.merge(sources, on='user_id')\n",
    "df.head()"
   ]
  },
  {
   "cell_type": "markdown",
   "metadata": {},
   "source": [
    "### Вывод\n",
    "В ходе предобработки данных были сделаны следующие процедуры:\n",
    "1. Названия полей датафреймов приведены к стилю snake_case\n",
    "2. Данные были проверены на пропуски и дубликаты\n",
    "3. Поле с датой было приведено к необходимому формату\n",
    "4. Из столбца с событиями были убраны неявные дубликаты\n",
    "5. Данные были объединены для последующей работы"
   ]
  },
  {
   "cell_type": "markdown",
   "metadata": {},
   "source": [
    "## Исследовательский анализ данных (EDA)"
   ]
  },
  {
   "cell_type": "markdown",
   "metadata": {},
   "source": [
    "### Retention rate"
   ]
  },
  {
   "cell_type": "code",
   "execution_count": 19,
   "metadata": {
    "scrolled": true
   },
   "outputs": [
    {
     "name": "stdout",
     "output_type": "stream",
     "text": [
      "Минимальная дата в датасете 2019-10-07 00:00:00\n",
      "Максимальная дата в датасете 2019-11-03 23:58:13\n"
     ]
    }
   ],
   "source": [
    "print('Минимальная дата в датасете', df['event_time'].min())\n",
    "print('Максимальная дата в датасете', df['event_time'].max())"
   ]
  },
  {
   "cell_type": "code",
   "execution_count": 20,
   "metadata": {},
   "outputs": [
    {
     "data": {
      "text/html": [
       "<div>\n",
       "<style scoped>\n",
       "    .dataframe tbody tr th:only-of-type {\n",
       "        vertical-align: middle;\n",
       "    }\n",
       "\n",
       "    .dataframe tbody tr th {\n",
       "        vertical-align: top;\n",
       "    }\n",
       "\n",
       "    .dataframe thead th {\n",
       "        text-align: right;\n",
       "    }\n",
       "</style>\n",
       "<table border=\"1\" class=\"dataframe\">\n",
       "  <thead>\n",
       "    <tr style=\"text-align: right;\">\n",
       "      <th></th>\n",
       "      <th>event_time</th>\n",
       "      <th>event_name</th>\n",
       "      <th>user_id</th>\n",
       "      <th>source</th>\n",
       "      <th>date</th>\n",
       "    </tr>\n",
       "  </thead>\n",
       "  <tbody>\n",
       "    <tr>\n",
       "      <th>0</th>\n",
       "      <td>2019-10-07 00:00:00</td>\n",
       "      <td>advert_open</td>\n",
       "      <td>020292ab-89bc-4156-9acf-68bc2783f894</td>\n",
       "      <td>other</td>\n",
       "      <td>2019-10-07</td>\n",
       "    </tr>\n",
       "    <tr>\n",
       "      <th>1</th>\n",
       "      <td>2019-10-07 00:00:01</td>\n",
       "      <td>tips_show</td>\n",
       "      <td>020292ab-89bc-4156-9acf-68bc2783f894</td>\n",
       "      <td>other</td>\n",
       "      <td>2019-10-07</td>\n",
       "    </tr>\n",
       "    <tr>\n",
       "      <th>2</th>\n",
       "      <td>2019-10-07 00:00:07</td>\n",
       "      <td>tips_show</td>\n",
       "      <td>020292ab-89bc-4156-9acf-68bc2783f894</td>\n",
       "      <td>other</td>\n",
       "      <td>2019-10-07</td>\n",
       "    </tr>\n",
       "    <tr>\n",
       "      <th>3</th>\n",
       "      <td>2019-10-07 00:01:28</td>\n",
       "      <td>advert_open</td>\n",
       "      <td>020292ab-89bc-4156-9acf-68bc2783f894</td>\n",
       "      <td>other</td>\n",
       "      <td>2019-10-07</td>\n",
       "    </tr>\n",
       "    <tr>\n",
       "      <th>4</th>\n",
       "      <td>2019-10-07 00:01:35</td>\n",
       "      <td>tips_show</td>\n",
       "      <td>020292ab-89bc-4156-9acf-68bc2783f894</td>\n",
       "      <td>other</td>\n",
       "      <td>2019-10-07</td>\n",
       "    </tr>\n",
       "  </tbody>\n",
       "</table>\n",
       "</div>"
      ],
      "text/plain": [
       "           event_time   event_name                               user_id  \\\n",
       "0 2019-10-07 00:00:00  advert_open  020292ab-89bc-4156-9acf-68bc2783f894   \n",
       "1 2019-10-07 00:00:01    tips_show  020292ab-89bc-4156-9acf-68bc2783f894   \n",
       "2 2019-10-07 00:00:07    tips_show  020292ab-89bc-4156-9acf-68bc2783f894   \n",
       "3 2019-10-07 00:01:28  advert_open  020292ab-89bc-4156-9acf-68bc2783f894   \n",
       "4 2019-10-07 00:01:35    tips_show  020292ab-89bc-4156-9acf-68bc2783f894   \n",
       "\n",
       "  source        date  \n",
       "0  other  2019-10-07  \n",
       "1  other  2019-10-07  \n",
       "2  other  2019-10-07  \n",
       "3  other  2019-10-07  \n",
       "4  other  2019-10-07  "
      ]
     },
     "execution_count": 20,
     "metadata": {},
     "output_type": "execute_result"
    }
   ],
   "source": [
    "# добавление поле даты без времени\n",
    "df['date'] = df['event_time'].dt.date\n",
    "df.head()"
   ]
  },
  {
   "cell_type": "markdown",
   "metadata": {},
   "source": [
    "Добавим дату и время первого события к нашему датафрейму"
   ]
  },
  {
   "cell_type": "code",
   "execution_count": 21,
   "metadata": {},
   "outputs": [
    {
     "data": {
      "text/html": [
       "<div>\n",
       "<style scoped>\n",
       "    .dataframe tbody tr th:only-of-type {\n",
       "        vertical-align: middle;\n",
       "    }\n",
       "\n",
       "    .dataframe tbody tr th {\n",
       "        vertical-align: top;\n",
       "    }\n",
       "\n",
       "    .dataframe thead th {\n",
       "        text-align: right;\n",
       "    }\n",
       "</style>\n",
       "<table border=\"1\" class=\"dataframe\">\n",
       "  <thead>\n",
       "    <tr style=\"text-align: right;\">\n",
       "      <th></th>\n",
       "      <th>user_id</th>\n",
       "      <th>event_time</th>\n",
       "    </tr>\n",
       "  </thead>\n",
       "  <tbody>\n",
       "    <tr>\n",
       "      <th>0</th>\n",
       "      <td>0001b1d5-b74a-4cbf-aeb0-7df5947bf349</td>\n",
       "      <td>2019-10-07 13:39:46</td>\n",
       "    </tr>\n",
       "    <tr>\n",
       "      <th>1</th>\n",
       "      <td>00157779-810c-4498-9e05-a1e9e3cedf93</td>\n",
       "      <td>2019-10-19 21:34:34</td>\n",
       "    </tr>\n",
       "    <tr>\n",
       "      <th>2</th>\n",
       "      <td>00463033-5717-4bf1-91b4-09183923b9df</td>\n",
       "      <td>2019-11-01 13:54:35</td>\n",
       "    </tr>\n",
       "    <tr>\n",
       "      <th>3</th>\n",
       "      <td>004690c3-5a84-4bb7-a8af-e0c8f8fca64e</td>\n",
       "      <td>2019-10-18 22:14:06</td>\n",
       "    </tr>\n",
       "    <tr>\n",
       "      <th>4</th>\n",
       "      <td>00551e79-152e-4441-9cf7-565d7eb04090</td>\n",
       "      <td>2019-10-25 16:44:41</td>\n",
       "    </tr>\n",
       "  </tbody>\n",
       "</table>\n",
       "</div>"
      ],
      "text/plain": [
       "                                user_id          event_time\n",
       "0  0001b1d5-b74a-4cbf-aeb0-7df5947bf349 2019-10-07 13:39:46\n",
       "1  00157779-810c-4498-9e05-a1e9e3cedf93 2019-10-19 21:34:34\n",
       "2  00463033-5717-4bf1-91b4-09183923b9df 2019-11-01 13:54:35\n",
       "3  004690c3-5a84-4bb7-a8af-e0c8f8fca64e 2019-10-18 22:14:06\n",
       "4  00551e79-152e-4441-9cf7-565d7eb04090 2019-10-25 16:44:41"
      ]
     },
     "execution_count": 21,
     "metadata": {},
     "output_type": "execute_result"
    }
   ],
   "source": [
    "# дата и время первого и последнего действия, совершенного пользователем\n",
    "\n",
    "first_event = df.groupby('user_id').agg({'event_time': 'min'}).reset_index()\n",
    "first_event.head()"
   ]
  },
  {
   "cell_type": "code",
   "execution_count": 22,
   "metadata": {},
   "outputs": [
    {
     "data": {
      "text/html": [
       "<div>\n",
       "<style scoped>\n",
       "    .dataframe tbody tr th:only-of-type {\n",
       "        vertical-align: middle;\n",
       "    }\n",
       "\n",
       "    .dataframe tbody tr th {\n",
       "        vertical-align: top;\n",
       "    }\n",
       "\n",
       "    .dataframe thead th {\n",
       "        text-align: right;\n",
       "    }\n",
       "</style>\n",
       "<table border=\"1\" class=\"dataframe\">\n",
       "  <thead>\n",
       "    <tr style=\"text-align: right;\">\n",
       "      <th></th>\n",
       "      <th>user_id</th>\n",
       "      <th>event_time</th>\n",
       "    </tr>\n",
       "  </thead>\n",
       "  <tbody>\n",
       "    <tr>\n",
       "      <th>0</th>\n",
       "      <td>0001b1d5-b74a-4cbf-aeb0-7df5947bf349</td>\n",
       "      <td>2019-10-22 11:30:53</td>\n",
       "    </tr>\n",
       "    <tr>\n",
       "      <th>1</th>\n",
       "      <td>00157779-810c-4498-9e05-a1e9e3cedf93</td>\n",
       "      <td>2019-11-03 17:12:10</td>\n",
       "    </tr>\n",
       "    <tr>\n",
       "      <th>2</th>\n",
       "      <td>00463033-5717-4bf1-91b4-09183923b9df</td>\n",
       "      <td>2019-11-01 14:19:18</td>\n",
       "    </tr>\n",
       "    <tr>\n",
       "      <th>3</th>\n",
       "      <td>004690c3-5a84-4bb7-a8af-e0c8f8fca64e</td>\n",
       "      <td>2019-10-31 21:42:16</td>\n",
       "    </tr>\n",
       "    <tr>\n",
       "      <th>4</th>\n",
       "      <td>00551e79-152e-4441-9cf7-565d7eb04090</td>\n",
       "      <td>2019-10-29 02:17:12</td>\n",
       "    </tr>\n",
       "  </tbody>\n",
       "</table>\n",
       "</div>"
      ],
      "text/plain": [
       "                                user_id          event_time\n",
       "0  0001b1d5-b74a-4cbf-aeb0-7df5947bf349 2019-10-22 11:30:53\n",
       "1  00157779-810c-4498-9e05-a1e9e3cedf93 2019-11-03 17:12:10\n",
       "2  00463033-5717-4bf1-91b4-09183923b9df 2019-11-01 14:19:18\n",
       "3  004690c3-5a84-4bb7-a8af-e0c8f8fca64e 2019-10-31 21:42:16\n",
       "4  00551e79-152e-4441-9cf7-565d7eb04090 2019-10-29 02:17:12"
      ]
     },
     "execution_count": 22,
     "metadata": {},
     "output_type": "execute_result"
    }
   ],
   "source": [
    "last_event = df.groupby('user_id').agg({'event_time': 'max'}).reset_index()\n",
    "last_event.head()"
   ]
  },
  {
   "cell_type": "code",
   "execution_count": 23,
   "metadata": {},
   "outputs": [
    {
     "data": {
      "text/html": [
       "<div>\n",
       "<style scoped>\n",
       "    .dataframe tbody tr th:only-of-type {\n",
       "        vertical-align: middle;\n",
       "    }\n",
       "\n",
       "    .dataframe tbody tr th {\n",
       "        vertical-align: top;\n",
       "    }\n",
       "\n",
       "    .dataframe thead th {\n",
       "        text-align: right;\n",
       "    }\n",
       "</style>\n",
       "<table border=\"1\" class=\"dataframe\">\n",
       "  <thead>\n",
       "    <tr style=\"text-align: right;\">\n",
       "      <th></th>\n",
       "      <th>event_time</th>\n",
       "      <th>event_name</th>\n",
       "      <th>user_id</th>\n",
       "      <th>source</th>\n",
       "      <th>date</th>\n",
       "      <th>event_time_first</th>\n",
       "    </tr>\n",
       "  </thead>\n",
       "  <tbody>\n",
       "    <tr>\n",
       "      <th>0</th>\n",
       "      <td>2019-10-07 00:00:00</td>\n",
       "      <td>advert_open</td>\n",
       "      <td>020292ab-89bc-4156-9acf-68bc2783f894</td>\n",
       "      <td>other</td>\n",
       "      <td>2019-10-07</td>\n",
       "      <td>2019-10-07</td>\n",
       "    </tr>\n",
       "    <tr>\n",
       "      <th>1</th>\n",
       "      <td>2019-10-07 00:00:01</td>\n",
       "      <td>tips_show</td>\n",
       "      <td>020292ab-89bc-4156-9acf-68bc2783f894</td>\n",
       "      <td>other</td>\n",
       "      <td>2019-10-07</td>\n",
       "      <td>2019-10-07</td>\n",
       "    </tr>\n",
       "    <tr>\n",
       "      <th>2</th>\n",
       "      <td>2019-10-07 00:00:07</td>\n",
       "      <td>tips_show</td>\n",
       "      <td>020292ab-89bc-4156-9acf-68bc2783f894</td>\n",
       "      <td>other</td>\n",
       "      <td>2019-10-07</td>\n",
       "      <td>2019-10-07</td>\n",
       "    </tr>\n",
       "    <tr>\n",
       "      <th>3</th>\n",
       "      <td>2019-10-07 00:01:28</td>\n",
       "      <td>advert_open</td>\n",
       "      <td>020292ab-89bc-4156-9acf-68bc2783f894</td>\n",
       "      <td>other</td>\n",
       "      <td>2019-10-07</td>\n",
       "      <td>2019-10-07</td>\n",
       "    </tr>\n",
       "    <tr>\n",
       "      <th>4</th>\n",
       "      <td>2019-10-07 00:01:35</td>\n",
       "      <td>tips_show</td>\n",
       "      <td>020292ab-89bc-4156-9acf-68bc2783f894</td>\n",
       "      <td>other</td>\n",
       "      <td>2019-10-07</td>\n",
       "      <td>2019-10-07</td>\n",
       "    </tr>\n",
       "  </tbody>\n",
       "</table>\n",
       "</div>"
      ],
      "text/plain": [
       "           event_time   event_name                               user_id  \\\n",
       "0 2019-10-07 00:00:00  advert_open  020292ab-89bc-4156-9acf-68bc2783f894   \n",
       "1 2019-10-07 00:00:01    tips_show  020292ab-89bc-4156-9acf-68bc2783f894   \n",
       "2 2019-10-07 00:00:07    tips_show  020292ab-89bc-4156-9acf-68bc2783f894   \n",
       "3 2019-10-07 00:01:28  advert_open  020292ab-89bc-4156-9acf-68bc2783f894   \n",
       "4 2019-10-07 00:01:35    tips_show  020292ab-89bc-4156-9acf-68bc2783f894   \n",
       "\n",
       "  source        date event_time_first  \n",
       "0  other  2019-10-07       2019-10-07  \n",
       "1  other  2019-10-07       2019-10-07  \n",
       "2  other  2019-10-07       2019-10-07  \n",
       "3  other  2019-10-07       2019-10-07  \n",
       "4  other  2019-10-07       2019-10-07  "
      ]
     },
     "execution_count": 23,
     "metadata": {},
     "output_type": "execute_result"
    }
   ],
   "source": [
    "df = df.merge(first_event, on='user_id', suffixes=('', '_first'))\n",
    "df.head()"
   ]
  },
  {
   "cell_type": "code",
   "execution_count": 24,
   "metadata": {},
   "outputs": [
    {
     "data": {
      "text/html": [
       "<div>\n",
       "<style scoped>\n",
       "    .dataframe tbody tr th:only-of-type {\n",
       "        vertical-align: middle;\n",
       "    }\n",
       "\n",
       "    .dataframe tbody tr th {\n",
       "        vertical-align: top;\n",
       "    }\n",
       "\n",
       "    .dataframe thead th {\n",
       "        text-align: right;\n",
       "    }\n",
       "</style>\n",
       "<table border=\"1\" class=\"dataframe\">\n",
       "  <thead>\n",
       "    <tr style=\"text-align: right;\">\n",
       "      <th></th>\n",
       "      <th>event_time</th>\n",
       "      <th>event_name</th>\n",
       "      <th>user_id</th>\n",
       "      <th>source</th>\n",
       "      <th>date</th>\n",
       "      <th>event_time_first</th>\n",
       "      <th>event_time_last</th>\n",
       "    </tr>\n",
       "  </thead>\n",
       "  <tbody>\n",
       "    <tr>\n",
       "      <th>74192</th>\n",
       "      <td>2019-11-03 23:46:47</td>\n",
       "      <td>map</td>\n",
       "      <td>d157bffc-264d-4464-8220-1cc0c42f43a9</td>\n",
       "      <td>google</td>\n",
       "      <td>2019-11-03</td>\n",
       "      <td>2019-11-03 23:46:47</td>\n",
       "      <td>2019-11-03 23:47:50</td>\n",
       "    </tr>\n",
       "    <tr>\n",
       "      <th>74193</th>\n",
       "      <td>2019-11-03 23:46:59</td>\n",
       "      <td>advert_open</td>\n",
       "      <td>d157bffc-264d-4464-8220-1cc0c42f43a9</td>\n",
       "      <td>google</td>\n",
       "      <td>2019-11-03</td>\n",
       "      <td>2019-11-03 23:46:47</td>\n",
       "      <td>2019-11-03 23:47:50</td>\n",
       "    </tr>\n",
       "    <tr>\n",
       "      <th>74194</th>\n",
       "      <td>2019-11-03 23:47:01</td>\n",
       "      <td>tips_show</td>\n",
       "      <td>d157bffc-264d-4464-8220-1cc0c42f43a9</td>\n",
       "      <td>google</td>\n",
       "      <td>2019-11-03</td>\n",
       "      <td>2019-11-03 23:46:47</td>\n",
       "      <td>2019-11-03 23:47:50</td>\n",
       "    </tr>\n",
       "    <tr>\n",
       "      <th>74195</th>\n",
       "      <td>2019-11-03 23:47:47</td>\n",
       "      <td>advert_open</td>\n",
       "      <td>d157bffc-264d-4464-8220-1cc0c42f43a9</td>\n",
       "      <td>google</td>\n",
       "      <td>2019-11-03</td>\n",
       "      <td>2019-11-03 23:46:47</td>\n",
       "      <td>2019-11-03 23:47:50</td>\n",
       "    </tr>\n",
       "    <tr>\n",
       "      <th>74196</th>\n",
       "      <td>2019-11-03 23:47:50</td>\n",
       "      <td>tips_show</td>\n",
       "      <td>d157bffc-264d-4464-8220-1cc0c42f43a9</td>\n",
       "      <td>google</td>\n",
       "      <td>2019-11-03</td>\n",
       "      <td>2019-11-03 23:46:47</td>\n",
       "      <td>2019-11-03 23:47:50</td>\n",
       "    </tr>\n",
       "  </tbody>\n",
       "</table>\n",
       "</div>"
      ],
      "text/plain": [
       "               event_time   event_name                               user_id  \\\n",
       "74192 2019-11-03 23:46:47          map  d157bffc-264d-4464-8220-1cc0c42f43a9   \n",
       "74193 2019-11-03 23:46:59  advert_open  d157bffc-264d-4464-8220-1cc0c42f43a9   \n",
       "74194 2019-11-03 23:47:01    tips_show  d157bffc-264d-4464-8220-1cc0c42f43a9   \n",
       "74195 2019-11-03 23:47:47  advert_open  d157bffc-264d-4464-8220-1cc0c42f43a9   \n",
       "74196 2019-11-03 23:47:50    tips_show  d157bffc-264d-4464-8220-1cc0c42f43a9   \n",
       "\n",
       "       source        date    event_time_first     event_time_last  \n",
       "74192  google  2019-11-03 2019-11-03 23:46:47 2019-11-03 23:47:50  \n",
       "74193  google  2019-11-03 2019-11-03 23:46:47 2019-11-03 23:47:50  \n",
       "74194  google  2019-11-03 2019-11-03 23:46:47 2019-11-03 23:47:50  \n",
       "74195  google  2019-11-03 2019-11-03 23:46:47 2019-11-03 23:47:50  \n",
       "74196  google  2019-11-03 2019-11-03 23:46:47 2019-11-03 23:47:50  "
      ]
     },
     "execution_count": 24,
     "metadata": {},
     "output_type": "execute_result"
    }
   ],
   "source": [
    "df = df.merge(last_event, on='user_id', suffixes=('', '_last'))\n",
    "df.tail()"
   ]
  },
  {
   "cell_type": "markdown",
   "metadata": {},
   "source": [
    "Поскольку мы располагаем данными меньше чем за месяц, а также наше приложение - приложение по типу \"авито\", где не важен показатель суточной активности, а важно смотреть на поведение пользователей через какое-то время, было принято решение рассматривать когорты по неделям. \n",
    "Таким образом:\n",
    "1. когорта 1:  7 -13 октября\n",
    "2. когорта 2:  14 - 20 октября\n",
    "3. когорта 3: 21 - 27 октября\n",
    "4. когорта 4: 28 октября - 3 ноября"
   ]
  },
  {
   "cell_type": "markdown",
   "metadata": {},
   "source": [
    "Таким образом наш лайфтайм будет измеряться в неделях, вычислим его"
   ]
  },
  {
   "cell_type": "code",
   "execution_count": 25,
   "metadata": {},
   "outputs": [],
   "source": [
    "df['week_start'] = df['event_time_first'].dt.isocalendar().week \n",
    "df['week'] = df['event_time'].dt.isocalendar().week "
   ]
  },
  {
   "cell_type": "code",
   "execution_count": 26,
   "metadata": {
    "scrolled": false
   },
   "outputs": [
    {
     "data": {
      "text/html": [
       "<div>\n",
       "<style scoped>\n",
       "    .dataframe tbody tr th:only-of-type {\n",
       "        vertical-align: middle;\n",
       "    }\n",
       "\n",
       "    .dataframe tbody tr th {\n",
       "        vertical-align: top;\n",
       "    }\n",
       "\n",
       "    .dataframe thead th {\n",
       "        text-align: right;\n",
       "    }\n",
       "</style>\n",
       "<table border=\"1\" class=\"dataframe\">\n",
       "  <thead>\n",
       "    <tr style=\"text-align: right;\">\n",
       "      <th></th>\n",
       "      <th>event_time</th>\n",
       "      <th>event_name</th>\n",
       "      <th>user_id</th>\n",
       "      <th>source</th>\n",
       "      <th>date</th>\n",
       "      <th>event_time_first</th>\n",
       "      <th>event_time_last</th>\n",
       "      <th>week_start</th>\n",
       "      <th>week</th>\n",
       "      <th>lifetime</th>\n",
       "    </tr>\n",
       "  </thead>\n",
       "  <tbody>\n",
       "    <tr>\n",
       "      <th>0</th>\n",
       "      <td>2019-10-07 00:00:00</td>\n",
       "      <td>advert_open</td>\n",
       "      <td>020292ab-89bc-4156-9acf-68bc2783f894</td>\n",
       "      <td>other</td>\n",
       "      <td>2019-10-07</td>\n",
       "      <td>2019-10-07</td>\n",
       "      <td>2019-10-07 00:18:43</td>\n",
       "      <td>41</td>\n",
       "      <td>41</td>\n",
       "      <td>0</td>\n",
       "    </tr>\n",
       "    <tr>\n",
       "      <th>1</th>\n",
       "      <td>2019-10-07 00:00:01</td>\n",
       "      <td>tips_show</td>\n",
       "      <td>020292ab-89bc-4156-9acf-68bc2783f894</td>\n",
       "      <td>other</td>\n",
       "      <td>2019-10-07</td>\n",
       "      <td>2019-10-07</td>\n",
       "      <td>2019-10-07 00:18:43</td>\n",
       "      <td>41</td>\n",
       "      <td>41</td>\n",
       "      <td>0</td>\n",
       "    </tr>\n",
       "    <tr>\n",
       "      <th>2</th>\n",
       "      <td>2019-10-07 00:00:07</td>\n",
       "      <td>tips_show</td>\n",
       "      <td>020292ab-89bc-4156-9acf-68bc2783f894</td>\n",
       "      <td>other</td>\n",
       "      <td>2019-10-07</td>\n",
       "      <td>2019-10-07</td>\n",
       "      <td>2019-10-07 00:18:43</td>\n",
       "      <td>41</td>\n",
       "      <td>41</td>\n",
       "      <td>0</td>\n",
       "    </tr>\n",
       "    <tr>\n",
       "      <th>3</th>\n",
       "      <td>2019-10-07 00:01:28</td>\n",
       "      <td>advert_open</td>\n",
       "      <td>020292ab-89bc-4156-9acf-68bc2783f894</td>\n",
       "      <td>other</td>\n",
       "      <td>2019-10-07</td>\n",
       "      <td>2019-10-07</td>\n",
       "      <td>2019-10-07 00:18:43</td>\n",
       "      <td>41</td>\n",
       "      <td>41</td>\n",
       "      <td>0</td>\n",
       "    </tr>\n",
       "    <tr>\n",
       "      <th>4</th>\n",
       "      <td>2019-10-07 00:01:35</td>\n",
       "      <td>tips_show</td>\n",
       "      <td>020292ab-89bc-4156-9acf-68bc2783f894</td>\n",
       "      <td>other</td>\n",
       "      <td>2019-10-07</td>\n",
       "      <td>2019-10-07</td>\n",
       "      <td>2019-10-07 00:18:43</td>\n",
       "      <td>41</td>\n",
       "      <td>41</td>\n",
       "      <td>0</td>\n",
       "    </tr>\n",
       "  </tbody>\n",
       "</table>\n",
       "</div>"
      ],
      "text/plain": [
       "           event_time   event_name                               user_id  \\\n",
       "0 2019-10-07 00:00:00  advert_open  020292ab-89bc-4156-9acf-68bc2783f894   \n",
       "1 2019-10-07 00:00:01    tips_show  020292ab-89bc-4156-9acf-68bc2783f894   \n",
       "2 2019-10-07 00:00:07    tips_show  020292ab-89bc-4156-9acf-68bc2783f894   \n",
       "3 2019-10-07 00:01:28  advert_open  020292ab-89bc-4156-9acf-68bc2783f894   \n",
       "4 2019-10-07 00:01:35    tips_show  020292ab-89bc-4156-9acf-68bc2783f894   \n",
       "\n",
       "  source        date event_time_first     event_time_last  week_start  week  \\\n",
       "0  other  2019-10-07       2019-10-07 2019-10-07 00:18:43          41    41   \n",
       "1  other  2019-10-07       2019-10-07 2019-10-07 00:18:43          41    41   \n",
       "2  other  2019-10-07       2019-10-07 2019-10-07 00:18:43          41    41   \n",
       "3  other  2019-10-07       2019-10-07 2019-10-07 00:18:43          41    41   \n",
       "4  other  2019-10-07       2019-10-07 2019-10-07 00:18:43          41    41   \n",
       "\n",
       "   lifetime  \n",
       "0         0  \n",
       "1         0  \n",
       "2         0  \n",
       "3         0  \n",
       "4         0  "
      ]
     },
     "execution_count": 26,
     "metadata": {},
     "output_type": "execute_result"
    }
   ],
   "source": [
    "# вычисляем лайфтайм для каждой сессии в днях\n",
    "\n",
    "df['lifetime'] = (df['week'] - df['event_time_first'].dt.isocalendar().week )\n",
    "\n",
    "df.head(5)"
   ]
  },
  {
   "cell_type": "markdown",
   "metadata": {},
   "source": [
    "Также создадим поле с днем старта когорт используяю пользовательскую функцию week_start"
   ]
  },
  {
   "cell_type": "code",
   "execution_count": 27,
   "metadata": {},
   "outputs": [],
   "source": [
    "df['week_start_date'] = df['event_time_first'].apply(week_start)"
   ]
  },
  {
   "cell_type": "markdown",
   "metadata": {},
   "source": [
    "Осталось вычислить размеры когорт и  разделить на размер когорт"
   ]
  },
  {
   "cell_type": "code",
   "execution_count": 28,
   "metadata": {
    "scrolled": true
   },
   "outputs": [
    {
     "data": {
      "text/html": [
       "<div>\n",
       "<style scoped>\n",
       "    .dataframe tbody tr th:only-of-type {\n",
       "        vertical-align: middle;\n",
       "    }\n",
       "\n",
       "    .dataframe tbody tr th {\n",
       "        vertical-align: top;\n",
       "    }\n",
       "\n",
       "    .dataframe thead th {\n",
       "        text-align: right;\n",
       "    }\n",
       "</style>\n",
       "<table border=\"1\" class=\"dataframe\">\n",
       "  <thead>\n",
       "    <tr style=\"text-align: right;\">\n",
       "      <th>lifetime</th>\n",
       "      <th>0</th>\n",
       "      <th>1</th>\n",
       "      <th>2</th>\n",
       "      <th>3</th>\n",
       "    </tr>\n",
       "    <tr>\n",
       "      <th>week_start_date</th>\n",
       "      <th></th>\n",
       "      <th></th>\n",
       "      <th></th>\n",
       "      <th></th>\n",
       "    </tr>\n",
       "  </thead>\n",
       "  <tbody>\n",
       "    <tr>\n",
       "      <th>2019-10-07</th>\n",
       "      <td>1130.0</td>\n",
       "      <td>272.0</td>\n",
       "      <td>170.0</td>\n",
       "      <td>119.0</td>\n",
       "    </tr>\n",
       "    <tr>\n",
       "      <th>2019-10-14</th>\n",
       "      <td>1166.0</td>\n",
       "      <td>282.0</td>\n",
       "      <td>155.0</td>\n",
       "      <td>NaN</td>\n",
       "    </tr>\n",
       "    <tr>\n",
       "      <th>2019-10-21</th>\n",
       "      <td>1094.0</td>\n",
       "      <td>239.0</td>\n",
       "      <td>NaN</td>\n",
       "      <td>NaN</td>\n",
       "    </tr>\n",
       "    <tr>\n",
       "      <th>2019-10-28</th>\n",
       "      <td>903.0</td>\n",
       "      <td>NaN</td>\n",
       "      <td>NaN</td>\n",
       "      <td>NaN</td>\n",
       "    </tr>\n",
       "  </tbody>\n",
       "</table>\n",
       "</div>"
      ],
      "text/plain": [
       "lifetime              0      1      2      3\n",
       "week_start_date                             \n",
       "2019-10-07       1130.0  272.0  170.0  119.0\n",
       "2019-10-14       1166.0  282.0  155.0    NaN\n",
       "2019-10-21       1094.0  239.0    NaN    NaN\n",
       "2019-10-28        903.0    NaN    NaN    NaN"
      ]
     },
     "execution_count": 28,
     "metadata": {},
     "output_type": "execute_result"
    }
   ],
   "source": [
    "# строим таблицу удержания\n",
    "\n",
    "result_grouped = df.pivot_table(\n",
    "    index=['week_start_date'], columns='lifetime', values='user_id', aggfunc='nunique'\n",
    ")\n",
    "\n",
    "result_grouped"
   ]
  },
  {
   "cell_type": "code",
   "execution_count": 29,
   "metadata": {},
   "outputs": [
    {
     "data": {
      "text/html": [
       "<div>\n",
       "<style scoped>\n",
       "    .dataframe tbody tr th:only-of-type {\n",
       "        vertical-align: middle;\n",
       "    }\n",
       "\n",
       "    .dataframe tbody tr th {\n",
       "        vertical-align: top;\n",
       "    }\n",
       "\n",
       "    .dataframe thead th {\n",
       "        text-align: right;\n",
       "    }\n",
       "</style>\n",
       "<table border=\"1\" class=\"dataframe\">\n",
       "  <thead>\n",
       "    <tr style=\"text-align: right;\">\n",
       "      <th></th>\n",
       "      <th>cohort_size</th>\n",
       "    </tr>\n",
       "    <tr>\n",
       "      <th>week_start_date</th>\n",
       "      <th></th>\n",
       "    </tr>\n",
       "  </thead>\n",
       "  <tbody>\n",
       "    <tr>\n",
       "      <th>2019-10-07</th>\n",
       "      <td>1130</td>\n",
       "    </tr>\n",
       "    <tr>\n",
       "      <th>2019-10-14</th>\n",
       "      <td>1166</td>\n",
       "    </tr>\n",
       "    <tr>\n",
       "      <th>2019-10-21</th>\n",
       "      <td>1094</td>\n",
       "    </tr>\n",
       "    <tr>\n",
       "      <th>2019-10-28</th>\n",
       "      <td>903</td>\n",
       "    </tr>\n",
       "  </tbody>\n",
       "</table>\n",
       "</div>"
      ],
      "text/plain": [
       "                 cohort_size\n",
       "week_start_date             \n",
       "2019-10-07              1130\n",
       "2019-10-14              1166\n",
       "2019-10-21              1094\n",
       "2019-10-28               903"
      ]
     },
     "execution_count": 29,
     "metadata": {},
     "output_type": "execute_result"
    }
   ],
   "source": [
    "# вычисляем размеры когорт\n",
    "\n",
    "cohort_sizes = (\n",
    "    df.groupby('week_start_date')\n",
    "    .agg({'user_id': 'nunique'})\n",
    "    .rename(columns={'user_id': 'cohort_size'})\n",
    ")\n",
    "\n",
    "cohort_sizes"
   ]
  },
  {
   "cell_type": "code",
   "execution_count": 30,
   "metadata": {},
   "outputs": [
    {
     "data": {
      "text/html": [
       "<div>\n",
       "<style scoped>\n",
       "    .dataframe tbody tr th:only-of-type {\n",
       "        vertical-align: middle;\n",
       "    }\n",
       "\n",
       "    .dataframe tbody tr th {\n",
       "        vertical-align: top;\n",
       "    }\n",
       "\n",
       "    .dataframe thead th {\n",
       "        text-align: right;\n",
       "    }\n",
       "</style>\n",
       "<table border=\"1\" class=\"dataframe\">\n",
       "  <thead>\n",
       "    <tr style=\"text-align: right;\">\n",
       "      <th></th>\n",
       "      <th>cohort_size</th>\n",
       "      <th>0</th>\n",
       "      <th>1</th>\n",
       "      <th>2</th>\n",
       "      <th>3</th>\n",
       "    </tr>\n",
       "    <tr>\n",
       "      <th>week_start_date</th>\n",
       "      <th></th>\n",
       "      <th></th>\n",
       "      <th></th>\n",
       "      <th></th>\n",
       "      <th></th>\n",
       "    </tr>\n",
       "  </thead>\n",
       "  <tbody>\n",
       "    <tr>\n",
       "      <th>2019-10-07</th>\n",
       "      <td>1130</td>\n",
       "      <td>1130.0</td>\n",
       "      <td>272.0</td>\n",
       "      <td>170.0</td>\n",
       "      <td>119.0</td>\n",
       "    </tr>\n",
       "    <tr>\n",
       "      <th>2019-10-14</th>\n",
       "      <td>1166</td>\n",
       "      <td>1166.0</td>\n",
       "      <td>282.0</td>\n",
       "      <td>155.0</td>\n",
       "      <td>0.0</td>\n",
       "    </tr>\n",
       "    <tr>\n",
       "      <th>2019-10-21</th>\n",
       "      <td>1094</td>\n",
       "      <td>1094.0</td>\n",
       "      <td>239.0</td>\n",
       "      <td>0.0</td>\n",
       "      <td>0.0</td>\n",
       "    </tr>\n",
       "    <tr>\n",
       "      <th>2019-10-28</th>\n",
       "      <td>903</td>\n",
       "      <td>903.0</td>\n",
       "      <td>0.0</td>\n",
       "      <td>0.0</td>\n",
       "      <td>0.0</td>\n",
       "    </tr>\n",
       "  </tbody>\n",
       "</table>\n",
       "</div>"
      ],
      "text/plain": [
       "                 cohort_size       0      1      2      3\n",
       "week_start_date                                          \n",
       "2019-10-07              1130  1130.0  272.0  170.0  119.0\n",
       "2019-10-14              1166  1166.0  282.0  155.0    0.0\n",
       "2019-10-21              1094  1094.0  239.0    0.0    0.0\n",
       "2019-10-28               903   903.0    0.0    0.0    0.0"
      ]
     },
     "execution_count": 30,
     "metadata": {},
     "output_type": "execute_result"
    }
   ],
   "source": [
    "# объединяем размеры когорт и таблицу удержания\n",
    "\n",
    "result_grouped = cohort_sizes.merge(\n",
    "    result_grouped, on='week_start_date', how='left'\n",
    ").fillna(0)\n",
    "\n",
    "result_grouped"
   ]
  },
  {
   "cell_type": "code",
   "execution_count": 31,
   "metadata": {},
   "outputs": [
    {
     "data": {
      "text/html": [
       "<div>\n",
       "<style scoped>\n",
       "    .dataframe tbody tr th:only-of-type {\n",
       "        vertical-align: middle;\n",
       "    }\n",
       "\n",
       "    .dataframe tbody tr th {\n",
       "        vertical-align: top;\n",
       "    }\n",
       "\n",
       "    .dataframe thead th {\n",
       "        text-align: right;\n",
       "    }\n",
       "</style>\n",
       "<table border=\"1\" class=\"dataframe\">\n",
       "  <thead>\n",
       "    <tr style=\"text-align: right;\">\n",
       "      <th></th>\n",
       "      <th>0</th>\n",
       "      <th>1</th>\n",
       "      <th>2</th>\n",
       "      <th>3</th>\n",
       "    </tr>\n",
       "    <tr>\n",
       "      <th>week_start_date</th>\n",
       "      <th></th>\n",
       "      <th></th>\n",
       "      <th></th>\n",
       "      <th></th>\n",
       "    </tr>\n",
       "  </thead>\n",
       "  <tbody>\n",
       "    <tr>\n",
       "      <th>2019-10-07</th>\n",
       "      <td>1.0</td>\n",
       "      <td>0.240708</td>\n",
       "      <td>0.150442</td>\n",
       "      <td>0.10531</td>\n",
       "    </tr>\n",
       "    <tr>\n",
       "      <th>2019-10-14</th>\n",
       "      <td>1.0</td>\n",
       "      <td>0.241852</td>\n",
       "      <td>0.132933</td>\n",
       "      <td>0.00000</td>\n",
       "    </tr>\n",
       "    <tr>\n",
       "      <th>2019-10-21</th>\n",
       "      <td>1.0</td>\n",
       "      <td>0.218464</td>\n",
       "      <td>0.000000</td>\n",
       "      <td>0.00000</td>\n",
       "    </tr>\n",
       "    <tr>\n",
       "      <th>2019-10-28</th>\n",
       "      <td>1.0</td>\n",
       "      <td>0.000000</td>\n",
       "      <td>0.000000</td>\n",
       "      <td>0.00000</td>\n",
       "    </tr>\n",
       "  </tbody>\n",
       "</table>\n",
       "</div>"
      ],
      "text/plain": [
       "                   0         1         2        3\n",
       "week_start_date                                  \n",
       "2019-10-07       1.0  0.240708  0.150442  0.10531\n",
       "2019-10-14       1.0  0.241852  0.132933  0.00000\n",
       "2019-10-21       1.0  0.218464  0.000000  0.00000\n",
       "2019-10-28       1.0  0.000000  0.000000  0.00000"
      ]
     },
     "execution_count": 31,
     "metadata": {},
     "output_type": "execute_result"
    }
   ],
   "source": [
    "# делим данные таблицы удержания на размеры когорт\n",
    "\n",
    "result_grouped = result_grouped.div(\n",
    "    result_grouped['cohort_size'], axis=0\n",
    ").drop(columns=['cohort_size'])\n",
    "\n",
    "result_grouped"
   ]
  },
  {
   "cell_type": "code",
   "execution_count": 32,
   "metadata": {},
   "outputs": [
    {
     "data": {
      "image/png": "[encoded data removed]",
      "text/plain": [
       "<Figure size 1080x432 with 2 Axes>"
      ]
     },
     "metadata": {
      "needs_background": "light"
     },
     "output_type": "display_data"
    }
   ],
   "source": [
    "# строим хитмэп\n",
    "\n",
    "plt.figure(figsize=(15, 6))  \n",
    "sns.heatmap(\n",
    "    result_grouped,  cmap=\"Greens\",\n",
    "    annot=True, \n",
    "    fmt='.2%',  \n",
    ")\n",
    "plt.title('Тепловая карта удержания')  \n",
    "plt.yticks(rotation=45) \n",
    "plt.xlabel('lifetime', fontsize=12)\n",
    "plt.show()"
   ]
  },
  {
   "cell_type": "markdown",
   "metadata": {},
   "source": [
    "#### Вывод"
   ]
  },
  {
   "cell_type": "markdown",
   "metadata": {},
   "source": [
    "По тепловой карте удержания видно, что значения удержания различаются для когорт, совершавших действия в разные недели\n",
    "так например для когорты пользователей которые пришли 7-13 октября retention составил 24%, а для пользователей пришедших 21-27 октября retention составил 21.85%. У пользователей пришедших 14-20 октября retention практически совпадает с когортой 7-13 октября"
   ]
  },
  {
   "cell_type": "markdown",
   "metadata": {},
   "source": [
    "### Время, проведенное в приложении"
   ]
  },
  {
   "cell_type": "markdown",
   "metadata": {},
   "source": [
    "Для оценки времени, которое пользователи проводят в приложении для начала посмотрим метрику DAU - количество уникальных пользователей в день и метрику WAU -  количество уникальных пользователей в неделю"
   ]
  },
  {
   "cell_type": "code",
   "execution_count": 33,
   "metadata": {},
   "outputs": [
    {
     "name": "stdout",
     "output_type": "stream",
     "text": [
      "DAU: 153\n"
     ]
    }
   ],
   "source": [
    "df['session_week'] = df['event_time_first'].dt.isocalendar().week\n",
    "df['session_date'] = df['event_time_first'].dt.date\n",
    "df['session_day'] = df['event_time'].dt.day\n",
    "dau_total = (\n",
    "    df.groupby('session_date').agg({'user_id': 'nunique'}).mean()\n",
    ")\n",
    "print('DAU:', int(dau_total))"
   ]
  },
  {
   "cell_type": "code",
   "execution_count": 34,
   "metadata": {},
   "outputs": [
    {
     "name": "stdout",
     "output_type": "stream",
     "text": [
      "WAU: 1073\n"
     ]
    }
   ],
   "source": [
    "df['session_year'] = df['event_time_first'].dt.year\n",
    "wau_total = (\n",
    "    df.groupby(['session_year', 'session_week'])\n",
    "    .agg({'user_id': 'nunique'})\n",
    "    .mean()\n",
    ")\n",
    "print('WAU:', int(wau_total))"
   ]
  },
  {
   "cell_type": "markdown",
   "metadata": {},
   "source": [
    "Количество уникальных пользователей в день равно 153, в месяц равно 1073\n",
    "\n",
    "Теперь посмотрим на время, проведенное в приложении, для этого рассчитаем метрику ASL - средняя продолжительность сессии. \n",
    "Поскольку у многих пользователей были сессии в разные дни, то найдем время первого и последнего действия в сессии в группировке по дням"
   ]
  },
  {
   "cell_type": "code",
   "execution_count": 35,
   "metadata": {
    "scrolled": false
   },
   "outputs": [
    {
     "data": {
      "text/html": [
       "<div>\n",
       "<style scoped>\n",
       "    .dataframe tbody tr th:only-of-type {\n",
       "        vertical-align: middle;\n",
       "    }\n",
       "\n",
       "    .dataframe tbody tr th {\n",
       "        vertical-align: top;\n",
       "    }\n",
       "\n",
       "    .dataframe thead tr th {\n",
       "        text-align: left;\n",
       "    }\n",
       "</style>\n",
       "<table border=\"1\" class=\"dataframe\">\n",
       "  <thead>\n",
       "    <tr>\n",
       "      <th></th>\n",
       "      <th>user_id</th>\n",
       "      <th>session_day</th>\n",
       "      <th colspan=\"2\" halign=\"left\">event_time</th>\n",
       "    </tr>\n",
       "    <tr>\n",
       "      <th></th>\n",
       "      <th></th>\n",
       "      <th></th>\n",
       "      <th>min</th>\n",
       "      <th>max</th>\n",
       "    </tr>\n",
       "  </thead>\n",
       "  <tbody>\n",
       "    <tr>\n",
       "      <th>0</th>\n",
       "      <td>0001b1d5-b74a-4cbf-aeb0-7df5947bf349</td>\n",
       "      <td>7</td>\n",
       "      <td>2019-10-07 13:39:46</td>\n",
       "      <td>2019-10-07 13:49:42</td>\n",
       "    </tr>\n",
       "    <tr>\n",
       "      <th>1</th>\n",
       "      <td>0001b1d5-b74a-4cbf-aeb0-7df5947bf349</td>\n",
       "      <td>9</td>\n",
       "      <td>2019-10-09 18:33:56</td>\n",
       "      <td>2019-10-09 18:42:23</td>\n",
       "    </tr>\n",
       "    <tr>\n",
       "      <th>2</th>\n",
       "      <td>0001b1d5-b74a-4cbf-aeb0-7df5947bf349</td>\n",
       "      <td>21</td>\n",
       "      <td>2019-10-21 19:52:31</td>\n",
       "      <td>2019-10-21 20:07:30</td>\n",
       "    </tr>\n",
       "    <tr>\n",
       "      <th>3</th>\n",
       "      <td>0001b1d5-b74a-4cbf-aeb0-7df5947bf349</td>\n",
       "      <td>22</td>\n",
       "      <td>2019-10-22 11:18:15</td>\n",
       "      <td>2019-10-22 11:30:53</td>\n",
       "    </tr>\n",
       "    <tr>\n",
       "      <th>4</th>\n",
       "      <td>00157779-810c-4498-9e05-a1e9e3cedf93</td>\n",
       "      <td>3</td>\n",
       "      <td>2019-11-03 17:12:10</td>\n",
       "      <td>2019-11-03 17:12:10</td>\n",
       "    </tr>\n",
       "  </tbody>\n",
       "</table>\n",
       "</div>"
      ],
      "text/plain": [
       "                                user_id session_day          event_time  \\\n",
       "                                                                    min   \n",
       "0  0001b1d5-b74a-4cbf-aeb0-7df5947bf349           7 2019-10-07 13:39:46   \n",
       "1  0001b1d5-b74a-4cbf-aeb0-7df5947bf349           9 2019-10-09 18:33:56   \n",
       "2  0001b1d5-b74a-4cbf-aeb0-7df5947bf349          21 2019-10-21 19:52:31   \n",
       "3  0001b1d5-b74a-4cbf-aeb0-7df5947bf349          22 2019-10-22 11:18:15   \n",
       "4  00157779-810c-4498-9e05-a1e9e3cedf93           3 2019-11-03 17:12:10   \n",
       "\n",
       "                       \n",
       "                  max  \n",
       "0 2019-10-07 13:49:42  \n",
       "1 2019-10-09 18:42:23  \n",
       "2 2019-10-21 20:07:30  \n",
       "3 2019-10-22 11:30:53  \n",
       "4 2019-11-03 17:12:10  "
      ]
     },
     "execution_count": 35,
     "metadata": {},
     "output_type": "execute_result"
    }
   ],
   "source": [
    "first_event_session = df.groupby(['user_id', 'session_day']).agg({'event_time': ['min', 'max']}).reset_index()\n",
    "first_event_session.head()"
   ]
  },
  {
   "cell_type": "code",
   "execution_count": 36,
   "metadata": {},
   "outputs": [],
   "source": [
    "first_event_session.columns = [''.join(col) for col in first_event_session.columns]"
   ]
  },
  {
   "cell_type": "code",
   "execution_count": 37,
   "metadata": {},
   "outputs": [
    {
     "data": {
      "text/html": [
       "<div>\n",
       "<style scoped>\n",
       "    .dataframe tbody tr th:only-of-type {\n",
       "        vertical-align: middle;\n",
       "    }\n",
       "\n",
       "    .dataframe tbody tr th {\n",
       "        vertical-align: top;\n",
       "    }\n",
       "\n",
       "    .dataframe thead th {\n",
       "        text-align: right;\n",
       "    }\n",
       "</style>\n",
       "<table border=\"1\" class=\"dataframe\">\n",
       "  <thead>\n",
       "    <tr style=\"text-align: right;\">\n",
       "      <th></th>\n",
       "      <th>user_id</th>\n",
       "      <th>session_day</th>\n",
       "      <th>event_timemin</th>\n",
       "      <th>event_timemax</th>\n",
       "    </tr>\n",
       "  </thead>\n",
       "  <tbody>\n",
       "    <tr>\n",
       "      <th>0</th>\n",
       "      <td>0001b1d5-b74a-4cbf-aeb0-7df5947bf349</td>\n",
       "      <td>7</td>\n",
       "      <td>2019-10-07 13:39:46</td>\n",
       "      <td>2019-10-07 13:49:42</td>\n",
       "    </tr>\n",
       "    <tr>\n",
       "      <th>1</th>\n",
       "      <td>0001b1d5-b74a-4cbf-aeb0-7df5947bf349</td>\n",
       "      <td>9</td>\n",
       "      <td>2019-10-09 18:33:56</td>\n",
       "      <td>2019-10-09 18:42:23</td>\n",
       "    </tr>\n",
       "    <tr>\n",
       "      <th>2</th>\n",
       "      <td>0001b1d5-b74a-4cbf-aeb0-7df5947bf349</td>\n",
       "      <td>21</td>\n",
       "      <td>2019-10-21 19:52:31</td>\n",
       "      <td>2019-10-21 20:07:30</td>\n",
       "    </tr>\n",
       "    <tr>\n",
       "      <th>3</th>\n",
       "      <td>0001b1d5-b74a-4cbf-aeb0-7df5947bf349</td>\n",
       "      <td>22</td>\n",
       "      <td>2019-10-22 11:18:15</td>\n",
       "      <td>2019-10-22 11:30:53</td>\n",
       "    </tr>\n",
       "    <tr>\n",
       "      <th>4</th>\n",
       "      <td>00157779-810c-4498-9e05-a1e9e3cedf93</td>\n",
       "      <td>3</td>\n",
       "      <td>2019-11-03 17:12:10</td>\n",
       "      <td>2019-11-03 17:12:10</td>\n",
       "    </tr>\n",
       "    <tr>\n",
       "      <th>...</th>\n",
       "      <td>...</td>\n",
       "      <td>...</td>\n",
       "      <td>...</td>\n",
       "      <td>...</td>\n",
       "    </tr>\n",
       "    <tr>\n",
       "      <th>7812</th>\n",
       "      <td>fffb9e79-b927-4dbb-9b48-7fd09b23a62b</td>\n",
       "      <td>26</td>\n",
       "      <td>2019-10-26 16:37:20</td>\n",
       "      <td>2019-10-26 17:35:06</td>\n",
       "    </tr>\n",
       "    <tr>\n",
       "      <th>7813</th>\n",
       "      <td>fffb9e79-b927-4dbb-9b48-7fd09b23a62b</td>\n",
       "      <td>27</td>\n",
       "      <td>2019-10-27 14:46:59</td>\n",
       "      <td>2019-10-27 20:00:54</td>\n",
       "    </tr>\n",
       "    <tr>\n",
       "      <th>7814</th>\n",
       "      <td>fffb9e79-b927-4dbb-9b48-7fd09b23a62b</td>\n",
       "      <td>28</td>\n",
       "      <td>2019-10-28 11:49:39</td>\n",
       "      <td>2019-10-28 15:15:51</td>\n",
       "    </tr>\n",
       "    <tr>\n",
       "      <th>7815</th>\n",
       "      <td>fffb9e79-b927-4dbb-9b48-7fd09b23a62b</td>\n",
       "      <td>29</td>\n",
       "      <td>2019-10-29 13:58:48</td>\n",
       "      <td>2019-10-29 16:13:01</td>\n",
       "    </tr>\n",
       "    <tr>\n",
       "      <th>7816</th>\n",
       "      <td>fffb9e79-b927-4dbb-9b48-7fd09b23a62b</td>\n",
       "      <td>30</td>\n",
       "      <td>2019-10-30 00:15:43</td>\n",
       "      <td>2019-10-30 11:31:46</td>\n",
       "    </tr>\n",
       "  </tbody>\n",
       "</table>\n",
       "<p>7817 rows × 4 columns</p>\n",
       "</div>"
      ],
      "text/plain": [
       "                                   user_id  session_day       event_timemin  \\\n",
       "0     0001b1d5-b74a-4cbf-aeb0-7df5947bf349            7 2019-10-07 13:39:46   \n",
       "1     0001b1d5-b74a-4cbf-aeb0-7df5947bf349            9 2019-10-09 18:33:56   \n",
       "2     0001b1d5-b74a-4cbf-aeb0-7df5947bf349           21 2019-10-21 19:52:31   \n",
       "3     0001b1d5-b74a-4cbf-aeb0-7df5947bf349           22 2019-10-22 11:18:15   \n",
       "4     00157779-810c-4498-9e05-a1e9e3cedf93            3 2019-11-03 17:12:10   \n",
       "...                                    ...          ...                 ...   \n",
       "7812  fffb9e79-b927-4dbb-9b48-7fd09b23a62b           26 2019-10-26 16:37:20   \n",
       "7813  fffb9e79-b927-4dbb-9b48-7fd09b23a62b           27 2019-10-27 14:46:59   \n",
       "7814  fffb9e79-b927-4dbb-9b48-7fd09b23a62b           28 2019-10-28 11:49:39   \n",
       "7815  fffb9e79-b927-4dbb-9b48-7fd09b23a62b           29 2019-10-29 13:58:48   \n",
       "7816  fffb9e79-b927-4dbb-9b48-7fd09b23a62b           30 2019-10-30 00:15:43   \n",
       "\n",
       "           event_timemax  \n",
       "0    2019-10-07 13:49:42  \n",
       "1    2019-10-09 18:42:23  \n",
       "2    2019-10-21 20:07:30  \n",
       "3    2019-10-22 11:30:53  \n",
       "4    2019-11-03 17:12:10  \n",
       "...                  ...  \n",
       "7812 2019-10-26 17:35:06  \n",
       "7813 2019-10-27 20:00:54  \n",
       "7814 2019-10-28 15:15:51  \n",
       "7815 2019-10-29 16:13:01  \n",
       "7816 2019-10-30 11:31:46  \n",
       "\n",
       "[7817 rows x 4 columns]"
      ]
     },
     "execution_count": 37,
     "metadata": {},
     "output_type": "execute_result"
    }
   ],
   "source": [
    "first_event_session"
   ]
  },
  {
   "cell_type": "code",
   "execution_count": 38,
   "metadata": {},
   "outputs": [
    {
     "name": "stdout",
     "output_type": "stream",
     "text": [
      "Среднее время всех сессий составляет 4982 c\n"
     ]
    }
   ],
   "source": [
    "first_event_session['session_duration_sec'] = (\n",
    "    first_event_session['event_timemax'] - first_event_session['event_timemin']\n",
    ").dt.seconds\n",
    "print('Среднее время всех сессий составляет', round(first_event_session['session_duration_sec'].mean()), 'c') "
   ]
  },
  {
   "cell_type": "markdown",
   "metadata": {},
   "source": [
    "Среднее время сессий составляет 4982 секунды что примерно составляет 1 час 23 минуты. Посмотрим на среднее время по пользователям"
   ]
  },
  {
   "cell_type": "code",
   "execution_count": 39,
   "metadata": {},
   "outputs": [],
   "source": [
    "user_session_duration = first_event_session.groupby('user_id').agg({'session_duration_sec': \n",
    "                        'mean'}).reset_index().sort_values(by='session_duration_sec', ascending=False)\n"
   ]
  },
  {
   "cell_type": "markdown",
   "metadata": {},
   "source": [
    "Мы видим, что есть пользователи \"победители\" которые проводят в приложении по суткам (скорее всего просто много сессий в разные дни). Также есть пользователи чье время равно нулю, то есть какой-то случайный заход и может показ tips_show (это автоматическое действие) и затем выход"
   ]
  },
  {
   "cell_type": "code",
   "execution_count": 40,
   "metadata": {},
   "outputs": [
    {
     "data": {
      "text/plain": [
       "count     4293.000000\n",
       "mean      3760.071225\n",
       "std       7633.970067\n",
       "min          0.000000\n",
       "25%        368.000000\n",
       "50%        987.000000\n",
       "75%       3222.000000\n",
       "max      84643.000000\n",
       "Name: session_duration_sec, dtype: float64"
      ]
     },
     "execution_count": 40,
     "metadata": {},
     "output_type": "execute_result"
    }
   ],
   "source": [
    "user_session_duration['session_duration_sec'].describe()"
   ]
  },
  {
   "cell_type": "code",
   "execution_count": 41,
   "metadata": {},
   "outputs": [
    {
     "data": {
      "image/png": "[encoded data removed]",
      "text/plain": [
       "<Figure size 576x432 with 1 Axes>"
      ]
     },
     "metadata": {
      "needs_background": "light"
     },
     "output_type": "display_data"
    }
   ],
   "source": [
    "plt.figure(figsize=(8, 6))\n",
    "user_session_duration['session_duration_sec'].hist(bins=50, range=(0, 6000))\n",
    "plt.xlabel('Продолжительность сессии', fontsize = 15)\n",
    "plt.ylabel('Частота', fontsize = 15)\n",
    "plt.show()"
   ]
  },
  {
   "cell_type": "markdown",
   "metadata": {},
   "source": [
    "Пик в районе нуля это нормально так как в любом цифровом сервисе очень многие сессии заканчиваются техническими ошибками. Посмотрим на медиану"
   ]
  },
  {
   "cell_type": "code",
   "execution_count": 42,
   "metadata": {},
   "outputs": [
    {
     "name": "stdout",
     "output_type": "stream",
     "text": [
      "987.0\n"
     ]
    }
   ],
   "source": [
    "print(user_session_duration['session_duration_sec'].median()) "
   ]
  },
  {
   "cell_type": "markdown",
   "metadata": {},
   "source": [
    "Медиана сильно меньше среднего значения, и составляет около 16 минут 45 секунд, кажется что это значение достаточно нормально, этого времени хватит чтобы зайти в приложение и выбрать товар, если ты знаешь что ищешь"
   ]
  },
  {
   "cell_type": "markdown",
   "metadata": {},
   "source": [
    "#### Вывод"
   ]
  },
  {
   "cell_type": "markdown",
   "metadata": {},
   "source": [
    "- Среднее время сессий составляет 4982 секунды что примерно составляет 1 час 23 минуты. Посмотрим на среднее время по пользователям\n",
    "- Мы видим, что есть пользователи \"победители\" которые проводят в приложении по суткам (скорее всего просто много сессий в разные дни). Также есть пользователи чье время равно нулю это нормально так как в любом цифровом сервисе очень многие сессии заканчиваются техническими ошибками.\n",
    "- Медиана сильно меньше среднего значения, и составляет около 16 минут 45 секунд, кажется что это значение достаточно нормально, этого времени хватит чтобы зайти в приложение и выбрать товар, если ты знаешь что ищешь"
   ]
  },
  {
   "cell_type": "markdown",
   "metadata": {},
   "source": [
    "### частота действий\n"
   ]
  },
  {
   "cell_type": "markdown",
   "metadata": {},
   "source": [
    "Для оценки частоты действий сначала оценим среднее число сессий на пользователя за неделю "
   ]
  },
  {
   "cell_type": "code",
   "execution_count": 43,
   "metadata": {},
   "outputs": [
    {
     "data": {
      "text/html": [
       "<div>\n",
       "<style scoped>\n",
       "    .dataframe tbody tr th:only-of-type {\n",
       "        vertical-align: middle;\n",
       "    }\n",
       "\n",
       "    .dataframe tbody tr th {\n",
       "        vertical-align: top;\n",
       "    }\n",
       "\n",
       "    .dataframe thead th {\n",
       "        text-align: right;\n",
       "    }\n",
       "</style>\n",
       "<table border=\"1\" class=\"dataframe\">\n",
       "  <thead>\n",
       "    <tr style=\"text-align: right;\">\n",
       "      <th></th>\n",
       "      <th></th>\n",
       "      <th>n_sessions</th>\n",
       "      <th>n_users</th>\n",
       "      <th>sessions_per_user</th>\n",
       "    </tr>\n",
       "    <tr>\n",
       "      <th>session_year</th>\n",
       "      <th>session_week</th>\n",
       "      <th></th>\n",
       "      <th></th>\n",
       "      <th></th>\n",
       "    </tr>\n",
       "  </thead>\n",
       "  <tbody>\n",
       "    <tr>\n",
       "      <th rowspan=\"4\" valign=\"top\">2019</th>\n",
       "      <th>41</th>\n",
       "      <td>24818</td>\n",
       "      <td>1130</td>\n",
       "      <td>21.962832</td>\n",
       "    </tr>\n",
       "    <tr>\n",
       "      <th>42</th>\n",
       "      <td>20572</td>\n",
       "      <td>1166</td>\n",
       "      <td>17.643225</td>\n",
       "    </tr>\n",
       "    <tr>\n",
       "      <th>43</th>\n",
       "      <td>17532</td>\n",
       "      <td>1094</td>\n",
       "      <td>16.025594</td>\n",
       "    </tr>\n",
       "    <tr>\n",
       "      <th>44</th>\n",
       "      <td>11275</td>\n",
       "      <td>903</td>\n",
       "      <td>12.486157</td>\n",
       "    </tr>\n",
       "  </tbody>\n",
       "</table>\n",
       "</div>"
      ],
      "text/plain": [
       "                           n_sessions  n_users  sessions_per_user\n",
       "session_year session_week                                        \n",
       "2019         41                 24818     1130          21.962832\n",
       "             42                 20572     1166          17.643225\n",
       "             43                 17532     1094          16.025594\n",
       "             44                 11275      903          12.486157"
      ]
     },
     "execution_count": 43,
     "metadata": {},
     "output_type": "execute_result"
    }
   ],
   "source": [
    "sessions_per_user = df.groupby(['session_year', 'session_week']).agg(\n",
    "    {'user_id': ['count', 'nunique']}\n",
    ")\n",
    "sessions_per_user.columns = ['n_sessions', 'n_users']\n",
    "sessions_per_user['sessions_per_user'] = (\n",
    "    sessions_per_user['n_sessions'] / sessions_per_user['n_users']\n",
    ")       \n",
    "\n",
    "sessions_per_user"
   ]
  },
  {
   "cell_type": "markdown",
   "metadata": {},
   "source": [
    "Мы видим что наибольшее количество сессий было в первую неделю, и дальше идет заметное уменьшение количества сессий"
   ]
  },
  {
   "cell_type": "markdown",
   "metadata": {},
   "source": [
    "Теперь посмотрим количество действий в рамках отдельной сессии"
   ]
  },
  {
   "cell_type": "code",
   "execution_count": 44,
   "metadata": {},
   "outputs": [
    {
     "data": {
      "text/html": [
       "<div>\n",
       "<style scoped>\n",
       "    .dataframe tbody tr th:only-of-type {\n",
       "        vertical-align: middle;\n",
       "    }\n",
       "\n",
       "    .dataframe tbody tr th {\n",
       "        vertical-align: top;\n",
       "    }\n",
       "\n",
       "    .dataframe thead tr th {\n",
       "        text-align: left;\n",
       "    }\n",
       "</style>\n",
       "<table border=\"1\" class=\"dataframe\">\n",
       "  <thead>\n",
       "    <tr>\n",
       "      <th></th>\n",
       "      <th>user_id</th>\n",
       "      <th>session_day</th>\n",
       "      <th colspan=\"2\" halign=\"left\">event_time</th>\n",
       "      <th>event_name</th>\n",
       "    </tr>\n",
       "    <tr>\n",
       "      <th></th>\n",
       "      <th></th>\n",
       "      <th></th>\n",
       "      <th>min</th>\n",
       "      <th>max</th>\n",
       "      <th>count</th>\n",
       "    </tr>\n",
       "  </thead>\n",
       "  <tbody>\n",
       "    <tr>\n",
       "      <th>0</th>\n",
       "      <td>0001b1d5-b74a-4cbf-aeb0-7df5947bf349</td>\n",
       "      <td>7</td>\n",
       "      <td>2019-10-07 13:39:46</td>\n",
       "      <td>2019-10-07 13:49:42</td>\n",
       "      <td>9</td>\n",
       "    </tr>\n",
       "    <tr>\n",
       "      <th>1</th>\n",
       "      <td>0001b1d5-b74a-4cbf-aeb0-7df5947bf349</td>\n",
       "      <td>9</td>\n",
       "      <td>2019-10-09 18:33:56</td>\n",
       "      <td>2019-10-09 18:42:23</td>\n",
       "      <td>4</td>\n",
       "    </tr>\n",
       "    <tr>\n",
       "      <th>2</th>\n",
       "      <td>0001b1d5-b74a-4cbf-aeb0-7df5947bf349</td>\n",
       "      <td>21</td>\n",
       "      <td>2019-10-21 19:52:31</td>\n",
       "      <td>2019-10-21 20:07:30</td>\n",
       "      <td>14</td>\n",
       "    </tr>\n",
       "    <tr>\n",
       "      <th>3</th>\n",
       "      <td>0001b1d5-b74a-4cbf-aeb0-7df5947bf349</td>\n",
       "      <td>22</td>\n",
       "      <td>2019-10-22 11:18:15</td>\n",
       "      <td>2019-10-22 11:30:53</td>\n",
       "      <td>8</td>\n",
       "    </tr>\n",
       "    <tr>\n",
       "      <th>4</th>\n",
       "      <td>00157779-810c-4498-9e05-a1e9e3cedf93</td>\n",
       "      <td>3</td>\n",
       "      <td>2019-11-03 17:12:10</td>\n",
       "      <td>2019-11-03 17:12:10</td>\n",
       "      <td>1</td>\n",
       "    </tr>\n",
       "  </tbody>\n",
       "</table>\n",
       "</div>"
      ],
      "text/plain": [
       "                                user_id session_day          event_time  \\\n",
       "                                                                    min   \n",
       "0  0001b1d5-b74a-4cbf-aeb0-7df5947bf349           7 2019-10-07 13:39:46   \n",
       "1  0001b1d5-b74a-4cbf-aeb0-7df5947bf349           9 2019-10-09 18:33:56   \n",
       "2  0001b1d5-b74a-4cbf-aeb0-7df5947bf349          21 2019-10-21 19:52:31   \n",
       "3  0001b1d5-b74a-4cbf-aeb0-7df5947bf349          22 2019-10-22 11:18:15   \n",
       "4  00157779-810c-4498-9e05-a1e9e3cedf93           3 2019-11-03 17:12:10   \n",
       "\n",
       "                      event_name  \n",
       "                  max      count  \n",
       "0 2019-10-07 13:49:42          9  \n",
       "1 2019-10-09 18:42:23          4  \n",
       "2 2019-10-21 20:07:30         14  \n",
       "3 2019-10-22 11:30:53          8  \n",
       "4 2019-11-03 17:12:10          1  "
      ]
     },
     "execution_count": 44,
     "metadata": {},
     "output_type": "execute_result"
    }
   ],
   "source": [
    "event_session = df.groupby(['user_id', 'session_day']).agg({'event_time': ['min', 'max'], 'event_name':'count'}).reset_index()\n",
    "event_session.head()"
   ]
  },
  {
   "cell_type": "code",
   "execution_count": 45,
   "metadata": {},
   "outputs": [],
   "source": [
    "event_session.columns = [''.join(col) for col in event_session.columns]\n",
    "event_session = event_session.sort_values(by='event_namecount', ascending = False)\n"
   ]
  },
  {
   "cell_type": "code",
   "execution_count": 46,
   "metadata": {},
   "outputs": [
    {
     "data": {
      "image/png": "[encoded data removed]",
      "text/plain": [
       "<Figure size 576x432 with 1 Axes>"
      ]
     },
     "metadata": {
      "needs_background": "light"
     },
     "output_type": "display_data"
    }
   ],
   "source": [
    "plt.figure(figsize=(8, 6))\n",
    "event_session['event_namecount'].hist(bins = 20, range=(0, 150))\n",
    "plt.xlabel('Количество действий', fontsize = 15)\n",
    "plt.ylabel('Частота', fontsize = 15)\n",
    "plt.show()"
   ]
  },
  {
   "cell_type": "markdown",
   "metadata": {},
   "source": [
    "Мы видим, похожую на продолжительность сессий экспоненицальную зависимость, существуют как и аномально длинные сессии так и множество сессий с 1 действием"
   ]
  },
  {
   "cell_type": "code",
   "execution_count": 47,
   "metadata": {},
   "outputs": [
    {
     "name": "stdout",
     "output_type": "stream",
     "text": [
      "9.49\n",
      "6.0\n"
     ]
    }
   ],
   "source": [
    "print(round(event_session['event_namecount'].mean(), 2))\n",
    "print(round(event_session['event_namecount'].median(), 2))"
   ]
  },
  {
   "cell_type": "markdown",
   "metadata": {},
   "source": [
    "#### Вывод \n",
    "Мы видим, похожую на продолжительность сессий экспоненицальную зависимость, существуют как и аномально длинные сессии так и множество сессий с 1 действием\n",
    "Среднее количество действий за сессию 9.49, медианное 6"
   ]
  },
  {
   "cell_type": "markdown",
   "metadata": {},
   "source": [
    "### Конверсия в целевое действие — просмотр контактов"
   ]
  },
  {
   "cell_type": "markdown",
   "metadata": {},
   "source": [
    "Расчитаем общую конверсию - сколько было пользователей  и сколько просмотрело просмотр контактов (contacts_show). "
   ]
  },
  {
   "cell_type": "code",
   "execution_count": 48,
   "metadata": {},
   "outputs": [
    {
     "data": {
      "text/plain": [
       "4293"
      ]
     },
     "execution_count": 48,
     "metadata": {},
     "output_type": "execute_result"
    }
   ],
   "source": [
    "n_users = df['user_id'].value_counts().count()\n",
    "n_users"
   ]
  },
  {
   "cell_type": "code",
   "execution_count": 49,
   "metadata": {},
   "outputs": [
    {
     "data": {
      "text/html": [
       "<div>\n",
       "<style scoped>\n",
       "    .dataframe tbody tr th:only-of-type {\n",
       "        vertical-align: middle;\n",
       "    }\n",
       "\n",
       "    .dataframe tbody tr th {\n",
       "        vertical-align: top;\n",
       "    }\n",
       "\n",
       "    .dataframe thead th {\n",
       "        text-align: right;\n",
       "    }\n",
       "</style>\n",
       "<table border=\"1\" class=\"dataframe\">\n",
       "  <thead>\n",
       "    <tr style=\"text-align: right;\">\n",
       "      <th></th>\n",
       "      <th>event_name</th>\n",
       "      <th>user_id</th>\n",
       "    </tr>\n",
       "  </thead>\n",
       "  <tbody>\n",
       "    <tr>\n",
       "      <th>8</th>\n",
       "      <td>tips_show</td>\n",
       "      <td>2801</td>\n",
       "    </tr>\n",
       "    <tr>\n",
       "      <th>6</th>\n",
       "      <td>search</td>\n",
       "      <td>1666</td>\n",
       "    </tr>\n",
       "    <tr>\n",
       "      <th>4</th>\n",
       "      <td>map</td>\n",
       "      <td>1456</td>\n",
       "    </tr>\n",
       "    <tr>\n",
       "      <th>5</th>\n",
       "      <td>photos_show</td>\n",
       "      <td>1095</td>\n",
       "    </tr>\n",
       "    <tr>\n",
       "      <th>2</th>\n",
       "      <td>contacts_show</td>\n",
       "      <td>981</td>\n",
       "    </tr>\n",
       "    <tr>\n",
       "      <th>0</th>\n",
       "      <td>advert_open</td>\n",
       "      <td>751</td>\n",
       "    </tr>\n",
       "    <tr>\n",
       "      <th>3</th>\n",
       "      <td>favorites_add</td>\n",
       "      <td>351</td>\n",
       "    </tr>\n",
       "    <tr>\n",
       "      <th>7</th>\n",
       "      <td>tips_click</td>\n",
       "      <td>322</td>\n",
       "    </tr>\n",
       "    <tr>\n",
       "      <th>1</th>\n",
       "      <td>contacts_call</td>\n",
       "      <td>213</td>\n",
       "    </tr>\n",
       "  </tbody>\n",
       "</table>\n",
       "</div>"
      ],
      "text/plain": [
       "      event_name  user_id\n",
       "8      tips_show     2801\n",
       "6         search     1666\n",
       "4            map     1456\n",
       "5    photos_show     1095\n",
       "2  contacts_show      981\n",
       "0    advert_open      751\n",
       "3  favorites_add      351\n",
       "7     tips_click      322\n",
       "1  contacts_call      213"
      ]
     },
     "execution_count": 49,
     "metadata": {},
     "output_type": "execute_result"
    }
   ],
   "source": [
    "events_users = df.groupby('event_name').agg({'user_id':'nunique'}).reset_index().sort_values(by='user_id', ascending=False)\n",
    "events_users"
   ]
  },
  {
   "cell_type": "code",
   "execution_count": 50,
   "metadata": {},
   "outputs": [
    {
     "name": "stdout",
     "output_type": "stream",
     "text": [
      "Конверсия tips_show - contacts_show равна 22.85 %\n"
     ]
    }
   ],
   "source": [
    "print('Конверсия tips_show - contacts_show равна',  round((events_users['user_id'][2]/n_users)*100, 2), '%') "
   ]
  },
  {
   "cell_type": "markdown",
   "metadata": {},
   "source": [
    "#### Вывод \n",
    "\n",
    "Конверсия пользователей из действия просмотр рекомендованного объявления tips_show в просмотр контактов contacts_show равна 22.85 %"
   ]
  },
  {
   "cell_type": "markdown",
   "metadata": {},
   "source": [
    "### Вывод"
   ]
  },
  {
   "cell_type": "markdown",
   "metadata": {},
   "source": [
    "1. По тепловой карте удержания видно, что значения удержания различаются для когорт, совершавших действия в разные недели так например для когорты пользователей которые пришли 7-13 октября retention составил 24%, а для пользователей пришедших 21-27 октября retention составил 21.85%. У пользователей пришедших 14-20 октября retention практически совпадает с когортой 7-13 октября\n",
    "2. Среднее время сессий составляет 4982 секунды что примерно составляет 1 час 23 минуты. Посмотрим на среднее время по пользователям Мы видим, что есть пользователи \"победители\" которые проводят в приложении по суткам (скорее всего просто много сессий в разные дни). Также есть пользователи чье время равно нулю это нормально так как в любом цифровом сервисе очень многие сессии заканчиваются техническими ошибками. Медиана сильно меньше среднего значения, и составляет около 16 минут 45 секунд, кажется что это значение достаточно нормально, этого времени хватит чтобы зайти в приложение и выбрать товар, если ты знаешь что ищешь\n",
    "3. Мы видим, похожую на продолжительность сессий экспоненицальную зависимость частоты действий по сессиям, существуют как и аномально длинные сессии так и множество сессий с 1 действием Среднее количество действий за сессию 9.49, медианное 6\n",
    "4. Конверсия пользователей из действия просмотр рекомендованного объявления tips_show в просмотр контактов contacts_show равна 22.85 %"
   ]
  },
  {
   "cell_type": "markdown",
   "metadata": {},
   "source": [
    "## Сегментация пользователей"
   ]
  },
  {
   "cell_type": "markdown",
   "metadata": {},
   "source": [
    "Сегментируем пользователей используя кластеризацию. Возьмем за признаки следующие параметры: продолжительность сессии и количество действий за сессию. Сегментируем на два класса с помощью алгоритма кластеризации K-means"
   ]
  },
  {
   "cell_type": "code",
   "execution_count": 51,
   "metadata": {},
   "outputs": [],
   "source": [
    "event_session['session_duration_sec'] = (\n",
    "    event_session['event_timemax'] - event_session['event_timemin']\n",
    ").dt.seconds"
   ]
  },
  {
   "cell_type": "code",
   "execution_count": 52,
   "metadata": {},
   "outputs": [],
   "source": [
    "user_id_event_sessions = event_session.groupby('user_id').agg({'event_namecount':'sum', \n",
    "                        'session_duration_sec':'sum'}).reset_index()\n"
   ]
  },
  {
   "cell_type": "code",
   "execution_count": 53,
   "metadata": {},
   "outputs": [],
   "source": [
    "# стандартизация для датафрейма\n",
    "X_sc = user_id_event_sessions.drop(['user_id'], axis=1)"
   ]
  },
  {
   "cell_type": "code",
   "execution_count": 54,
   "metadata": {},
   "outputs": [],
   "source": [
    "event_session_columns_list = X_sc.columns\n",
    "X_sc = StandardScaler().fit_transform(X_sc)\n",
    "X_sc = pd.DataFrame(X_sc, columns = event_session_columns_list).astype('float64')"
   ]
  },
  {
   "cell_type": "code",
   "execution_count": 55,
   "metadata": {},
   "outputs": [],
   "source": [
    "km = KMeans(n_clusters=3\n",
    "            , random_state=0)\n",
    "labels = km.fit_predict(X_sc)"
   ]
  },
  {
   "cell_type": "code",
   "execution_count": 56,
   "metadata": {
    "scrolled": true
   },
   "outputs": [
    {
     "data": {
      "text/plain": [
       "0    3995\n",
       "1     271\n",
       "2      27\n",
       "Name: clusters, dtype: int64"
      ]
     },
     "execution_count": 56,
     "metadata": {},
     "output_type": "execute_result"
    }
   ],
   "source": [
    "user_id_event_sessions['clusters'] = labels\n",
    "user_id_event_sessions['clusters'].value_counts()\n"
   ]
  },
  {
   "cell_type": "code",
   "execution_count": 57,
   "metadata": {},
   "outputs": [],
   "source": [
    "event_session = event_session.merge(user_id_event_sessions, on='user_id')"
   ]
  },
  {
   "cell_type": "code",
   "execution_count": 58,
   "metadata": {
    "scrolled": true
   },
   "outputs": [],
   "source": [
    "event_session = event_session.drop(['event_namecount_y',\n",
    "                                                'session_duration_sec_y'], axis=1)"
   ]
  },
  {
   "cell_type": "code",
   "execution_count": 59,
   "metadata": {},
   "outputs": [
    {
     "data": {
      "text/plain": [
       "Index(['user_id', 'session_day', 'event_timemin', 'event_timemax',\n",
       "       'event_namecount_x', 'session_duration_sec_x', 'clusters'],\n",
       "      dtype='object')"
      ]
     },
     "execution_count": 59,
     "metadata": {},
     "output_type": "execute_result"
    }
   ],
   "source": [
    "event_session.columns"
   ]
  },
  {
   "cell_type": "code",
   "execution_count": 60,
   "metadata": {},
   "outputs": [],
   "source": [
    "event_session = event_session.rename(columns={\"event_namecount_x\": \"event_namecount\",\n",
    "                        \"session_duration_sec_x\": \"session_duration_sec\"})"
   ]
  },
  {
   "cell_type": "code",
   "execution_count": 61,
   "metadata": {
    "scrolled": true
   },
   "outputs": [
    {
     "data": {
      "text/html": [
       "<div>\n",
       "<style scoped>\n",
       "    .dataframe tbody tr th:only-of-type {\n",
       "        vertical-align: middle;\n",
       "    }\n",
       "\n",
       "    .dataframe tbody tr th {\n",
       "        vertical-align: top;\n",
       "    }\n",
       "\n",
       "    .dataframe thead th {\n",
       "        text-align: right;\n",
       "    }\n",
       "</style>\n",
       "<table border=\"1\" class=\"dataframe\">\n",
       "  <thead>\n",
       "    <tr style=\"text-align: right;\">\n",
       "      <th></th>\n",
       "      <th>event_namecount</th>\n",
       "      <th>session_duration_sec</th>\n",
       "    </tr>\n",
       "    <tr>\n",
       "      <th>clusters</th>\n",
       "      <th></th>\n",
       "      <th></th>\n",
       "    </tr>\n",
       "  </thead>\n",
       "  <tbody>\n",
       "    <tr>\n",
       "      <th>0</th>\n",
       "      <td>11.818523</td>\n",
       "      <td>4597.286108</td>\n",
       "    </tr>\n",
       "    <tr>\n",
       "      <th>1</th>\n",
       "      <td>77.487085</td>\n",
       "      <td>49615.804428</td>\n",
       "    </tr>\n",
       "    <tr>\n",
       "      <th>2</th>\n",
       "      <td>221.592593</td>\n",
       "      <td>264156.000000</td>\n",
       "    </tr>\n",
       "  </tbody>\n",
       "</table>\n",
       "</div>"
      ],
      "text/plain": [
       "          event_namecount  session_duration_sec\n",
       "clusters                                       \n",
       "0               11.818523           4597.286108\n",
       "1               77.487085          49615.804428\n",
       "2              221.592593         264156.000000"
      ]
     },
     "execution_count": 61,
     "metadata": {},
     "output_type": "execute_result"
    }
   ],
   "source": [
    "user_id_event_sessions.groupby('clusters').mean()"
   ]
  },
  {
   "cell_type": "code",
   "execution_count": 62,
   "metadata": {},
   "outputs": [
    {
     "data": {
      "text/plain": [
       "clusters\n",
       "0    3995\n",
       "1     271\n",
       "2      27\n",
       "Name: user_id, dtype: int64"
      ]
     },
     "execution_count": 62,
     "metadata": {},
     "output_type": "execute_result"
    }
   ],
   "source": [
    "user_id_event_sessions.groupby('clusters')['user_id'].count()"
   ]
  },
  {
   "cell_type": "markdown",
   "metadata": {},
   "source": [
    "Алгоритм K-means сегментировал пользователей на 3 класса:\n",
    "\n",
    "0 класс:\n",
    "- 3995 пользователей\n",
    "- среднее количество действий около 12\n",
    "- средняя продолжительность всех сессий  4597 секунд приблизительно  1.5 часа\n",
    "\n",
    "\n",
    "1 класс:\n",
    "- 26 пользователей\n",
    "- среднее количество действий 224 \n",
    "- средняя продолжительность всех сессийс  268000 секунд приблизительно 74 часа \n",
    "\n",
    "\n",
    "2 класс:\n",
    "- 272 пользователя\n",
    "- среднее количество действий 78\n",
    "- средняя продолжительность всех сессий 50000 секунд приблизительно 13 часов"
   ]
  },
  {
   "cell_type": "markdown",
   "metadata": {},
   "source": [
    "Добавим информацию о кластерах в основной датафрейм"
   ]
  },
  {
   "cell_type": "code",
   "execution_count": 63,
   "metadata": {},
   "outputs": [],
   "source": [
    "clusters = user_id_event_sessions[['user_id', 'clusters']]"
   ]
  },
  {
   "cell_type": "code",
   "execution_count": 64,
   "metadata": {},
   "outputs": [],
   "source": [
    "df_clusters = df.merge(clusters, on = 'user_id')"
   ]
  },
  {
   "cell_type": "code",
   "execution_count": 65,
   "metadata": {},
   "outputs": [],
   "source": [
    "df_0 = df_clusters[df_clusters['clusters'] == 0]\n",
    "df_1 = df_clusters[df_clusters['clusters'] == 1]\n",
    "df_2 = df_clusters[df_clusters['clusters'] == 2]"
   ]
  },
  {
   "cell_type": "markdown",
   "metadata": {},
   "source": [
    "### Retention rate по классам"
   ]
  },
  {
   "cell_type": "markdown",
   "metadata": {},
   "source": [
    "Воспользуемся функцией get_retention"
   ]
  },
  {
   "cell_type": "code",
   "execution_count": 66,
   "metadata": {},
   "outputs": [],
   "source": [
    "retention_0 = get_retention(df_0)"
   ]
  },
  {
   "cell_type": "code",
   "execution_count": 67,
   "metadata": {},
   "outputs": [
    {
     "data": {
      "image/png": "[encoded data removed]",
      "text/plain": [
       "<Figure size 1080x432 with 2 Axes>"
      ]
     },
     "metadata": {
      "needs_background": "light"
     },
     "output_type": "display_data"
    }
   ],
   "source": [
    "plt.figure(figsize=(15, 6))  \n",
    "sns.heatmap(\n",
    "    retention_0,  cmap=\"Greens\",\n",
    "    annot=True, \n",
    "    fmt='.2%',  \n",
    ")\n",
    "plt.title('Тепловая карта удержания класса 0')  \n",
    "plt.yticks(rotation=45) \n",
    "plt.xlabel('lifetime', fontsize=12)\n",
    "plt.show()"
   ]
  },
  {
   "cell_type": "code",
   "execution_count": 68,
   "metadata": {},
   "outputs": [],
   "source": [
    "retention_1 = get_retention(df_1)"
   ]
  },
  {
   "cell_type": "code",
   "execution_count": 69,
   "metadata": {},
   "outputs": [
    {
     "data": {
      "image/png": "[encoded data removed]",
      "text/plain": [
       "<Figure size 1080x432 with 2 Axes>"
      ]
     },
     "metadata": {
      "needs_background": "light"
     },
     "output_type": "display_data"
    }
   ],
   "source": [
    "plt.figure(figsize=(15, 6))  \n",
    "sns.heatmap(\n",
    "    retention_1,  cmap=\"Greens\",\n",
    "    annot=True, \n",
    "    fmt='.2%',  \n",
    ")\n",
    "plt.title('Тепловая карта удержания класса 1')  \n",
    "plt.yticks(rotation=45) \n",
    "plt.xlabel('lifetime', fontsize=12)\n",
    "plt.show()"
   ]
  },
  {
   "cell_type": "code",
   "execution_count": 70,
   "metadata": {},
   "outputs": [],
   "source": [
    "retention_2 = get_retention(df_2)"
   ]
  },
  {
   "cell_type": "code",
   "execution_count": 71,
   "metadata": {},
   "outputs": [
    {
     "data": {
      "image/png": "[encoded data removed]",
      "text/plain": [
       "<Figure size 1080x432 with 2 Axes>"
      ]
     },
     "metadata": {
      "needs_background": "light"
     },
     "output_type": "display_data"
    }
   ],
   "source": [
    "plt.figure(figsize=(15, 6))  \n",
    "sns.heatmap(\n",
    "    retention_1,  cmap=\"Greens\",\n",
    "    annot=True, \n",
    "    fmt='.2%',  \n",
    ")\n",
    "plt.title('Тепловая карта удержания класса 2')  \n",
    "plt.yticks(rotation=45) \n",
    "plt.xlabel('lifetime', fontsize=12)\n",
    "plt.show()"
   ]
  },
  {
   "cell_type": "markdown",
   "metadata": {},
   "source": [
    "### Вывод"
   ]
  },
  {
   "cell_type": "markdown",
   "metadata": {},
   "source": [
    "Мы видим что удержание у классов 1 и 2 не падает ниже 80 %, таким образом можно предположить что кластеризацией мы выделили группу аномально хороших пользователей, постоянно пользующихся данным приложением"
   ]
  },
  {
   "cell_type": "markdown",
   "metadata": {},
   "source": [
    "### Конверсия"
   ]
  },
  {
   "cell_type": "code",
   "execution_count": 72,
   "metadata": {},
   "outputs": [],
   "source": [
    "n_users_0 = df_0['user_id'].value_counts().count()\n",
    "n_users_1 = df_1['user_id'].value_counts().count()\n",
    "n_users_2 = df_2['user_id'].value_counts().count()"
   ]
  },
  {
   "cell_type": "code",
   "execution_count": 73,
   "metadata": {},
   "outputs": [
    {
     "name": "stdout",
     "output_type": "stream",
     "text": [
      "Конверсия tips_show - contacts_show равна для класса 0 равна 20.7 %\n"
     ]
    }
   ],
   "source": [
    "events_users_0 = df_0.groupby('event_name').agg({'user_id':'nunique'}).reset_index().sort_values(by='user_id', ascending=False)\n",
    "\n",
    "print('Конверсия tips_show - contacts_show равна для класса 0 равна',  \n",
    "      round((events_users_0['user_id'][2]/n_users_0)*100, 2), '%') "
   ]
  },
  {
   "cell_type": "code",
   "execution_count": 74,
   "metadata": {},
   "outputs": [
    {
     "name": "stdout",
     "output_type": "stream",
     "text": [
      "Конверсия tips_show - contacts_show равна для класса 1 равна 50.18 %\n"
     ]
    }
   ],
   "source": [
    "events_users_1 = df_1.groupby('event_name').agg({'user_id':'nunique'}).reset_index().sort_values(by='user_id', ascending=False)\n",
    "\n",
    "print('Конверсия tips_show - contacts_show равна для класса 1 равна',  \n",
    "      round((events_users_1['user_id'][2]/n_users_1)*100, 2), '%') "
   ]
  },
  {
   "cell_type": "code",
   "execution_count": 75,
   "metadata": {},
   "outputs": [
    {
     "name": "stdout",
     "output_type": "stream",
     "text": [
      "Конверсия tips_show - contacts_show равна для класса 1 равна 66.67 %\n"
     ]
    }
   ],
   "source": [
    "events_users_2 = df_2.groupby('event_name').agg({'user_id':'nunique'}).reset_index().sort_values(by='user_id', ascending=False)\n",
    "\n",
    "print('Конверсия tips_show - contacts_show равна для класса 1 равна',  \n",
    "      round((events_users_2['user_id'][2]/n_users_2)*100, 2), '%') "
   ]
  },
  {
   "cell_type": "markdown",
   "metadata": {},
   "source": [
    " Конверсия для класса 0 составила 21 %, для классов 1  и 2 65% и 50%. Мы видим, что несмотря на аномально хорошее поведение пользователей класса 1 и 2  их вклад в конверсию не велик вследствие их маленького количества. "
   ]
  },
  {
   "cell_type": "markdown",
   "metadata": {},
   "source": [
    "### Время между ключевыми событиями"
   ]
  },
  {
   "cell_type": "markdown",
   "metadata": {},
   "source": [
    "Посмотрим различаются ли попользователи классов на основе времени, которое проходит с момента первого использования мобильного приложения и до использования функции поиска"
   ]
  },
  {
   "cell_type": "code",
   "execution_count": 76,
   "metadata": {},
   "outputs": [],
   "source": [
    "search_users_id = list(set(df[df['event_name'] == 'search']['user_id']))"
   ]
  },
  {
   "cell_type": "code",
   "execution_count": 77,
   "metadata": {},
   "outputs": [],
   "source": [
    "# пользователи которые использовали поиск\n",
    "search_users = df.query('user_id in @search_users_id')"
   ]
  },
  {
   "cell_type": "code",
   "execution_count": 78,
   "metadata": {},
   "outputs": [],
   "source": [
    "# время первого взаимодействия и время первого поиска\n",
    "search_time = search_users.query('event_name ==\"search\"').groupby(['user_id']).agg({'event_time'\n",
    "       :'min'}).sort_values(by='event_time').reset_index()\n",
    "\n",
    "## объединяем и ищем разницу\n",
    "min_time = search_users.groupby(['user_id']).agg({'event_time':'min'}).sort_values(by='event_time').reset_index()\n",
    "search_time['first_event_time'] = min_time['event_time']\n",
    "search_time['delta'] = (search_time['event_time'] - search_time['first_event_time']).astype('timedelta64[h]')\n"
   ]
  },
  {
   "cell_type": "code",
   "execution_count": 79,
   "metadata": {},
   "outputs": [],
   "source": [
    "search_time_cluster = search_time.merge(user_id_event_sessions, how='left', on='user_id')"
   ]
  },
  {
   "cell_type": "code",
   "execution_count": 80,
   "metadata": {},
   "outputs": [],
   "source": [
    "search_time_cluster = search_time_cluster.drop(['event_namecount', 'session_duration_sec'], axis=1)"
   ]
  },
  {
   "cell_type": "code",
   "execution_count": 81,
   "metadata": {},
   "outputs": [
    {
     "data": {
      "text/html": [
       "<div>\n",
       "<style scoped>\n",
       "    .dataframe tbody tr th:only-of-type {\n",
       "        vertical-align: middle;\n",
       "    }\n",
       "\n",
       "    .dataframe tbody tr th {\n",
       "        vertical-align: top;\n",
       "    }\n",
       "\n",
       "    .dataframe thead tr th {\n",
       "        text-align: left;\n",
       "    }\n",
       "\n",
       "    .dataframe thead tr:last-of-type th {\n",
       "        text-align: right;\n",
       "    }\n",
       "</style>\n",
       "<table border=\"1\" class=\"dataframe\">\n",
       "  <thead>\n",
       "    <tr>\n",
       "      <th></th>\n",
       "      <th colspan=\"3\" halign=\"left\">delta</th>\n",
       "    </tr>\n",
       "    <tr>\n",
       "      <th></th>\n",
       "      <th>min</th>\n",
       "      <th>max</th>\n",
       "      <th>mean</th>\n",
       "    </tr>\n",
       "    <tr>\n",
       "      <th>clusters</th>\n",
       "      <th></th>\n",
       "      <th></th>\n",
       "      <th></th>\n",
       "    </tr>\n",
       "  </thead>\n",
       "  <tbody>\n",
       "    <tr>\n",
       "      <th>0</th>\n",
       "      <td>0.0</td>\n",
       "      <td>32.0</td>\n",
       "      <td>14.911451</td>\n",
       "    </tr>\n",
       "    <tr>\n",
       "      <th>1</th>\n",
       "      <td>0.0</td>\n",
       "      <td>27.0</td>\n",
       "      <td>16.181208</td>\n",
       "    </tr>\n",
       "    <tr>\n",
       "      <th>2</th>\n",
       "      <td>5.0</td>\n",
       "      <td>24.0</td>\n",
       "      <td>14.466667</td>\n",
       "    </tr>\n",
       "  </tbody>\n",
       "</table>\n",
       "</div>"
      ],
      "text/plain": [
       "         delta                 \n",
       "           min   max       mean\n",
       "clusters                       \n",
       "0          0.0  32.0  14.911451\n",
       "1          0.0  27.0  16.181208\n",
       "2          5.0  24.0  14.466667"
      ]
     },
     "execution_count": 81,
     "metadata": {},
     "output_type": "execute_result"
    }
   ],
   "source": [
    "search_time_cluster.groupby('clusters').agg({'delta':[min, max, np.mean]})"
   ]
  },
  {
   "cell_type": "markdown",
   "metadata": {},
   "source": [
    "Мы видим что среднее количество времени, которое прошло от первого действия до поиска практически не отличается по кластерам и составляет около 15 часов для 0 кластера, 15 часов для первого и 16 для второго. Кажется что пользователи кластеров 1 и 2 которые - преданные проводят немного больше времени на моменте просмотра объявлений "
   ]
  },
  {
   "cell_type": "markdown",
   "metadata": {},
   "source": [
    "### Вывод"
   ]
  },
  {
   "cell_type": "markdown",
   "metadata": {},
   "source": [
    "- Мы видим что удержание у классов 1 и 2 не падает ниже 80 %, таким образом можно предположить что кластеризацией мы выделили группу аномально хороших пользователей, постоянно пользующихся данным приложением\n",
    "\n",
    "-  Конверсия для класса 0 составила 21 %, Для класса 1 и 2 65% и 50%. Мы видим, что несмотря на аномально хорошее поведение пользователей класса 1 и 2 их вклад в конверсию не велик вследствие их маленького количества.\n",
    "\n",
    "- Мы видим что среднее количество времени, которое прошло от первого действия до поиска практически не отличается по кластерам и составляет около 16 часов для 0 кластера, 15 часов для первого и 17.5 для второго. Кажется что пользователи кластеров 1 и 2 которые - преданные проводят немного больше времени на моменте просмотра объявлений\n"
   ]
  },
  {
   "cell_type": "markdown",
   "metadata": {},
   "source": [
    "## Проверка гипотез"
   ]
  },
  {
   "cell_type": "markdown",
   "metadata": {},
   "source": [
    "### привлеченные по ссылке из yandex и по ссылке из google демонстрируют разную конверсию в просмотры контактов"
   ]
  },
  {
   "cell_type": "markdown",
   "metadata": {},
   "source": [
    "- **Нулевая гипотеза** - конверсия в просмотры контактов одинаковая у пользователей, привлеченных из yandex и у пользователей, привлеченных из google\n",
    "- **Альтернативная гипотеза** - конверсия в просмотры контактов разная у пользователей, привлеченных из yandex и у пользователей, привлеченных из google"
   ]
  },
  {
   "cell_type": "markdown",
   "metadata": {},
   "source": [
    "Воспользуемся z тестом для проверки гипотезы"
   ]
  },
  {
   "cell_type": "code",
   "execution_count": 82,
   "metadata": {},
   "outputs": [],
   "source": [
    "df_yandex = df[df['source'] == 'yandex'].groupby('event_name').agg({'user_id':\n",
    "                                'nunique'}).reset_index().sort_values(by='user_id', ascending=False)\n",
    "df_google = df[df['source'] == 'google'].groupby('event_name').agg({'user_id':\n",
    "                                'nunique'}).reset_index().sort_values(by='user_id', ascending=False)"
   ]
  },
  {
   "cell_type": "code",
   "execution_count": 83,
   "metadata": {},
   "outputs": [],
   "source": [
    "users_yandex = df[df['source'] == 'yandex']['user_id'].value_counts().count()\n",
    "users_google = df[df['source'] == 'google']['user_id'].value_counts().count()"
   ]
  },
  {
   "cell_type": "code",
   "execution_count": 84,
   "metadata": {},
   "outputs": [],
   "source": [
    "\n",
    "contacts_show = np.array([int(df_google[df_google['event_name'] == 'contacts_show']['user_id']),\n",
    "                      int(df_yandex[df_yandex['event_name'] == 'contacts_show']['user_id'])]) #contacts_show\t\n",
    "\n",
    "users = np.array([users_google,\n",
    "                      users_yandex]) #contacts_show\t"
   ]
  },
  {
   "cell_type": "code",
   "execution_count": 85,
   "metadata": {},
   "outputs": [
    {
     "name": "stdout",
     "output_type": "stream",
     "text": [
      "p-значение:  0.8244316027993777\n",
      "Не получилось отвергнуть нулевую гипотезу, нет оснований считать доли разными\n"
     ]
    }
   ],
   "source": [
    "z_test(contacts_show, users)"
   ]
  },
  {
   "cell_type": "markdown",
   "metadata": {},
   "source": [
    "Таким образом мы принимаем нулевую гипотезу **конверсия в просмотры контактов одинаковая у пользователей, привлеченных из yandex и у пользователей, привлеченных из google**"
   ]
  },
  {
   "cell_type": "markdown",
   "metadata": {},
   "source": [
    "### пользователи с событием tips_click(пользователь кликнул по рекомендованному объявлению) и пользователи, использовавшие поиск search демонстрируют разную конверсию в добавление в избранное"
   ]
  },
  {
   "cell_type": "code",
   "execution_count": 86,
   "metadata": {},
   "outputs": [],
   "source": [
    "tips_click = df.query('event_name == \"tips_click\"')\n",
    "search = df.query('event_name == \"search\"')"
   ]
  },
  {
   "cell_type": "code",
   "execution_count": 87,
   "metadata": {},
   "outputs": [],
   "source": [
    "# находим id пользователей которые совершили действия tips_click, search\n",
    "tips_click_users = df[df['event_name'] == 'tips_click']['user_id'].value_counts().reset_index()['index']\n",
    "search_users = df[df['event_name'] == 'search']['user_id'].value_counts().reset_index()['index']"
   ]
  },
  {
   "cell_type": "code",
   "execution_count": 88,
   "metadata": {},
   "outputs": [],
   "source": [
    "# Находим сколько пользователей из тех, кто кликнул по рекомендованному объявлению, добавил в избранные\n",
    "tips_click_favorite_ads = df.query('user_id in @tips_click_users and event_name == \"favorites_add\"').count()[0]"
   ]
  },
  {
   "cell_type": "code",
   "execution_count": 89,
   "metadata": {
    "scrolled": true
   },
   "outputs": [],
   "source": [
    "search_favorite_ads = df.query('user_id in @search_users and event_name == \"favorites_add\"').count()[0]"
   ]
  },
  {
   "cell_type": "code",
   "execution_count": 90,
   "metadata": {
    "scrolled": true
   },
   "outputs": [
    {
     "data": {
      "text/plain": [
       "814"
      ]
     },
     "execution_count": 90,
     "metadata": {},
     "output_type": "execute_result"
    }
   ],
   "source": [
    "tips_click.count()[0]"
   ]
  },
  {
   "cell_type": "code",
   "execution_count": 91,
   "metadata": {},
   "outputs": [],
   "source": [
    "users = [tips_click.count()[0], search.count()[0]]\n",
    "favorite_ads = [tips_click_favorite_ads, search_favorite_ads]"
   ]
  },
  {
   "cell_type": "code",
   "execution_count": 92,
   "metadata": {},
   "outputs": [
    {
     "name": "stdout",
     "output_type": "stream",
     "text": [
      "p-значение:  7.566391957425367e-12\n",
      "Отвергаем нулевую гипотезу: между долями есть значимая разница\n"
     ]
    }
   ],
   "source": [
    "z_test(favorite_ads, users)"
   ]
  },
  {
   "cell_type": "markdown",
   "metadata": {},
   "source": [
    "Таким образом мы отвергаем нулевую гипотезу **конверсия добавление в избранное разная у пользователей, пользующихся search и у пользователей, пользующихся tips_click**"
   ]
  },
  {
   "cell_type": "markdown",
   "metadata": {},
   "source": [
    "### Вывод\n",
    "1. конверсия в просмотры контактов одинаковая у пользователей, привлеченных из yandex и у пользователей, привлеченных из google\n",
    "2. конверсия добавление в избранное разная у пользователей, пользующихся search и у пользователей, пользующихся tips_click "
   ]
  },
  {
   "cell_type": "markdown",
   "metadata": {},
   "source": [
    "## Общий вывод"
   ]
  },
  {
   "cell_type": "markdown",
   "metadata": {},
   "source": [
    "1. В ходе предобработки названия полей датафреймов были приведены к стилю snake_case, данные были проверены на пропуски и дубликаты, поле с датой было приведено к необходимому формату, из столбца с событиями были убраны неявные дубликаты, данные были объединены для последующей работы\n",
    "\n",
    "\n",
    "2. В ходе исследовательского анализа было выяснено:\n",
    "    - значения удержания различаются для когорт, совершавших действия в разные недели так например для когорты пользователей которые пришли 7-13 октября retention составил 24%, а для пользователей пришедших 21-27 октября retention составил 21.85%. У пользователей пришедших 14-20 октября retention практически совпадает с когортой 7-13 октября\n",
    "    - Среднее время сессий составляет 4982 секунды что примерно составляет 1 час 23 минуты. Есть пользователи \"победители\" которые проводят в приложении по суткам (скорее всего просто много сессий в разные дни). Также есть пользователи чье время равно нулю это нормально так как в любом цифровом сервисе очень многие сессии заканчиваются техническими ошибками. Медиана сильно меньше среднего значения, и составляет около 16 минут 45 секунд.\n",
    "    - Мы видим, похожую на продолжительность сессий экспоненицальную зависимость частоты действий по сессиям, существуют как и аномально длинные сессии так и множество сессий с 1 действием Среднее количество действий за сессию 9.49, медианное 6 Конверсия пользователей и в просмотр контактов contacts_show равна 22\n",
    "    \n",
    "3. Была произведена сегментация пользователей алгоритмом кластеризации, с количеством классов 3. Удержание у классов 1 и 2 не падает ниже 80 %, таким образом можно предположить что кластеризацией мы выделили две группы аномально хороших пользователей, постоянно пользующихся данным приложением. Конверсия для класса 0 составила 21 %, Для класса 1 и 2 65% и 50%. Мы видим, что несмотря на аномально хорошее поведение пользователей класса 1 и 2 их вклад в конверсию не велик вследствие их маленького количества. Среднее количество времени, которое прошло от первого действия до поиска практически не отличается по кластерам и составляет около 16 часов для 0 кластера, 15 часов для первого и 17.5 для второго. Кажется что пользователи кластеров 1 и 2 которые - преданные проводят немного больше времени на моменте просмотра объявлений\n",
    "\n",
    "\n",
    "4. Мы проверили 2 гипотезы, в результате:\n",
    "     - конверсия в просмотры контактов одинаковая у пользователей, привлеченных из yandex и у пользователей, привлеченных из google\n",
    "     - конверсия добавление в избранное разная у пользователей, пользующихся search и у пользователей, пользующихся tips_click\n",
    "    \n",
    "5. В целом чаще возвращаться склонны преданные пользователи, с большим количеством сессий и действий за сессию. Эти же пользователи чаще делают действие в просмотр контактов. Для дальнейшего анализа хотелось бы остановиться на пользователях класса 0 и посмотреть как можно оптимизировать их путь приложения "
   ]
  }
 ],
 "metadata": {
  "ExecuteTimeLog": [
   {
    "duration": 1220,
    "start_time": "2022-06-15T19:12:34.095Z"
   },
   {
    "duration": 5,
    "start_time": "2022-06-15T19:12:49.300Z"
   },
   {
    "duration": 120,
    "start_time": "2022-06-15T19:13:12.179Z"
   },
   {
    "duration": 200,
    "start_time": "2022-06-15T19:15:58.263Z"
   },
   {
    "duration": 134,
    "start_time": "2022-06-15T19:16:17.722Z"
   },
   {
    "duration": 11,
    "start_time": "2022-06-15T19:16:44.683Z"
   },
   {
    "duration": 16,
    "start_time": "2022-06-15T19:16:51.213Z"
   },
   {
    "duration": 44,
    "start_time": "2022-06-15T19:17:21.447Z"
   },
   {
    "duration": 6,
    "start_time": "2022-06-15T19:17:29.842Z"
   },
   {
    "duration": 10,
    "start_time": "2022-06-15T19:17:38.358Z"
   },
   {
    "duration": 6,
    "start_time": "2022-06-15T19:19:09.267Z"
   },
   {
    "duration": 5,
    "start_time": "2022-06-15T19:19:23.327Z"
   },
   {
    "duration": 3,
    "start_time": "2022-06-15T19:19:37.386Z"
   },
   {
    "duration": 49,
    "start_time": "2022-06-15T19:19:42.367Z"
   },
   {
    "duration": 22,
    "start_time": "2022-06-15T19:20:09.777Z"
   },
   {
    "duration": 10,
    "start_time": "2022-06-15T19:20:23.534Z"
   },
   {
    "duration": 11,
    "start_time": "2022-06-15T19:21:46.455Z"
   },
   {
    "duration": 45,
    "start_time": "2022-06-15T19:21:53.328Z"
   },
   {
    "duration": 21,
    "start_time": "2022-06-15T19:22:14.603Z"
   },
   {
    "duration": 5,
    "start_time": "2022-06-15T19:23:13.372Z"
   },
   {
    "duration": 19,
    "start_time": "2022-06-15T19:23:34.825Z"
   },
   {
    "duration": 21,
    "start_time": "2022-06-15T19:23:54.041Z"
   },
   {
    "duration": 19,
    "start_time": "2022-06-15T19:37:33.676Z"
   },
   {
    "duration": 18,
    "start_time": "2022-06-15T19:37:45.509Z"
   },
   {
    "duration": 18,
    "start_time": "2022-06-15T19:38:08.809Z"
   },
   {
    "duration": 14,
    "start_time": "2022-06-15T19:38:29.604Z"
   },
   {
    "duration": 15,
    "start_time": "2022-06-15T19:38:36.299Z"
   },
   {
    "duration": 13,
    "start_time": "2022-06-15T19:40:16.351Z"
   },
   {
    "duration": 13,
    "start_time": "2022-06-15T19:40:25.033Z"
   },
   {
    "duration": 17,
    "start_time": "2022-06-15T19:40:32.005Z"
   },
   {
    "duration": 13,
    "start_time": "2022-06-15T19:40:36.852Z"
   },
   {
    "duration": 22,
    "start_time": "2022-06-15T19:40:51.446Z"
   },
   {
    "duration": 27,
    "start_time": "2022-06-15T19:41:08.390Z"
   },
   {
    "duration": 27,
    "start_time": "2022-06-15T19:41:13.706Z"
   },
   {
    "duration": 21,
    "start_time": "2022-06-15T19:42:53.374Z"
   },
   {
    "duration": 13,
    "start_time": "2022-06-15T19:43:41.945Z"
   },
   {
    "duration": 6,
    "start_time": "2022-06-15T19:43:54.029Z"
   },
   {
    "duration": 20,
    "start_time": "2022-06-15T19:44:14.693Z"
   },
   {
    "duration": 30,
    "start_time": "2022-06-15T19:44:49.313Z"
   },
   {
    "duration": 66,
    "start_time": "2022-06-15T19:44:53.578Z"
   },
   {
    "duration": 42,
    "start_time": "2022-06-15T19:51:45.495Z"
   },
   {
    "duration": 6,
    "start_time": "2022-06-15T19:53:03.725Z"
   },
   {
    "duration": 15,
    "start_time": "2022-06-15T19:53:52.631Z"
   },
   {
    "duration": 110,
    "start_time": "2022-06-15T19:54:01.329Z"
   },
   {
    "duration": 22,
    "start_time": "2022-06-15T19:54:04.682Z"
   },
   {
    "duration": 21,
    "start_time": "2022-06-15T19:54:41.455Z"
   },
   {
    "duration": 65,
    "start_time": "2022-06-15T19:55:34.975Z"
   },
   {
    "duration": 36,
    "start_time": "2022-06-15T19:55:35.450Z"
   },
   {
    "duration": 3,
    "start_time": "2022-06-15T19:55:38.713Z"
   },
   {
    "duration": 16,
    "start_time": "2022-06-15T19:55:38.717Z"
   },
   {
    "duration": 135,
    "start_time": "2022-06-15T19:55:38.735Z"
   },
   {
    "duration": 6,
    "start_time": "2022-06-15T19:55:38.872Z"
   },
   {
    "duration": 31,
    "start_time": "2022-06-15T19:55:38.880Z"
   },
   {
    "duration": 16,
    "start_time": "2022-06-15T19:55:38.913Z"
   },
   {
    "duration": 16,
    "start_time": "2022-06-15T19:55:38.930Z"
   },
   {
    "duration": 27,
    "start_time": "2022-06-15T19:55:38.948Z"
   },
   {
    "duration": 13,
    "start_time": "2022-06-15T19:55:38.977Z"
   },
   {
    "duration": 18,
    "start_time": "2022-06-15T19:55:38.992Z"
   },
   {
    "duration": 65,
    "start_time": "2022-06-15T19:55:39.013Z"
   },
   {
    "duration": 19,
    "start_time": "2022-06-15T19:55:39.080Z"
   },
   {
    "duration": 30,
    "start_time": "2022-06-15T19:55:39.100Z"
   },
   {
    "duration": 23,
    "start_time": "2022-06-15T19:55:39.132Z"
   },
   {
    "duration": 62,
    "start_time": "2022-06-15T19:55:39.157Z"
   },
   {
    "duration": 19,
    "start_time": "2022-06-15T19:55:39.221Z"
   },
   {
    "duration": 20,
    "start_time": "2022-06-15T19:55:39.241Z"
   },
   {
    "duration": 56,
    "start_time": "2022-06-15T19:55:39.263Z"
   },
   {
    "duration": 23,
    "start_time": "2022-06-15T19:55:39.321Z"
   },
   {
    "duration": 28,
    "start_time": "2022-06-15T19:55:39.345Z"
   },
   {
    "duration": 31,
    "start_time": "2022-06-15T19:55:39.375Z"
   },
   {
    "duration": 16,
    "start_time": "2022-06-15T19:55:39.408Z"
   },
   {
    "duration": 6,
    "start_time": "2022-06-15T19:55:39.425Z"
   },
   {
    "duration": 84,
    "start_time": "2022-06-15T19:55:39.433Z"
   },
   {
    "duration": 32,
    "start_time": "2022-06-15T19:56:22.974Z"
   },
   {
    "duration": 46,
    "start_time": "2022-06-15T19:56:30.309Z"
   },
   {
    "duration": 9,
    "start_time": "2022-06-15T19:57:45.679Z"
   },
   {
    "duration": 18,
    "start_time": "2022-06-15T19:58:41.706Z"
   },
   {
    "duration": 14,
    "start_time": "2022-06-15T19:58:53.168Z"
   },
   {
    "duration": 14,
    "start_time": "2022-06-15T19:59:14.660Z"
   },
   {
    "duration": 10,
    "start_time": "2022-06-15T19:59:33.831Z"
   },
   {
    "duration": 26,
    "start_time": "2022-06-15T20:02:51.364Z"
   },
   {
    "duration": 7,
    "start_time": "2022-06-15T20:02:55.277Z"
   },
   {
    "duration": 15,
    "start_time": "2022-06-15T20:04:24.269Z"
   },
   {
    "duration": 14,
    "start_time": "2022-06-15T20:04:53.195Z"
   },
   {
    "duration": 4,
    "start_time": "2022-06-15T20:05:20.686Z"
   },
   {
    "duration": 5,
    "start_time": "2022-06-15T20:05:20.692Z"
   },
   {
    "duration": 122,
    "start_time": "2022-06-15T20:05:20.699Z"
   },
   {
    "duration": 8,
    "start_time": "2022-06-15T20:05:20.823Z"
   },
   {
    "duration": 30,
    "start_time": "2022-06-15T20:05:20.833Z"
   },
   {
    "duration": 6,
    "start_time": "2022-06-15T20:05:20.865Z"
   },
   {
    "duration": 18,
    "start_time": "2022-06-15T20:05:20.873Z"
   },
   {
    "duration": 8,
    "start_time": "2022-06-15T20:05:20.893Z"
   },
   {
    "duration": 6,
    "start_time": "2022-06-15T20:05:20.903Z"
   },
   {
    "duration": 4,
    "start_time": "2022-06-15T20:05:20.910Z"
   },
   {
    "duration": 40,
    "start_time": "2022-06-15T20:05:20.916Z"
   },
   {
    "duration": 44,
    "start_time": "2022-06-15T20:05:20.957Z"
   },
   {
    "duration": 9,
    "start_time": "2022-06-15T20:05:21.002Z"
   },
   {
    "duration": 13,
    "start_time": "2022-06-15T20:05:21.012Z"
   },
   {
    "duration": 74,
    "start_time": "2022-06-15T20:05:21.027Z"
   },
   {
    "duration": 22,
    "start_time": "2022-06-15T20:05:21.103Z"
   },
   {
    "duration": 4,
    "start_time": "2022-06-15T20:05:21.126Z"
   },
   {
    "duration": 31,
    "start_time": "2022-06-15T20:05:21.132Z"
   },
   {
    "duration": 32,
    "start_time": "2022-06-15T20:05:21.165Z"
   },
   {
    "duration": 21,
    "start_time": "2022-06-15T20:05:21.199Z"
   },
   {
    "duration": 20,
    "start_time": "2022-06-15T20:05:21.221Z"
   },
   {
    "duration": 11,
    "start_time": "2022-06-15T20:05:21.243Z"
   },
   {
    "duration": 54,
    "start_time": "2022-06-15T20:05:21.255Z"
   },
   {
    "duration": 5,
    "start_time": "2022-06-15T20:05:21.312Z"
   },
   {
    "duration": 260,
    "start_time": "2022-06-15T20:05:26.310Z"
   },
   {
    "duration": 23,
    "start_time": "2022-06-15T20:05:26.767Z"
   },
   {
    "duration": 19,
    "start_time": "2022-06-15T20:05:30.680Z"
   },
   {
    "duration": 7,
    "start_time": "2022-06-15T20:05:31.324Z"
   },
   {
    "duration": 30,
    "start_time": "2022-06-15T20:05:36.716Z"
   },
   {
    "duration": 17,
    "start_time": "2022-06-15T20:05:40.769Z"
   },
   {
    "duration": 12,
    "start_time": "2022-06-15T20:05:42.174Z"
   },
   {
    "duration": 10,
    "start_time": "2022-06-15T20:05:45.074Z"
   },
   {
    "duration": 41,
    "start_time": "2022-06-16T07:22:03.472Z"
   },
   {
    "duration": 1207,
    "start_time": "2022-06-16T07:22:07.988Z"
   },
   {
    "duration": 4,
    "start_time": "2022-06-16T07:22:09.198Z"
   },
   {
    "duration": 199,
    "start_time": "2022-06-16T07:22:09.203Z"
   },
   {
    "duration": 10,
    "start_time": "2022-06-16T07:22:09.405Z"
   },
   {
    "duration": 22,
    "start_time": "2022-06-16T07:22:09.416Z"
   },
   {
    "duration": 8,
    "start_time": "2022-06-16T07:22:09.440Z"
   },
   {
    "duration": 22,
    "start_time": "2022-06-16T07:22:09.450Z"
   },
   {
    "duration": 17,
    "start_time": "2022-06-16T07:22:09.473Z"
   },
   {
    "duration": 9,
    "start_time": "2022-06-16T07:22:09.491Z"
   },
   {
    "duration": 8,
    "start_time": "2022-06-16T07:22:09.502Z"
   },
   {
    "duration": 51,
    "start_time": "2022-06-16T07:22:09.511Z"
   },
   {
    "duration": 23,
    "start_time": "2022-06-16T07:22:09.563Z"
   },
   {
    "duration": 11,
    "start_time": "2022-06-16T07:22:09.587Z"
   },
   {
    "duration": 20,
    "start_time": "2022-06-16T07:22:09.599Z"
   },
   {
    "duration": 56,
    "start_time": "2022-06-16T07:22:09.620Z"
   },
   {
    "duration": 22,
    "start_time": "2022-06-16T07:22:09.677Z"
   },
   {
    "duration": 12,
    "start_time": "2022-06-16T07:22:09.700Z"
   },
   {
    "duration": 36,
    "start_time": "2022-06-16T07:22:09.713Z"
   },
   {
    "duration": 36,
    "start_time": "2022-06-16T07:22:09.751Z"
   },
   {
    "duration": 22,
    "start_time": "2022-06-16T07:22:12.656Z"
   },
   {
    "duration": 21,
    "start_time": "2022-06-16T07:22:41.616Z"
   },
   {
    "duration": 20,
    "start_time": "2022-06-16T07:23:19.136Z"
   },
   {
    "duration": 21,
    "start_time": "2022-06-16T07:23:21.872Z"
   },
   {
    "duration": 4,
    "start_time": "2022-06-16T07:24:06.322Z"
   },
   {
    "duration": 214,
    "start_time": "2022-06-16T07:24:15.057Z"
   },
   {
    "duration": 23,
    "start_time": "2022-06-16T07:24:15.535Z"
   },
   {
    "duration": 80,
    "start_time": "2022-06-16T07:24:37.776Z"
   },
   {
    "duration": 21,
    "start_time": "2022-06-16T07:24:39.293Z"
   },
   {
    "duration": 97,
    "start_time": "2022-06-16T07:25:31.875Z"
   },
   {
    "duration": 50,
    "start_time": "2022-06-16T07:25:37.037Z"
   },
   {
    "duration": 23,
    "start_time": "2022-06-16T07:25:37.920Z"
   },
   {
    "duration": 13,
    "start_time": "2022-06-16T07:25:38.434Z"
   },
   {
    "duration": 11,
    "start_time": "2022-06-16T07:25:39.135Z"
   },
   {
    "duration": 422,
    "start_time": "2022-06-16T07:26:09.042Z"
   },
   {
    "duration": 343,
    "start_time": "2022-06-16T07:27:41.156Z"
   },
   {
    "duration": 380,
    "start_time": "2022-06-16T07:27:48.051Z"
   },
   {
    "duration": 301,
    "start_time": "2022-06-16T07:28:51.506Z"
   },
   {
    "duration": 284,
    "start_time": "2022-06-16T07:29:09.027Z"
   },
   {
    "duration": 349,
    "start_time": "2022-06-16T07:29:16.164Z"
   },
   {
    "duration": 520,
    "start_time": "2022-06-16T07:29:43.790Z"
   },
   {
    "duration": 675,
    "start_time": "2022-06-16T07:29:58.657Z"
   },
   {
    "duration": 18,
    "start_time": "2022-06-16T07:30:04.729Z"
   },
   {
    "duration": 12,
    "start_time": "2022-06-16T07:30:05.330Z"
   },
   {
    "duration": 9,
    "start_time": "2022-06-16T07:30:05.746Z"
   },
   {
    "duration": 348,
    "start_time": "2022-06-16T07:30:06.258Z"
   },
   {
    "duration": 3,
    "start_time": "2022-06-16T07:30:11.723Z"
   },
   {
    "duration": 19,
    "start_time": "2022-06-16T07:30:11.728Z"
   },
   {
    "duration": 116,
    "start_time": "2022-06-16T07:30:11.748Z"
   },
   {
    "duration": 7,
    "start_time": "2022-06-16T07:30:11.865Z"
   },
   {
    "duration": 20,
    "start_time": "2022-06-16T07:30:11.874Z"
   },
   {
    "duration": 9,
    "start_time": "2022-06-16T07:30:11.896Z"
   },
   {
    "duration": 22,
    "start_time": "2022-06-16T07:30:11.907Z"
   },
   {
    "duration": 11,
    "start_time": "2022-06-16T07:30:11.931Z"
   },
   {
    "duration": 7,
    "start_time": "2022-06-16T07:30:11.945Z"
   },
   {
    "duration": 7,
    "start_time": "2022-06-16T07:30:11.954Z"
   },
   {
    "duration": 49,
    "start_time": "2022-06-16T07:30:11.962Z"
   },
   {
    "duration": 22,
    "start_time": "2022-06-16T07:30:12.013Z"
   },
   {
    "duration": 11,
    "start_time": "2022-06-16T07:30:12.036Z"
   },
   {
    "duration": 36,
    "start_time": "2022-06-16T07:30:12.048Z"
   },
   {
    "duration": 47,
    "start_time": "2022-06-16T07:30:12.085Z"
   },
   {
    "duration": 20,
    "start_time": "2022-06-16T07:30:12.133Z"
   },
   {
    "duration": 5,
    "start_time": "2022-06-16T07:30:12.154Z"
   },
   {
    "duration": 31,
    "start_time": "2022-06-16T07:30:12.178Z"
   },
   {
    "duration": 26,
    "start_time": "2022-06-16T07:30:12.210Z"
   },
   {
    "duration": 26,
    "start_time": "2022-06-16T07:30:12.237Z"
   },
   {
    "duration": 36,
    "start_time": "2022-06-16T07:30:12.264Z"
   },
   {
    "duration": 26,
    "start_time": "2022-06-16T07:30:12.301Z"
   },
   {
    "duration": 357,
    "start_time": "2022-06-16T07:30:12.328Z"
   },
   {
    "duration": 37,
    "start_time": "2022-06-16T07:30:12.688Z"
   },
   {
    "duration": 23,
    "start_time": "2022-06-16T07:30:12.727Z"
   },
   {
    "duration": 31,
    "start_time": "2022-06-16T07:30:12.752Z"
   },
   {
    "duration": 14,
    "start_time": "2022-06-16T07:30:12.784Z"
   },
   {
    "duration": 343,
    "start_time": "2022-06-16T07:30:12.799Z"
   },
   {
    "duration": 509,
    "start_time": "2022-06-16T07:30:19.126Z"
   },
   {
    "duration": 351,
    "start_time": "2022-06-16T07:30:19.748Z"
   },
   {
    "duration": 3,
    "start_time": "2022-06-16T07:30:32.125Z"
   },
   {
    "duration": 19,
    "start_time": "2022-06-16T07:30:32.130Z"
   },
   {
    "duration": 137,
    "start_time": "2022-06-16T07:30:32.151Z"
   },
   {
    "duration": 7,
    "start_time": "2022-06-16T07:30:32.291Z"
   },
   {
    "duration": 19,
    "start_time": "2022-06-16T07:30:32.299Z"
   },
   {
    "duration": 6,
    "start_time": "2022-06-16T07:30:32.319Z"
   },
   {
    "duration": 11,
    "start_time": "2022-06-16T07:30:32.326Z"
   },
   {
    "duration": 9,
    "start_time": "2022-06-16T07:30:32.338Z"
   },
   {
    "duration": 11,
    "start_time": "2022-06-16T07:30:32.350Z"
   },
   {
    "duration": 8,
    "start_time": "2022-06-16T07:30:32.362Z"
   },
   {
    "duration": 46,
    "start_time": "2022-06-16T07:30:32.372Z"
   },
   {
    "duration": 20,
    "start_time": "2022-06-16T07:30:32.420Z"
   },
   {
    "duration": 9,
    "start_time": "2022-06-16T07:30:32.442Z"
   },
   {
    "duration": 30,
    "start_time": "2022-06-16T07:30:32.453Z"
   },
   {
    "duration": 45,
    "start_time": "2022-06-16T07:30:32.485Z"
   },
   {
    "duration": 21,
    "start_time": "2022-06-16T07:30:32.531Z"
   },
   {
    "duration": 25,
    "start_time": "2022-06-16T07:30:32.553Z"
   },
   {
    "duration": 29,
    "start_time": "2022-06-16T07:30:32.580Z"
   },
   {
    "duration": 16,
    "start_time": "2022-06-16T07:30:32.610Z"
   },
   {
    "duration": 19,
    "start_time": "2022-06-16T07:30:32.628Z"
   },
   {
    "duration": 40,
    "start_time": "2022-06-16T07:30:32.648Z"
   },
   {
    "duration": 19,
    "start_time": "2022-06-16T07:30:32.690Z"
   },
   {
    "duration": 277,
    "start_time": "2022-06-16T07:30:32.711Z"
   },
   {
    "duration": 40,
    "start_time": "2022-06-16T07:30:32.990Z"
   },
   {
    "duration": 16,
    "start_time": "2022-06-16T07:30:33.032Z"
   },
   {
    "duration": 29,
    "start_time": "2022-06-16T07:30:33.050Z"
   },
   {
    "duration": 9,
    "start_time": "2022-06-16T07:30:33.080Z"
   },
   {
    "duration": 287,
    "start_time": "2022-06-16T07:30:41.722Z"
   },
   {
    "duration": 84,
    "start_time": "2022-06-16T07:31:33.188Z"
   },
   {
    "duration": 295,
    "start_time": "2022-06-16T07:31:35.923Z"
   },
   {
    "duration": 25,
    "start_time": "2022-06-16T07:52:05.337Z"
   },
   {
    "duration": 33,
    "start_time": "2022-06-16T07:52:38.923Z"
   },
   {
    "duration": 18,
    "start_time": "2022-06-16T08:08:01.792Z"
   },
   {
    "duration": 18,
    "start_time": "2022-06-16T08:09:21.423Z"
   },
   {
    "duration": 9,
    "start_time": "2022-06-16T08:10:48.065Z"
   },
   {
    "duration": 15,
    "start_time": "2022-06-16T08:11:29.183Z"
   },
   {
    "duration": 16,
    "start_time": "2022-06-16T08:11:52.927Z"
   },
   {
    "duration": 24,
    "start_time": "2022-06-16T08:12:29.489Z"
   },
   {
    "duration": 24,
    "start_time": "2022-06-16T08:13:06.879Z"
   },
   {
    "duration": 5,
    "start_time": "2022-06-16T08:13:43.987Z"
   },
   {
    "duration": 4,
    "start_time": "2022-06-16T08:13:48.721Z"
   },
   {
    "duration": 18,
    "start_time": "2022-06-16T08:16:00.547Z"
   },
   {
    "duration": 60,
    "start_time": "2022-06-16T08:16:47.682Z"
   },
   {
    "duration": 25,
    "start_time": "2022-06-16T08:16:55.602Z"
   },
   {
    "duration": 24,
    "start_time": "2022-06-16T08:17:03.586Z"
   },
   {
    "duration": 23,
    "start_time": "2022-06-16T08:19:42.371Z"
   },
   {
    "duration": 55,
    "start_time": "2022-06-16T08:24:15.925Z"
   },
   {
    "duration": 22,
    "start_time": "2022-06-16T08:24:16.501Z"
   },
   {
    "duration": 3,
    "start_time": "2022-06-16T08:24:19.745Z"
   },
   {
    "duration": 10,
    "start_time": "2022-06-16T08:24:19.749Z"
   },
   {
    "duration": 114,
    "start_time": "2022-06-16T08:24:19.760Z"
   },
   {
    "duration": 7,
    "start_time": "2022-06-16T08:24:19.876Z"
   },
   {
    "duration": 20,
    "start_time": "2022-06-16T08:24:19.885Z"
   },
   {
    "duration": 8,
    "start_time": "2022-06-16T08:24:19.906Z"
   },
   {
    "duration": 11,
    "start_time": "2022-06-16T08:24:19.916Z"
   },
   {
    "duration": 14,
    "start_time": "2022-06-16T08:24:19.928Z"
   },
   {
    "duration": 7,
    "start_time": "2022-06-16T08:24:19.944Z"
   },
   {
    "duration": 6,
    "start_time": "2022-06-16T08:24:19.953Z"
   },
   {
    "duration": 43,
    "start_time": "2022-06-16T08:24:19.978Z"
   },
   {
    "duration": 22,
    "start_time": "2022-06-16T08:24:20.023Z"
   },
   {
    "duration": 9,
    "start_time": "2022-06-16T08:24:20.047Z"
   },
   {
    "duration": 32,
    "start_time": "2022-06-16T08:24:20.078Z"
   },
   {
    "duration": 51,
    "start_time": "2022-06-16T08:24:20.112Z"
   },
   {
    "duration": 21,
    "start_time": "2022-06-16T08:24:20.165Z"
   },
   {
    "duration": 5,
    "start_time": "2022-06-16T08:24:20.188Z"
   },
   {
    "duration": 31,
    "start_time": "2022-06-16T08:24:20.195Z"
   },
   {
    "duration": 19,
    "start_time": "2022-06-16T08:24:20.227Z"
   },
   {
    "duration": 45,
    "start_time": "2022-06-16T08:24:20.248Z"
   },
   {
    "duration": 21,
    "start_time": "2022-06-16T08:24:20.294Z"
   },
   {
    "duration": 20,
    "start_time": "2022-06-16T08:24:20.317Z"
   },
   {
    "duration": 305,
    "start_time": "2022-06-16T08:24:20.339Z"
   },
   {
    "duration": 50,
    "start_time": "2022-06-16T08:24:20.647Z"
   },
   {
    "duration": 20,
    "start_time": "2022-06-16T08:24:20.699Z"
   },
   {
    "duration": 12,
    "start_time": "2022-06-16T08:24:20.721Z"
   },
   {
    "duration": 20,
    "start_time": "2022-06-16T08:24:20.735Z"
   },
   {
    "duration": 352,
    "start_time": "2022-06-16T08:24:20.757Z"
   },
   {
    "duration": 48,
    "start_time": "2022-06-16T08:24:21.111Z"
   },
   {
    "duration": 36,
    "start_time": "2022-06-16T08:24:21.160Z"
   },
   {
    "duration": 21,
    "start_time": "2022-06-16T08:26:53.653Z"
   },
   {
    "duration": 38,
    "start_time": "2022-06-16T08:27:19.943Z"
   },
   {
    "duration": 2,
    "start_time": "2022-06-16T08:27:28.673Z"
   },
   {
    "duration": 6,
    "start_time": "2022-06-16T08:27:28.679Z"
   },
   {
    "duration": 113,
    "start_time": "2022-06-16T08:27:28.687Z"
   },
   {
    "duration": 7,
    "start_time": "2022-06-16T08:27:28.801Z"
   },
   {
    "duration": 20,
    "start_time": "2022-06-16T08:27:28.809Z"
   },
   {
    "duration": 6,
    "start_time": "2022-06-16T08:27:28.831Z"
   },
   {
    "duration": 16,
    "start_time": "2022-06-16T08:27:28.838Z"
   },
   {
    "duration": 13,
    "start_time": "2022-06-16T08:27:28.855Z"
   },
   {
    "duration": 4,
    "start_time": "2022-06-16T08:27:28.870Z"
   },
   {
    "duration": 5,
    "start_time": "2022-06-16T08:27:28.875Z"
   },
   {
    "duration": 44,
    "start_time": "2022-06-16T08:27:28.881Z"
   },
   {
    "duration": 20,
    "start_time": "2022-06-16T08:27:28.926Z"
   },
   {
    "duration": 12,
    "start_time": "2022-06-16T08:27:28.948Z"
   },
   {
    "duration": 24,
    "start_time": "2022-06-16T08:27:28.961Z"
   },
   {
    "duration": 44,
    "start_time": "2022-06-16T08:27:28.987Z"
   },
   {
    "duration": 17,
    "start_time": "2022-06-16T08:27:29.032Z"
   },
   {
    "duration": 4,
    "start_time": "2022-06-16T08:27:29.050Z"
   },
   {
    "duration": 28,
    "start_time": "2022-06-16T08:27:29.078Z"
   },
   {
    "duration": 18,
    "start_time": "2022-06-16T08:27:29.107Z"
   },
   {
    "duration": 18,
    "start_time": "2022-06-16T08:27:29.127Z"
   },
   {
    "duration": 44,
    "start_time": "2022-06-16T08:27:29.146Z"
   },
   {
    "duration": 24,
    "start_time": "2022-06-16T08:27:29.191Z"
   },
   {
    "duration": 21,
    "start_time": "2022-06-16T08:27:29.216Z"
   },
   {
    "duration": 41,
    "start_time": "2022-06-16T08:27:29.238Z"
   },
   {
    "duration": 293,
    "start_time": "2022-06-16T08:27:29.280Z"
   },
   {
    "duration": 45,
    "start_time": "2022-06-16T08:27:29.575Z"
   },
   {
    "duration": 18,
    "start_time": "2022-06-16T08:27:29.621Z"
   },
   {
    "duration": 12,
    "start_time": "2022-06-16T08:27:29.640Z"
   },
   {
    "duration": 30,
    "start_time": "2022-06-16T08:27:29.653Z"
   },
   {
    "duration": 318,
    "start_time": "2022-06-16T08:27:29.684Z"
   },
   {
    "duration": 46,
    "start_time": "2022-06-16T08:27:30.003Z"
   },
   {
    "duration": 22,
    "start_time": "2022-06-16T08:27:34.550Z"
   },
   {
    "duration": 8,
    "start_time": "2022-06-16T08:28:19.225Z"
   },
   {
    "duration": 7,
    "start_time": "2022-06-16T08:28:23.271Z"
   },
   {
    "duration": 8,
    "start_time": "2022-06-16T08:28:37.911Z"
   },
   {
    "duration": 23,
    "start_time": "2022-06-16T08:31:13.879Z"
   },
   {
    "duration": 38,
    "start_time": "2022-06-16T08:32:22.345Z"
   },
   {
    "duration": 22,
    "start_time": "2022-06-16T08:34:54.265Z"
   },
   {
    "duration": 226,
    "start_time": "2022-06-16T08:35:14.717Z"
   },
   {
    "duration": 23,
    "start_time": "2022-06-16T08:35:23.212Z"
   },
   {
    "duration": 20,
    "start_time": "2022-06-16T08:35:58.554Z"
   },
   {
    "duration": 30,
    "start_time": "2022-06-16T08:36:08.028Z"
   },
   {
    "duration": 11,
    "start_time": "2022-06-16T08:39:15.595Z"
   },
   {
    "duration": 60,
    "start_time": "2022-06-16T08:39:47.516Z"
   },
   {
    "duration": 18,
    "start_time": "2022-06-16T08:42:01.183Z"
   },
   {
    "duration": 12,
    "start_time": "2022-06-16T08:42:05.326Z"
   },
   {
    "duration": 19,
    "start_time": "2022-06-16T08:42:28.576Z"
   },
   {
    "duration": 11,
    "start_time": "2022-06-16T08:42:29.131Z"
   },
   {
    "duration": 20,
    "start_time": "2022-06-16T08:42:47.196Z"
   },
   {
    "duration": 20,
    "start_time": "2022-06-16T08:43:26.188Z"
   },
   {
    "duration": 12,
    "start_time": "2022-06-16T08:43:33.041Z"
   },
   {
    "duration": 10,
    "start_time": "2022-06-16T08:43:34.573Z"
   },
   {
    "duration": 25,
    "start_time": "2022-06-16T08:44:28.703Z"
   },
   {
    "duration": 16,
    "start_time": "2022-06-16T08:44:29.374Z"
   },
   {
    "duration": 22,
    "start_time": "2022-06-16T08:45:13.198Z"
   },
   {
    "duration": 12,
    "start_time": "2022-06-16T08:45:15.134Z"
   },
   {
    "duration": 22,
    "start_time": "2022-06-16T08:45:34.913Z"
   },
   {
    "duration": 31,
    "start_time": "2022-06-16T08:45:45.900Z"
   },
   {
    "duration": 17,
    "start_time": "2022-06-16T08:46:06.205Z"
   },
   {
    "duration": 21,
    "start_time": "2022-06-16T08:46:09.854Z"
   },
   {
    "duration": 23,
    "start_time": "2022-06-16T08:46:11.343Z"
   },
   {
    "duration": 8,
    "start_time": "2022-06-16T08:46:20.317Z"
   },
   {
    "duration": 8,
    "start_time": "2022-06-16T08:47:16.669Z"
   },
   {
    "duration": 53,
    "start_time": "2022-06-16T08:47:24.893Z"
   },
   {
    "duration": 13,
    "start_time": "2022-06-16T08:47:30.129Z"
   },
   {
    "duration": 13,
    "start_time": "2022-06-16T08:47:39.330Z"
   },
   {
    "duration": 9,
    "start_time": "2022-06-16T08:47:47.758Z"
   },
   {
    "duration": 4,
    "start_time": "2022-06-16T08:47:52.624Z"
   },
   {
    "duration": 12,
    "start_time": "2022-06-16T08:48:23.297Z"
   },
   {
    "duration": 10,
    "start_time": "2022-06-16T08:48:26.816Z"
   },
   {
    "duration": 15,
    "start_time": "2022-06-16T08:48:55.763Z"
   },
   {
    "duration": 26,
    "start_time": "2022-06-16T08:50:02.478Z"
   },
   {
    "duration": 29,
    "start_time": "2022-06-16T08:50:09.615Z"
   },
   {
    "duration": 29,
    "start_time": "2022-06-16T08:50:33.717Z"
   },
   {
    "duration": 4,
    "start_time": "2022-06-16T08:50:40.640Z"
   },
   {
    "duration": 24,
    "start_time": "2022-06-16T08:51:26.852Z"
   },
   {
    "duration": 48,
    "start_time": "2022-06-16T08:52:11.953Z"
   },
   {
    "duration": 18,
    "start_time": "2022-06-16T08:52:22.384Z"
   },
   {
    "duration": 11,
    "start_time": "2022-06-16T08:52:44.355Z"
   },
   {
    "duration": 4,
    "start_time": "2022-06-16T08:52:53.201Z"
   },
   {
    "duration": 13,
    "start_time": "2022-06-16T08:53:07.525Z"
   },
   {
    "duration": 11,
    "start_time": "2022-06-16T08:53:12.160Z"
   },
   {
    "duration": 10,
    "start_time": "2022-06-16T08:53:16.834Z"
   },
   {
    "duration": 3,
    "start_time": "2022-06-16T08:53:23.444Z"
   },
   {
    "duration": 13,
    "start_time": "2022-06-16T08:53:23.449Z"
   },
   {
    "duration": 147,
    "start_time": "2022-06-16T08:53:23.464Z"
   },
   {
    "duration": 8,
    "start_time": "2022-06-16T08:53:23.613Z"
   },
   {
    "duration": 18,
    "start_time": "2022-06-16T08:53:23.623Z"
   },
   {
    "duration": 9,
    "start_time": "2022-06-16T08:53:23.643Z"
   },
   {
    "duration": 14,
    "start_time": "2022-06-16T08:53:23.654Z"
   },
   {
    "duration": 15,
    "start_time": "2022-06-16T08:53:23.670Z"
   },
   {
    "duration": 13,
    "start_time": "2022-06-16T08:53:23.689Z"
   },
   {
    "duration": 14,
    "start_time": "2022-06-16T08:53:23.703Z"
   },
   {
    "duration": 57,
    "start_time": "2022-06-16T08:53:23.719Z"
   },
   {
    "duration": 41,
    "start_time": "2022-06-16T08:53:23.778Z"
   },
   {
    "duration": 23,
    "start_time": "2022-06-16T08:53:23.821Z"
   },
   {
    "duration": 22,
    "start_time": "2022-06-16T08:53:23.847Z"
   },
   {
    "duration": 71,
    "start_time": "2022-06-16T08:53:23.871Z"
   },
   {
    "duration": 40,
    "start_time": "2022-06-16T08:53:23.944Z"
   },
   {
    "duration": 7,
    "start_time": "2022-06-16T08:53:23.986Z"
   },
   {
    "duration": 61,
    "start_time": "2022-06-16T08:53:23.995Z"
   },
   {
    "duration": 28,
    "start_time": "2022-06-16T08:53:24.059Z"
   },
   {
    "duration": 24,
    "start_time": "2022-06-16T08:53:24.089Z"
   },
   {
    "duration": 38,
    "start_time": "2022-06-16T08:53:24.114Z"
   },
   {
    "duration": 53,
    "start_time": "2022-06-16T08:53:24.154Z"
   },
   {
    "duration": 24,
    "start_time": "2022-06-16T08:53:24.209Z"
   },
   {
    "duration": 49,
    "start_time": "2022-06-16T08:53:24.236Z"
   },
   {
    "duration": 327,
    "start_time": "2022-06-16T08:53:24.287Z"
   },
   {
    "duration": 46,
    "start_time": "2022-06-16T08:53:24.616Z"
   },
   {
    "duration": 35,
    "start_time": "2022-06-16T08:53:24.664Z"
   },
   {
    "duration": 12,
    "start_time": "2022-06-16T08:53:24.701Z"
   },
   {
    "duration": 13,
    "start_time": "2022-06-16T08:53:24.715Z"
   },
   {
    "duration": 396,
    "start_time": "2022-06-16T08:53:24.730Z"
   },
   {
    "duration": 72,
    "start_time": "2022-06-16T08:53:25.128Z"
   },
   {
    "duration": 25,
    "start_time": "2022-06-16T08:53:25.202Z"
   },
   {
    "duration": 54,
    "start_time": "2022-06-16T08:53:25.228Z"
   },
   {
    "duration": 6,
    "start_time": "2022-06-16T08:53:28.240Z"
   },
   {
    "duration": 4,
    "start_time": "2022-06-16T08:53:39.617Z"
   },
   {
    "duration": 11,
    "start_time": "2022-06-16T08:54:24.944Z"
   },
   {
    "duration": 11,
    "start_time": "2022-06-16T08:54:31.234Z"
   },
   {
    "duration": 4,
    "start_time": "2022-06-16T08:54:36.161Z"
   },
   {
    "duration": 10,
    "start_time": "2022-06-16T08:54:38.408Z"
   },
   {
    "duration": 13,
    "start_time": "2022-06-16T08:54:47.412Z"
   },
   {
    "duration": 8,
    "start_time": "2022-06-16T08:55:38.801Z"
   },
   {
    "duration": 7,
    "start_time": "2022-06-16T08:56:02.289Z"
   },
   {
    "duration": 8,
    "start_time": "2022-06-16T08:56:23.795Z"
   },
   {
    "duration": 7,
    "start_time": "2022-06-16T08:57:01.812Z"
   },
   {
    "duration": 34,
    "start_time": "2022-06-16T08:57:16.051Z"
   },
   {
    "duration": 8,
    "start_time": "2022-06-16T08:57:18.820Z"
   },
   {
    "duration": 8,
    "start_time": "2022-06-16T08:57:27.251Z"
   },
   {
    "duration": 13,
    "start_time": "2022-06-16T08:58:54.402Z"
   },
   {
    "duration": 2,
    "start_time": "2022-06-16T08:59:30.505Z"
   },
   {
    "duration": 8,
    "start_time": "2022-06-16T08:59:30.509Z"
   },
   {
    "duration": 121,
    "start_time": "2022-06-16T08:59:30.519Z"
   },
   {
    "duration": 7,
    "start_time": "2022-06-16T08:59:30.642Z"
   },
   {
    "duration": 27,
    "start_time": "2022-06-16T08:59:30.650Z"
   },
   {
    "duration": 8,
    "start_time": "2022-06-16T08:59:30.679Z"
   },
   {
    "duration": 33,
    "start_time": "2022-06-16T08:59:30.688Z"
   },
   {
    "duration": 15,
    "start_time": "2022-06-16T08:59:30.723Z"
   },
   {
    "duration": 8,
    "start_time": "2022-06-16T08:59:30.740Z"
   },
   {
    "duration": 11,
    "start_time": "2022-06-16T08:59:30.750Z"
   },
   {
    "duration": 55,
    "start_time": "2022-06-16T08:59:30.762Z"
   },
   {
    "duration": 20,
    "start_time": "2022-06-16T08:59:30.819Z"
   },
   {
    "duration": 8,
    "start_time": "2022-06-16T08:59:30.841Z"
   },
   {
    "duration": 27,
    "start_time": "2022-06-16T08:59:30.851Z"
   },
   {
    "duration": 45,
    "start_time": "2022-06-16T08:59:30.879Z"
   },
   {
    "duration": 21,
    "start_time": "2022-06-16T08:59:30.925Z"
   },
   {
    "duration": 4,
    "start_time": "2022-06-16T08:59:30.947Z"
   },
   {
    "duration": 48,
    "start_time": "2022-06-16T08:59:30.952Z"
   },
   {
    "duration": 19,
    "start_time": "2022-06-16T08:59:31.002Z"
   },
   {
    "duration": 16,
    "start_time": "2022-06-16T08:59:31.022Z"
   },
   {
    "duration": 42,
    "start_time": "2022-06-16T08:59:31.040Z"
   },
   {
    "duration": 23,
    "start_time": "2022-06-16T08:59:31.084Z"
   },
   {
    "duration": 20,
    "start_time": "2022-06-16T08:59:31.109Z"
   },
   {
    "duration": 20,
    "start_time": "2022-06-16T08:59:31.131Z"
   },
   {
    "duration": 338,
    "start_time": "2022-06-16T08:59:31.152Z"
   },
   {
    "duration": 39,
    "start_time": "2022-06-16T08:59:31.492Z"
   },
   {
    "duration": 17,
    "start_time": "2022-06-16T08:59:31.533Z"
   },
   {
    "duration": 32,
    "start_time": "2022-06-16T08:59:31.552Z"
   },
   {
    "duration": 9,
    "start_time": "2022-06-16T08:59:31.585Z"
   },
   {
    "duration": 326,
    "start_time": "2022-06-16T08:59:31.595Z"
   },
   {
    "duration": 61,
    "start_time": "2022-06-16T08:59:31.923Z"
   },
   {
    "duration": 24,
    "start_time": "2022-06-16T08:59:31.986Z"
   },
   {
    "duration": 33,
    "start_time": "2022-06-16T08:59:32.011Z"
   },
   {
    "duration": 4,
    "start_time": "2022-06-16T08:59:36.018Z"
   },
   {
    "duration": 12,
    "start_time": "2022-06-16T08:59:39.234Z"
   },
   {
    "duration": 3,
    "start_time": "2022-06-16T08:59:44.168Z"
   },
   {
    "duration": 4,
    "start_time": "2022-06-16T08:59:52.984Z"
   },
   {
    "duration": 11,
    "start_time": "2022-06-16T08:59:53.493Z"
   },
   {
    "duration": 4,
    "start_time": "2022-06-16T08:59:59.785Z"
   },
   {
    "duration": 11,
    "start_time": "2022-06-16T09:00:00.371Z"
   },
   {
    "duration": 5,
    "start_time": "2022-06-16T09:00:03.300Z"
   },
   {
    "duration": 12,
    "start_time": "2022-06-16T09:00:03.731Z"
   },
   {
    "duration": 4,
    "start_time": "2022-06-16T09:00:21.764Z"
   },
   {
    "duration": 3,
    "start_time": "2022-06-16T09:00:28.277Z"
   },
   {
    "duration": 8,
    "start_time": "2022-06-16T09:00:28.282Z"
   },
   {
    "duration": 107,
    "start_time": "2022-06-16T09:00:28.291Z"
   },
   {
    "duration": 7,
    "start_time": "2022-06-16T09:00:28.399Z"
   },
   {
    "duration": 19,
    "start_time": "2022-06-16T09:00:28.408Z"
   },
   {
    "duration": 6,
    "start_time": "2022-06-16T09:00:28.429Z"
   },
   {
    "duration": 13,
    "start_time": "2022-06-16T09:00:28.437Z"
   },
   {
    "duration": 8,
    "start_time": "2022-06-16T09:00:28.451Z"
   },
   {
    "duration": 8,
    "start_time": "2022-06-16T09:00:28.460Z"
   },
   {
    "duration": 9,
    "start_time": "2022-06-16T09:00:28.469Z"
   },
   {
    "duration": 39,
    "start_time": "2022-06-16T09:00:28.479Z"
   },
   {
    "duration": 19,
    "start_time": "2022-06-16T09:00:28.520Z"
   },
   {
    "duration": 9,
    "start_time": "2022-06-16T09:00:28.540Z"
   },
   {
    "duration": 32,
    "start_time": "2022-06-16T09:00:28.553Z"
   },
   {
    "duration": 44,
    "start_time": "2022-06-16T09:00:28.586Z"
   },
   {
    "duration": 20,
    "start_time": "2022-06-16T09:00:28.631Z"
   },
   {
    "duration": 25,
    "start_time": "2022-06-16T09:00:28.653Z"
   },
   {
    "duration": 27,
    "start_time": "2022-06-16T09:00:28.679Z"
   },
   {
    "duration": 31,
    "start_time": "2022-06-16T09:00:28.707Z"
   },
   {
    "duration": 16,
    "start_time": "2022-06-16T09:00:28.739Z"
   },
   {
    "duration": 30,
    "start_time": "2022-06-16T09:00:28.757Z"
   },
   {
    "duration": 25,
    "start_time": "2022-06-16T09:00:28.788Z"
   },
   {
    "duration": 22,
    "start_time": "2022-06-16T09:00:28.815Z"
   },
   {
    "duration": 20,
    "start_time": "2022-06-16T09:00:28.839Z"
   },
   {
    "duration": 283,
    "start_time": "2022-06-16T09:00:28.878Z"
   },
   {
    "duration": 47,
    "start_time": "2022-06-16T09:00:29.162Z"
   },
   {
    "duration": 19,
    "start_time": "2022-06-16T09:00:29.210Z"
   },
   {
    "duration": 11,
    "start_time": "2022-06-16T09:00:29.231Z"
   },
   {
    "duration": 10,
    "start_time": "2022-06-16T09:00:29.244Z"
   },
   {
    "duration": 338,
    "start_time": "2022-06-16T09:00:29.256Z"
   },
   {
    "duration": 54,
    "start_time": "2022-06-16T09:00:29.596Z"
   },
   {
    "duration": 37,
    "start_time": "2022-06-16T09:00:29.652Z"
   },
   {
    "duration": 28,
    "start_time": "2022-06-16T09:00:29.691Z"
   },
   {
    "duration": 3,
    "start_time": "2022-06-16T09:00:36.803Z"
   },
   {
    "duration": 5,
    "start_time": "2022-06-16T09:00:37.812Z"
   },
   {
    "duration": 12,
    "start_time": "2022-06-16T09:00:38.259Z"
   },
   {
    "duration": 4,
    "start_time": "2022-06-16T09:01:06.500Z"
   },
   {
    "duration": 10,
    "start_time": "2022-06-16T09:01:11.253Z"
   },
   {
    "duration": 82,
    "start_time": "2022-06-16T09:01:58.692Z"
   },
   {
    "duration": 26,
    "start_time": "2022-06-16T09:02:09.796Z"
   },
   {
    "duration": 6,
    "start_time": "2022-06-16T09:02:22.230Z"
   },
   {
    "duration": 12,
    "start_time": "2022-06-16T09:02:30.004Z"
   },
   {
    "duration": 3,
    "start_time": "2022-06-16T09:03:40.335Z"
   },
   {
    "duration": 10,
    "start_time": "2022-06-16T09:03:40.339Z"
   },
   {
    "duration": 106,
    "start_time": "2022-06-16T09:03:40.350Z"
   },
   {
    "duration": 7,
    "start_time": "2022-06-16T09:03:40.457Z"
   },
   {
    "duration": 19,
    "start_time": "2022-06-16T09:03:40.465Z"
   },
   {
    "duration": 6,
    "start_time": "2022-06-16T09:03:40.485Z"
   },
   {
    "duration": 10,
    "start_time": "2022-06-16T09:03:40.493Z"
   },
   {
    "duration": 7,
    "start_time": "2022-06-16T09:03:40.504Z"
   },
   {
    "duration": 7,
    "start_time": "2022-06-16T09:03:40.513Z"
   },
   {
    "duration": 4,
    "start_time": "2022-06-16T09:03:40.521Z"
   },
   {
    "duration": 58,
    "start_time": "2022-06-16T09:03:40.527Z"
   },
   {
    "duration": 20,
    "start_time": "2022-06-16T09:03:40.586Z"
   },
   {
    "duration": 8,
    "start_time": "2022-06-16T09:03:40.608Z"
   },
   {
    "duration": 12,
    "start_time": "2022-06-16T09:03:40.618Z"
   },
   {
    "duration": 62,
    "start_time": "2022-06-16T09:03:40.631Z"
   },
   {
    "duration": 21,
    "start_time": "2022-06-16T09:03:40.694Z"
   },
   {
    "duration": 4,
    "start_time": "2022-06-16T09:03:40.716Z"
   },
   {
    "duration": 28,
    "start_time": "2022-06-16T09:03:40.721Z"
   },
   {
    "duration": 44,
    "start_time": "2022-06-16T09:03:40.750Z"
   },
   {
    "duration": 17,
    "start_time": "2022-06-16T09:03:40.796Z"
   },
   {
    "duration": 20,
    "start_time": "2022-06-16T09:03:40.814Z"
   },
   {
    "duration": 24,
    "start_time": "2022-06-16T09:03:40.836Z"
   },
   {
    "duration": 21,
    "start_time": "2022-06-16T09:03:40.878Z"
   },
   {
    "duration": 21,
    "start_time": "2022-06-16T09:03:40.903Z"
   },
   {
    "duration": 304,
    "start_time": "2022-06-16T09:03:40.926Z"
   },
   {
    "duration": 46,
    "start_time": "2022-06-16T09:03:41.232Z"
   },
   {
    "duration": 18,
    "start_time": "2022-06-16T09:03:41.280Z"
   },
   {
    "duration": 13,
    "start_time": "2022-06-16T09:03:41.300Z"
   },
   {
    "duration": 13,
    "start_time": "2022-06-16T09:03:41.314Z"
   },
   {
    "duration": 354,
    "start_time": "2022-06-16T09:03:41.329Z"
   },
   {
    "duration": 50,
    "start_time": "2022-06-16T09:03:41.685Z"
   },
   {
    "duration": 21,
    "start_time": "2022-06-16T09:03:41.736Z"
   },
   {
    "duration": 38,
    "start_time": "2022-06-16T09:03:50.565Z"
   },
   {
    "duration": 10,
    "start_time": "2022-06-16T09:04:09.252Z"
   },
   {
    "duration": 13,
    "start_time": "2022-06-16T09:04:18.228Z"
   },
   {
    "duration": 3,
    "start_time": "2022-06-16T09:05:35.013Z"
   },
   {
    "duration": 10,
    "start_time": "2022-06-16T09:05:37.927Z"
   },
   {
    "duration": 5,
    "start_time": "2022-06-16T09:05:43.733Z"
   },
   {
    "duration": 11,
    "start_time": "2022-06-16T09:05:44.405Z"
   },
   {
    "duration": 3,
    "start_time": "2022-06-16T09:06:09.809Z"
   },
   {
    "duration": 8,
    "start_time": "2022-06-16T09:06:09.816Z"
   },
   {
    "duration": 108,
    "start_time": "2022-06-16T09:06:09.826Z"
   },
   {
    "duration": 7,
    "start_time": "2022-06-16T09:06:09.935Z"
   },
   {
    "duration": 30,
    "start_time": "2022-06-16T09:06:09.943Z"
   },
   {
    "duration": 6,
    "start_time": "2022-06-16T09:06:09.976Z"
   },
   {
    "duration": 19,
    "start_time": "2022-06-16T09:06:09.984Z"
   },
   {
    "duration": 13,
    "start_time": "2022-06-16T09:06:10.005Z"
   },
   {
    "duration": 15,
    "start_time": "2022-06-16T09:06:10.019Z"
   },
   {
    "duration": 13,
    "start_time": "2022-06-16T09:06:10.036Z"
   },
   {
    "duration": 60,
    "start_time": "2022-06-16T09:06:10.051Z"
   },
   {
    "duration": 23,
    "start_time": "2022-06-16T09:06:10.112Z"
   },
   {
    "duration": 10,
    "start_time": "2022-06-16T09:06:10.137Z"
   },
   {
    "duration": 30,
    "start_time": "2022-06-16T09:06:10.148Z"
   },
   {
    "duration": 46,
    "start_time": "2022-06-16T09:06:10.180Z"
   },
   {
    "duration": 23,
    "start_time": "2022-06-16T09:06:10.227Z"
   },
   {
    "duration": 4,
    "start_time": "2022-06-16T09:06:10.251Z"
   },
   {
    "duration": 26,
    "start_time": "2022-06-16T09:06:10.278Z"
   },
   {
    "duration": 20,
    "start_time": "2022-06-16T09:06:10.306Z"
   },
   {
    "duration": 17,
    "start_time": "2022-06-16T09:06:10.328Z"
   },
   {
    "duration": 44,
    "start_time": "2022-06-16T09:06:10.347Z"
   },
   {
    "duration": 23,
    "start_time": "2022-06-16T09:06:10.393Z"
   },
   {
    "duration": 20,
    "start_time": "2022-06-16T09:06:10.418Z"
   },
   {
    "duration": 39,
    "start_time": "2022-06-16T09:06:10.440Z"
   },
   {
    "duration": 213,
    "start_time": "2022-06-16T09:06:10.481Z"
   },
   {
    "duration": 40,
    "start_time": "2022-06-16T09:06:10.696Z"
   },
   {
    "duration": 18,
    "start_time": "2022-06-16T09:06:10.737Z"
   },
   {
    "duration": 34,
    "start_time": "2022-06-16T09:06:10.757Z"
   },
   {
    "duration": 14,
    "start_time": "2022-06-16T09:06:10.792Z"
   },
   {
    "duration": 398,
    "start_time": "2022-06-16T09:06:10.808Z"
   },
   {
    "duration": 51,
    "start_time": "2022-06-16T09:06:11.208Z"
   },
   {
    "duration": 37,
    "start_time": "2022-06-16T09:06:11.260Z"
   },
   {
    "duration": 28,
    "start_time": "2022-06-16T09:06:11.298Z"
   },
   {
    "duration": 3,
    "start_time": "2022-06-16T09:06:14.181Z"
   },
   {
    "duration": 10,
    "start_time": "2022-06-16T09:06:14.742Z"
   },
   {
    "duration": 4,
    "start_time": "2022-06-16T09:06:46.437Z"
   },
   {
    "duration": 10,
    "start_time": "2022-06-16T09:06:46.997Z"
   },
   {
    "duration": 11,
    "start_time": "2022-06-16T09:07:08.779Z"
   },
   {
    "duration": 681,
    "start_time": "2022-06-16T09:07:17.046Z"
   },
   {
    "duration": 3,
    "start_time": "2022-06-16T09:07:38.169Z"
   },
   {
    "duration": 11,
    "start_time": "2022-06-16T09:07:38.175Z"
   },
   {
    "duration": 121,
    "start_time": "2022-06-16T09:07:38.188Z"
   },
   {
    "duration": 7,
    "start_time": "2022-06-16T09:07:38.310Z"
   },
   {
    "duration": 17,
    "start_time": "2022-06-16T09:07:38.318Z"
   },
   {
    "duration": 6,
    "start_time": "2022-06-16T09:07:38.337Z"
   },
   {
    "duration": 12,
    "start_time": "2022-06-16T09:07:38.345Z"
   },
   {
    "duration": 7,
    "start_time": "2022-06-16T09:07:38.358Z"
   },
   {
    "duration": 13,
    "start_time": "2022-06-16T09:07:38.367Z"
   },
   {
    "duration": 3,
    "start_time": "2022-06-16T09:07:38.381Z"
   },
   {
    "duration": 45,
    "start_time": "2022-06-16T09:07:38.386Z"
   },
   {
    "duration": 22,
    "start_time": "2022-06-16T09:07:38.433Z"
   },
   {
    "duration": 24,
    "start_time": "2022-06-16T09:07:38.457Z"
   },
   {
    "duration": 13,
    "start_time": "2022-06-16T09:07:38.483Z"
   },
   {
    "duration": 43,
    "start_time": "2022-06-16T09:07:38.498Z"
   },
   {
    "duration": 38,
    "start_time": "2022-06-16T09:07:38.543Z"
   },
   {
    "duration": 4,
    "start_time": "2022-06-16T09:07:38.582Z"
   },
   {
    "duration": 29,
    "start_time": "2022-06-16T09:07:38.587Z"
   },
   {
    "duration": 24,
    "start_time": "2022-06-16T09:07:38.617Z"
   },
   {
    "duration": 41,
    "start_time": "2022-06-16T09:07:38.642Z"
   },
   {
    "duration": 24,
    "start_time": "2022-06-16T09:07:38.684Z"
   },
   {
    "duration": 22,
    "start_time": "2022-06-16T09:07:38.710Z"
   },
   {
    "duration": 43,
    "start_time": "2022-06-16T09:07:38.734Z"
   },
   {
    "duration": 21,
    "start_time": "2022-06-16T09:07:38.779Z"
   },
   {
    "duration": 225,
    "start_time": "2022-06-16T09:07:38.802Z"
   },
   {
    "duration": 54,
    "start_time": "2022-06-16T09:07:39.029Z"
   },
   {
    "duration": 18,
    "start_time": "2022-06-16T09:07:39.084Z"
   },
   {
    "duration": 11,
    "start_time": "2022-06-16T09:07:39.104Z"
   },
   {
    "duration": 14,
    "start_time": "2022-06-16T09:07:39.117Z"
   },
   {
    "duration": 369,
    "start_time": "2022-06-16T09:07:39.132Z"
   },
   {
    "duration": 50,
    "start_time": "2022-06-16T09:07:39.502Z"
   },
   {
    "duration": 36,
    "start_time": "2022-06-16T09:07:39.554Z"
   },
   {
    "duration": 31,
    "start_time": "2022-06-16T09:07:43.733Z"
   },
   {
    "duration": 10,
    "start_time": "2022-06-16T09:07:45.717Z"
   },
   {
    "duration": 3,
    "start_time": "2022-06-16T09:07:50.425Z"
   },
   {
    "duration": 10,
    "start_time": "2022-06-16T09:07:51.103Z"
   },
   {
    "duration": 9,
    "start_time": "2022-06-16T09:08:12.761Z"
   },
   {
    "duration": 11,
    "start_time": "2022-06-16T09:08:22.055Z"
   },
   {
    "duration": 12,
    "start_time": "2022-06-16T09:08:41.255Z"
   },
   {
    "duration": 14,
    "start_time": "2022-06-16T09:08:43.702Z"
   },
   {
    "duration": 3,
    "start_time": "2022-06-16T09:09:54.026Z"
   },
   {
    "duration": 9,
    "start_time": "2022-06-16T09:09:54.034Z"
   },
   {
    "duration": 113,
    "start_time": "2022-06-16T09:09:54.045Z"
   },
   {
    "duration": 7,
    "start_time": "2022-06-16T09:09:54.159Z"
   },
   {
    "duration": 16,
    "start_time": "2022-06-16T09:09:54.167Z"
   },
   {
    "duration": 63,
    "start_time": "2022-06-16T09:09:54.185Z"
   },
   {
    "duration": 12,
    "start_time": "2022-06-16T09:09:54.250Z"
   },
   {
    "duration": 17,
    "start_time": "2022-06-16T09:09:54.264Z"
   },
   {
    "duration": 7,
    "start_time": "2022-06-16T09:09:54.282Z"
   },
   {
    "duration": 4,
    "start_time": "2022-06-16T09:09:54.290Z"
   },
   {
    "duration": 41,
    "start_time": "2022-06-16T09:09:54.295Z"
   },
   {
    "duration": 20,
    "start_time": "2022-06-16T09:09:54.338Z"
   },
   {
    "duration": 23,
    "start_time": "2022-06-16T09:09:54.360Z"
   },
   {
    "duration": 16,
    "start_time": "2022-06-16T09:09:54.385Z"
   },
   {
    "duration": 43,
    "start_time": "2022-06-16T09:09:54.405Z"
   },
   {
    "duration": 39,
    "start_time": "2022-06-16T09:09:54.450Z"
   },
   {
    "duration": 5,
    "start_time": "2022-06-16T09:09:54.491Z"
   },
   {
    "duration": 42,
    "start_time": "2022-06-16T09:09:54.498Z"
   },
   {
    "duration": 38,
    "start_time": "2022-06-16T09:09:54.542Z"
   },
   {
    "duration": 20,
    "start_time": "2022-06-16T09:09:54.582Z"
   },
   {
    "duration": 21,
    "start_time": "2022-06-16T09:09:54.603Z"
   },
   {
    "duration": 25,
    "start_time": "2022-06-16T09:09:54.626Z"
   },
   {
    "duration": 45,
    "start_time": "2022-06-16T09:09:54.653Z"
   },
   {
    "duration": 24,
    "start_time": "2022-06-16T09:09:54.699Z"
   },
   {
    "duration": 226,
    "start_time": "2022-06-16T09:09:54.724Z"
   },
   {
    "duration": 42,
    "start_time": "2022-06-16T09:09:54.952Z"
   },
   {
    "duration": 17,
    "start_time": "2022-06-16T09:09:54.996Z"
   },
   {
    "duration": 12,
    "start_time": "2022-06-16T09:09:55.015Z"
   },
   {
    "duration": 14,
    "start_time": "2022-06-16T09:09:55.029Z"
   },
   {
    "duration": 365,
    "start_time": "2022-06-16T09:09:55.045Z"
   },
   {
    "duration": 51,
    "start_time": "2022-06-16T09:09:55.411Z"
   },
   {
    "duration": 33,
    "start_time": "2022-06-16T09:09:55.464Z"
   },
   {
    "duration": 36,
    "start_time": "2022-06-16T09:09:57.737Z"
   },
   {
    "duration": 3,
    "start_time": "2022-06-16T09:10:07.014Z"
   },
   {
    "duration": 11,
    "start_time": "2022-06-16T09:10:10.423Z"
   },
   {
    "duration": 3,
    "start_time": "2022-06-16T09:10:22.120Z"
   },
   {
    "duration": 10,
    "start_time": "2022-06-16T09:10:22.602Z"
   },
   {
    "duration": 4,
    "start_time": "2022-06-16T09:10:27.698Z"
   },
   {
    "duration": 15,
    "start_time": "2022-06-16T09:10:27.704Z"
   },
   {
    "duration": 136,
    "start_time": "2022-06-16T09:10:27.721Z"
   },
   {
    "duration": 7,
    "start_time": "2022-06-16T09:10:27.859Z"
   },
   {
    "duration": 19,
    "start_time": "2022-06-16T09:10:27.867Z"
   },
   {
    "duration": 10,
    "start_time": "2022-06-16T09:10:27.888Z"
   },
   {
    "duration": 28,
    "start_time": "2022-06-16T09:10:27.899Z"
   },
   {
    "duration": 9,
    "start_time": "2022-06-16T09:10:27.928Z"
   },
   {
    "duration": 8,
    "start_time": "2022-06-16T09:10:27.940Z"
   },
   {
    "duration": 7,
    "start_time": "2022-06-16T09:10:27.949Z"
   },
   {
    "duration": 44,
    "start_time": "2022-06-16T09:10:27.958Z"
   },
   {
    "duration": 21,
    "start_time": "2022-06-16T09:10:28.003Z"
   },
   {
    "duration": 9,
    "start_time": "2022-06-16T09:10:28.026Z"
   },
   {
    "duration": 12,
    "start_time": "2022-06-16T09:10:28.036Z"
   },
   {
    "duration": 64,
    "start_time": "2022-06-16T09:10:28.050Z"
   },
   {
    "duration": 22,
    "start_time": "2022-06-16T09:10:28.116Z"
   },
   {
    "duration": 4,
    "start_time": "2022-06-16T09:10:28.140Z"
   },
   {
    "duration": 53,
    "start_time": "2022-06-16T09:10:28.146Z"
   },
   {
    "duration": 27,
    "start_time": "2022-06-16T09:10:28.201Z"
   },
   {
    "duration": 29,
    "start_time": "2022-06-16T09:10:28.230Z"
   },
   {
    "duration": 31,
    "start_time": "2022-06-16T09:10:28.261Z"
   },
   {
    "duration": 34,
    "start_time": "2022-06-16T09:10:28.295Z"
   },
   {
    "duration": 24,
    "start_time": "2022-06-16T09:10:28.331Z"
   },
   {
    "duration": 41,
    "start_time": "2022-06-16T09:10:28.358Z"
   },
   {
    "duration": 288,
    "start_time": "2022-06-16T09:10:28.401Z"
   },
   {
    "duration": 37,
    "start_time": "2022-06-16T09:10:28.691Z"
   },
   {
    "duration": 21,
    "start_time": "2022-06-16T09:10:28.729Z"
   },
   {
    "duration": 33,
    "start_time": "2022-06-16T09:10:28.752Z"
   },
   {
    "duration": 14,
    "start_time": "2022-06-16T09:10:28.788Z"
   },
   {
    "duration": 320,
    "start_time": "2022-06-16T09:10:28.804Z"
   },
   {
    "duration": 65,
    "start_time": "2022-06-16T09:10:29.126Z"
   },
   {
    "duration": 21,
    "start_time": "2022-06-16T09:10:29.193Z"
   },
   {
    "duration": 31,
    "start_time": "2022-06-16T09:10:29.216Z"
   },
   {
    "duration": 2,
    "start_time": "2022-06-16T09:10:29.249Z"
   },
   {
    "duration": 12,
    "start_time": "2022-06-16T09:10:31.686Z"
   },
   {
    "duration": 6,
    "start_time": "2022-06-16T09:10:51.272Z"
   },
   {
    "duration": 7,
    "start_time": "2022-06-16T09:11:08.439Z"
   },
   {
    "duration": 13,
    "start_time": "2022-06-16T09:11:56.023Z"
   },
   {
    "duration": 14,
    "start_time": "2022-06-16T09:12:09.159Z"
   },
   {
    "duration": 15,
    "start_time": "2022-06-16T09:12:23.400Z"
   },
   {
    "duration": 15,
    "start_time": "2022-06-16T09:12:49.178Z"
   },
   {
    "duration": 33,
    "start_time": "2022-06-16T09:13:00.296Z"
   },
   {
    "duration": 14,
    "start_time": "2022-06-16T09:13:05.960Z"
   },
   {
    "duration": 17,
    "start_time": "2022-06-16T09:13:15.785Z"
   },
   {
    "duration": 17,
    "start_time": "2022-06-16T09:13:31.832Z"
   },
   {
    "duration": 9,
    "start_time": "2022-06-16T09:14:33.225Z"
   },
   {
    "duration": 15,
    "start_time": "2022-06-16T09:14:38.369Z"
   },
   {
    "duration": 149,
    "start_time": "2022-06-16T09:17:02.682Z"
   },
   {
    "duration": 3,
    "start_time": "2022-06-16T09:18:39.098Z"
   },
   {
    "duration": 9,
    "start_time": "2022-06-16T09:22:21.676Z"
   },
   {
    "duration": 13,
    "start_time": "2022-06-16T09:29:51.679Z"
   },
   {
    "duration": 22,
    "start_time": "2022-06-16T09:30:03.855Z"
   },
   {
    "duration": 21,
    "start_time": "2022-06-16T09:30:22.849Z"
   },
   {
    "duration": 10,
    "start_time": "2022-06-16T09:30:26.928Z"
   },
   {
    "duration": 20,
    "start_time": "2022-06-16T09:30:39.679Z"
   },
   {
    "duration": 8,
    "start_time": "2022-06-16T09:30:41.374Z"
   },
   {
    "duration": 128,
    "start_time": "2022-06-16T09:31:39.573Z"
   },
   {
    "duration": 7,
    "start_time": "2022-06-16T09:31:42.193Z"
   },
   {
    "duration": 20,
    "start_time": "2022-06-16T09:31:48.192Z"
   },
   {
    "duration": 7,
    "start_time": "2022-06-16T09:31:48.929Z"
   },
   {
    "duration": 520,
    "start_time": "2022-06-16T09:32:01.328Z"
   },
   {
    "duration": 0,
    "start_time": "2022-06-16T09:32:01.850Z"
   },
   {
    "duration": 21,
    "start_time": "2022-06-16T09:32:05.024Z"
   },
   {
    "duration": 22,
    "start_time": "2022-06-16T09:32:09.648Z"
   },
   {
    "duration": 20,
    "start_time": "2022-06-16T09:34:06.786Z"
   },
   {
    "duration": 21,
    "start_time": "2022-06-16T09:34:56.640Z"
   },
   {
    "duration": 34,
    "start_time": "2022-06-16T09:35:13.010Z"
   },
   {
    "duration": 3,
    "start_time": "2022-06-16T09:35:40.868Z"
   },
   {
    "duration": 13,
    "start_time": "2022-06-16T09:35:46.627Z"
   },
   {
    "duration": 3,
    "start_time": "2022-06-16T09:36:20.023Z"
   },
   {
    "duration": 17,
    "start_time": "2022-06-16T09:36:20.029Z"
   },
   {
    "duration": 111,
    "start_time": "2022-06-16T09:36:20.048Z"
   },
   {
    "duration": 7,
    "start_time": "2022-06-16T09:36:20.161Z"
   },
   {
    "duration": 19,
    "start_time": "2022-06-16T09:36:20.170Z"
   },
   {
    "duration": 6,
    "start_time": "2022-06-16T09:36:20.191Z"
   },
   {
    "duration": 11,
    "start_time": "2022-06-16T09:36:20.198Z"
   },
   {
    "duration": 12,
    "start_time": "2022-06-16T09:36:20.210Z"
   },
   {
    "duration": 7,
    "start_time": "2022-06-16T09:36:20.223Z"
   },
   {
    "duration": 5,
    "start_time": "2022-06-16T09:36:20.231Z"
   },
   {
    "duration": 61,
    "start_time": "2022-06-16T09:36:20.238Z"
   },
   {
    "duration": 21,
    "start_time": "2022-06-16T09:36:20.300Z"
   },
   {
    "duration": 9,
    "start_time": "2022-06-16T09:36:20.322Z"
   },
   {
    "duration": 12,
    "start_time": "2022-06-16T09:36:20.333Z"
   },
   {
    "duration": 71,
    "start_time": "2022-06-16T09:36:20.346Z"
   },
   {
    "duration": 23,
    "start_time": "2022-06-16T09:36:20.418Z"
   },
   {
    "duration": 4,
    "start_time": "2022-06-16T09:36:20.443Z"
   },
   {
    "duration": 49,
    "start_time": "2022-06-16T09:36:20.449Z"
   },
   {
    "duration": 21,
    "start_time": "2022-06-16T09:36:20.499Z"
   },
   {
    "duration": 18,
    "start_time": "2022-06-16T09:36:20.521Z"
   },
   {
    "duration": 38,
    "start_time": "2022-06-16T09:36:20.541Z"
   },
   {
    "duration": 26,
    "start_time": "2022-06-16T09:36:20.580Z"
   },
   {
    "duration": 20,
    "start_time": "2022-06-16T09:36:20.607Z"
   },
   {
    "duration": 20,
    "start_time": "2022-06-16T09:36:20.629Z"
   },
   {
    "duration": 250,
    "start_time": "2022-06-16T09:36:20.650Z"
   },
   {
    "duration": 44,
    "start_time": "2022-06-16T09:36:20.901Z"
   },
   {
    "duration": 32,
    "start_time": "2022-06-16T09:36:20.947Z"
   },
   {
    "duration": 14,
    "start_time": "2022-06-16T09:36:20.981Z"
   },
   {
    "duration": 22,
    "start_time": "2022-06-16T09:36:20.999Z"
   },
   {
    "duration": 311,
    "start_time": "2022-06-16T09:36:21.023Z"
   },
   {
    "duration": 57,
    "start_time": "2022-06-16T09:36:21.335Z"
   },
   {
    "duration": 21,
    "start_time": "2022-06-16T09:36:21.394Z"
   },
   {
    "duration": 27,
    "start_time": "2022-06-16T09:36:21.417Z"
   },
   {
    "duration": 3,
    "start_time": "2022-06-16T09:36:21.445Z"
   },
   {
    "duration": 36,
    "start_time": "2022-06-16T09:36:21.449Z"
   },
   {
    "duration": 9,
    "start_time": "2022-06-16T09:36:21.487Z"
   },
   {
    "duration": 16,
    "start_time": "2022-06-16T09:36:21.497Z"
   },
   {
    "duration": 6,
    "start_time": "2022-06-16T09:36:21.514Z"
   },
   {
    "duration": 159,
    "start_time": "2022-06-16T09:36:21.521Z"
   },
   {
    "duration": 4,
    "start_time": "2022-06-16T09:36:21.681Z"
   },
   {
    "duration": 27,
    "start_time": "2022-06-16T09:36:21.686Z"
   },
   {
    "duration": 35,
    "start_time": "2022-06-16T09:36:23.666Z"
   },
   {
    "duration": 15,
    "start_time": "2022-06-16T09:36:24.146Z"
   },
   {
    "duration": 13,
    "start_time": "2022-06-16T09:36:55.543Z"
   },
   {
    "duration": 13,
    "start_time": "2022-06-16T09:37:06.581Z"
   },
   {
    "duration": 12,
    "start_time": "2022-06-16T09:37:16.644Z"
   },
   {
    "duration": 202,
    "start_time": "2022-06-16T09:38:07.029Z"
   },
   {
    "duration": 128,
    "start_time": "2022-06-16T09:38:20.900Z"
   },
   {
    "duration": 151,
    "start_time": "2022-06-16T09:38:54.270Z"
   },
   {
    "duration": 162,
    "start_time": "2022-06-16T09:39:00.931Z"
   },
   {
    "duration": 146,
    "start_time": "2022-06-16T09:39:04.853Z"
   },
   {
    "duration": 109,
    "start_time": "2022-06-16T09:39:40.054Z"
   },
   {
    "duration": 122,
    "start_time": "2022-06-16T09:39:47.076Z"
   },
   {
    "duration": 116,
    "start_time": "2022-06-16T09:39:52.852Z"
   },
   {
    "duration": 157,
    "start_time": "2022-06-16T09:40:10.296Z"
   },
   {
    "duration": 124,
    "start_time": "2022-06-16T09:40:13.602Z"
   },
   {
    "duration": 3,
    "start_time": "2022-06-16T09:43:22.470Z"
   },
   {
    "duration": 34,
    "start_time": "2022-06-16T09:43:33.318Z"
   },
   {
    "duration": 4,
    "start_time": "2022-06-16T09:43:37.188Z"
   },
   {
    "duration": 4,
    "start_time": "2022-06-16T09:43:45.108Z"
   },
   {
    "duration": 22,
    "start_time": "2022-06-16T09:53:09.223Z"
   },
   {
    "duration": 22,
    "start_time": "2022-06-16T09:53:46.858Z"
   },
   {
    "duration": 21,
    "start_time": "2022-06-16T09:54:06.728Z"
   },
   {
    "duration": 19,
    "start_time": "2022-06-16T09:54:14.300Z"
   },
   {
    "duration": 23,
    "start_time": "2022-06-16T09:54:28.201Z"
   },
   {
    "duration": 28,
    "start_time": "2022-06-16T09:54:37.609Z"
   },
   {
    "duration": 24,
    "start_time": "2022-06-16T09:54:46.793Z"
   },
   {
    "duration": 22,
    "start_time": "2022-06-16T09:54:54.281Z"
   },
   {
    "duration": 19,
    "start_time": "2022-06-16T09:55:15.065Z"
   },
   {
    "duration": 31,
    "start_time": "2022-06-16T09:55:21.753Z"
   },
   {
    "duration": 13,
    "start_time": "2022-06-16T09:57:05.917Z"
   },
   {
    "duration": 678,
    "start_time": "2022-06-16T09:57:30.507Z"
   },
   {
    "duration": 443,
    "start_time": "2022-06-16T09:57:35.792Z"
   },
   {
    "duration": 10,
    "start_time": "2022-06-16T09:57:42.395Z"
   },
   {
    "duration": 8,
    "start_time": "2022-06-16T09:57:49.301Z"
   },
   {
    "duration": 442,
    "start_time": "2022-06-16T09:59:41.021Z"
   },
   {
    "duration": 5,
    "start_time": "2022-06-16T10:00:13.578Z"
   },
   {
    "duration": 38,
    "start_time": "2022-06-16T10:00:17.307Z"
   },
   {
    "duration": 4,
    "start_time": "2022-06-16T10:00:20.699Z"
   },
   {
    "duration": 4,
    "start_time": "2022-06-16T10:00:26.203Z"
   },
   {
    "duration": 92,
    "start_time": "2022-06-16T10:00:32.049Z"
   },
   {
    "duration": 4,
    "start_time": "2022-06-16T10:00:37.019Z"
   },
   {
    "duration": 4,
    "start_time": "2022-06-16T10:00:59.744Z"
   },
   {
    "duration": 4,
    "start_time": "2022-06-16T10:01:10.748Z"
   },
   {
    "duration": 3,
    "start_time": "2022-06-16T10:02:08.623Z"
   },
   {
    "duration": 3,
    "start_time": "2022-06-16T10:02:22.511Z"
   },
   {
    "duration": 3,
    "start_time": "2022-06-16T10:13:05.776Z"
   },
   {
    "duration": 22,
    "start_time": "2022-06-16T10:15:13.756Z"
   },
   {
    "duration": 11,
    "start_time": "2022-06-16T10:20:45.556Z"
   },
   {
    "duration": 4,
    "start_time": "2022-06-16T10:21:47.029Z"
   },
   {
    "duration": 12,
    "start_time": "2022-06-16T10:21:50.804Z"
   },
   {
    "duration": 9,
    "start_time": "2022-06-16T10:21:58.760Z"
   },
   {
    "duration": 23,
    "start_time": "2022-06-16T10:23:42.786Z"
   },
   {
    "duration": 32,
    "start_time": "2022-06-16T10:24:36.059Z"
   },
   {
    "duration": 4,
    "start_time": "2022-06-16T10:26:30.874Z"
   },
   {
    "duration": 12,
    "start_time": "2022-06-16T10:26:34.709Z"
   },
   {
    "duration": 4,
    "start_time": "2022-06-16T10:28:49.287Z"
   },
   {
    "duration": 9,
    "start_time": "2022-06-16T10:29:18.278Z"
   },
   {
    "duration": 168,
    "start_time": "2022-06-16T10:29:51.304Z"
   },
   {
    "duration": 15,
    "start_time": "2022-06-16T10:29:55.861Z"
   },
   {
    "duration": 9,
    "start_time": "2022-06-16T10:30:09.258Z"
   },
   {
    "duration": 10,
    "start_time": "2022-06-16T10:30:33.288Z"
   },
   {
    "duration": 57,
    "start_time": "2022-06-16T10:30:48.364Z"
   },
   {
    "duration": 812,
    "start_time": "2022-06-16T10:30:53.271Z"
   },
   {
    "duration": 6,
    "start_time": "2022-06-16T10:31:30.330Z"
   },
   {
    "duration": 3,
    "start_time": "2022-06-16T10:31:42.899Z"
   },
   {
    "duration": 6,
    "start_time": "2022-06-16T10:31:42.905Z"
   },
   {
    "duration": 120,
    "start_time": "2022-06-16T10:31:42.912Z"
   },
   {
    "duration": 8,
    "start_time": "2022-06-16T10:31:43.033Z"
   },
   {
    "duration": 22,
    "start_time": "2022-06-16T10:31:43.042Z"
   },
   {
    "duration": 12,
    "start_time": "2022-06-16T10:31:43.066Z"
   },
   {
    "duration": 11,
    "start_time": "2022-06-16T10:31:43.079Z"
   },
   {
    "duration": 7,
    "start_time": "2022-06-16T10:31:43.091Z"
   },
   {
    "duration": 6,
    "start_time": "2022-06-16T10:31:43.100Z"
   },
   {
    "duration": 3,
    "start_time": "2022-06-16T10:31:43.108Z"
   },
   {
    "duration": 42,
    "start_time": "2022-06-16T10:31:43.113Z"
   },
   {
    "duration": 40,
    "start_time": "2022-06-16T10:31:43.157Z"
   },
   {
    "duration": 10,
    "start_time": "2022-06-16T10:31:43.199Z"
   },
   {
    "duration": 13,
    "start_time": "2022-06-16T10:31:43.211Z"
   },
   {
    "duration": 66,
    "start_time": "2022-06-16T10:31:43.225Z"
   },
   {
    "duration": 22,
    "start_time": "2022-06-16T10:31:43.292Z"
   },
   {
    "duration": 4,
    "start_time": "2022-06-16T10:31:43.316Z"
   },
   {
    "duration": 57,
    "start_time": "2022-06-16T10:31:43.322Z"
   },
   {
    "duration": 23,
    "start_time": "2022-06-16T10:31:43.381Z"
   },
   {
    "duration": 18,
    "start_time": "2022-06-16T10:31:43.406Z"
   },
   {
    "duration": 22,
    "start_time": "2022-06-16T10:31:43.426Z"
   },
   {
    "duration": 46,
    "start_time": "2022-06-16T10:31:43.450Z"
   },
   {
    "duration": 22,
    "start_time": "2022-06-16T10:31:43.497Z"
   },
   {
    "duration": 22,
    "start_time": "2022-06-16T10:31:43.521Z"
   },
   {
    "duration": 335,
    "start_time": "2022-06-16T10:31:43.545Z"
   },
   {
    "duration": 44,
    "start_time": "2022-06-16T10:31:43.882Z"
   },
   {
    "duration": 19,
    "start_time": "2022-06-16T10:31:43.927Z"
   },
   {
    "duration": 11,
    "start_time": "2022-06-16T10:31:43.947Z"
   },
   {
    "duration": 12,
    "start_time": "2022-06-16T10:31:43.977Z"
   },
   {
    "duration": 311,
    "start_time": "2022-06-16T10:31:43.990Z"
   },
   {
    "duration": 49,
    "start_time": "2022-06-16T10:31:44.302Z"
   },
   {
    "duration": 36,
    "start_time": "2022-06-16T10:31:44.353Z"
   },
   {
    "duration": 28,
    "start_time": "2022-06-16T10:31:44.390Z"
   },
   {
    "duration": 3,
    "start_time": "2022-06-16T10:31:44.419Z"
   },
   {
    "duration": 14,
    "start_time": "2022-06-16T10:31:44.424Z"
   },
   {
    "duration": 5,
    "start_time": "2022-06-16T10:31:44.439Z"
   },
   {
    "duration": 38,
    "start_time": "2022-06-16T10:31:44.446Z"
   },
   {
    "duration": 7,
    "start_time": "2022-06-16T10:31:44.487Z"
   },
   {
    "duration": 176,
    "start_time": "2022-06-16T10:31:44.496Z"
   },
   {
    "duration": 4,
    "start_time": "2022-06-16T10:31:44.677Z"
   },
   {
    "duration": 43,
    "start_time": "2022-06-16T10:31:44.682Z"
   },
   {
    "duration": 33,
    "start_time": "2022-06-16T10:31:44.727Z"
   },
   {
    "duration": 24,
    "start_time": "2022-06-16T10:31:44.762Z"
   },
   {
    "duration": 130,
    "start_time": "2022-06-16T10:31:44.788Z"
   },
   {
    "duration": 4,
    "start_time": "2022-06-16T10:31:44.919Z"
   },
   {
    "duration": 25,
    "start_time": "2022-06-16T10:31:44.924Z"
   },
   {
    "duration": 3,
    "start_time": "2022-06-16T10:31:44.951Z"
   },
   {
    "duration": 23,
    "start_time": "2022-06-16T10:31:44.955Z"
   },
   {
    "duration": 12,
    "start_time": "2022-06-16T10:31:44.979Z"
   },
   {
    "duration": 3,
    "start_time": "2022-06-16T10:31:44.993Z"
   },
   {
    "duration": 6,
    "start_time": "2022-06-16T10:31:44.997Z"
   },
   {
    "duration": 379,
    "start_time": "2022-06-16T10:31:45.005Z"
   },
   {
    "duration": 6,
    "start_time": "2022-06-16T10:31:53.958Z"
   },
   {
    "duration": 10,
    "start_time": "2022-06-16T10:32:57.308Z"
   },
   {
    "duration": 12,
    "start_time": "2022-06-16T10:33:09.988Z"
   },
   {
    "duration": 8,
    "start_time": "2022-06-16T10:37:58.586Z"
   },
   {
    "duration": 416,
    "start_time": "2022-06-16T10:39:52.266Z"
   },
   {
    "duration": 6,
    "start_time": "2022-06-16T10:39:52.905Z"
   },
   {
    "duration": 10,
    "start_time": "2022-06-16T10:39:54.656Z"
   },
   {
    "duration": 5,
    "start_time": "2022-06-16T10:40:20.161Z"
   },
   {
    "duration": 11,
    "start_time": "2022-06-16T10:40:22.756Z"
   },
   {
    "duration": 422,
    "start_time": "2022-06-16T10:40:24.461Z"
   },
   {
    "duration": 94,
    "start_time": "2022-06-16T10:40:24.885Z"
   },
   {
    "duration": 9,
    "start_time": "2022-06-16T10:40:26.170Z"
   },
   {
    "duration": 12,
    "start_time": "2022-06-16T10:40:48.475Z"
   },
   {
    "duration": 6,
    "start_time": "2022-06-16T10:41:45.083Z"
   },
   {
    "duration": 13,
    "start_time": "2022-06-16T10:41:51.594Z"
   },
   {
    "duration": 13,
    "start_time": "2022-06-16T10:42:35.307Z"
   },
   {
    "duration": 14,
    "start_time": "2022-06-16T10:42:59.053Z"
   },
   {
    "duration": 12,
    "start_time": "2022-06-16T10:43:06.675Z"
   },
   {
    "duration": 13,
    "start_time": "2022-06-16T10:43:53.726Z"
   },
   {
    "duration": 5,
    "start_time": "2022-06-16T10:44:16.172Z"
   },
   {
    "duration": 497,
    "start_time": "2022-06-16T10:44:36.254Z"
   },
   {
    "duration": 10,
    "start_time": "2022-06-16T10:44:44.459Z"
   },
   {
    "duration": 4,
    "start_time": "2022-06-16T10:45:25.292Z"
   },
   {
    "duration": 105,
    "start_time": "2022-06-16T10:45:39.979Z"
   },
   {
    "duration": 69,
    "start_time": "2022-06-16T10:46:11.755Z"
   },
   {
    "duration": 415,
    "start_time": "2022-06-16T10:46:16.379Z"
   },
   {
    "duration": 9,
    "start_time": "2022-06-16T10:46:51.469Z"
   },
   {
    "duration": 3,
    "start_time": "2022-06-16T10:47:00.386Z"
   },
   {
    "duration": 4,
    "start_time": "2022-06-16T10:47:00.403Z"
   },
   {
    "duration": 114,
    "start_time": "2022-06-16T10:47:00.409Z"
   },
   {
    "duration": 7,
    "start_time": "2022-06-16T10:47:00.525Z"
   },
   {
    "duration": 20,
    "start_time": "2022-06-16T10:47:00.533Z"
   },
   {
    "duration": 7,
    "start_time": "2022-06-16T10:47:00.556Z"
   },
   {
    "duration": 20,
    "start_time": "2022-06-16T10:47:00.564Z"
   },
   {
    "duration": 4,
    "start_time": "2022-06-16T10:47:00.586Z"
   },
   {
    "duration": 10,
    "start_time": "2022-06-16T10:47:00.592Z"
   },
   {
    "duration": 11,
    "start_time": "2022-06-16T10:47:00.604Z"
   },
   {
    "duration": 43,
    "start_time": "2022-06-16T10:47:00.617Z"
   },
   {
    "duration": 29,
    "start_time": "2022-06-16T10:47:00.662Z"
   },
   {
    "duration": 14,
    "start_time": "2022-06-16T10:47:00.692Z"
   },
   {
    "duration": 26,
    "start_time": "2022-06-16T10:47:00.708Z"
   },
   {
    "duration": 52,
    "start_time": "2022-06-16T10:47:00.738Z"
   },
   {
    "duration": 20,
    "start_time": "2022-06-16T10:47:00.792Z"
   },
   {
    "duration": 8,
    "start_time": "2022-06-16T10:47:00.813Z"
   },
   {
    "duration": 30,
    "start_time": "2022-06-16T10:47:00.822Z"
   },
   {
    "duration": 32,
    "start_time": "2022-06-16T10:47:00.853Z"
   },
   {
    "duration": 17,
    "start_time": "2022-06-16T10:47:00.886Z"
   },
   {
    "duration": 26,
    "start_time": "2022-06-16T10:47:00.904Z"
   },
   {
    "duration": 25,
    "start_time": "2022-06-16T10:47:00.931Z"
   },
   {
    "duration": 34,
    "start_time": "2022-06-16T10:47:00.958Z"
   },
   {
    "duration": 20,
    "start_time": "2022-06-16T10:47:00.993Z"
   },
   {
    "duration": 305,
    "start_time": "2022-06-16T10:47:01.015Z"
   },
   {
    "duration": 41,
    "start_time": "2022-06-16T10:47:01.321Z"
   },
   {
    "duration": 29,
    "start_time": "2022-06-16T10:47:01.363Z"
   },
   {
    "duration": 21,
    "start_time": "2022-06-16T10:47:01.393Z"
   },
   {
    "duration": 14,
    "start_time": "2022-06-16T10:47:01.415Z"
   },
   {
    "duration": 348,
    "start_time": "2022-06-16T10:47:01.430Z"
   },
   {
    "duration": 57,
    "start_time": "2022-06-16T10:47:01.781Z"
   },
   {
    "duration": 37,
    "start_time": "2022-06-16T10:47:01.841Z"
   },
   {
    "duration": 49,
    "start_time": "2022-06-16T10:47:01.880Z"
   },
   {
    "duration": 4,
    "start_time": "2022-06-16T10:47:01.931Z"
   },
   {
    "duration": 24,
    "start_time": "2022-06-16T10:47:01.936Z"
   },
   {
    "duration": 14,
    "start_time": "2022-06-16T10:47:01.961Z"
   },
   {
    "duration": 43,
    "start_time": "2022-06-16T10:47:01.977Z"
   },
   {
    "duration": 7,
    "start_time": "2022-06-16T10:47:02.022Z"
   },
   {
    "duration": 175,
    "start_time": "2022-06-16T10:47:02.030Z"
   },
   {
    "duration": 4,
    "start_time": "2022-06-16T10:47:02.207Z"
   },
   {
    "duration": 35,
    "start_time": "2022-06-16T10:47:02.212Z"
   },
   {
    "duration": 39,
    "start_time": "2022-06-16T10:47:02.250Z"
   },
   {
    "duration": 12,
    "start_time": "2022-06-16T10:47:02.290Z"
   },
   {
    "duration": 135,
    "start_time": "2022-06-16T10:47:02.303Z"
   },
   {
    "duration": 5,
    "start_time": "2022-06-16T10:47:02.439Z"
   },
   {
    "duration": 34,
    "start_time": "2022-06-16T10:47:02.445Z"
   },
   {
    "duration": 4,
    "start_time": "2022-06-16T10:47:02.480Z"
   },
   {
    "duration": 10,
    "start_time": "2022-06-16T10:47:02.485Z"
   },
   {
    "duration": 19,
    "start_time": "2022-06-16T10:47:02.496Z"
   },
   {
    "duration": 12,
    "start_time": "2022-06-16T10:47:02.517Z"
   },
   {
    "duration": 9,
    "start_time": "2022-06-16T10:47:02.530Z"
   },
   {
    "duration": 438,
    "start_time": "2022-06-16T10:47:02.540Z"
   },
   {
    "duration": 95,
    "start_time": "2022-06-16T10:47:02.983Z"
   },
   {
    "duration": 9,
    "start_time": "2022-06-16T10:47:03.080Z"
   },
   {
    "duration": 3,
    "start_time": "2022-06-16T10:47:50.456Z"
   },
   {
    "duration": 10,
    "start_time": "2022-06-16T10:47:50.461Z"
   },
   {
    "duration": 105,
    "start_time": "2022-06-16T10:47:50.472Z"
   },
   {
    "duration": 7,
    "start_time": "2022-06-16T10:47:50.578Z"
   },
   {
    "duration": 20,
    "start_time": "2022-06-16T10:47:50.587Z"
   },
   {
    "duration": 6,
    "start_time": "2022-06-16T10:47:50.609Z"
   },
   {
    "duration": 11,
    "start_time": "2022-06-16T10:47:50.616Z"
   },
   {
    "duration": 9,
    "start_time": "2022-06-16T10:47:50.628Z"
   },
   {
    "duration": 7,
    "start_time": "2022-06-16T10:47:50.638Z"
   },
   {
    "duration": 4,
    "start_time": "2022-06-16T10:47:50.646Z"
   },
   {
    "duration": 75,
    "start_time": "2022-06-16T10:47:50.652Z"
   },
   {
    "duration": 21,
    "start_time": "2022-06-16T10:47:50.729Z"
   },
   {
    "duration": 9,
    "start_time": "2022-06-16T10:47:50.752Z"
   },
   {
    "duration": 30,
    "start_time": "2022-06-16T10:47:50.763Z"
   },
   {
    "duration": 45,
    "start_time": "2022-06-16T10:47:50.795Z"
   },
   {
    "duration": 37,
    "start_time": "2022-06-16T10:47:50.842Z"
   },
   {
    "duration": 4,
    "start_time": "2022-06-16T10:47:50.881Z"
   },
   {
    "duration": 39,
    "start_time": "2022-06-16T10:47:50.887Z"
   },
   {
    "duration": 25,
    "start_time": "2022-06-16T10:47:50.928Z"
   },
   {
    "duration": 35,
    "start_time": "2022-06-16T10:47:50.955Z"
   },
   {
    "duration": 21,
    "start_time": "2022-06-16T10:47:50.991Z"
   },
   {
    "duration": 23,
    "start_time": "2022-06-16T10:47:51.013Z"
   },
   {
    "duration": 40,
    "start_time": "2022-06-16T10:47:51.038Z"
   },
   {
    "duration": 20,
    "start_time": "2022-06-16T10:47:51.080Z"
   },
   {
    "duration": 304,
    "start_time": "2022-06-16T10:47:51.101Z"
   },
   {
    "duration": 35,
    "start_time": "2022-06-16T10:47:51.406Z"
   },
   {
    "duration": 17,
    "start_time": "2022-06-16T10:47:51.443Z"
   },
   {
    "duration": 26,
    "start_time": "2022-06-16T10:47:51.461Z"
   },
   {
    "duration": 13,
    "start_time": "2022-06-16T10:47:51.489Z"
   },
   {
    "duration": 302,
    "start_time": "2022-06-16T10:47:51.504Z"
   },
   {
    "duration": 50,
    "start_time": "2022-06-16T10:47:51.807Z"
   },
   {
    "duration": 35,
    "start_time": "2022-06-16T10:47:51.859Z"
   },
   {
    "duration": 30,
    "start_time": "2022-06-16T10:47:51.895Z"
   },
   {
    "duration": 2,
    "start_time": "2022-06-16T10:47:51.927Z"
   },
   {
    "duration": 13,
    "start_time": "2022-06-16T10:47:51.931Z"
   },
   {
    "duration": 7,
    "start_time": "2022-06-16T10:47:51.946Z"
   },
   {
    "duration": 31,
    "start_time": "2022-06-16T10:47:51.956Z"
   },
   {
    "duration": 8,
    "start_time": "2022-06-16T10:47:51.989Z"
   },
   {
    "duration": 197,
    "start_time": "2022-06-16T10:47:51.999Z"
   },
   {
    "duration": 4,
    "start_time": "2022-06-16T10:47:52.197Z"
   },
   {
    "duration": 30,
    "start_time": "2022-06-16T10:47:52.203Z"
   },
   {
    "duration": 47,
    "start_time": "2022-06-16T10:47:52.234Z"
   },
   {
    "duration": 13,
    "start_time": "2022-06-16T10:47:52.283Z"
   },
   {
    "duration": 133,
    "start_time": "2022-06-16T10:47:52.297Z"
   },
   {
    "duration": 4,
    "start_time": "2022-06-16T10:47:52.432Z"
   },
   {
    "duration": 26,
    "start_time": "2022-06-16T10:47:52.437Z"
   },
   {
    "duration": 14,
    "start_time": "2022-06-16T10:47:52.465Z"
   },
   {
    "duration": 5,
    "start_time": "2022-06-16T10:47:52.481Z"
   },
   {
    "duration": 13,
    "start_time": "2022-06-16T10:47:52.488Z"
   },
   {
    "duration": 11,
    "start_time": "2022-06-16T10:47:52.502Z"
   },
   {
    "duration": 7,
    "start_time": "2022-06-16T10:47:52.514Z"
   },
   {
    "duration": 360,
    "start_time": "2022-06-16T10:47:52.523Z"
   },
   {
    "duration": 94,
    "start_time": "2022-06-16T10:47:52.885Z"
   },
   {
    "duration": 105,
    "start_time": "2022-06-16T10:47:52.980Z"
   },
   {
    "duration": 79,
    "start_time": "2022-06-16T10:47:56.440Z"
   },
   {
    "duration": 68,
    "start_time": "2022-06-16T10:48:10.658Z"
   },
   {
    "duration": 25,
    "start_time": "2022-06-16T10:48:13.835Z"
   },
   {
    "duration": 33,
    "start_time": "2022-06-16T10:48:32.893Z"
   },
   {
    "duration": 44,
    "start_time": "2022-06-16T10:50:19.263Z"
   },
   {
    "duration": 12,
    "start_time": "2022-06-16T10:50:46.840Z"
   },
   {
    "duration": 79,
    "start_time": "2022-06-16T10:51:36.160Z"
   },
   {
    "duration": 3,
    "start_time": "2022-06-16T10:51:56.560Z"
   },
   {
    "duration": 22,
    "start_time": "2022-06-16T10:52:06.686Z"
   },
   {
    "duration": 103,
    "start_time": "2022-06-16T10:52:52.306Z"
   },
   {
    "duration": 767,
    "start_time": "2022-06-16T10:53:20.043Z"
   },
   {
    "duration": 48,
    "start_time": "2022-06-16T10:53:40.688Z"
   },
   {
    "duration": 34,
    "start_time": "2022-06-16T10:53:59.573Z"
   },
   {
    "duration": 9,
    "start_time": "2022-06-16T10:54:16.305Z"
   },
   {
    "duration": 4,
    "start_time": "2022-06-16T10:54:31.683Z"
   },
   {
    "duration": 428,
    "start_time": "2022-06-16T10:54:47.615Z"
   },
   {
    "duration": 5,
    "start_time": "2022-06-16T10:57:54.177Z"
   },
   {
    "duration": 889,
    "start_time": "2022-06-16T10:58:25.343Z"
   },
   {
    "duration": 343,
    "start_time": "2022-06-16T10:58:38.468Z"
   },
   {
    "duration": 862,
    "start_time": "2022-06-16T10:58:47.105Z"
   },
   {
    "duration": 340,
    "start_time": "2022-06-16T10:58:50.966Z"
   },
   {
    "duration": 102,
    "start_time": "2022-06-16T10:58:55.713Z"
   },
   {
    "duration": 4,
    "start_time": "2022-06-16T10:59:05.297Z"
   },
   {
    "duration": 4,
    "start_time": "2022-06-16T10:59:31.264Z"
   },
   {
    "duration": 23,
    "start_time": "2022-06-16T10:59:31.270Z"
   },
   {
    "duration": 113,
    "start_time": "2022-06-16T10:59:31.294Z"
   },
   {
    "duration": 6,
    "start_time": "2022-06-16T10:59:31.409Z"
   },
   {
    "duration": 15,
    "start_time": "2022-06-16T10:59:31.417Z"
   },
   {
    "duration": 6,
    "start_time": "2022-06-16T10:59:31.433Z"
   },
   {
    "duration": 21,
    "start_time": "2022-06-16T10:59:31.440Z"
   },
   {
    "duration": 12,
    "start_time": "2022-06-16T10:59:31.462Z"
   },
   {
    "duration": 7,
    "start_time": "2022-06-16T10:59:31.475Z"
   },
   {
    "duration": 9,
    "start_time": "2022-06-16T10:59:31.483Z"
   },
   {
    "duration": 43,
    "start_time": "2022-06-16T10:59:31.494Z"
   },
   {
    "duration": 23,
    "start_time": "2022-06-16T10:59:31.539Z"
   },
   {
    "duration": 20,
    "start_time": "2022-06-16T10:59:31.563Z"
   },
   {
    "duration": 14,
    "start_time": "2022-06-16T10:59:31.586Z"
   },
   {
    "duration": 56,
    "start_time": "2022-06-16T10:59:31.601Z"
   },
   {
    "duration": 21,
    "start_time": "2022-06-16T10:59:31.658Z"
   },
   {
    "duration": 19,
    "start_time": "2022-06-16T10:59:31.680Z"
   },
   {
    "duration": 44,
    "start_time": "2022-06-16T10:59:31.700Z"
   },
   {
    "duration": 44,
    "start_time": "2022-06-16T10:59:31.745Z"
   },
   {
    "duration": 29,
    "start_time": "2022-06-16T10:59:31.791Z"
   },
   {
    "duration": 26,
    "start_time": "2022-06-16T10:59:31.821Z"
   },
   {
    "duration": 39,
    "start_time": "2022-06-16T10:59:31.849Z"
   },
   {
    "duration": 23,
    "start_time": "2022-06-16T10:59:31.890Z"
   },
   {
    "duration": 22,
    "start_time": "2022-06-16T10:59:31.915Z"
   },
   {
    "duration": 243,
    "start_time": "2022-06-16T10:59:31.938Z"
   },
   {
    "duration": 37,
    "start_time": "2022-06-16T10:59:32.182Z"
   },
   {
    "duration": 17,
    "start_time": "2022-06-16T10:59:32.221Z"
   },
   {
    "duration": 26,
    "start_time": "2022-06-16T10:59:32.239Z"
   },
   {
    "duration": 21,
    "start_time": "2022-06-16T10:59:32.266Z"
   },
   {
    "duration": 324,
    "start_time": "2022-06-16T10:59:32.288Z"
   },
   {
    "duration": 51,
    "start_time": "2022-06-16T10:59:32.613Z"
   },
   {
    "duration": 32,
    "start_time": "2022-06-16T10:59:32.665Z"
   },
   {
    "duration": 29,
    "start_time": "2022-06-16T10:59:32.698Z"
   },
   {
    "duration": 3,
    "start_time": "2022-06-16T10:59:32.728Z"
   },
   {
    "duration": 20,
    "start_time": "2022-06-16T10:59:32.732Z"
   },
   {
    "duration": 25,
    "start_time": "2022-06-16T10:59:32.753Z"
   },
   {
    "duration": 28,
    "start_time": "2022-06-16T10:59:32.780Z"
   },
   {
    "duration": 7,
    "start_time": "2022-06-16T10:59:32.809Z"
   },
   {
    "duration": 183,
    "start_time": "2022-06-16T10:59:32.817Z"
   },
   {
    "duration": 4,
    "start_time": "2022-06-16T10:59:33.001Z"
   },
   {
    "duration": 25,
    "start_time": "2022-06-16T10:59:33.008Z"
   },
   {
    "duration": 46,
    "start_time": "2022-06-16T10:59:33.035Z"
   },
   {
    "duration": 12,
    "start_time": "2022-06-16T10:59:33.083Z"
   },
   {
    "duration": 217,
    "start_time": "2022-06-16T10:59:33.097Z"
   },
   {
    "duration": 5,
    "start_time": "2022-06-16T10:59:33.316Z"
   },
   {
    "duration": 28,
    "start_time": "2022-06-16T10:59:33.322Z"
   },
   {
    "duration": 5,
    "start_time": "2022-06-16T10:59:33.351Z"
   },
   {
    "duration": 22,
    "start_time": "2022-06-16T10:59:33.357Z"
   },
   {
    "duration": 16,
    "start_time": "2022-06-16T10:59:33.380Z"
   },
   {
    "duration": 6,
    "start_time": "2022-06-16T10:59:33.397Z"
   },
   {
    "duration": 10,
    "start_time": "2022-06-16T10:59:33.405Z"
   },
   {
    "duration": 461,
    "start_time": "2022-06-16T10:59:33.417Z"
   },
   {
    "duration": 7,
    "start_time": "2022-06-16T10:59:33.880Z"
   },
   {
    "duration": 102,
    "start_time": "2022-06-16T10:59:33.888Z"
   },
   {
    "duration": 3,
    "start_time": "2022-06-16T10:59:33.992Z"
   },
   {
    "duration": 73,
    "start_time": "2022-06-16T10:59:33.997Z"
   },
   {
    "duration": 73,
    "start_time": "2022-06-16T10:59:34.077Z"
   },
   {
    "duration": 5,
    "start_time": "2022-06-16T10:59:42.482Z"
   },
   {
    "duration": 816,
    "start_time": "2022-06-16T10:59:43.251Z"
   },
   {
    "duration": 336,
    "start_time": "2022-06-16T10:59:44.569Z"
   },
   {
    "duration": 837,
    "start_time": "2022-06-16T10:59:47.759Z"
   },
   {
    "duration": 43,
    "start_time": "2022-06-16T10:59:48.597Z"
   },
   {
    "duration": 4,
    "start_time": "2022-06-16T11:00:31.258Z"
   },
   {
    "duration": 735,
    "start_time": "2022-06-16T11:00:31.863Z"
   },
   {
    "duration": 409,
    "start_time": "2022-06-16T11:00:32.600Z"
   },
   {
    "duration": 400,
    "start_time": "2022-06-16T11:00:34.573Z"
   },
   {
    "duration": 57,
    "start_time": "2022-06-16T11:00:35.035Z"
   },
   {
    "duration": 7,
    "start_time": "2022-06-16T11:00:48.577Z"
   },
   {
    "duration": 866,
    "start_time": "2022-06-16T11:00:48.998Z"
   },
   {
    "duration": 338,
    "start_time": "2022-06-16T11:00:49.866Z"
   },
   {
    "duration": 409,
    "start_time": "2022-06-16T11:00:51.185Z"
   },
   {
    "duration": 352,
    "start_time": "2022-06-16T11:00:51.643Z"
   },
   {
    "duration": 1420,
    "start_time": "2022-06-17T05:25:14.723Z"
   },
   {
    "duration": 4,
    "start_time": "2022-06-17T05:25:16.145Z"
   },
   {
    "duration": 215,
    "start_time": "2022-06-17T05:25:16.150Z"
   },
   {
    "duration": 11,
    "start_time": "2022-06-17T05:25:16.367Z"
   },
   {
    "duration": 15,
    "start_time": "2022-06-17T05:25:16.379Z"
   },
   {
    "duration": 6,
    "start_time": "2022-06-17T05:25:16.395Z"
   },
   {
    "duration": 10,
    "start_time": "2022-06-17T05:25:16.402Z"
   },
   {
    "duration": 6,
    "start_time": "2022-06-17T05:25:16.413Z"
   },
   {
    "duration": 6,
    "start_time": "2022-06-17T05:25:16.420Z"
   },
   {
    "duration": 5,
    "start_time": "2022-06-17T05:25:16.428Z"
   },
   {
    "duration": 45,
    "start_time": "2022-06-17T05:25:16.434Z"
   },
   {
    "duration": 43,
    "start_time": "2022-06-17T05:25:16.481Z"
   },
   {
    "duration": 12,
    "start_time": "2022-06-17T05:25:16.526Z"
   },
   {
    "duration": 19,
    "start_time": "2022-06-17T05:25:16.541Z"
   },
   {
    "duration": 72,
    "start_time": "2022-06-17T05:25:16.562Z"
   },
   {
    "duration": 19,
    "start_time": "2022-06-17T05:25:16.636Z"
   },
   {
    "duration": 4,
    "start_time": "2022-06-17T05:25:16.657Z"
   },
   {
    "duration": 26,
    "start_time": "2022-06-17T05:25:16.662Z"
   },
   {
    "duration": 41,
    "start_time": "2022-06-17T05:25:16.689Z"
   },
   {
    "duration": 21,
    "start_time": "2022-06-17T05:25:16.731Z"
   },
   {
    "duration": 22,
    "start_time": "2022-06-17T05:25:16.754Z"
   },
   {
    "duration": 25,
    "start_time": "2022-06-17T05:25:16.777Z"
   },
   {
    "duration": 21,
    "start_time": "2022-06-17T05:25:16.825Z"
   },
   {
    "duration": 20,
    "start_time": "2022-06-17T05:25:16.847Z"
   },
   {
    "duration": 293,
    "start_time": "2022-06-17T05:25:16.869Z"
   },
   {
    "duration": 46,
    "start_time": "2022-06-17T05:25:17.163Z"
   },
   {
    "duration": 26,
    "start_time": "2022-06-17T05:25:17.211Z"
   },
   {
    "duration": 11,
    "start_time": "2022-06-17T05:25:17.240Z"
   },
   {
    "duration": 13,
    "start_time": "2022-06-17T05:25:17.253Z"
   },
   {
    "duration": 415,
    "start_time": "2022-06-17T05:25:17.267Z"
   },
   {
    "duration": 54,
    "start_time": "2022-06-17T05:25:17.683Z"
   },
   {
    "duration": 22,
    "start_time": "2022-06-17T05:25:17.738Z"
   },
   {
    "duration": 27,
    "start_time": "2022-06-17T05:25:17.762Z"
   },
   {
    "duration": 2,
    "start_time": "2022-06-17T05:25:17.791Z"
   },
   {
    "duration": 33,
    "start_time": "2022-06-17T05:25:17.794Z"
   },
   {
    "duration": 16,
    "start_time": "2022-06-17T05:25:17.828Z"
   },
   {
    "duration": 14,
    "start_time": "2022-06-17T05:25:17.845Z"
   },
   {
    "duration": 7,
    "start_time": "2022-06-17T05:25:17.860Z"
   },
   {
    "duration": 171,
    "start_time": "2022-06-17T05:25:17.868Z"
   },
   {
    "duration": 4,
    "start_time": "2022-06-17T05:25:18.040Z"
   },
   {
    "duration": 26,
    "start_time": "2022-06-17T05:25:18.045Z"
   },
   {
    "duration": 32,
    "start_time": "2022-06-17T05:25:18.072Z"
   },
   {
    "duration": 35,
    "start_time": "2022-06-17T05:25:18.106Z"
   },
   {
    "duration": 136,
    "start_time": "2022-06-17T05:25:18.142Z"
   },
   {
    "duration": 4,
    "start_time": "2022-06-17T05:25:18.279Z"
   },
   {
    "duration": 34,
    "start_time": "2022-06-17T05:25:18.284Z"
   },
   {
    "duration": 3,
    "start_time": "2022-06-17T05:25:18.326Z"
   },
   {
    "duration": 7,
    "start_time": "2022-06-17T05:25:18.330Z"
   },
   {
    "duration": 14,
    "start_time": "2022-06-17T05:25:18.338Z"
   },
   {
    "duration": 9,
    "start_time": "2022-06-17T05:25:18.353Z"
   },
   {
    "duration": 8,
    "start_time": "2022-06-17T05:25:18.363Z"
   },
   {
    "duration": 358,
    "start_time": "2022-06-17T05:25:18.372Z"
   },
   {
    "duration": 95,
    "start_time": "2022-06-17T05:25:18.732Z"
   },
   {
    "duration": 103,
    "start_time": "2022-06-17T05:25:18.829Z"
   },
   {
    "duration": 5,
    "start_time": "2022-06-17T05:25:18.934Z"
   },
   {
    "duration": 86,
    "start_time": "2022-06-17T05:25:18.940Z"
   },
   {
    "duration": 77,
    "start_time": "2022-06-17T05:25:19.028Z"
   },
   {
    "duration": 5,
    "start_time": "2022-06-17T05:25:19.106Z"
   },
   {
    "duration": 781,
    "start_time": "2022-06-17T05:25:19.112Z"
   },
   {
    "duration": 346,
    "start_time": "2022-06-17T05:25:19.895Z"
   },
   {
    "duration": 387,
    "start_time": "2022-06-17T05:25:20.242Z"
   },
   {
    "duration": 319,
    "start_time": "2022-06-17T05:25:23.035Z"
   },
   {
    "duration": 367,
    "start_time": "2022-06-17T07:06:57.784Z"
   },
   {
    "duration": 381,
    "start_time": "2022-06-17T07:07:03.879Z"
   },
   {
    "duration": 22,
    "start_time": "2022-06-17T07:18:14.077Z"
   },
   {
    "duration": 22,
    "start_time": "2022-06-17T07:20:26.829Z"
   },
   {
    "duration": 49,
    "start_time": "2022-06-17T07:21:06.911Z"
   },
   {
    "duration": 4,
    "start_time": "2022-06-17T07:23:07.806Z"
   },
   {
    "duration": 115,
    "start_time": "2022-06-17T07:29:03.530Z"
   },
   {
    "duration": 20,
    "start_time": "2022-06-17T07:29:32.099Z"
   },
   {
    "duration": 27,
    "start_time": "2022-06-17T07:29:52.994Z"
   },
   {
    "duration": 28,
    "start_time": "2022-06-17T07:30:17.492Z"
   },
   {
    "duration": 26,
    "start_time": "2022-06-17T07:30:24.977Z"
   },
   {
    "duration": 65,
    "start_time": "2022-06-17T07:30:30.963Z"
   },
   {
    "duration": 66,
    "start_time": "2022-06-17T07:30:37.378Z"
   },
   {
    "duration": 6,
    "start_time": "2022-06-17T07:30:42.677Z"
   },
   {
    "duration": 68,
    "start_time": "2022-06-17T07:30:52.885Z"
   },
   {
    "duration": 7,
    "start_time": "2022-06-17T07:30:54.596Z"
   },
   {
    "duration": 72,
    "start_time": "2022-06-17T07:31:08.390Z"
   },
   {
    "duration": 6,
    "start_time": "2022-06-17T07:31:08.929Z"
   },
   {
    "duration": 68,
    "start_time": "2022-06-17T07:31:24.417Z"
   },
   {
    "duration": 7,
    "start_time": "2022-06-17T07:31:26.596Z"
   },
   {
    "duration": 84,
    "start_time": "2022-06-17T07:31:45.203Z"
   },
   {
    "duration": 7,
    "start_time": "2022-06-17T07:31:50.801Z"
   },
   {
    "duration": 7,
    "start_time": "2022-06-17T07:33:46.885Z"
   },
   {
    "duration": 550,
    "start_time": "2022-06-17T07:33:53.382Z"
   },
   {
    "duration": 499,
    "start_time": "2022-06-17T07:33:56.434Z"
   },
   {
    "duration": 7,
    "start_time": "2022-06-17T07:33:59.092Z"
   },
   {
    "duration": 5,
    "start_time": "2022-06-17T07:34:09.333Z"
   },
   {
    "duration": 6,
    "start_time": "2022-06-17T07:34:30.788Z"
   },
   {
    "duration": 5,
    "start_time": "2022-06-17T07:34:34.182Z"
   },
   {
    "duration": 5,
    "start_time": "2022-06-17T07:34:40.595Z"
   },
   {
    "duration": 6,
    "start_time": "2022-06-17T07:37:09.925Z"
   },
   {
    "duration": 6,
    "start_time": "2022-06-17T07:37:34.486Z"
   },
   {
    "duration": 4,
    "start_time": "2022-06-17T07:37:37.290Z"
   },
   {
    "duration": 5,
    "start_time": "2022-06-17T07:37:53.539Z"
   },
   {
    "duration": 4,
    "start_time": "2022-06-17T07:37:53.955Z"
   },
   {
    "duration": 4,
    "start_time": "2022-06-17T07:38:11.525Z"
   },
   {
    "duration": 4,
    "start_time": "2022-06-17T07:38:11.956Z"
   },
   {
    "duration": 8,
    "start_time": "2022-06-17T07:38:42.611Z"
   },
   {
    "duration": 4,
    "start_time": "2022-06-17T07:38:46.164Z"
   },
   {
    "duration": 3,
    "start_time": "2022-06-17T07:39:23.350Z"
   },
   {
    "duration": 3,
    "start_time": "2022-06-17T07:39:46.243Z"
   },
   {
    "duration": 10,
    "start_time": "2022-06-17T07:40:02.682Z"
   },
   {
    "duration": 3,
    "start_time": "2022-06-17T07:40:16.980Z"
   },
   {
    "duration": 3,
    "start_time": "2022-06-17T07:40:22.213Z"
   },
   {
    "duration": 10,
    "start_time": "2022-06-17T07:40:40.480Z"
   },
   {
    "duration": 4,
    "start_time": "2022-06-17T07:41:00.178Z"
   },
   {
    "duration": 4,
    "start_time": "2022-06-17T07:41:04.806Z"
   },
   {
    "duration": 3,
    "start_time": "2022-06-17T07:41:32.262Z"
   },
   {
    "duration": 39,
    "start_time": "2022-06-17T07:43:07.222Z"
   },
   {
    "duration": 4,
    "start_time": "2022-06-17T07:43:34.444Z"
   },
   {
    "duration": 4,
    "start_time": "2022-06-17T07:43:53.781Z"
   },
   {
    "duration": 4,
    "start_time": "2022-06-17T07:44:30.504Z"
   },
   {
    "duration": 5,
    "start_time": "2022-06-17T07:44:42.119Z"
   },
   {
    "duration": 4,
    "start_time": "2022-06-17T07:45:06.882Z"
   },
   {
    "duration": 4,
    "start_time": "2022-06-17T07:45:30.903Z"
   },
   {
    "duration": 15,
    "start_time": "2022-06-17T07:45:30.915Z"
   },
   {
    "duration": 12,
    "start_time": "2022-06-17T07:45:30.932Z"
   },
   {
    "duration": 16,
    "start_time": "2022-06-17T07:45:30.945Z"
   },
   {
    "duration": 118,
    "start_time": "2022-06-17T07:45:30.963Z"
   },
   {
    "duration": 7,
    "start_time": "2022-06-17T07:45:31.083Z"
   },
   {
    "duration": 17,
    "start_time": "2022-06-17T07:45:31.091Z"
   },
   {
    "duration": 17,
    "start_time": "2022-06-17T07:45:31.109Z"
   },
   {
    "duration": 11,
    "start_time": "2022-06-17T07:45:31.127Z"
   },
   {
    "duration": 22,
    "start_time": "2022-06-17T07:45:31.139Z"
   },
   {
    "duration": 11,
    "start_time": "2022-06-17T07:45:31.163Z"
   },
   {
    "duration": 7,
    "start_time": "2022-06-17T07:45:31.176Z"
   },
   {
    "duration": 38,
    "start_time": "2022-06-17T07:45:31.185Z"
   },
   {
    "duration": 19,
    "start_time": "2022-06-17T07:45:31.225Z"
   },
   {
    "duration": 10,
    "start_time": "2022-06-17T07:45:31.248Z"
   },
   {
    "duration": 15,
    "start_time": "2022-06-17T07:45:31.260Z"
   },
   {
    "duration": 53,
    "start_time": "2022-06-17T07:45:31.277Z"
   },
   {
    "duration": 18,
    "start_time": "2022-06-17T07:45:31.331Z"
   },
   {
    "duration": 4,
    "start_time": "2022-06-17T07:45:31.350Z"
   },
   {
    "duration": 32,
    "start_time": "2022-06-17T07:45:31.355Z"
   },
   {
    "duration": 16,
    "start_time": "2022-06-17T07:45:31.388Z"
   },
   {
    "duration": 16,
    "start_time": "2022-06-17T07:45:31.425Z"
   },
   {
    "duration": 19,
    "start_time": "2022-06-17T07:45:31.442Z"
   },
   {
    "duration": 21,
    "start_time": "2022-06-17T07:45:31.462Z"
   },
   {
    "duration": 43,
    "start_time": "2022-06-17T07:45:31.485Z"
   },
   {
    "duration": 20,
    "start_time": "2022-06-17T07:45:31.530Z"
   },
   {
    "duration": 241,
    "start_time": "2022-06-17T07:45:31.551Z"
   },
   {
    "duration": 56,
    "start_time": "2022-06-17T07:45:31.794Z"
   },
   {
    "duration": 18,
    "start_time": "2022-06-17T07:45:31.852Z"
   },
   {
    "duration": 13,
    "start_time": "2022-06-17T07:45:31.872Z"
   },
   {
    "duration": 14,
    "start_time": "2022-06-17T07:45:31.886Z"
   },
   {
    "duration": 366,
    "start_time": "2022-06-17T07:45:31.902Z"
   },
   {
    "duration": 58,
    "start_time": "2022-06-17T07:45:32.270Z"
   },
   {
    "duration": 23,
    "start_time": "2022-06-17T07:45:32.330Z"
   },
   {
    "duration": 27,
    "start_time": "2022-06-17T07:45:32.354Z"
   },
   {
    "duration": 3,
    "start_time": "2022-06-17T07:45:32.383Z"
   },
   {
    "duration": 38,
    "start_time": "2022-06-17T07:45:32.387Z"
   },
   {
    "duration": 5,
    "start_time": "2022-06-17T07:45:32.427Z"
   },
   {
    "duration": 92,
    "start_time": "2022-06-17T07:45:32.433Z"
   },
   {
    "duration": 9,
    "start_time": "2022-06-17T07:45:32.527Z"
   },
   {
    "duration": 174,
    "start_time": "2022-06-17T07:45:32.538Z"
   },
   {
    "duration": 9,
    "start_time": "2022-06-17T07:45:32.716Z"
   },
   {
    "duration": 24,
    "start_time": "2022-06-17T07:45:32.726Z"
   },
   {
    "duration": 35,
    "start_time": "2022-06-17T07:45:32.752Z"
   },
   {
    "duration": 36,
    "start_time": "2022-06-17T07:45:32.789Z"
   },
   {
    "duration": 131,
    "start_time": "2022-06-17T07:45:32.827Z"
   },
   {
    "duration": 4,
    "start_time": "2022-06-17T07:45:32.960Z"
   },
   {
    "duration": 23,
    "start_time": "2022-06-17T07:45:32.966Z"
   },
   {
    "duration": 4,
    "start_time": "2022-06-17T07:45:32.990Z"
   },
   {
    "duration": 6,
    "start_time": "2022-06-17T07:45:32.995Z"
   },
   {
    "duration": 31,
    "start_time": "2022-06-17T07:45:33.002Z"
   },
   {
    "duration": 9,
    "start_time": "2022-06-17T07:45:33.035Z"
   },
   {
    "duration": 9,
    "start_time": "2022-06-17T07:45:33.046Z"
   },
   {
    "duration": 473,
    "start_time": "2022-06-17T07:45:33.056Z"
   },
   {
    "duration": 6,
    "start_time": "2022-06-17T07:45:33.531Z"
   },
   {
    "duration": 15,
    "start_time": "2022-06-17T07:45:33.626Z"
   },
   {
    "duration": 3,
    "start_time": "2022-06-17T07:45:33.643Z"
   },
   {
    "duration": 83,
    "start_time": "2022-06-17T07:45:33.648Z"
   },
   {
    "duration": 78,
    "start_time": "2022-06-17T07:45:33.733Z"
   },
   {
    "duration": 821,
    "start_time": "2022-06-17T07:45:33.813Z"
   },
   {
    "duration": 318,
    "start_time": "2022-06-17T07:45:34.635Z"
   },
   {
    "duration": 406,
    "start_time": "2022-06-17T07:45:34.955Z"
   },
   {
    "duration": 340,
    "start_time": "2022-06-17T07:45:37.791Z"
   },
   {
    "duration": 85,
    "start_time": "2022-06-17T07:45:41.016Z"
   },
   {
    "duration": 6,
    "start_time": "2022-06-17T07:45:52.487Z"
   },
   {
    "duration": 4,
    "start_time": "2022-06-17T07:45:57.579Z"
   },
   {
    "duration": 21,
    "start_time": "2022-06-17T07:48:38.686Z"
   },
   {
    "duration": 50,
    "start_time": "2022-06-17T07:49:14.660Z"
   },
   {
    "duration": 9,
    "start_time": "2022-06-17T07:49:42.791Z"
   },
   {
    "duration": 7,
    "start_time": "2022-06-17T07:52:29.321Z"
   },
   {
    "duration": 43,
    "start_time": "2022-06-17T07:52:45.195Z"
   },
   {
    "duration": 149,
    "start_time": "2022-06-17T07:53:10.427Z"
   },
   {
    "duration": 38,
    "start_time": "2022-06-17T08:20:51.301Z"
   },
   {
    "duration": 152,
    "start_time": "2022-06-17T08:21:02.470Z"
   },
   {
    "duration": 37,
    "start_time": "2022-06-17T08:21:15.242Z"
   },
   {
    "duration": 36,
    "start_time": "2022-06-17T08:21:28.230Z"
   },
   {
    "duration": 286,
    "start_time": "2022-06-17T08:21:54.812Z"
   },
   {
    "duration": 41,
    "start_time": "2022-06-17T08:22:29.350Z"
   },
   {
    "duration": 5,
    "start_time": "2022-06-17T08:22:45.159Z"
   },
   {
    "duration": 22,
    "start_time": "2022-06-17T08:22:54.246Z"
   },
   {
    "duration": 21,
    "start_time": "2022-06-17T08:23:07.302Z"
   },
   {
    "duration": 19,
    "start_time": "2022-06-17T08:23:17.303Z"
   },
   {
    "duration": 22,
    "start_time": "2022-06-17T08:23:38.566Z"
   },
   {
    "duration": 3,
    "start_time": "2022-06-17T08:23:57.911Z"
   },
   {
    "duration": 134,
    "start_time": "2022-06-17T08:24:40.455Z"
   },
   {
    "duration": 21,
    "start_time": "2022-06-17T08:24:53.158Z"
   },
   {
    "duration": 52,
    "start_time": "2022-06-17T08:25:14.027Z"
   },
   {
    "duration": 59,
    "start_time": "2022-06-17T08:25:42.631Z"
   },
   {
    "duration": 4,
    "start_time": "2022-06-17T08:25:45.464Z"
   },
   {
    "duration": 3,
    "start_time": "2022-06-17T08:25:59.019Z"
   },
   {
    "duration": 4,
    "start_time": "2022-06-17T08:26:48.120Z"
   },
   {
    "duration": 4,
    "start_time": "2022-06-17T08:26:50.361Z"
   },
   {
    "duration": 16,
    "start_time": "2022-06-17T08:28:02.009Z"
   },
   {
    "duration": 35,
    "start_time": "2022-06-17T08:28:09.819Z"
   },
   {
    "duration": 35,
    "start_time": "2022-06-17T08:30:58.427Z"
   },
   {
    "duration": 19,
    "start_time": "2022-06-17T08:31:10.700Z"
   },
   {
    "duration": 19,
    "start_time": "2022-06-17T08:31:19.386Z"
   },
   {
    "duration": 18,
    "start_time": "2022-06-17T08:31:28.201Z"
   },
   {
    "duration": 16,
    "start_time": "2022-06-17T08:31:51.677Z"
   },
   {
    "duration": 34,
    "start_time": "2022-06-17T08:32:07.916Z"
   },
   {
    "duration": 4,
    "start_time": "2022-06-17T08:32:14.539Z"
   },
   {
    "duration": 33,
    "start_time": "2022-06-17T08:32:28.539Z"
   },
   {
    "duration": 19,
    "start_time": "2022-06-17T08:32:41.580Z"
   },
   {
    "duration": 20,
    "start_time": "2022-06-17T08:32:57.404Z"
   },
   {
    "duration": 24,
    "start_time": "2022-06-17T08:33:39.418Z"
   },
   {
    "duration": 35,
    "start_time": "2022-06-17T08:34:00.092Z"
   },
   {
    "duration": 452,
    "start_time": "2022-06-17T08:34:02.944Z"
   },
   {
    "duration": 23,
    "start_time": "2022-06-17T08:34:06.362Z"
   },
   {
    "duration": 19,
    "start_time": "2022-06-17T08:34:15.373Z"
   },
   {
    "duration": 18,
    "start_time": "2022-06-17T08:34:29.710Z"
   },
   {
    "duration": 5,
    "start_time": "2022-06-17T08:34:33.515Z"
   },
   {
    "duration": 3,
    "start_time": "2022-06-17T08:34:38.428Z"
   },
   {
    "duration": 5,
    "start_time": "2022-06-17T08:34:41.243Z"
   },
   {
    "duration": 119,
    "start_time": "2022-06-17T08:37:27.582Z"
   },
   {
    "duration": 111,
    "start_time": "2022-06-17T08:37:43.934Z"
   },
   {
    "duration": 3,
    "start_time": "2022-06-17T08:37:56.300Z"
   },
   {
    "duration": 32,
    "start_time": "2022-06-17T08:38:01.532Z"
   },
   {
    "duration": 569,
    "start_time": "2022-06-17T08:38:09.069Z"
   },
   {
    "duration": 12,
    "start_time": "2022-06-17T08:38:16.540Z"
   },
   {
    "duration": 27,
    "start_time": "2022-06-17T08:38:23.117Z"
   },
   {
    "duration": 19,
    "start_time": "2022-06-17T08:38:30.845Z"
   },
   {
    "duration": 37,
    "start_time": "2022-06-17T08:38:38.124Z"
   },
   {
    "duration": 8,
    "start_time": "2022-06-17T08:38:43.469Z"
   },
   {
    "duration": 19,
    "start_time": "2022-06-17T08:38:50.221Z"
   },
   {
    "duration": 9,
    "start_time": "2022-06-17T08:38:56.652Z"
   },
   {
    "duration": 7,
    "start_time": "2022-06-17T08:39:01.709Z"
   },
   {
    "duration": 4,
    "start_time": "2022-06-17T08:39:07.245Z"
   },
   {
    "duration": 12,
    "start_time": "2022-06-17T08:39:12.316Z"
   },
   {
    "duration": 343,
    "start_time": "2022-06-17T08:39:17.227Z"
   },
   {
    "duration": 19,
    "start_time": "2022-06-17T08:39:24.993Z"
   },
   {
    "duration": 10,
    "start_time": "2022-06-17T08:39:31.005Z"
   },
   {
    "duration": 164,
    "start_time": "2022-06-17T08:39:48.732Z"
   },
   {
    "duration": 347,
    "start_time": "2022-06-17T08:39:49.279Z"
   },
   {
    "duration": 4,
    "start_time": "2022-06-17T08:40:12.850Z"
   },
   {
    "duration": 211,
    "start_time": "2022-06-17T08:40:16.973Z"
   },
   {
    "duration": 147,
    "start_time": "2022-06-17T08:40:28.750Z"
   },
   {
    "duration": 28,
    "start_time": "2022-06-17T08:41:07.774Z"
   },
   {
    "duration": 40,
    "start_time": "2022-06-17T08:41:24.839Z"
   },
   {
    "duration": 66,
    "start_time": "2022-06-17T08:41:35.191Z"
   },
   {
    "duration": 13,
    "start_time": "2022-06-17T08:41:42.003Z"
   },
   {
    "duration": 291,
    "start_time": "2022-06-17T08:42:04.031Z"
   },
   {
    "duration": 83,
    "start_time": "2022-06-17T08:42:17.423Z"
   },
   {
    "duration": 16,
    "start_time": "2022-06-17T08:42:33.848Z"
   },
   {
    "duration": 2,
    "start_time": "2022-06-17T08:42:50.446Z"
   },
   {
    "duration": 13,
    "start_time": "2022-06-17T08:42:56.126Z"
   },
   {
    "duration": 14,
    "start_time": "2022-06-17T08:43:50.671Z"
   },
   {
    "duration": 26,
    "start_time": "2022-06-17T08:45:20.051Z"
   },
   {
    "duration": 3,
    "start_time": "2022-06-17T08:46:46.103Z"
   },
   {
    "duration": 6,
    "start_time": "2022-06-17T08:46:46.108Z"
   },
   {
    "duration": 7,
    "start_time": "2022-06-17T08:46:46.116Z"
   },
   {
    "duration": 12,
    "start_time": "2022-06-17T08:46:46.125Z"
   },
   {
    "duration": 118,
    "start_time": "2022-06-17T08:46:46.139Z"
   },
   {
    "duration": 6,
    "start_time": "2022-06-17T08:46:46.259Z"
   },
   {
    "duration": 16,
    "start_time": "2022-06-17T08:46:46.266Z"
   },
   {
    "duration": 5,
    "start_time": "2022-06-17T08:46:46.284Z"
   },
   {
    "duration": 11,
    "start_time": "2022-06-17T08:46:46.290Z"
   },
   {
    "duration": 23,
    "start_time": "2022-06-17T08:46:46.303Z"
   },
   {
    "duration": 8,
    "start_time": "2022-06-17T08:46:46.328Z"
   },
   {
    "duration": 6,
    "start_time": "2022-06-17T08:46:46.337Z"
   },
   {
    "duration": 43,
    "start_time": "2022-06-17T08:46:46.344Z"
   },
   {
    "duration": 20,
    "start_time": "2022-06-17T08:46:46.389Z"
   },
   {
    "duration": 21,
    "start_time": "2022-06-17T08:46:46.410Z"
   },
   {
    "duration": 14,
    "start_time": "2022-06-17T08:46:46.432Z"
   },
   {
    "duration": 83,
    "start_time": "2022-06-17T08:46:46.448Z"
   },
   {
    "duration": 26,
    "start_time": "2022-06-17T08:46:46.532Z"
   },
   {
    "duration": 6,
    "start_time": "2022-06-17T08:46:46.560Z"
   },
   {
    "duration": 36,
    "start_time": "2022-06-17T08:46:46.568Z"
   },
   {
    "duration": 38,
    "start_time": "2022-06-17T08:46:46.605Z"
   },
   {
    "duration": 20,
    "start_time": "2022-06-17T08:46:46.645Z"
   },
   {
    "duration": 23,
    "start_time": "2022-06-17T08:46:46.667Z"
   },
   {
    "duration": 51,
    "start_time": "2022-06-17T08:46:46.694Z"
   },
   {
    "duration": 21,
    "start_time": "2022-06-17T08:46:46.747Z"
   },
   {
    "duration": 21,
    "start_time": "2022-06-17T08:46:46.770Z"
   },
   {
    "duration": 332,
    "start_time": "2022-06-17T08:46:46.793Z"
   },
   {
    "duration": 36,
    "start_time": "2022-06-17T08:46:47.127Z"
   },
   {
    "duration": 18,
    "start_time": "2022-06-17T08:46:47.164Z"
   },
   {
    "duration": 12,
    "start_time": "2022-06-17T08:46:47.184Z"
   },
   {
    "duration": 35,
    "start_time": "2022-06-17T08:46:47.197Z"
   },
   {
    "duration": 329,
    "start_time": "2022-06-17T08:46:47.234Z"
   },
   {
    "duration": 49,
    "start_time": "2022-06-17T08:46:47.565Z"
   },
   {
    "duration": 20,
    "start_time": "2022-06-17T08:46:47.625Z"
   },
   {
    "duration": 26,
    "start_time": "2022-06-17T08:46:47.646Z"
   },
   {
    "duration": 2,
    "start_time": "2022-06-17T08:46:47.674Z"
   },
   {
    "duration": 16,
    "start_time": "2022-06-17T08:46:47.677Z"
   },
   {
    "duration": 7,
    "start_time": "2022-06-17T08:46:47.694Z"
   },
   {
    "duration": 38,
    "start_time": "2022-06-17T08:46:47.702Z"
   },
   {
    "duration": 7,
    "start_time": "2022-06-17T08:46:47.741Z"
   },
   {
    "duration": 215,
    "start_time": "2022-06-17T08:46:47.749Z"
   },
   {
    "duration": 4,
    "start_time": "2022-06-17T08:46:47.966Z"
   },
   {
    "duration": 25,
    "start_time": "2022-06-17T08:46:47.971Z"
   },
   {
    "duration": 48,
    "start_time": "2022-06-17T08:46:47.998Z"
   },
   {
    "duration": 15,
    "start_time": "2022-06-17T08:46:48.047Z"
   },
   {
    "duration": 200,
    "start_time": "2022-06-17T08:46:48.064Z"
   },
   {
    "duration": 4,
    "start_time": "2022-06-17T08:46:48.266Z"
   },
   {
    "duration": 16,
    "start_time": "2022-06-17T08:46:48.272Z"
   },
   {
    "duration": 39,
    "start_time": "2022-06-17T08:46:48.289Z"
   },
   {
    "duration": 4,
    "start_time": "2022-06-17T08:46:48.329Z"
   },
   {
    "duration": 8,
    "start_time": "2022-06-17T08:46:48.334Z"
   },
   {
    "duration": 16,
    "start_time": "2022-06-17T08:46:48.343Z"
   },
   {
    "duration": 6,
    "start_time": "2022-06-17T08:46:48.360Z"
   },
   {
    "duration": 13,
    "start_time": "2022-06-17T08:46:48.367Z"
   },
   {
    "duration": 349,
    "start_time": "2022-06-17T08:46:48.381Z"
   },
   {
    "duration": 95,
    "start_time": "2022-06-17T08:46:48.732Z"
   },
   {
    "duration": 104,
    "start_time": "2022-06-17T08:46:48.829Z"
   },
   {
    "duration": 3,
    "start_time": "2022-06-17T08:46:48.934Z"
   },
   {
    "duration": 70,
    "start_time": "2022-06-17T08:46:48.939Z"
   },
   {
    "duration": 90,
    "start_time": "2022-06-17T08:46:49.011Z"
   },
   {
    "duration": 847,
    "start_time": "2022-06-17T08:46:49.102Z"
   },
   {
    "duration": 332,
    "start_time": "2022-06-17T08:46:49.950Z"
   },
   {
    "duration": 414,
    "start_time": "2022-06-17T08:46:50.283Z"
   },
   {
    "duration": 359,
    "start_time": "2022-06-17T08:46:50.699Z"
   },
   {
    "duration": 90,
    "start_time": "2022-06-17T08:46:51.060Z"
   },
   {
    "duration": 60,
    "start_time": "2022-06-17T08:46:51.155Z"
   },
   {
    "duration": 4,
    "start_time": "2022-06-17T08:46:51.226Z"
   },
   {
    "duration": 10,
    "start_time": "2022-06-17T08:46:51.232Z"
   },
   {
    "duration": 6,
    "start_time": "2022-06-17T08:46:54.676Z"
   },
   {
    "duration": 7,
    "start_time": "2022-06-17T08:47:18.256Z"
   },
   {
    "duration": 13,
    "start_time": "2022-06-17T08:47:20.913Z"
   },
   {
    "duration": 3,
    "start_time": "2022-06-17T08:47:58.518Z"
   },
   {
    "duration": 10,
    "start_time": "2022-06-17T08:47:58.529Z"
   },
   {
    "duration": 9,
    "start_time": "2022-06-17T08:47:58.541Z"
   },
   {
    "duration": 13,
    "start_time": "2022-06-17T08:47:58.551Z"
   },
   {
    "duration": 113,
    "start_time": "2022-06-17T08:47:58.566Z"
   },
   {
    "duration": 6,
    "start_time": "2022-06-17T08:47:58.681Z"
   },
   {
    "duration": 26,
    "start_time": "2022-06-17T08:47:58.689Z"
   },
   {
    "duration": 7,
    "start_time": "2022-06-17T08:47:58.726Z"
   },
   {
    "duration": 13,
    "start_time": "2022-06-17T08:47:58.734Z"
   },
   {
    "duration": 20,
    "start_time": "2022-06-17T08:47:58.748Z"
   },
   {
    "duration": 11,
    "start_time": "2022-06-17T08:47:58.770Z"
   },
   {
    "duration": 16,
    "start_time": "2022-06-17T08:47:58.783Z"
   },
   {
    "duration": 55,
    "start_time": "2022-06-17T08:47:58.800Z"
   },
   {
    "duration": 21,
    "start_time": "2022-06-17T08:47:58.856Z"
   },
   {
    "duration": 9,
    "start_time": "2022-06-17T08:47:58.880Z"
   },
   {
    "duration": 17,
    "start_time": "2022-06-17T08:47:58.891Z"
   },
   {
    "duration": 53,
    "start_time": "2022-06-17T08:47:58.909Z"
   },
   {
    "duration": 22,
    "start_time": "2022-06-17T08:47:58.964Z"
   },
   {
    "duration": 4,
    "start_time": "2022-06-17T08:47:58.988Z"
   },
   {
    "duration": 48,
    "start_time": "2022-06-17T08:47:58.993Z"
   },
   {
    "duration": 20,
    "start_time": "2022-06-17T08:47:59.042Z"
   },
   {
    "duration": 16,
    "start_time": "2022-06-17T08:47:59.064Z"
   },
   {
    "duration": 20,
    "start_time": "2022-06-17T08:47:59.081Z"
   },
   {
    "duration": 22,
    "start_time": "2022-06-17T08:47:59.126Z"
   },
   {
    "duration": 32,
    "start_time": "2022-06-17T08:47:59.149Z"
   },
   {
    "duration": 20,
    "start_time": "2022-06-17T08:47:59.183Z"
   },
   {
    "duration": 310,
    "start_time": "2022-06-17T08:47:59.205Z"
   },
   {
    "duration": 39,
    "start_time": "2022-06-17T08:47:59.517Z"
   },
   {
    "duration": 18,
    "start_time": "2022-06-17T08:47:59.557Z"
   },
   {
    "duration": 12,
    "start_time": "2022-06-17T08:47:59.576Z"
   },
   {
    "duration": 10,
    "start_time": "2022-06-17T08:47:59.589Z"
   },
   {
    "duration": 358,
    "start_time": "2022-06-17T08:47:59.600Z"
   },
   {
    "duration": 49,
    "start_time": "2022-06-17T08:47:59.959Z"
   },
   {
    "duration": 34,
    "start_time": "2022-06-17T08:48:00.010Z"
   },
   {
    "duration": 29,
    "start_time": "2022-06-17T08:48:00.045Z"
   },
   {
    "duration": 3,
    "start_time": "2022-06-17T08:48:00.075Z"
   },
   {
    "duration": 16,
    "start_time": "2022-06-17T08:48:00.079Z"
   },
   {
    "duration": 8,
    "start_time": "2022-06-17T08:48:00.097Z"
   },
   {
    "duration": 16,
    "start_time": "2022-06-17T08:48:00.125Z"
   },
   {
    "duration": 7,
    "start_time": "2022-06-17T08:48:00.143Z"
   },
   {
    "duration": 215,
    "start_time": "2022-06-17T08:48:00.151Z"
   },
   {
    "duration": 5,
    "start_time": "2022-06-17T08:48:00.370Z"
   },
   {
    "duration": 30,
    "start_time": "2022-06-17T08:48:00.376Z"
   },
   {
    "duration": 50,
    "start_time": "2022-06-17T08:48:00.407Z"
   },
   {
    "duration": 14,
    "start_time": "2022-06-17T08:48:00.459Z"
   },
   {
    "duration": 175,
    "start_time": "2022-06-17T08:48:00.475Z"
   },
   {
    "duration": 5,
    "start_time": "2022-06-17T08:48:00.651Z"
   },
   {
    "duration": 18,
    "start_time": "2022-06-17T08:48:00.657Z"
   },
   {
    "duration": 27,
    "start_time": "2022-06-17T08:48:00.676Z"
   },
   {
    "duration": 4,
    "start_time": "2022-06-17T08:48:00.705Z"
   },
   {
    "duration": 17,
    "start_time": "2022-06-17T08:48:00.710Z"
   },
   {
    "duration": 23,
    "start_time": "2022-06-17T08:48:00.728Z"
   },
   {
    "duration": 22,
    "start_time": "2022-06-17T08:48:00.752Z"
   },
   {
    "duration": 19,
    "start_time": "2022-06-17T08:48:00.775Z"
   },
   {
    "duration": 339,
    "start_time": "2022-06-17T08:48:00.796Z"
   },
   {
    "duration": 7,
    "start_time": "2022-06-17T08:48:01.226Z"
   },
   {
    "duration": 37,
    "start_time": "2022-06-17T08:48:01.326Z"
   },
   {
    "duration": 4,
    "start_time": "2022-06-17T08:48:01.365Z"
   },
   {
    "duration": 68,
    "start_time": "2022-06-17T08:48:01.371Z"
   },
   {
    "duration": 80,
    "start_time": "2022-06-17T08:48:01.441Z"
   },
   {
    "duration": 872,
    "start_time": "2022-06-17T08:48:01.525Z"
   },
   {
    "duration": 367,
    "start_time": "2022-06-17T08:48:02.399Z"
   },
   {
    "duration": 402,
    "start_time": "2022-06-17T08:48:02.767Z"
   },
   {
    "duration": 330,
    "start_time": "2022-06-17T08:48:03.170Z"
   },
   {
    "duration": 89,
    "start_time": "2022-06-17T08:48:03.501Z"
   },
   {
    "duration": 66,
    "start_time": "2022-06-17T08:48:03.592Z"
   },
   {
    "duration": 4,
    "start_time": "2022-06-17T08:48:03.660Z"
   },
   {
    "duration": 10,
    "start_time": "2022-06-17T08:48:03.665Z"
   },
   {
    "duration": 12,
    "start_time": "2022-06-17T08:48:05.679Z"
   },
   {
    "duration": 21,
    "start_time": "2022-06-17T08:48:06.209Z"
   },
   {
    "duration": 4,
    "start_time": "2022-06-17T08:48:36.610Z"
   },
   {
    "duration": 7,
    "start_time": "2022-06-17T08:48:41.760Z"
   },
   {
    "duration": 16,
    "start_time": "2022-06-17T08:48:55.681Z"
   },
   {
    "duration": 30,
    "start_time": "2022-06-17T08:49:00.035Z"
   },
   {
    "duration": 10,
    "start_time": "2022-06-17T08:49:13.457Z"
   },
   {
    "duration": 4,
    "start_time": "2022-06-17T08:49:34.898Z"
   },
   {
    "duration": 20,
    "start_time": "2022-06-17T08:49:55.297Z"
   },
   {
    "duration": 23,
    "start_time": "2022-06-17T08:50:28.177Z"
   },
   {
    "duration": 36,
    "start_time": "2022-06-17T08:51:02.737Z"
   },
   {
    "duration": 5,
    "start_time": "2022-06-17T08:51:05.850Z"
   },
   {
    "duration": 10,
    "start_time": "2022-06-17T08:51:17.057Z"
   },
   {
    "duration": 7,
    "start_time": "2022-06-17T08:51:26.706Z"
   },
   {
    "duration": 36,
    "start_time": "2022-06-17T08:51:34.346Z"
   },
   {
    "duration": 27,
    "start_time": "2022-06-17T08:52:54.322Z"
   },
   {
    "duration": 134,
    "start_time": "2022-06-17T08:53:17.861Z"
   },
   {
    "duration": 6,
    "start_time": "2022-06-17T08:54:01.955Z"
   },
   {
    "duration": 22,
    "start_time": "2022-06-17T08:54:09.234Z"
   },
   {
    "duration": 38,
    "start_time": "2022-06-17T08:55:09.251Z"
   },
   {
    "duration": 62,
    "start_time": "2022-06-17T08:55:24.947Z"
   },
   {
    "duration": 22,
    "start_time": "2022-06-17T08:55:25.972Z"
   },
   {
    "duration": 21,
    "start_time": "2022-06-17T08:55:39.748Z"
   },
   {
    "duration": 19,
    "start_time": "2022-06-17T08:55:47.427Z"
   },
   {
    "duration": 7,
    "start_time": "2022-06-17T08:55:55.477Z"
   },
   {
    "duration": 19,
    "start_time": "2022-06-17T08:57:11.718Z"
   },
   {
    "duration": 5,
    "start_time": "2022-06-17T08:57:21.130Z"
   },
   {
    "duration": 6,
    "start_time": "2022-06-17T08:57:28.862Z"
   },
   {
    "duration": 35,
    "start_time": "2022-06-17T08:58:21.525Z"
   },
   {
    "duration": 38,
    "start_time": "2022-06-17T08:58:24.375Z"
   },
   {
    "duration": 35,
    "start_time": "2022-06-17T08:58:48.133Z"
   },
   {
    "duration": 34,
    "start_time": "2022-06-17T08:59:26.865Z"
   },
   {
    "duration": 4,
    "start_time": "2022-06-17T09:02:29.227Z"
   },
   {
    "duration": 9,
    "start_time": "2022-06-17T09:02:29.233Z"
   },
   {
    "duration": 7,
    "start_time": "2022-06-17T09:02:29.244Z"
   },
   {
    "duration": 8,
    "start_time": "2022-06-17T09:02:29.253Z"
   },
   {
    "duration": 118,
    "start_time": "2022-06-17T09:02:29.263Z"
   },
   {
    "duration": 7,
    "start_time": "2022-06-17T09:02:29.382Z"
   },
   {
    "duration": 23,
    "start_time": "2022-06-17T09:02:29.390Z"
   },
   {
    "duration": 16,
    "start_time": "2022-06-17T09:02:29.414Z"
   },
   {
    "duration": 23,
    "start_time": "2022-06-17T09:02:29.431Z"
   },
   {
    "duration": 12,
    "start_time": "2022-06-17T09:02:29.455Z"
   },
   {
    "duration": 20,
    "start_time": "2022-06-17T09:02:29.469Z"
   },
   {
    "duration": 23,
    "start_time": "2022-06-17T09:02:29.490Z"
   },
   {
    "duration": 69,
    "start_time": "2022-06-17T09:02:29.515Z"
   },
   {
    "duration": 23,
    "start_time": "2022-06-17T09:02:29.586Z"
   },
   {
    "duration": 10,
    "start_time": "2022-06-17T09:02:29.610Z"
   },
   {
    "duration": 27,
    "start_time": "2022-06-17T09:02:29.622Z"
   },
   {
    "duration": 44,
    "start_time": "2022-06-17T09:02:29.651Z"
   },
   {
    "duration": 21,
    "start_time": "2022-06-17T09:02:29.696Z"
   },
   {
    "duration": 13,
    "start_time": "2022-06-17T09:02:29.719Z"
   },
   {
    "duration": 38,
    "start_time": "2022-06-17T09:02:29.734Z"
   },
   {
    "duration": 24,
    "start_time": "2022-06-17T09:02:29.773Z"
   },
   {
    "duration": 18,
    "start_time": "2022-06-17T09:02:29.798Z"
   },
   {
    "duration": 23,
    "start_time": "2022-06-17T09:02:29.818Z"
   },
   {
    "duration": 30,
    "start_time": "2022-06-17T09:02:29.843Z"
   },
   {
    "duration": 20,
    "start_time": "2022-06-17T09:02:29.874Z"
   },
   {
    "duration": 31,
    "start_time": "2022-06-17T09:02:29.896Z"
   },
   {
    "duration": 237,
    "start_time": "2022-06-17T09:02:29.928Z"
   },
   {
    "duration": 38,
    "start_time": "2022-06-17T09:02:30.167Z"
   },
   {
    "duration": 30,
    "start_time": "2022-06-17T09:02:30.209Z"
   },
   {
    "duration": 23,
    "start_time": "2022-06-17T09:02:30.241Z"
   },
   {
    "duration": 40,
    "start_time": "2022-06-17T09:02:30.266Z"
   },
   {
    "duration": 358,
    "start_time": "2022-06-17T09:02:30.308Z"
   },
   {
    "duration": 59,
    "start_time": "2022-06-17T09:02:30.669Z"
   },
   {
    "duration": 24,
    "start_time": "2022-06-17T09:02:30.730Z"
   },
   {
    "duration": 41,
    "start_time": "2022-06-17T09:02:30.756Z"
   },
   {
    "duration": 4,
    "start_time": "2022-06-17T09:02:30.799Z"
   },
   {
    "duration": 12,
    "start_time": "2022-06-17T09:02:30.826Z"
   },
   {
    "duration": 20,
    "start_time": "2022-06-17T09:02:30.839Z"
   },
   {
    "duration": 30,
    "start_time": "2022-06-17T09:02:30.861Z"
   },
   {
    "duration": 7,
    "start_time": "2022-06-17T09:02:30.893Z"
   },
   {
    "duration": 215,
    "start_time": "2022-06-17T09:02:30.901Z"
   },
   {
    "duration": 8,
    "start_time": "2022-06-17T09:02:31.118Z"
   },
   {
    "duration": 52,
    "start_time": "2022-06-17T09:02:31.128Z"
   },
   {
    "duration": 35,
    "start_time": "2022-06-17T09:02:31.181Z"
   },
   {
    "duration": 14,
    "start_time": "2022-06-17T09:02:31.218Z"
   },
   {
    "duration": 257,
    "start_time": "2022-06-17T09:02:31.233Z"
   },
   {
    "duration": 5,
    "start_time": "2022-06-17T09:02:31.492Z"
   },
   {
    "duration": 20,
    "start_time": "2022-06-17T09:02:31.498Z"
   },
   {
    "duration": 35,
    "start_time": "2022-06-17T09:02:31.519Z"
   },
   {
    "duration": 4,
    "start_time": "2022-06-17T09:02:31.555Z"
   },
   {
    "duration": 67,
    "start_time": "2022-06-17T09:02:51.478Z"
   },
   {
    "duration": 91,
    "start_time": "2022-06-17T09:03:00.119Z"
   },
   {
    "duration": 4,
    "start_time": "2022-06-17T09:03:04.247Z"
   },
   {
    "duration": 7,
    "start_time": "2022-06-17T09:03:04.253Z"
   },
   {
    "duration": 17,
    "start_time": "2022-06-17T09:03:04.262Z"
   },
   {
    "duration": 6,
    "start_time": "2022-06-17T09:03:04.281Z"
   },
   {
    "duration": 111,
    "start_time": "2022-06-17T09:03:04.289Z"
   },
   {
    "duration": 7,
    "start_time": "2022-06-17T09:03:04.402Z"
   },
   {
    "duration": 24,
    "start_time": "2022-06-17T09:03:04.410Z"
   },
   {
    "duration": 8,
    "start_time": "2022-06-17T09:03:04.437Z"
   },
   {
    "duration": 15,
    "start_time": "2022-06-17T09:03:04.447Z"
   },
   {
    "duration": 8,
    "start_time": "2022-06-17T09:03:04.463Z"
   },
   {
    "duration": 8,
    "start_time": "2022-06-17T09:03:04.472Z"
   },
   {
    "duration": 12,
    "start_time": "2022-06-17T09:03:04.482Z"
   },
   {
    "duration": 65,
    "start_time": "2022-06-17T09:03:04.496Z"
   },
   {
    "duration": 23,
    "start_time": "2022-06-17T09:03:04.562Z"
   },
   {
    "duration": 11,
    "start_time": "2022-06-17T09:03:04.587Z"
   },
   {
    "duration": 30,
    "start_time": "2022-06-17T09:03:04.600Z"
   },
   {
    "duration": 55,
    "start_time": "2022-06-17T09:03:04.632Z"
   },
   {
    "duration": 38,
    "start_time": "2022-06-17T09:03:04.689Z"
   },
   {
    "duration": 5,
    "start_time": "2022-06-17T09:03:04.729Z"
   },
   {
    "duration": 37,
    "start_time": "2022-06-17T09:03:04.736Z"
   },
   {
    "duration": 23,
    "start_time": "2022-06-17T09:03:04.775Z"
   },
   {
    "duration": 40,
    "start_time": "2022-06-17T09:03:04.800Z"
   },
   {
    "duration": 22,
    "start_time": "2022-06-17T09:03:04.842Z"
   },
   {
    "duration": 23,
    "start_time": "2022-06-17T09:03:04.867Z"
   },
   {
    "duration": 45,
    "start_time": "2022-06-17T09:03:04.891Z"
   },
   {
    "duration": 20,
    "start_time": "2022-06-17T09:03:04.937Z"
   },
   {
    "duration": 278,
    "start_time": "2022-06-17T09:03:04.959Z"
   },
   {
    "duration": 40,
    "start_time": "2022-06-17T09:03:05.239Z"
   },
   {
    "duration": 20,
    "start_time": "2022-06-17T09:03:05.281Z"
   },
   {
    "duration": 31,
    "start_time": "2022-06-17T09:03:05.302Z"
   },
   {
    "duration": 15,
    "start_time": "2022-06-17T09:03:05.335Z"
   },
   {
    "duration": 325,
    "start_time": "2022-06-17T09:03:05.352Z"
   },
   {
    "duration": 57,
    "start_time": "2022-06-17T09:03:05.679Z"
   },
   {
    "duration": 20,
    "start_time": "2022-06-17T09:03:05.738Z"
   },
   {
    "duration": 29,
    "start_time": "2022-06-17T09:03:05.760Z"
   },
   {
    "duration": 3,
    "start_time": "2022-06-17T09:03:05.790Z"
   },
   {
    "duration": 34,
    "start_time": "2022-06-17T09:03:05.794Z"
   },
   {
    "duration": 7,
    "start_time": "2022-06-17T09:03:05.830Z"
   },
   {
    "duration": 113,
    "start_time": "2022-06-17T09:03:05.838Z"
   },
   {
    "duration": 7,
    "start_time": "2022-06-17T09:03:05.953Z"
   },
   {
    "duration": 201,
    "start_time": "2022-06-17T09:03:05.962Z"
   },
   {
    "duration": 5,
    "start_time": "2022-06-17T09:03:06.164Z"
   },
   {
    "duration": 29,
    "start_time": "2022-06-17T09:03:06.171Z"
   },
   {
    "duration": 44,
    "start_time": "2022-06-17T09:03:06.201Z"
   },
   {
    "duration": 12,
    "start_time": "2022-06-17T09:03:06.246Z"
   },
   {
    "duration": 192,
    "start_time": "2022-06-17T09:03:06.259Z"
   },
   {
    "duration": 4,
    "start_time": "2022-06-17T09:03:06.452Z"
   },
   {
    "duration": 39,
    "start_time": "2022-06-17T09:03:06.458Z"
   },
   {
    "duration": 27,
    "start_time": "2022-06-17T09:03:06.500Z"
   },
   {
    "duration": 3,
    "start_time": "2022-06-17T09:03:06.529Z"
   },
   {
    "duration": 16,
    "start_time": "2022-06-17T09:03:06.534Z"
   },
   {
    "duration": 37,
    "start_time": "2022-06-17T09:03:06.552Z"
   },
   {
    "duration": 8,
    "start_time": "2022-06-17T09:03:06.591Z"
   },
   {
    "duration": 18,
    "start_time": "2022-06-17T09:03:06.601Z"
   },
   {
    "duration": 704,
    "start_time": "2022-06-17T09:03:06.621Z"
   },
   {
    "duration": 6,
    "start_time": "2022-06-17T09:03:07.336Z"
   },
   {
    "duration": 98,
    "start_time": "2022-06-17T09:03:07.344Z"
   },
   {
    "duration": 4,
    "start_time": "2022-06-17T09:03:07.444Z"
   },
   {
    "duration": 77,
    "start_time": "2022-06-17T09:03:07.450Z"
   },
   {
    "duration": 68,
    "start_time": "2022-06-17T09:03:07.529Z"
   },
   {
    "duration": 896,
    "start_time": "2022-06-17T09:03:12.325Z"
   },
   {
    "duration": 348,
    "start_time": "2022-06-17T09:03:13.223Z"
   },
   {
    "duration": 422,
    "start_time": "2022-06-17T09:03:15.094Z"
   },
   {
    "duration": 358,
    "start_time": "2022-06-17T09:03:15.518Z"
   },
   {
    "duration": 45,
    "start_time": "2022-06-17T09:03:18.725Z"
   },
   {
    "duration": 28,
    "start_time": "2022-06-17T09:03:19.446Z"
   },
   {
    "duration": 5,
    "start_time": "2022-06-17T09:03:19.989Z"
   },
   {
    "duration": 5,
    "start_time": "2022-06-17T09:03:20.471Z"
   },
   {
    "duration": 14,
    "start_time": "2022-06-17T09:03:26.022Z"
   },
   {
    "duration": 22,
    "start_time": "2022-06-17T09:03:26.552Z"
   },
   {
    "duration": 28,
    "start_time": "2022-06-17T09:03:33.590Z"
   },
   {
    "duration": 37,
    "start_time": "2022-06-17T09:03:35.814Z"
   },
   {
    "duration": 10,
    "start_time": "2022-06-17T09:04:19.239Z"
   },
   {
    "duration": 27,
    "start_time": "2022-06-17T09:04:24.470Z"
   },
   {
    "duration": 14,
    "start_time": "2022-06-17T09:04:28.615Z"
   },
   {
    "duration": 13,
    "start_time": "2022-06-17T09:04:38.151Z"
   },
   {
    "duration": 12,
    "start_time": "2022-06-17T09:04:55.094Z"
   },
   {
    "duration": 11,
    "start_time": "2022-06-17T09:05:11.288Z"
   },
   {
    "duration": 20,
    "start_time": "2022-06-17T09:05:22.167Z"
   },
   {
    "duration": 4,
    "start_time": "2022-06-17T09:05:31.911Z"
   },
   {
    "duration": 26,
    "start_time": "2022-06-17T09:06:39.719Z"
   },
   {
    "duration": 27,
    "start_time": "2022-06-17T09:06:48.321Z"
   },
   {
    "duration": 4,
    "start_time": "2022-06-17T09:07:23.874Z"
   },
   {
    "duration": 5,
    "start_time": "2022-06-17T09:07:37.545Z"
   },
   {
    "duration": 5,
    "start_time": "2022-06-17T09:07:53.528Z"
   },
   {
    "duration": 22,
    "start_time": "2022-06-17T09:08:53.576Z"
   },
   {
    "duration": 32,
    "start_time": "2022-06-17T09:09:09.994Z"
   },
   {
    "duration": 13,
    "start_time": "2022-06-17T09:10:01.434Z"
   },
   {
    "duration": 20,
    "start_time": "2022-06-17T09:10:04.152Z"
   },
   {
    "duration": 13,
    "start_time": "2022-06-17T09:10:24.481Z"
   },
   {
    "duration": 14,
    "start_time": "2022-06-17T09:10:26.009Z"
   },
   {
    "duration": 17,
    "start_time": "2022-06-17T09:10:26.600Z"
   },
   {
    "duration": 4,
    "start_time": "2022-06-17T09:10:30.762Z"
   },
   {
    "duration": 3,
    "start_time": "2022-06-17T09:10:35.483Z"
   },
   {
    "duration": 5,
    "start_time": "2022-06-17T09:10:44.201Z"
   },
   {
    "duration": 11,
    "start_time": "2022-06-17T09:11:39.438Z"
   },
   {
    "duration": 12,
    "start_time": "2022-06-17T09:12:28.041Z"
   },
   {
    "duration": 12,
    "start_time": "2022-06-17T09:12:28.282Z"
   },
   {
    "duration": 4,
    "start_time": "2022-06-17T09:12:31.056Z"
   },
   {
    "duration": 11,
    "start_time": "2022-06-17T09:12:31.063Z"
   },
   {
    "duration": 31,
    "start_time": "2022-06-17T09:12:31.076Z"
   },
   {
    "duration": 19,
    "start_time": "2022-06-17T09:12:31.109Z"
   },
   {
    "duration": 127,
    "start_time": "2022-06-17T09:12:31.130Z"
   },
   {
    "duration": 7,
    "start_time": "2022-06-17T09:12:31.259Z"
   },
   {
    "duration": 24,
    "start_time": "2022-06-17T09:12:31.267Z"
   },
   {
    "duration": 10,
    "start_time": "2022-06-17T09:12:31.292Z"
   },
   {
    "duration": 14,
    "start_time": "2022-06-17T09:12:31.303Z"
   },
   {
    "duration": 6,
    "start_time": "2022-06-17T09:12:31.319Z"
   },
   {
    "duration": 7,
    "start_time": "2022-06-17T09:12:31.327Z"
   },
   {
    "duration": 4,
    "start_time": "2022-06-17T09:12:31.336Z"
   },
   {
    "duration": 40,
    "start_time": "2022-06-17T09:12:31.342Z"
   },
   {
    "duration": 22,
    "start_time": "2022-06-17T09:12:31.386Z"
   },
   {
    "duration": 22,
    "start_time": "2022-06-17T09:12:31.410Z"
   },
   {
    "duration": 13,
    "start_time": "2022-06-17T09:12:31.434Z"
   },
   {
    "duration": 46,
    "start_time": "2022-06-17T09:12:31.449Z"
   },
   {
    "duration": 51,
    "start_time": "2022-06-17T09:12:31.497Z"
   },
   {
    "duration": 5,
    "start_time": "2022-06-17T09:12:31.550Z"
   },
   {
    "duration": 30,
    "start_time": "2022-06-17T09:12:31.557Z"
   },
   {
    "duration": 46,
    "start_time": "2022-06-17T09:12:31.589Z"
   },
   {
    "duration": 17,
    "start_time": "2022-06-17T09:12:31.637Z"
   },
   {
    "duration": 22,
    "start_time": "2022-06-17T09:12:31.656Z"
   },
   {
    "duration": 47,
    "start_time": "2022-06-17T09:12:31.680Z"
   },
   {
    "duration": 22,
    "start_time": "2022-06-17T09:12:31.728Z"
   },
   {
    "duration": 23,
    "start_time": "2022-06-17T09:12:31.751Z"
   },
   {
    "duration": 253,
    "start_time": "2022-06-17T09:12:31.775Z"
   },
   {
    "duration": 36,
    "start_time": "2022-06-17T09:12:32.029Z"
   },
   {
    "duration": 19,
    "start_time": "2022-06-17T09:12:32.067Z"
   },
   {
    "duration": 11,
    "start_time": "2022-06-17T09:12:32.087Z"
   },
   {
    "duration": 29,
    "start_time": "2022-06-17T09:12:32.100Z"
   },
   {
    "duration": 341,
    "start_time": "2022-06-17T09:12:32.131Z"
   },
   {
    "duration": 58,
    "start_time": "2022-06-17T09:12:32.473Z"
   },
   {
    "duration": 21,
    "start_time": "2022-06-17T09:12:32.532Z"
   },
   {
    "duration": 27,
    "start_time": "2022-06-17T09:12:32.555Z"
   },
   {
    "duration": 4,
    "start_time": "2022-06-17T09:12:32.583Z"
   },
   {
    "duration": 16,
    "start_time": "2022-06-17T09:12:32.588Z"
   },
   {
    "duration": 23,
    "start_time": "2022-06-17T09:12:32.606Z"
   },
   {
    "duration": 110,
    "start_time": "2022-06-17T09:12:32.631Z"
   },
   {
    "duration": 8,
    "start_time": "2022-06-17T09:12:32.743Z"
   },
   {
    "duration": 205,
    "start_time": "2022-06-17T09:12:32.754Z"
   },
   {
    "duration": 4,
    "start_time": "2022-06-17T09:12:32.961Z"
   },
   {
    "duration": 23,
    "start_time": "2022-06-17T09:12:32.967Z"
   },
   {
    "duration": 49,
    "start_time": "2022-06-17T09:12:32.991Z"
   },
   {
    "duration": 13,
    "start_time": "2022-06-17T09:12:33.042Z"
   },
   {
    "duration": 170,
    "start_time": "2022-06-17T09:12:33.057Z"
   },
   {
    "duration": 4,
    "start_time": "2022-06-17T09:12:33.228Z"
   },
   {
    "duration": 10,
    "start_time": "2022-06-17T09:12:33.234Z"
   },
   {
    "duration": 20,
    "start_time": "2022-06-17T09:12:33.245Z"
   },
   {
    "duration": 3,
    "start_time": "2022-06-17T09:12:33.267Z"
   },
   {
    "duration": 6,
    "start_time": "2022-06-17T09:12:33.271Z"
   },
   {
    "duration": 17,
    "start_time": "2022-06-17T09:12:33.278Z"
   },
   {
    "duration": 3,
    "start_time": "2022-06-17T09:12:33.297Z"
   },
   {
    "duration": 6,
    "start_time": "2022-06-17T09:12:33.326Z"
   },
   {
    "duration": 493,
    "start_time": "2022-06-17T09:12:33.333Z"
   },
   {
    "duration": 98,
    "start_time": "2022-06-17T09:12:33.828Z"
   },
   {
    "duration": 17,
    "start_time": "2022-06-17T09:12:33.927Z"
   },
   {
    "duration": 3,
    "start_time": "2022-06-17T09:12:33.946Z"
   },
   {
    "duration": 82,
    "start_time": "2022-06-17T09:12:33.951Z"
   },
   {
    "duration": 70,
    "start_time": "2022-06-17T09:12:34.034Z"
   },
   {
    "duration": 896,
    "start_time": "2022-06-17T09:12:34.105Z"
   },
   {
    "duration": 350,
    "start_time": "2022-06-17T09:12:35.003Z"
   },
   {
    "duration": 419,
    "start_time": "2022-06-17T09:12:35.355Z"
   },
   {
    "duration": 330,
    "start_time": "2022-06-17T09:12:35.776Z"
   },
   {
    "duration": 48,
    "start_time": "2022-06-17T09:12:36.108Z"
   },
   {
    "duration": 24,
    "start_time": "2022-06-17T09:12:36.157Z"
   },
   {
    "duration": 6,
    "start_time": "2022-06-17T09:12:36.183Z"
   },
   {
    "duration": 9,
    "start_time": "2022-06-17T09:12:36.191Z"
   },
   {
    "duration": 26,
    "start_time": "2022-06-17T09:12:36.202Z"
   },
   {
    "duration": 17,
    "start_time": "2022-06-17T09:12:36.230Z"
   },
   {
    "duration": 10,
    "start_time": "2022-06-17T09:12:36.249Z"
   },
   {
    "duration": 11,
    "start_time": "2022-06-17T09:12:36.260Z"
   },
   {
    "duration": 6,
    "start_time": "2022-06-17T09:12:44.147Z"
   },
   {
    "duration": 5,
    "start_time": "2022-06-17T09:12:49.799Z"
   },
   {
    "duration": 35,
    "start_time": "2022-06-17T09:12:58.207Z"
   },
   {
    "duration": 8,
    "start_time": "2022-06-17T09:13:09.820Z"
   },
   {
    "duration": 7,
    "start_time": "2022-06-17T09:13:14.532Z"
   },
   {
    "duration": 10,
    "start_time": "2022-06-17T09:13:36.235Z"
   },
   {
    "duration": 8,
    "start_time": "2022-06-17T09:13:39.821Z"
   },
   {
    "duration": 4,
    "start_time": "2022-06-17T09:14:27.069Z"
   },
   {
    "duration": 9,
    "start_time": "2022-06-17T09:14:38.220Z"
   },
   {
    "duration": 4,
    "start_time": "2022-06-17T09:14:51.036Z"
   },
   {
    "duration": 5,
    "start_time": "2022-06-17T09:16:11.723Z"
   },
   {
    "duration": 4,
    "start_time": "2022-06-17T09:16:15.067Z"
   },
   {
    "duration": 1265,
    "start_time": "2022-06-17T09:31:17.002Z"
   },
   {
    "duration": 4,
    "start_time": "2022-06-17T09:31:18.269Z"
   },
   {
    "duration": 9,
    "start_time": "2022-06-17T09:31:18.275Z"
   },
   {
    "duration": 7,
    "start_time": "2022-06-17T09:31:18.286Z"
   },
   {
    "duration": 130,
    "start_time": "2022-06-17T09:31:18.294Z"
   },
   {
    "duration": 11,
    "start_time": "2022-06-17T09:31:18.426Z"
   },
   {
    "duration": 15,
    "start_time": "2022-06-17T09:31:18.439Z"
   },
   {
    "duration": 6,
    "start_time": "2022-06-17T09:31:18.456Z"
   },
   {
    "duration": 10,
    "start_time": "2022-06-17T09:31:18.463Z"
   },
   {
    "duration": 20,
    "start_time": "2022-06-17T09:31:18.476Z"
   },
   {
    "duration": 27,
    "start_time": "2022-06-17T09:31:18.498Z"
   },
   {
    "duration": 2,
    "start_time": "2022-06-17T09:31:18.527Z"
   },
   {
    "duration": 47,
    "start_time": "2022-06-17T09:31:18.531Z"
   },
   {
    "duration": 24,
    "start_time": "2022-06-17T09:31:18.580Z"
   },
   {
    "duration": 14,
    "start_time": "2022-06-17T09:31:18.626Z"
   },
   {
    "duration": 20,
    "start_time": "2022-06-17T09:31:18.642Z"
   },
   {
    "duration": 62,
    "start_time": "2022-06-17T09:31:18.663Z"
   },
   {
    "duration": 22,
    "start_time": "2022-06-17T09:31:18.727Z"
   },
   {
    "duration": 4,
    "start_time": "2022-06-17T09:31:18.752Z"
   },
   {
    "duration": 39,
    "start_time": "2022-06-17T09:31:18.758Z"
   },
   {
    "duration": 36,
    "start_time": "2022-06-17T09:31:18.807Z"
   },
   {
    "duration": 28,
    "start_time": "2022-06-17T09:31:18.845Z"
   },
   {
    "duration": 52,
    "start_time": "2022-06-17T09:31:18.875Z"
   },
   {
    "duration": 28,
    "start_time": "2022-06-17T09:31:18.928Z"
   },
   {
    "duration": 21,
    "start_time": "2022-06-17T09:31:18.958Z"
   },
   {
    "duration": 21,
    "start_time": "2022-06-17T09:31:18.981Z"
   },
   {
    "duration": 288,
    "start_time": "2022-06-17T09:31:19.025Z"
   },
   {
    "duration": 75,
    "start_time": "2022-06-17T09:31:19.318Z"
   },
   {
    "duration": 42,
    "start_time": "2022-06-17T09:31:19.395Z"
   },
   {
    "duration": 13,
    "start_time": "2022-06-17T09:31:19.439Z"
   },
   {
    "duration": 21,
    "start_time": "2022-06-17T09:31:19.454Z"
   },
   {
    "duration": 384,
    "start_time": "2022-06-17T09:31:19.476Z"
   },
   {
    "duration": 52,
    "start_time": "2022-06-17T09:31:19.861Z"
   },
   {
    "duration": 23,
    "start_time": "2022-06-17T09:31:19.924Z"
   },
   {
    "duration": 28,
    "start_time": "2022-06-17T09:31:19.949Z"
   },
   {
    "duration": 3,
    "start_time": "2022-06-17T09:31:19.978Z"
   },
   {
    "duration": 14,
    "start_time": "2022-06-17T09:31:19.982Z"
   },
   {
    "duration": 35,
    "start_time": "2022-06-17T09:31:19.998Z"
   },
   {
    "duration": 22,
    "start_time": "2022-06-17T09:31:20.035Z"
   },
   {
    "duration": 10,
    "start_time": "2022-06-17T09:31:20.058Z"
   },
   {
    "duration": 190,
    "start_time": "2022-06-17T09:31:20.069Z"
   },
   {
    "duration": 4,
    "start_time": "2022-06-17T09:31:20.261Z"
   },
   {
    "duration": 26,
    "start_time": "2022-06-17T09:31:20.266Z"
   },
   {
    "duration": 60,
    "start_time": "2022-06-17T09:31:20.294Z"
   },
   {
    "duration": 22,
    "start_time": "2022-06-17T09:31:20.356Z"
   },
   {
    "duration": 159,
    "start_time": "2022-06-17T09:31:20.380Z"
   },
   {
    "duration": 5,
    "start_time": "2022-06-17T09:31:20.540Z"
   },
   {
    "duration": 12,
    "start_time": "2022-06-17T09:31:20.546Z"
   },
   {
    "duration": 21,
    "start_time": "2022-06-17T09:31:20.559Z"
   },
   {
    "duration": 4,
    "start_time": "2022-06-17T09:31:20.582Z"
   },
   {
    "duration": 8,
    "start_time": "2022-06-17T09:31:20.587Z"
   },
   {
    "duration": 38,
    "start_time": "2022-06-17T09:31:20.596Z"
   },
   {
    "duration": 8,
    "start_time": "2022-06-17T09:31:20.636Z"
   },
   {
    "duration": 9,
    "start_time": "2022-06-17T09:31:20.646Z"
   },
   {
    "duration": 279,
    "start_time": "2022-06-17T09:31:20.656Z"
   },
   {
    "duration": 89,
    "start_time": "2022-06-17T09:31:20.938Z"
   },
   {
    "duration": 107,
    "start_time": "2022-06-17T09:31:21.028Z"
   },
   {
    "duration": 4,
    "start_time": "2022-06-17T09:31:21.137Z"
   },
   {
    "duration": 83,
    "start_time": "2022-06-17T09:31:21.142Z"
   },
   {
    "duration": 82,
    "start_time": "2022-06-17T09:31:21.227Z"
   },
   {
    "duration": 898,
    "start_time": "2022-06-17T09:31:21.311Z"
   },
   {
    "duration": 367,
    "start_time": "2022-06-17T09:31:22.211Z"
   },
   {
    "duration": 424,
    "start_time": "2022-06-17T09:31:22.579Z"
   },
   {
    "duration": 356,
    "start_time": "2022-06-17T09:31:23.005Z"
   },
   {
    "duration": 41,
    "start_time": "2022-06-17T09:31:23.363Z"
   },
   {
    "duration": 43,
    "start_time": "2022-06-17T09:31:23.405Z"
   },
   {
    "duration": 4,
    "start_time": "2022-06-17T09:31:23.450Z"
   },
   {
    "duration": 9,
    "start_time": "2022-06-17T09:31:23.456Z"
   },
   {
    "duration": 17,
    "start_time": "2022-06-17T09:31:23.466Z"
   },
   {
    "duration": 18,
    "start_time": "2022-06-17T09:31:23.485Z"
   },
   {
    "duration": 30,
    "start_time": "2022-06-17T09:31:23.504Z"
   },
   {
    "duration": 14,
    "start_time": "2022-06-17T09:31:23.535Z"
   },
   {
    "duration": 5,
    "start_time": "2022-06-17T09:31:23.551Z"
   },
   {
    "duration": 12,
    "start_time": "2022-06-17T09:31:23.557Z"
   },
   {
    "duration": 27,
    "start_time": "2022-06-17T09:31:23.571Z"
   },
   {
    "duration": 84,
    "start_time": "2022-06-20T06:14:36.989Z"
   },
   {
    "duration": 123,
    "start_time": "2022-06-20T06:16:39.773Z"
   },
   {
    "duration": 87,
    "start_time": "2022-06-20T06:20:50.668Z"
   },
   {
    "duration": 88,
    "start_time": "2022-06-20T06:21:39.462Z"
   },
   {
    "duration": 84,
    "start_time": "2022-06-20T06:32:47.659Z"
   },
   {
    "duration": 1499,
    "start_time": "2022-06-20T10:39:20.143Z"
   },
   {
    "duration": 4,
    "start_time": "2022-06-20T10:39:21.644Z"
   },
   {
    "duration": 9,
    "start_time": "2022-06-20T10:39:21.649Z"
   },
   {
    "duration": 5,
    "start_time": "2022-06-20T10:39:21.660Z"
   },
   {
    "duration": 498,
    "start_time": "2022-06-20T10:39:21.667Z"
   },
   {
    "duration": 14,
    "start_time": "2022-06-20T10:39:22.167Z"
   },
   {
    "duration": 27,
    "start_time": "2022-06-20T10:39:22.183Z"
   },
   {
    "duration": 7,
    "start_time": "2022-06-20T10:39:22.212Z"
   },
   {
    "duration": 16,
    "start_time": "2022-06-20T10:39:22.221Z"
   },
   {
    "duration": 18,
    "start_time": "2022-06-20T10:39:22.241Z"
   },
   {
    "duration": 6,
    "start_time": "2022-06-20T10:39:22.261Z"
   },
   {
    "duration": 5,
    "start_time": "2022-06-20T10:39:22.268Z"
   },
   {
    "duration": 57,
    "start_time": "2022-06-20T10:39:22.275Z"
   },
   {
    "duration": 43,
    "start_time": "2022-06-20T10:39:22.334Z"
   },
   {
    "duration": 10,
    "start_time": "2022-06-20T10:39:22.379Z"
   },
   {
    "duration": 15,
    "start_time": "2022-06-20T10:39:22.391Z"
   },
   {
    "duration": 75,
    "start_time": "2022-06-20T10:39:22.408Z"
   },
   {
    "duration": 21,
    "start_time": "2022-06-20T10:39:22.485Z"
   },
   {
    "duration": 5,
    "start_time": "2022-06-20T10:39:22.507Z"
   },
   {
    "duration": 46,
    "start_time": "2022-06-20T10:39:22.514Z"
   },
   {
    "duration": 19,
    "start_time": "2022-06-20T10:39:22.561Z"
   },
   {
    "duration": 18,
    "start_time": "2022-06-20T10:39:22.582Z"
   },
   {
    "duration": 23,
    "start_time": "2022-06-20T10:39:22.602Z"
   },
   {
    "duration": 8,
    "start_time": "2022-06-20T10:41:51.940Z"
   },
   {
    "duration": 11,
    "start_time": "2022-06-20T10:41:57.512Z"
   },
   {
    "duration": 3,
    "start_time": "2022-06-20T10:43:33.891Z"
   },
   {
    "duration": 14,
    "start_time": "2022-06-20T10:43:33.896Z"
   },
   {
    "duration": 11,
    "start_time": "2022-06-20T10:43:33.912Z"
   },
   {
    "duration": 23,
    "start_time": "2022-06-20T10:43:33.925Z"
   },
   {
    "duration": 115,
    "start_time": "2022-06-20T10:43:33.951Z"
   },
   {
    "duration": 7,
    "start_time": "2022-06-20T10:43:34.068Z"
   },
   {
    "duration": 24,
    "start_time": "2022-06-20T10:43:34.077Z"
   },
   {
    "duration": 13,
    "start_time": "2022-06-20T10:43:34.102Z"
   },
   {
    "duration": 17,
    "start_time": "2022-06-20T10:43:34.116Z"
   },
   {
    "duration": 12,
    "start_time": "2022-06-20T10:43:34.135Z"
   },
   {
    "duration": 13,
    "start_time": "2022-06-20T10:43:34.149Z"
   },
   {
    "duration": 27,
    "start_time": "2022-06-20T10:43:34.164Z"
   },
   {
    "duration": 47,
    "start_time": "2022-06-20T10:43:34.192Z"
   },
   {
    "duration": 20,
    "start_time": "2022-06-20T10:43:34.241Z"
   },
   {
    "duration": 13,
    "start_time": "2022-06-20T10:43:34.262Z"
   },
   {
    "duration": 26,
    "start_time": "2022-06-20T10:43:34.276Z"
   },
   {
    "duration": 48,
    "start_time": "2022-06-20T10:43:34.303Z"
   },
   {
    "duration": 24,
    "start_time": "2022-06-20T10:43:34.352Z"
   },
   {
    "duration": 5,
    "start_time": "2022-06-20T10:43:34.377Z"
   },
   {
    "duration": 30,
    "start_time": "2022-06-20T10:43:34.383Z"
   },
   {
    "duration": 22,
    "start_time": "2022-06-20T10:43:34.414Z"
   },
   {
    "duration": 37,
    "start_time": "2022-06-20T10:43:34.437Z"
   },
   {
    "duration": 28,
    "start_time": "2022-06-20T10:43:34.476Z"
   },
   {
    "duration": 27,
    "start_time": "2022-06-20T10:43:34.505Z"
   },
   {
    "duration": 26,
    "start_time": "2022-06-20T10:44:01.859Z"
   },
   {
    "duration": 6,
    "start_time": "2022-06-20T10:44:39.457Z"
   },
   {
    "duration": 28,
    "start_time": "2022-06-20T10:44:48.002Z"
   },
   {
    "duration": 3,
    "start_time": "2022-06-20T10:46:55.528Z"
   },
   {
    "duration": 19,
    "start_time": "2022-06-20T10:46:55.533Z"
   },
   {
    "duration": 6,
    "start_time": "2022-06-20T10:46:55.554Z"
   },
   {
    "duration": 5,
    "start_time": "2022-06-20T10:46:55.562Z"
   },
   {
    "duration": 125,
    "start_time": "2022-06-20T10:46:55.569Z"
   },
   {
    "duration": 7,
    "start_time": "2022-06-20T10:46:55.695Z"
   },
   {
    "duration": 19,
    "start_time": "2022-06-20T10:46:55.704Z"
   },
   {
    "duration": 6,
    "start_time": "2022-06-20T10:46:55.724Z"
   },
   {
    "duration": 14,
    "start_time": "2022-06-20T10:46:55.732Z"
   },
   {
    "duration": 10,
    "start_time": "2022-06-20T10:46:55.747Z"
   },
   {
    "duration": 20,
    "start_time": "2022-06-20T10:46:55.760Z"
   },
   {
    "duration": 19,
    "start_time": "2022-06-20T10:46:55.782Z"
   },
   {
    "duration": 53,
    "start_time": "2022-06-20T10:46:55.803Z"
   },
   {
    "duration": 22,
    "start_time": "2022-06-20T10:46:55.857Z"
   },
   {
    "duration": 19,
    "start_time": "2022-06-20T10:46:55.880Z"
   },
   {
    "duration": 29,
    "start_time": "2022-06-20T10:46:55.900Z"
   },
   {
    "duration": 55,
    "start_time": "2022-06-20T10:46:55.931Z"
   },
   {
    "duration": 21,
    "start_time": "2022-06-20T10:46:55.988Z"
   },
   {
    "duration": 11,
    "start_time": "2022-06-20T10:46:56.010Z"
   },
   {
    "duration": 39,
    "start_time": "2022-06-20T10:46:56.023Z"
   },
   {
    "duration": 36,
    "start_time": "2022-06-20T10:46:56.064Z"
   },
   {
    "duration": 22,
    "start_time": "2022-06-20T10:46:56.102Z"
   },
   {
    "duration": 22,
    "start_time": "2022-06-20T10:46:56.126Z"
   },
   {
    "duration": 26,
    "start_time": "2022-06-20T10:46:56.159Z"
   },
   {
    "duration": 5,
    "start_time": "2022-06-20T10:46:56.187Z"
   },
   {
    "duration": 42,
    "start_time": "2022-06-20T10:46:56.194Z"
   },
   {
    "duration": 22,
    "start_time": "2022-06-20T10:46:56.238Z"
   },
   {
    "duration": 291,
    "start_time": "2022-06-20T10:46:56.263Z"
   },
   {
    "duration": 47,
    "start_time": "2022-06-20T10:46:56.556Z"
   },
   {
    "duration": 20,
    "start_time": "2022-06-20T10:46:56.604Z"
   },
   {
    "duration": 34,
    "start_time": "2022-06-20T10:46:56.625Z"
   },
   {
    "duration": 9,
    "start_time": "2022-06-20T10:46:56.661Z"
   },
   {
    "duration": 361,
    "start_time": "2022-06-20T10:46:56.672Z"
   },
   {
    "duration": 4,
    "start_time": "2022-06-20T10:48:03.654Z"
   },
   {
    "duration": 13,
    "start_time": "2022-06-20T10:48:03.660Z"
   },
   {
    "duration": 19,
    "start_time": "2022-06-20T10:48:03.675Z"
   },
   {
    "duration": 15,
    "start_time": "2022-06-20T10:48:03.696Z"
   },
   {
    "duration": 140,
    "start_time": "2022-06-20T10:48:03.713Z"
   },
   {
    "duration": 8,
    "start_time": "2022-06-20T10:48:03.854Z"
   },
   {
    "duration": 35,
    "start_time": "2022-06-20T10:48:03.863Z"
   },
   {
    "duration": 14,
    "start_time": "2022-06-20T10:48:03.900Z"
   },
   {
    "duration": 27,
    "start_time": "2022-06-20T10:48:03.916Z"
   },
   {
    "duration": 27,
    "start_time": "2022-06-20T10:48:03.944Z"
   },
   {
    "duration": 13,
    "start_time": "2022-06-20T10:48:03.973Z"
   },
   {
    "duration": 18,
    "start_time": "2022-06-20T10:48:03.987Z"
   },
   {
    "duration": 46,
    "start_time": "2022-06-20T10:48:04.007Z"
   },
   {
    "duration": 25,
    "start_time": "2022-06-20T10:48:04.055Z"
   },
   {
    "duration": 10,
    "start_time": "2022-06-20T10:48:04.083Z"
   },
   {
    "duration": 14,
    "start_time": "2022-06-20T10:48:04.095Z"
   },
   {
    "duration": 67,
    "start_time": "2022-06-20T10:48:04.110Z"
   },
   {
    "duration": 24,
    "start_time": "2022-06-20T10:48:04.179Z"
   },
   {
    "duration": 12,
    "start_time": "2022-06-20T10:48:04.205Z"
   },
   {
    "duration": 49,
    "start_time": "2022-06-20T10:48:04.220Z"
   },
   {
    "duration": 21,
    "start_time": "2022-06-20T10:48:04.271Z"
   },
   {
    "duration": 18,
    "start_time": "2022-06-20T10:48:04.293Z"
   },
   {
    "duration": 47,
    "start_time": "2022-06-20T10:48:04.312Z"
   },
   {
    "duration": 26,
    "start_time": "2022-06-20T10:48:04.361Z"
   },
   {
    "duration": 5,
    "start_time": "2022-06-20T10:48:04.389Z"
   },
   {
    "duration": 31,
    "start_time": "2022-06-20T10:48:04.396Z"
   },
   {
    "duration": 52,
    "start_time": "2022-06-20T10:48:04.429Z"
   },
   {
    "duration": 334,
    "start_time": "2022-06-20T10:48:04.483Z"
   },
   {
    "duration": 52,
    "start_time": "2022-06-20T10:48:04.820Z"
   },
   {
    "duration": 20,
    "start_time": "2022-06-20T10:48:04.873Z"
   },
   {
    "duration": 13,
    "start_time": "2022-06-20T10:48:04.895Z"
   },
   {
    "duration": 16,
    "start_time": "2022-06-20T10:48:04.910Z"
   },
   {
    "duration": 392,
    "start_time": "2022-06-20T10:48:04.927Z"
   },
   {
    "duration": 54,
    "start_time": "2022-06-20T10:48:05.321Z"
   },
   {
    "duration": 22,
    "start_time": "2022-06-20T10:48:05.376Z"
   },
   {
    "duration": 106,
    "start_time": "2022-06-20T10:50:43.882Z"
   },
   {
    "duration": 28,
    "start_time": "2022-06-20T10:51:01.143Z"
   },
   {
    "duration": 33,
    "start_time": "2022-06-20T10:51:08.935Z"
   },
   {
    "duration": 5,
    "start_time": "2022-06-20T10:52:01.984Z"
   },
   {
    "duration": 5,
    "start_time": "2022-06-20T10:52:04.951Z"
   },
   {
    "duration": 141,
    "start_time": "2022-06-20T10:52:05.589Z"
   },
   {
    "duration": 4,
    "start_time": "2022-06-20T10:52:06.965Z"
   },
   {
    "duration": 11,
    "start_time": "2022-06-20T10:52:09.013Z"
   },
   {
    "duration": 21,
    "start_time": "2022-06-20T10:52:09.461Z"
   },
   {
    "duration": 3,
    "start_time": "2022-06-20T10:52:09.841Z"
   },
   {
    "duration": 4,
    "start_time": "2022-06-20T10:52:43.002Z"
   },
   {
    "duration": 5,
    "start_time": "2022-06-20T10:52:48.437Z"
   },
   {
    "duration": 14,
    "start_time": "2022-06-20T10:52:48.784Z"
   },
   {
    "duration": 4,
    "start_time": "2022-06-20T10:52:49.365Z"
   },
   {
    "duration": 7,
    "start_time": "2022-06-20T10:52:49.687Z"
   },
   {
    "duration": 510,
    "start_time": "2022-06-20T10:52:49.958Z"
   },
   {
    "duration": 97,
    "start_time": "2022-06-20T10:52:50.561Z"
   },
   {
    "duration": 10,
    "start_time": "2022-06-20T10:52:51.015Z"
   },
   {
    "duration": 4,
    "start_time": "2022-06-20T10:56:52.123Z"
   },
   {
    "duration": 9,
    "start_time": "2022-06-20T10:56:52.129Z"
   },
   {
    "duration": 9,
    "start_time": "2022-06-20T10:56:52.140Z"
   },
   {
    "duration": 17,
    "start_time": "2022-06-20T10:56:52.151Z"
   },
   {
    "duration": 134,
    "start_time": "2022-06-20T10:56:52.170Z"
   },
   {
    "duration": 7,
    "start_time": "2022-06-20T10:56:52.306Z"
   },
   {
    "duration": 31,
    "start_time": "2022-06-20T10:56:52.315Z"
   },
   {
    "duration": 23,
    "start_time": "2022-06-20T10:56:52.347Z"
   },
   {
    "duration": 24,
    "start_time": "2022-06-20T10:56:52.371Z"
   },
   {
    "duration": 15,
    "start_time": "2022-06-20T10:56:52.397Z"
   },
   {
    "duration": 9,
    "start_time": "2022-06-20T10:56:52.415Z"
   },
   {
    "duration": 17,
    "start_time": "2022-06-20T10:56:52.425Z"
   },
   {
    "duration": 66,
    "start_time": "2022-06-20T10:56:52.443Z"
   },
   {
    "duration": 23,
    "start_time": "2022-06-20T10:56:52.511Z"
   },
   {
    "duration": 15,
    "start_time": "2022-06-20T10:56:52.535Z"
   },
   {
    "duration": 19,
    "start_time": "2022-06-20T10:56:52.552Z"
   },
   {
    "duration": 54,
    "start_time": "2022-06-20T10:56:52.572Z"
   },
   {
    "duration": 32,
    "start_time": "2022-06-20T10:56:52.627Z"
   },
   {
    "duration": 5,
    "start_time": "2022-06-20T10:56:52.661Z"
   },
   {
    "duration": 33,
    "start_time": "2022-06-20T10:56:52.667Z"
   },
   {
    "duration": 22,
    "start_time": "2022-06-20T10:56:52.702Z"
   },
   {
    "duration": 44,
    "start_time": "2022-06-20T10:56:52.725Z"
   },
   {
    "duration": 23,
    "start_time": "2022-06-20T10:56:52.771Z"
   },
   {
    "duration": 26,
    "start_time": "2022-06-20T10:56:52.796Z"
   },
   {
    "duration": 6,
    "start_time": "2022-06-20T10:56:52.824Z"
   },
   {
    "duration": 21,
    "start_time": "2022-06-20T10:56:52.858Z"
   },
   {
    "duration": 20,
    "start_time": "2022-06-20T10:56:52.880Z"
   },
   {
    "duration": 328,
    "start_time": "2022-06-20T10:56:52.902Z"
   },
   {
    "duration": 55,
    "start_time": "2022-06-20T10:56:53.233Z"
   },
   {
    "duration": 19,
    "start_time": "2022-06-20T10:56:53.289Z"
   },
   {
    "duration": 13,
    "start_time": "2022-06-20T10:56:53.310Z"
   },
   {
    "duration": 29,
    "start_time": "2022-06-20T10:56:53.324Z"
   },
   {
    "duration": 336,
    "start_time": "2022-06-20T10:56:53.355Z"
   },
   {
    "duration": 53,
    "start_time": "2022-06-20T10:56:53.692Z"
   },
   {
    "duration": 30,
    "start_time": "2022-06-20T10:56:53.746Z"
   },
   {
    "duration": 30,
    "start_time": "2022-06-20T10:56:53.778Z"
   },
   {
    "duration": 2,
    "start_time": "2022-06-20T10:56:53.810Z"
   },
   {
    "duration": 30,
    "start_time": "2022-06-20T10:56:53.814Z"
   },
   {
    "duration": 19,
    "start_time": "2022-06-20T10:56:53.846Z"
   },
   {
    "duration": 14,
    "start_time": "2022-06-20T10:56:53.866Z"
   },
   {
    "duration": 18,
    "start_time": "2022-06-20T10:56:53.881Z"
   },
   {
    "duration": 172,
    "start_time": "2022-06-20T10:56:53.901Z"
   },
   {
    "duration": 4,
    "start_time": "2022-06-20T10:56:54.075Z"
   },
   {
    "duration": 43,
    "start_time": "2022-06-20T10:56:54.081Z"
   },
   {
    "duration": 32,
    "start_time": "2022-06-20T10:56:54.126Z"
   },
   {
    "duration": 4,
    "start_time": "2022-06-20T10:56:54.160Z"
   },
   {
    "duration": 139,
    "start_time": "2022-06-20T10:56:54.165Z"
   },
   {
    "duration": 5,
    "start_time": "2022-06-20T10:56:54.305Z"
   },
   {
    "duration": 31,
    "start_time": "2022-06-20T10:56:54.312Z"
   },
   {
    "duration": 37,
    "start_time": "2022-06-20T10:56:54.345Z"
   },
   {
    "duration": 15,
    "start_time": "2022-06-20T10:56:54.383Z"
   },
   {
    "duration": 14,
    "start_time": "2022-06-20T10:56:54.399Z"
   },
   {
    "duration": 49,
    "start_time": "2022-06-20T10:56:54.415Z"
   },
   {
    "duration": 17,
    "start_time": "2022-06-20T10:56:54.466Z"
   },
   {
    "duration": 17,
    "start_time": "2022-06-20T10:56:54.485Z"
   },
   {
    "duration": 463,
    "start_time": "2022-06-20T10:56:54.503Z"
   },
   {
    "duration": 104,
    "start_time": "2022-06-20T10:56:54.968Z"
   },
   {
    "duration": 91,
    "start_time": "2022-06-20T10:56:55.074Z"
   },
   {
    "duration": 23,
    "start_time": "2022-06-20T10:59:50.604Z"
   },
   {
    "duration": 3,
    "start_time": "2022-06-20T11:00:19.645Z"
   },
   {
    "duration": 4,
    "start_time": "2022-06-20T11:00:19.670Z"
   },
   {
    "duration": 7,
    "start_time": "2022-06-20T11:00:19.676Z"
   },
   {
    "duration": 8,
    "start_time": "2022-06-20T11:00:19.685Z"
   },
   {
    "duration": 118,
    "start_time": "2022-06-20T11:00:19.695Z"
   },
   {
    "duration": 7,
    "start_time": "2022-06-20T11:00:19.816Z"
   },
   {
    "duration": 19,
    "start_time": "2022-06-20T11:00:19.825Z"
   },
   {
    "duration": 6,
    "start_time": "2022-06-20T11:00:19.845Z"
   },
   {
    "duration": 11,
    "start_time": "2022-06-20T11:00:19.852Z"
   },
   {
    "duration": 4,
    "start_time": "2022-06-20T11:00:19.865Z"
   },
   {
    "duration": 7,
    "start_time": "2022-06-20T11:00:19.870Z"
   },
   {
    "duration": 7,
    "start_time": "2022-06-20T11:00:19.878Z"
   },
   {
    "duration": 42,
    "start_time": "2022-06-20T11:00:19.886Z"
   },
   {
    "duration": 35,
    "start_time": "2022-06-20T11:00:19.930Z"
   },
   {
    "duration": 9,
    "start_time": "2022-06-20T11:00:19.968Z"
   },
   {
    "duration": 14,
    "start_time": "2022-06-20T11:00:19.978Z"
   },
   {
    "duration": 70,
    "start_time": "2022-06-20T11:00:19.993Z"
   },
   {
    "duration": 26,
    "start_time": "2022-06-20T11:00:24.731Z"
   },
   {
    "duration": 12,
    "start_time": "2022-06-20T11:00:30.470Z"
   },
   {
    "duration": 3,
    "start_time": "2022-06-20T11:00:43.690Z"
   },
   {
    "duration": 13,
    "start_time": "2022-06-20T11:00:43.696Z"
   },
   {
    "duration": 14,
    "start_time": "2022-06-20T11:00:43.711Z"
   },
   {
    "duration": 11,
    "start_time": "2022-06-20T11:00:43.727Z"
   },
   {
    "duration": 136,
    "start_time": "2022-06-20T11:00:43.740Z"
   },
   {
    "duration": 6,
    "start_time": "2022-06-20T11:00:43.878Z"
   },
   {
    "duration": 18,
    "start_time": "2022-06-20T11:00:43.886Z"
   },
   {
    "duration": 6,
    "start_time": "2022-06-20T11:00:43.906Z"
   },
   {
    "duration": 12,
    "start_time": "2022-06-20T11:00:43.914Z"
   },
   {
    "duration": 8,
    "start_time": "2022-06-20T11:00:43.927Z"
   },
   {
    "duration": 25,
    "start_time": "2022-06-20T11:00:43.936Z"
   },
   {
    "duration": 5,
    "start_time": "2022-06-20T11:00:43.963Z"
   },
   {
    "duration": 53,
    "start_time": "2022-06-20T11:00:43.970Z"
   },
   {
    "duration": 21,
    "start_time": "2022-06-20T11:00:44.025Z"
   },
   {
    "duration": 20,
    "start_time": "2022-06-20T11:00:44.048Z"
   },
   {
    "duration": 22,
    "start_time": "2022-06-20T11:00:44.070Z"
   },
   {
    "duration": 51,
    "start_time": "2022-06-20T11:00:44.093Z"
   },
   {
    "duration": 29,
    "start_time": "2022-06-20T11:00:44.145Z"
   },
   {
    "duration": 4,
    "start_time": "2022-06-20T11:00:44.176Z"
   },
   {
    "duration": 29,
    "start_time": "2022-06-20T11:00:44.181Z"
   },
   {
    "duration": 23,
    "start_time": "2022-06-20T11:00:44.211Z"
   },
   {
    "duration": 34,
    "start_time": "2022-06-20T11:00:44.235Z"
   },
   {
    "duration": 23,
    "start_time": "2022-06-20T11:00:44.270Z"
   },
   {
    "duration": 23,
    "start_time": "2022-06-20T11:00:44.297Z"
   },
   {
    "duration": 5,
    "start_time": "2022-06-20T11:00:44.321Z"
   },
   {
    "duration": 20,
    "start_time": "2022-06-20T11:00:44.358Z"
   },
   {
    "duration": 23,
    "start_time": "2022-06-20T11:00:44.379Z"
   },
   {
    "duration": 301,
    "start_time": "2022-06-20T11:00:44.404Z"
   },
   {
    "duration": 52,
    "start_time": "2022-06-20T11:00:44.707Z"
   },
   {
    "duration": 20,
    "start_time": "2022-06-20T11:00:44.761Z"
   },
   {
    "duration": 14,
    "start_time": "2022-06-20T11:00:44.782Z"
   },
   {
    "duration": 21,
    "start_time": "2022-06-20T11:00:44.797Z"
   },
   {
    "duration": 363,
    "start_time": "2022-06-20T11:00:44.819Z"
   },
   {
    "duration": 53,
    "start_time": "2022-06-20T11:00:45.183Z"
   },
   {
    "duration": 34,
    "start_time": "2022-06-20T11:00:45.238Z"
   },
   {
    "duration": 29,
    "start_time": "2022-06-20T11:00:45.273Z"
   },
   {
    "duration": 2,
    "start_time": "2022-06-20T11:00:45.304Z"
   },
   {
    "duration": 14,
    "start_time": "2022-06-20T11:00:45.308Z"
   },
   {
    "duration": 10,
    "start_time": "2022-06-20T11:00:45.323Z"
   },
   {
    "duration": 30,
    "start_time": "2022-06-20T11:00:45.335Z"
   },
   {
    "duration": 7,
    "start_time": "2022-06-20T11:00:45.366Z"
   },
   {
    "duration": 183,
    "start_time": "2022-06-20T11:00:45.375Z"
   },
   {
    "duration": 3,
    "start_time": "2022-06-20T11:00:45.560Z"
   },
   {
    "duration": 30,
    "start_time": "2022-06-20T11:00:45.565Z"
   },
   {
    "duration": 32,
    "start_time": "2022-06-20T11:00:45.597Z"
   },
   {
    "duration": 3,
    "start_time": "2022-06-20T11:00:45.631Z"
   },
   {
    "duration": 149,
    "start_time": "2022-06-20T11:00:45.636Z"
   },
   {
    "duration": 5,
    "start_time": "2022-06-20T11:00:45.786Z"
   },
   {
    "duration": 19,
    "start_time": "2022-06-20T11:00:45.792Z"
   },
   {
    "duration": 32,
    "start_time": "2022-06-20T11:00:45.813Z"
   },
   {
    "duration": 3,
    "start_time": "2022-06-20T11:00:45.846Z"
   },
   {
    "duration": 19,
    "start_time": "2022-06-20T11:00:45.851Z"
   },
   {
    "duration": 18,
    "start_time": "2022-06-20T11:00:45.872Z"
   },
   {
    "duration": 5,
    "start_time": "2022-06-20T11:00:45.892Z"
   },
   {
    "duration": 24,
    "start_time": "2022-06-20T11:00:45.899Z"
   },
   {
    "duration": 441,
    "start_time": "2022-06-20T11:00:45.925Z"
   },
   {
    "duration": 93,
    "start_time": "2022-06-20T11:00:46.368Z"
   },
   {
    "duration": 102,
    "start_time": "2022-06-20T11:00:46.465Z"
   },
   {
    "duration": 12,
    "start_time": "2022-06-20T11:00:46.568Z"
   },
   {
    "duration": 118,
    "start_time": "2022-06-20T11:00:46.582Z"
   },
   {
    "duration": 86,
    "start_time": "2022-06-20T11:00:46.702Z"
   },
   {
    "duration": 848,
    "start_time": "2022-06-20T11:00:46.791Z"
   },
   {
    "duration": 361,
    "start_time": "2022-06-20T11:00:47.641Z"
   },
   {
    "duration": 387,
    "start_time": "2022-06-20T11:00:48.004Z"
   },
   {
    "duration": 305,
    "start_time": "2022-06-20T11:00:48.393Z"
   },
   {
    "duration": 8,
    "start_time": "2022-06-20T11:03:58.491Z"
   },
   {
    "duration": 20,
    "start_time": "2022-06-20T11:04:29.309Z"
   },
   {
    "duration": 18,
    "start_time": "2022-06-20T11:04:33.532Z"
   },
   {
    "duration": 11,
    "start_time": "2022-06-20T11:04:44.028Z"
   },
   {
    "duration": 35,
    "start_time": "2022-06-20T11:05:41.296Z"
   },
   {
    "duration": 36,
    "start_time": "2022-06-20T11:05:50.222Z"
   },
   {
    "duration": 37,
    "start_time": "2022-06-20T11:05:55.193Z"
   },
   {
    "duration": 7,
    "start_time": "2022-06-20T11:06:04.957Z"
   },
   {
    "duration": 21,
    "start_time": "2022-06-20T11:06:25.663Z"
   },
   {
    "duration": 21,
    "start_time": "2022-06-20T11:06:59.711Z"
   },
   {
    "duration": 6,
    "start_time": "2022-06-20T11:07:11.042Z"
   },
   {
    "duration": 3,
    "start_time": "2022-06-20T11:07:25.839Z"
   },
   {
    "duration": 6,
    "start_time": "2022-06-20T11:07:29.776Z"
   },
   {
    "duration": 3,
    "start_time": "2022-06-20T11:07:41.969Z"
   },
   {
    "duration": 7,
    "start_time": "2022-06-20T11:07:50.336Z"
   },
   {
    "duration": 25,
    "start_time": "2022-06-20T11:18:15.448Z"
   },
   {
    "duration": 16,
    "start_time": "2022-06-20T12:48:36.008Z"
   },
   {
    "duration": 26,
    "start_time": "2022-06-20T12:48:40.835Z"
   },
   {
    "duration": 26,
    "start_time": "2022-06-20T12:54:27.456Z"
   },
   {
    "duration": 89,
    "start_time": "2022-06-20T12:54:31.650Z"
   },
   {
    "duration": 20,
    "start_time": "2022-06-20T12:55:57.407Z"
   },
   {
    "duration": 34,
    "start_time": "2022-06-20T12:56:21.507Z"
   },
   {
    "duration": 29,
    "start_time": "2022-06-20T12:56:47.925Z"
   },
   {
    "duration": 21,
    "start_time": "2022-06-20T12:57:11.510Z"
   },
   {
    "duration": 21,
    "start_time": "2022-06-20T12:57:22.826Z"
   },
   {
    "duration": 4,
    "start_time": "2022-06-20T12:57:27.581Z"
   },
   {
    "duration": 21,
    "start_time": "2022-06-20T12:57:33.630Z"
   },
   {
    "duration": 20,
    "start_time": "2022-06-20T12:57:39.282Z"
   },
   {
    "duration": 20,
    "start_time": "2022-06-20T12:58:12.602Z"
   },
   {
    "duration": 45,
    "start_time": "2022-06-20T12:58:12.990Z"
   },
   {
    "duration": 31,
    "start_time": "2022-06-20T12:58:44.644Z"
   },
   {
    "duration": 27,
    "start_time": "2022-06-20T12:58:47.661Z"
   },
   {
    "duration": 25,
    "start_time": "2022-06-20T12:59:03.762Z"
   },
   {
    "duration": 86,
    "start_time": "2022-06-20T12:59:15.399Z"
   },
   {
    "duration": 80,
    "start_time": "2022-06-20T12:59:36.007Z"
   },
   {
    "duration": 19,
    "start_time": "2022-06-20T12:59:51.058Z"
   },
   {
    "duration": 8,
    "start_time": "2022-06-20T12:59:54.549Z"
   },
   {
    "duration": 3,
    "start_time": "2022-06-20T13:00:06.586Z"
   },
   {
    "duration": 34,
    "start_time": "2022-06-20T13:00:19.279Z"
   },
   {
    "duration": 18,
    "start_time": "2022-06-20T13:00:28.881Z"
   },
   {
    "duration": 24,
    "start_time": "2022-06-20T13:00:35.201Z"
   },
   {
    "duration": 28,
    "start_time": "2022-06-20T13:00:40.549Z"
   },
   {
    "duration": 4,
    "start_time": "2022-06-20T13:00:45.254Z"
   },
   {
    "duration": 19,
    "start_time": "2022-06-20T13:00:57.595Z"
   },
   {
    "duration": 54,
    "start_time": "2022-06-20T13:01:09.359Z"
   },
   {
    "duration": 26,
    "start_time": "2022-06-20T13:01:13.000Z"
   },
   {
    "duration": 23,
    "start_time": "2022-06-20T13:01:15.216Z"
   },
   {
    "duration": 24,
    "start_time": "2022-06-20T13:01:27.228Z"
   },
   {
    "duration": 22,
    "start_time": "2022-06-20T13:01:34.779Z"
   },
   {
    "duration": 19,
    "start_time": "2022-06-20T13:01:41.704Z"
   },
   {
    "duration": 28,
    "start_time": "2022-06-20T13:01:48.291Z"
   },
   {
    "duration": 23,
    "start_time": "2022-06-20T13:01:58.180Z"
   },
   {
    "duration": 27,
    "start_time": "2022-06-20T13:02:44.721Z"
   },
   {
    "duration": 18,
    "start_time": "2022-06-20T13:02:54.877Z"
   },
   {
    "duration": 40,
    "start_time": "2022-06-20T13:03:33.440Z"
   },
   {
    "duration": 26,
    "start_time": "2022-06-20T13:03:36.042Z"
   },
   {
    "duration": 24,
    "start_time": "2022-06-20T13:04:29.294Z"
   },
   {
    "duration": 32,
    "start_time": "2022-06-20T13:05:58.355Z"
   },
   {
    "duration": 18,
    "start_time": "2022-06-20T13:06:56.489Z"
   },
   {
    "duration": 12,
    "start_time": "2022-06-20T13:07:00.436Z"
   },
   {
    "duration": 38,
    "start_time": "2022-06-20T13:08:13.254Z"
   },
   {
    "duration": 12,
    "start_time": "2022-06-20T13:08:34.781Z"
   },
   {
    "duration": 16,
    "start_time": "2022-06-20T13:08:42.184Z"
   },
   {
    "duration": 25,
    "start_time": "2022-06-20T13:08:54.302Z"
   },
   {
    "duration": 16,
    "start_time": "2022-06-20T13:09:00.041Z"
   },
   {
    "duration": 8,
    "start_time": "2022-06-20T13:09:12.605Z"
   },
   {
    "duration": 9,
    "start_time": "2022-06-20T13:09:20.178Z"
   },
   {
    "duration": 23,
    "start_time": "2022-06-20T13:09:32.096Z"
   },
   {
    "duration": 9,
    "start_time": "2022-06-20T13:09:38.680Z"
   },
   {
    "duration": 21,
    "start_time": "2022-06-20T13:10:16.938Z"
   },
   {
    "duration": 23,
    "start_time": "2022-06-20T13:10:20.010Z"
   },
   {
    "duration": 4,
    "start_time": "2022-06-20T13:10:44.797Z"
   },
   {
    "duration": 9,
    "start_time": "2022-06-20T13:10:49.088Z"
   },
   {
    "duration": 9,
    "start_time": "2022-06-20T13:12:13.479Z"
   },
   {
    "duration": 16,
    "start_time": "2022-06-20T13:12:19.317Z"
   },
   {
    "duration": 15,
    "start_time": "2022-06-20T13:12:26.228Z"
   },
   {
    "duration": 5,
    "start_time": "2022-06-20T13:12:55.778Z"
   },
   {
    "duration": 13,
    "start_time": "2022-06-20T13:13:05.182Z"
   },
   {
    "duration": 10,
    "start_time": "2022-06-20T13:14:21.911Z"
   },
   {
    "duration": 13,
    "start_time": "2022-06-20T13:14:27.095Z"
   },
   {
    "duration": 9,
    "start_time": "2022-06-20T13:15:14.547Z"
   },
   {
    "duration": 13,
    "start_time": "2022-06-20T13:15:19.485Z"
   },
   {
    "duration": 12,
    "start_time": "2022-06-20T13:15:23.235Z"
   },
   {
    "duration": 11,
    "start_time": "2022-06-20T13:16:03.267Z"
   },
   {
    "duration": 12,
    "start_time": "2022-06-20T13:16:03.281Z"
   },
   {
    "duration": 8,
    "start_time": "2022-06-20T13:16:03.294Z"
   },
   {
    "duration": 11,
    "start_time": "2022-06-20T13:16:03.303Z"
   },
   {
    "duration": 123,
    "start_time": "2022-06-20T13:16:03.316Z"
   },
   {
    "duration": 8,
    "start_time": "2022-06-20T13:16:03.440Z"
   },
   {
    "duration": 25,
    "start_time": "2022-06-20T13:16:03.449Z"
   },
   {
    "duration": 13,
    "start_time": "2022-06-20T13:16:03.475Z"
   },
   {
    "duration": 11,
    "start_time": "2022-06-20T13:16:03.489Z"
   },
   {
    "duration": 7,
    "start_time": "2022-06-20T13:16:03.502Z"
   },
   {
    "duration": 9,
    "start_time": "2022-06-20T13:16:03.511Z"
   },
   {
    "duration": 9,
    "start_time": "2022-06-20T13:16:03.522Z"
   },
   {
    "duration": 55,
    "start_time": "2022-06-20T13:16:03.532Z"
   },
   {
    "duration": 20,
    "start_time": "2022-06-20T13:16:03.589Z"
   },
   {
    "duration": 9,
    "start_time": "2022-06-20T13:16:03.611Z"
   },
   {
    "duration": 16,
    "start_time": "2022-06-20T13:16:03.622Z"
   },
   {
    "duration": 55,
    "start_time": "2022-06-20T13:16:03.660Z"
   },
   {
    "duration": 19,
    "start_time": "2022-06-20T13:16:03.717Z"
   },
   {
    "duration": 5,
    "start_time": "2022-06-20T13:16:03.737Z"
   },
   {
    "duration": 35,
    "start_time": "2022-06-20T13:16:03.759Z"
   },
   {
    "duration": 21,
    "start_time": "2022-06-20T13:16:03.796Z"
   },
   {
    "duration": 44,
    "start_time": "2022-06-20T13:16:03.818Z"
   },
   {
    "duration": 26,
    "start_time": "2022-06-20T13:16:03.865Z"
   },
   {
    "duration": 24,
    "start_time": "2022-06-20T13:16:03.893Z"
   },
   {
    "duration": 5,
    "start_time": "2022-06-20T13:16:03.918Z"
   },
   {
    "duration": 43,
    "start_time": "2022-06-20T13:16:03.925Z"
   },
   {
    "duration": 21,
    "start_time": "2022-06-20T13:16:03.972Z"
   },
   {
    "duration": 237,
    "start_time": "2022-06-20T13:16:03.994Z"
   },
   {
    "duration": 45,
    "start_time": "2022-06-20T13:16:04.233Z"
   },
   {
    "duration": 18,
    "start_time": "2022-06-20T13:16:04.280Z"
   },
   {
    "duration": 11,
    "start_time": "2022-06-20T13:16:04.300Z"
   },
   {
    "duration": 13,
    "start_time": "2022-06-20T13:16:04.315Z"
   },
   {
    "duration": 376,
    "start_time": "2022-06-20T13:16:04.329Z"
   },
   {
    "duration": 71,
    "start_time": "2022-06-20T13:16:04.706Z"
   },
   {
    "duration": 21,
    "start_time": "2022-06-20T13:16:04.779Z"
   },
   {
    "duration": 28,
    "start_time": "2022-06-20T13:16:04.801Z"
   },
   {
    "duration": 2,
    "start_time": "2022-06-20T13:16:04.831Z"
   },
   {
    "duration": 39,
    "start_time": "2022-06-20T13:16:04.834Z"
   },
   {
    "duration": 9,
    "start_time": "2022-06-20T13:16:04.875Z"
   },
   {
    "duration": 10,
    "start_time": "2022-06-20T13:16:04.886Z"
   },
   {
    "duration": 7,
    "start_time": "2022-06-20T13:16:04.897Z"
   },
   {
    "duration": 240,
    "start_time": "2022-06-20T13:16:04.905Z"
   },
   {
    "duration": 4,
    "start_time": "2022-06-20T13:16:05.147Z"
   },
   {
    "duration": 27,
    "start_time": "2022-06-20T13:16:05.167Z"
   },
   {
    "duration": 33,
    "start_time": "2022-06-20T13:16:05.195Z"
   },
   {
    "duration": 4,
    "start_time": "2022-06-20T13:16:05.229Z"
   },
   {
    "duration": 149,
    "start_time": "2022-06-20T13:16:05.235Z"
   },
   {
    "duration": 5,
    "start_time": "2022-06-20T13:16:05.385Z"
   },
   {
    "duration": 16,
    "start_time": "2022-06-20T13:16:05.391Z"
   },
   {
    "duration": 21,
    "start_time": "2022-06-20T13:16:05.408Z"
   },
   {
    "duration": 3,
    "start_time": "2022-06-20T13:16:05.431Z"
   },
   {
    "duration": 29,
    "start_time": "2022-06-20T13:16:05.435Z"
   },
   {
    "duration": 30,
    "start_time": "2022-06-20T13:16:05.466Z"
   },
   {
    "duration": 6,
    "start_time": "2022-06-20T13:16:05.497Z"
   },
   {
    "duration": 8,
    "start_time": "2022-06-20T13:16:05.505Z"
   },
   {
    "duration": 343,
    "start_time": "2022-06-20T13:16:05.515Z"
   },
   {
    "duration": 11,
    "start_time": "2022-06-20T13:16:05.861Z"
   },
   {
    "duration": 20,
    "start_time": "2022-06-20T13:16:05.960Z"
   },
   {
    "duration": 8,
    "start_time": "2022-06-20T13:16:05.981Z"
   },
   {
    "duration": 78,
    "start_time": "2022-06-20T13:16:05.990Z"
   },
   {
    "duration": 13,
    "start_time": "2022-06-20T13:16:15.896Z"
   },
   {
    "duration": 6,
    "start_time": "2022-06-20T13:17:32.549Z"
   },
   {
    "duration": 11,
    "start_time": "2022-06-20T13:17:41.699Z"
   },
   {
    "duration": 4,
    "start_time": "2022-06-20T13:18:26.219Z"
   },
   {
    "duration": 3,
    "start_time": "2022-06-20T13:18:33.995Z"
   },
   {
    "duration": 12,
    "start_time": "2022-06-20T13:20:09.081Z"
   },
   {
    "duration": 4,
    "start_time": "2022-06-20T13:20:13.612Z"
   },
   {
    "duration": 15,
    "start_time": "2022-06-20T13:20:13.618Z"
   },
   {
    "duration": 11,
    "start_time": "2022-06-20T13:20:13.634Z"
   },
   {
    "duration": 11,
    "start_time": "2022-06-20T13:20:13.646Z"
   },
   {
    "duration": 136,
    "start_time": "2022-06-20T13:20:13.659Z"
   },
   {
    "duration": 8,
    "start_time": "2022-06-20T13:20:13.798Z"
   },
   {
    "duration": 19,
    "start_time": "2022-06-20T13:20:13.808Z"
   },
   {
    "duration": 7,
    "start_time": "2022-06-20T13:20:13.828Z"
   },
   {
    "duration": 31,
    "start_time": "2022-06-20T13:20:13.837Z"
   },
   {
    "duration": 14,
    "start_time": "2022-06-20T13:20:13.870Z"
   },
   {
    "duration": 10,
    "start_time": "2022-06-20T13:20:13.885Z"
   },
   {
    "duration": 12,
    "start_time": "2022-06-20T13:20:13.896Z"
   },
   {
    "duration": 41,
    "start_time": "2022-06-20T13:20:13.911Z"
   },
   {
    "duration": 30,
    "start_time": "2022-06-20T13:20:13.954Z"
   },
   {
    "duration": 10,
    "start_time": "2022-06-20T13:20:13.985Z"
   },
   {
    "duration": 12,
    "start_time": "2022-06-20T13:20:13.997Z"
   },
   {
    "duration": 82,
    "start_time": "2022-06-20T13:20:14.011Z"
   },
   {
    "duration": 23,
    "start_time": "2022-06-20T13:20:14.095Z"
   },
   {
    "duration": 5,
    "start_time": "2022-06-20T13:20:14.119Z"
   },
   {
    "duration": 55,
    "start_time": "2022-06-20T13:20:14.125Z"
   },
   {
    "duration": 18,
    "start_time": "2022-06-20T13:20:14.181Z"
   },
   {
    "duration": 17,
    "start_time": "2022-06-20T13:20:14.200Z"
   },
   {
    "duration": 22,
    "start_time": "2022-06-20T13:20:14.219Z"
   },
   {
    "duration": 43,
    "start_time": "2022-06-20T13:20:14.243Z"
   },
   {
    "duration": 6,
    "start_time": "2022-06-20T13:20:14.287Z"
   },
   {
    "duration": 23,
    "start_time": "2022-06-20T13:20:14.294Z"
   },
   {
    "duration": 19,
    "start_time": "2022-06-20T13:20:14.319Z"
   },
   {
    "duration": 329,
    "start_time": "2022-06-20T13:20:14.359Z"
   },
   {
    "duration": 47,
    "start_time": "2022-06-20T13:20:14.690Z"
   },
   {
    "duration": 50,
    "start_time": "2022-06-20T13:20:14.739Z"
   },
   {
    "duration": 26,
    "start_time": "2022-06-20T13:20:14.791Z"
   },
   {
    "duration": 13,
    "start_time": "2022-06-20T13:20:14.819Z"
   },
   {
    "duration": 378,
    "start_time": "2022-06-20T13:20:14.834Z"
   },
   {
    "duration": 63,
    "start_time": "2022-06-20T13:20:15.214Z"
   },
   {
    "duration": 23,
    "start_time": "2022-06-20T13:20:15.279Z"
   },
   {
    "duration": 30,
    "start_time": "2022-06-20T13:20:15.305Z"
   },
   {
    "duration": 23,
    "start_time": "2022-06-20T13:20:15.336Z"
   },
   {
    "duration": 16,
    "start_time": "2022-06-20T13:20:15.360Z"
   },
   {
    "duration": 8,
    "start_time": "2022-06-20T13:20:15.378Z"
   },
   {
    "duration": 10,
    "start_time": "2022-06-20T13:20:15.387Z"
   },
   {
    "duration": 9,
    "start_time": "2022-06-20T13:20:15.398Z"
   },
   {
    "duration": 198,
    "start_time": "2022-06-20T13:20:15.409Z"
   },
   {
    "duration": 4,
    "start_time": "2022-06-20T13:20:15.609Z"
   },
   {
    "duration": 25,
    "start_time": "2022-06-20T13:20:15.615Z"
   },
   {
    "duration": 53,
    "start_time": "2022-06-20T13:20:15.642Z"
   },
   {
    "duration": 5,
    "start_time": "2022-06-20T13:20:15.697Z"
   },
   {
    "duration": 149,
    "start_time": "2022-06-20T13:20:15.703Z"
   },
   {
    "duration": 8,
    "start_time": "2022-06-20T13:20:15.866Z"
   },
   {
    "duration": 20,
    "start_time": "2022-06-20T13:20:15.875Z"
   },
   {
    "duration": 22,
    "start_time": "2022-06-20T13:20:15.897Z"
   },
   {
    "duration": 4,
    "start_time": "2022-06-20T13:20:15.921Z"
   },
   {
    "duration": 16,
    "start_time": "2022-06-20T13:20:18.516Z"
   },
   {
    "duration": 14,
    "start_time": "2022-06-20T13:20:41.800Z"
   },
   {
    "duration": 14,
    "start_time": "2022-06-20T13:20:58.726Z"
   },
   {
    "duration": 5,
    "start_time": "2022-06-20T13:21:20.628Z"
   },
   {
    "duration": 13,
    "start_time": "2022-06-20T13:21:21.096Z"
   },
   {
    "duration": 14,
    "start_time": "2022-06-20T13:22:29.317Z"
   },
   {
    "duration": 11,
    "start_time": "2022-06-20T13:22:50.971Z"
   },
   {
    "duration": 19,
    "start_time": "2022-06-20T13:23:07.525Z"
   },
   {
    "duration": 23,
    "start_time": "2022-06-20T13:23:15.157Z"
   },
   {
    "duration": 24,
    "start_time": "2022-06-20T13:23:24.149Z"
   },
   {
    "duration": 7,
    "start_time": "2022-06-20T13:23:46.855Z"
   },
   {
    "duration": 7,
    "start_time": "2022-06-20T13:23:59.542Z"
   },
   {
    "duration": 44,
    "start_time": "2022-06-20T13:24:01.748Z"
   },
   {
    "duration": 12,
    "start_time": "2022-06-20T13:24:02.569Z"
   },
   {
    "duration": 4,
    "start_time": "2022-06-20T13:24:22.853Z"
   },
   {
    "duration": 4,
    "start_time": "2022-06-20T13:24:31.633Z"
   },
   {
    "duration": 14,
    "start_time": "2022-06-20T13:25:00.629Z"
   },
   {
    "duration": 12,
    "start_time": "2022-06-20T13:25:22.009Z"
   },
   {
    "duration": 4,
    "start_time": "2022-06-20T13:25:32.950Z"
   },
   {
    "duration": 4,
    "start_time": "2022-06-20T13:25:58.538Z"
   },
   {
    "duration": 4,
    "start_time": "2022-06-20T13:25:58.553Z"
   },
   {
    "duration": 14,
    "start_time": "2022-06-20T13:25:58.559Z"
   },
   {
    "duration": 5,
    "start_time": "2022-06-20T13:25:58.575Z"
   },
   {
    "duration": 123,
    "start_time": "2022-06-20T13:25:58.582Z"
   },
   {
    "duration": 7,
    "start_time": "2022-06-20T13:25:58.707Z"
   },
   {
    "duration": 24,
    "start_time": "2022-06-20T13:25:58.716Z"
   },
   {
    "duration": 18,
    "start_time": "2022-06-20T13:25:58.742Z"
   },
   {
    "duration": 21,
    "start_time": "2022-06-20T13:25:58.762Z"
   },
   {
    "duration": 15,
    "start_time": "2022-06-20T13:25:58.785Z"
   },
   {
    "duration": 10,
    "start_time": "2022-06-20T13:25:58.802Z"
   },
   {
    "duration": 14,
    "start_time": "2022-06-20T13:25:58.814Z"
   },
   {
    "duration": 63,
    "start_time": "2022-06-20T13:25:58.830Z"
   },
   {
    "duration": 20,
    "start_time": "2022-06-20T13:25:58.896Z"
   },
   {
    "duration": 10,
    "start_time": "2022-06-20T13:25:58.918Z"
   },
   {
    "duration": 30,
    "start_time": "2022-06-20T13:25:58.929Z"
   },
   {
    "duration": 50,
    "start_time": "2022-06-20T13:25:58.961Z"
   },
   {
    "duration": 22,
    "start_time": "2022-06-20T13:25:59.012Z"
   },
   {
    "duration": 8,
    "start_time": "2022-06-20T13:25:59.035Z"
   },
   {
    "duration": 39,
    "start_time": "2022-06-20T13:25:59.045Z"
   },
   {
    "duration": 28,
    "start_time": "2022-06-20T13:25:59.086Z"
   },
   {
    "duration": 19,
    "start_time": "2022-06-20T13:25:59.116Z"
   },
   {
    "duration": 31,
    "start_time": "2022-06-20T13:25:59.137Z"
   },
   {
    "duration": 22,
    "start_time": "2022-06-20T13:25:59.170Z"
   },
   {
    "duration": 6,
    "start_time": "2022-06-20T13:25:59.194Z"
   },
   {
    "duration": 38,
    "start_time": "2022-06-20T13:25:59.201Z"
   },
   {
    "duration": 30,
    "start_time": "2022-06-20T13:25:59.241Z"
   },
   {
    "duration": 307,
    "start_time": "2022-06-20T13:25:59.273Z"
   },
   {
    "duration": 40,
    "start_time": "2022-06-20T13:25:59.581Z"
   },
   {
    "duration": 47,
    "start_time": "2022-06-20T13:25:59.623Z"
   },
   {
    "duration": 18,
    "start_time": "2022-06-20T13:25:59.672Z"
   },
   {
    "duration": 47,
    "start_time": "2022-06-20T13:25:59.692Z"
   },
   {
    "duration": 363,
    "start_time": "2022-06-20T13:25:59.741Z"
   },
   {
    "duration": 66,
    "start_time": "2022-06-20T13:26:00.106Z"
   },
   {
    "duration": 21,
    "start_time": "2022-06-20T13:26:00.174Z"
   },
   {
    "duration": 29,
    "start_time": "2022-06-20T13:26:00.196Z"
   },
   {
    "duration": 4,
    "start_time": "2022-06-20T13:26:00.227Z"
   },
   {
    "duration": 52,
    "start_time": "2022-06-20T13:26:00.234Z"
   },
   {
    "duration": 29,
    "start_time": "2022-06-20T13:26:00.288Z"
   },
   {
    "duration": 26,
    "start_time": "2022-06-20T13:26:00.319Z"
   },
   {
    "duration": 66,
    "start_time": "2022-06-20T13:26:00.346Z"
   },
   {
    "duration": 207,
    "start_time": "2022-06-20T13:26:00.414Z"
   },
   {
    "duration": 5,
    "start_time": "2022-06-20T13:26:00.622Z"
   },
   {
    "duration": 48,
    "start_time": "2022-06-20T13:26:00.628Z"
   },
   {
    "duration": 38,
    "start_time": "2022-06-20T13:26:00.678Z"
   },
   {
    "duration": 5,
    "start_time": "2022-06-20T13:26:00.718Z"
   },
   {
    "duration": 156,
    "start_time": "2022-06-20T13:26:00.724Z"
   },
   {
    "duration": 4,
    "start_time": "2022-06-20T13:26:00.882Z"
   },
   {
    "duration": 31,
    "start_time": "2022-06-20T13:26:00.887Z"
   },
   {
    "duration": 53,
    "start_time": "2022-06-20T13:26:00.919Z"
   },
   {
    "duration": 3,
    "start_time": "2022-06-20T13:26:00.974Z"
   },
   {
    "duration": 19,
    "start_time": "2022-06-20T13:26:00.979Z"
   },
   {
    "duration": 27,
    "start_time": "2022-06-20T13:26:01.000Z"
   },
   {
    "duration": 45,
    "start_time": "2022-06-20T13:26:01.028Z"
   },
   {
    "duration": 3,
    "start_time": "2022-06-20T13:26:01.074Z"
   },
   {
    "duration": 7,
    "start_time": "2022-06-20T13:26:07.897Z"
   },
   {
    "duration": 41,
    "start_time": "2022-06-20T13:26:09.717Z"
   },
   {
    "duration": 5,
    "start_time": "2022-06-20T13:26:17.101Z"
   },
   {
    "duration": 4,
    "start_time": "2022-06-20T13:26:21.593Z"
   },
   {
    "duration": 7,
    "start_time": "2022-06-20T13:26:22.812Z"
   },
   {
    "duration": 39,
    "start_time": "2022-06-20T13:26:24.197Z"
   },
   {
    "duration": 3,
    "start_time": "2022-06-20T13:26:53.207Z"
   },
   {
    "duration": 5,
    "start_time": "2022-06-20T13:27:08.299Z"
   },
   {
    "duration": 14,
    "start_time": "2022-06-20T13:28:22.422Z"
   },
   {
    "duration": 11,
    "start_time": "2022-06-20T13:28:29.033Z"
   },
   {
    "duration": 19,
    "start_time": "2022-06-20T13:28:38.152Z"
   },
   {
    "duration": 7,
    "start_time": "2022-06-20T13:28:55.525Z"
   },
   {
    "duration": 19,
    "start_time": "2022-06-20T13:29:07.305Z"
   },
   {
    "duration": 22,
    "start_time": "2022-06-20T13:30:27.293Z"
   },
   {
    "duration": 13,
    "start_time": "2022-06-20T13:30:35.300Z"
   },
   {
    "duration": 24,
    "start_time": "2022-06-20T13:31:05.496Z"
   },
   {
    "duration": 14,
    "start_time": "2022-06-20T13:31:07.066Z"
   },
   {
    "duration": 23,
    "start_time": "2022-06-20T13:31:24.967Z"
   },
   {
    "duration": 23,
    "start_time": "2022-06-20T13:32:15.707Z"
   },
   {
    "duration": 17,
    "start_time": "2022-06-20T13:32:25.623Z"
   },
   {
    "duration": 30,
    "start_time": "2022-06-20T13:32:33.547Z"
   },
   {
    "duration": 19,
    "start_time": "2022-06-20T13:32:45.510Z"
   },
   {
    "duration": 19,
    "start_time": "2022-06-20T13:33:03.432Z"
   },
   {
    "duration": 21,
    "start_time": "2022-06-20T13:33:10.535Z"
   },
   {
    "duration": 12,
    "start_time": "2022-06-20T13:33:24.998Z"
   },
   {
    "duration": 34,
    "start_time": "2022-06-20T13:33:28.038Z"
   },
   {
    "duration": 18,
    "start_time": "2022-06-20T13:33:35.418Z"
   },
   {
    "duration": 42,
    "start_time": "2022-06-20T13:33:42.858Z"
   },
   {
    "duration": 5,
    "start_time": "2022-06-20T13:34:09.871Z"
   },
   {
    "duration": 11,
    "start_time": "2022-06-20T13:34:09.878Z"
   },
   {
    "duration": 5,
    "start_time": "2022-06-20T13:34:09.894Z"
   },
   {
    "duration": 7,
    "start_time": "2022-06-20T13:34:09.900Z"
   },
   {
    "duration": 145,
    "start_time": "2022-06-20T13:34:09.908Z"
   },
   {
    "duration": 18,
    "start_time": "2022-06-20T13:34:10.056Z"
   },
   {
    "duration": 18,
    "start_time": "2022-06-20T13:34:10.076Z"
   },
   {
    "duration": 9,
    "start_time": "2022-06-20T13:34:10.096Z"
   },
   {
    "duration": 13,
    "start_time": "2022-06-20T13:34:10.107Z"
   },
   {
    "duration": 8,
    "start_time": "2022-06-20T13:34:10.122Z"
   },
   {
    "duration": 30,
    "start_time": "2022-06-20T13:34:10.131Z"
   },
   {
    "duration": 2,
    "start_time": "2022-06-20T13:34:10.163Z"
   },
   {
    "duration": 53,
    "start_time": "2022-06-20T13:34:10.167Z"
   },
   {
    "duration": 20,
    "start_time": "2022-06-20T13:34:10.221Z"
   },
   {
    "duration": 32,
    "start_time": "2022-06-20T13:34:10.243Z"
   },
   {
    "duration": 14,
    "start_time": "2022-06-20T13:34:10.278Z"
   },
   {
    "duration": 49,
    "start_time": "2022-06-20T13:34:10.293Z"
   },
   {
    "duration": 39,
    "start_time": "2022-06-20T13:34:10.344Z"
   },
   {
    "duration": 6,
    "start_time": "2022-06-20T13:34:10.385Z"
   },
   {
    "duration": 32,
    "start_time": "2022-06-20T13:34:10.392Z"
   },
   {
    "duration": 47,
    "start_time": "2022-06-20T13:34:10.426Z"
   },
   {
    "duration": 28,
    "start_time": "2022-06-20T13:34:10.474Z"
   },
   {
    "duration": 23,
    "start_time": "2022-06-20T13:34:10.504Z"
   },
   {
    "duration": 53,
    "start_time": "2022-06-20T13:34:10.529Z"
   },
   {
    "duration": 6,
    "start_time": "2022-06-20T13:34:10.584Z"
   },
   {
    "duration": 26,
    "start_time": "2022-06-20T13:34:10.592Z"
   },
   {
    "duration": 20,
    "start_time": "2022-06-20T13:34:10.620Z"
   },
   {
    "duration": 381,
    "start_time": "2022-06-20T13:34:10.641Z"
   },
   {
    "duration": 55,
    "start_time": "2022-06-20T13:34:11.024Z"
   },
   {
    "duration": 20,
    "start_time": "2022-06-20T13:34:11.081Z"
   },
   {
    "duration": 14,
    "start_time": "2022-06-20T13:34:11.102Z"
   },
   {
    "duration": 13,
    "start_time": "2022-06-20T13:34:11.118Z"
   },
   {
    "duration": 384,
    "start_time": "2022-06-20T13:34:11.132Z"
   },
   {
    "duration": 77,
    "start_time": "2022-06-20T13:34:11.518Z"
   },
   {
    "duration": 26,
    "start_time": "2022-06-20T13:34:11.597Z"
   },
   {
    "duration": 53,
    "start_time": "2022-06-20T13:34:11.625Z"
   },
   {
    "duration": 3,
    "start_time": "2022-06-20T13:34:11.680Z"
   },
   {
    "duration": 14,
    "start_time": "2022-06-20T13:34:11.685Z"
   },
   {
    "duration": 8,
    "start_time": "2022-06-20T13:34:11.701Z"
   },
   {
    "duration": 20,
    "start_time": "2022-06-20T13:34:11.711Z"
   },
   {
    "duration": 33,
    "start_time": "2022-06-20T13:34:11.732Z"
   },
   {
    "duration": 180,
    "start_time": "2022-06-20T13:34:11.772Z"
   },
   {
    "duration": 8,
    "start_time": "2022-06-20T13:34:11.958Z"
   },
   {
    "duration": 42,
    "start_time": "2022-06-20T13:34:11.967Z"
   },
   {
    "duration": 37,
    "start_time": "2022-06-20T13:34:12.010Z"
   },
   {
    "duration": 23,
    "start_time": "2022-06-20T13:34:12.049Z"
   },
   {
    "duration": 136,
    "start_time": "2022-06-20T13:34:12.073Z"
   },
   {
    "duration": 5,
    "start_time": "2022-06-20T13:34:12.210Z"
   },
   {
    "duration": 15,
    "start_time": "2022-06-20T13:34:12.217Z"
   },
   {
    "duration": 43,
    "start_time": "2022-06-20T13:34:12.233Z"
   },
   {
    "duration": 4,
    "start_time": "2022-06-20T13:34:12.278Z"
   },
   {
    "duration": 11,
    "start_time": "2022-06-20T13:34:12.284Z"
   },
   {
    "duration": 22,
    "start_time": "2022-06-20T13:34:12.297Z"
   },
   {
    "duration": 28,
    "start_time": "2022-06-20T13:34:12.320Z"
   },
   {
    "duration": 18,
    "start_time": "2022-06-20T13:34:12.349Z"
   },
   {
    "duration": 15,
    "start_time": "2022-06-20T13:34:12.369Z"
   },
   {
    "duration": 41,
    "start_time": "2022-06-20T13:34:16.267Z"
   },
   {
    "duration": 6,
    "start_time": "2022-06-20T13:34:17.047Z"
   },
   {
    "duration": 20,
    "start_time": "2022-06-20T13:34:18.087Z"
   },
   {
    "duration": 6,
    "start_time": "2022-06-20T13:34:30.615Z"
   },
   {
    "duration": 22,
    "start_time": "2022-06-20T13:34:38.937Z"
   },
   {
    "duration": 10,
    "start_time": "2022-06-20T13:34:56.793Z"
   },
   {
    "duration": 4,
    "start_time": "2022-06-20T13:35:01.472Z"
   },
   {
    "duration": 16,
    "start_time": "2022-06-20T13:35:12.823Z"
   },
   {
    "duration": 20,
    "start_time": "2022-06-20T13:35:20.475Z"
   },
   {
    "duration": 16,
    "start_time": "2022-06-20T13:35:26.023Z"
   },
   {
    "duration": 14,
    "start_time": "2022-06-20T13:36:02.570Z"
   },
   {
    "duration": 4,
    "start_time": "2022-06-20T13:36:10.015Z"
   },
   {
    "duration": 12,
    "start_time": "2022-06-20T13:36:14.903Z"
   },
   {
    "duration": 4,
    "start_time": "2022-06-20T13:36:27.113Z"
   },
   {
    "duration": 14,
    "start_time": "2022-06-20T13:36:27.624Z"
   },
   {
    "duration": 10,
    "start_time": "2022-06-20T13:36:32.472Z"
   },
   {
    "duration": 14,
    "start_time": "2022-06-20T13:37:01.449Z"
   },
   {
    "duration": 12,
    "start_time": "2022-06-20T13:37:25.172Z"
   },
   {
    "duration": 6,
    "start_time": "2022-06-20T13:37:59.270Z"
   },
   {
    "duration": 27,
    "start_time": "2022-06-20T13:37:59.278Z"
   },
   {
    "duration": 21,
    "start_time": "2022-06-20T13:37:59.307Z"
   },
   {
    "duration": 9,
    "start_time": "2022-06-20T13:37:59.330Z"
   },
   {
    "duration": 156,
    "start_time": "2022-06-20T13:37:59.342Z"
   },
   {
    "duration": 10,
    "start_time": "2022-06-20T13:37:59.500Z"
   },
   {
    "duration": 29,
    "start_time": "2022-06-20T13:37:59.512Z"
   },
   {
    "duration": 17,
    "start_time": "2022-06-20T13:37:59.544Z"
   },
   {
    "duration": 29,
    "start_time": "2022-06-20T13:37:59.563Z"
   },
   {
    "duration": 10,
    "start_time": "2022-06-20T13:37:59.594Z"
   },
   {
    "duration": 7,
    "start_time": "2022-06-20T13:37:59.608Z"
   },
   {
    "duration": 4,
    "start_time": "2022-06-20T13:37:59.617Z"
   },
   {
    "duration": 65,
    "start_time": "2022-06-20T13:37:59.622Z"
   },
   {
    "duration": 22,
    "start_time": "2022-06-20T13:37:59.689Z"
   },
   {
    "duration": 10,
    "start_time": "2022-06-20T13:37:59.712Z"
   },
   {
    "duration": 41,
    "start_time": "2022-06-20T13:37:59.723Z"
   },
   {
    "duration": 53,
    "start_time": "2022-06-20T13:37:59.766Z"
   },
   {
    "duration": 24,
    "start_time": "2022-06-20T13:37:59.821Z"
   },
   {
    "duration": 17,
    "start_time": "2022-06-20T13:37:59.847Z"
   },
   {
    "duration": 41,
    "start_time": "2022-06-20T13:37:59.866Z"
   },
   {
    "duration": 21,
    "start_time": "2022-06-20T13:37:59.909Z"
   },
   {
    "duration": 36,
    "start_time": "2022-06-20T13:37:59.932Z"
   },
   {
    "duration": 24,
    "start_time": "2022-06-20T13:37:59.971Z"
   },
   {
    "duration": 28,
    "start_time": "2022-06-20T13:37:59.996Z"
   },
   {
    "duration": 6,
    "start_time": "2022-06-20T13:38:00.025Z"
   },
   {
    "duration": 44,
    "start_time": "2022-06-20T13:38:00.033Z"
   },
   {
    "duration": 21,
    "start_time": "2022-06-20T13:38:00.078Z"
   },
   {
    "duration": 349,
    "start_time": "2022-06-20T13:38:00.101Z"
   },
   {
    "duration": 51,
    "start_time": "2022-06-20T13:38:00.458Z"
   },
   {
    "duration": 20,
    "start_time": "2022-06-20T13:38:00.511Z"
   },
   {
    "duration": 34,
    "start_time": "2022-06-20T13:38:00.533Z"
   },
   {
    "duration": 34,
    "start_time": "2022-06-20T13:38:00.574Z"
   },
   {
    "duration": 372,
    "start_time": "2022-06-20T13:38:00.610Z"
   },
   {
    "duration": 54,
    "start_time": "2022-06-20T13:38:00.984Z"
   },
   {
    "duration": 37,
    "start_time": "2022-06-20T13:38:01.040Z"
   },
   {
    "duration": 39,
    "start_time": "2022-06-20T13:38:01.079Z"
   },
   {
    "duration": 3,
    "start_time": "2022-06-20T13:38:01.120Z"
   },
   {
    "duration": 26,
    "start_time": "2022-06-20T13:38:01.124Z"
   },
   {
    "duration": 16,
    "start_time": "2022-06-20T13:38:01.159Z"
   },
   {
    "duration": 22,
    "start_time": "2022-06-20T13:38:01.177Z"
   },
   {
    "duration": 10,
    "start_time": "2022-06-20T13:38:01.201Z"
   },
   {
    "duration": 184,
    "start_time": "2022-06-20T13:38:01.213Z"
   },
   {
    "duration": 5,
    "start_time": "2022-06-20T13:38:01.398Z"
   },
   {
    "duration": 37,
    "start_time": "2022-06-20T13:38:01.404Z"
   },
   {
    "duration": 48,
    "start_time": "2022-06-20T13:38:01.443Z"
   },
   {
    "duration": 5,
    "start_time": "2022-06-20T13:38:01.492Z"
   },
   {
    "duration": 160,
    "start_time": "2022-06-20T13:38:01.498Z"
   },
   {
    "duration": 8,
    "start_time": "2022-06-20T13:38:01.661Z"
   },
   {
    "duration": 29,
    "start_time": "2022-06-20T13:38:01.670Z"
   },
   {
    "duration": 45,
    "start_time": "2022-06-20T13:38:01.700Z"
   },
   {
    "duration": 4,
    "start_time": "2022-06-20T13:38:01.748Z"
   },
   {
    "duration": 5,
    "start_time": "2022-06-20T13:38:05.399Z"
   },
   {
    "duration": 14,
    "start_time": "2022-06-20T13:38:05.772Z"
   },
   {
    "duration": 3,
    "start_time": "2022-06-20T13:38:06.824Z"
   },
   {
    "duration": 9,
    "start_time": "2022-06-20T13:38:13.544Z"
   },
   {
    "duration": 76,
    "start_time": "2022-06-20T13:38:14.102Z"
   },
   {
    "duration": 8,
    "start_time": "2022-06-20T13:38:14.900Z"
   },
   {
    "duration": 8,
    "start_time": "2022-06-20T13:38:18.808Z"
   },
   {
    "duration": 9,
    "start_time": "2022-06-20T13:38:22.362Z"
   },
   {
    "duration": 5,
    "start_time": "2022-06-20T13:38:23.017Z"
   },
   {
    "duration": 4,
    "start_time": "2022-06-20T13:38:24.899Z"
   },
   {
    "duration": 11,
    "start_time": "2022-06-20T13:38:25.371Z"
   },
   {
    "duration": 13,
    "start_time": "2022-06-20T13:39:56.599Z"
   },
   {
    "duration": 7,
    "start_time": "2022-06-20T13:40:07.144Z"
   },
   {
    "duration": 6,
    "start_time": "2022-06-20T13:43:39.756Z"
   },
   {
    "duration": 101,
    "start_time": "2022-06-20T13:43:40.329Z"
   },
   {
    "duration": 68,
    "start_time": "2022-06-20T13:43:41.700Z"
   },
   {
    "duration": 94,
    "start_time": "2022-06-20T13:43:44.827Z"
   },
   {
    "duration": 4,
    "start_time": "2022-06-20T13:44:06.396Z"
   },
   {
    "duration": 9,
    "start_time": "2022-06-20T13:44:06.403Z"
   },
   {
    "duration": 7,
    "start_time": "2022-06-20T13:44:06.414Z"
   },
   {
    "duration": 8,
    "start_time": "2022-06-20T13:44:06.423Z"
   },
   {
    "duration": 142,
    "start_time": "2022-06-20T13:44:06.435Z"
   },
   {
    "duration": 8,
    "start_time": "2022-06-20T13:44:06.578Z"
   },
   {
    "duration": 19,
    "start_time": "2022-06-20T13:44:06.588Z"
   },
   {
    "duration": 6,
    "start_time": "2022-06-20T13:44:06.609Z"
   },
   {
    "duration": 11,
    "start_time": "2022-06-20T13:44:06.617Z"
   },
   {
    "duration": 9,
    "start_time": "2022-06-20T13:44:06.630Z"
   },
   {
    "duration": 11,
    "start_time": "2022-06-20T13:44:06.662Z"
   },
   {
    "duration": 16,
    "start_time": "2022-06-20T13:44:06.679Z"
   },
   {
    "duration": 46,
    "start_time": "2022-06-20T13:44:06.697Z"
   },
   {
    "duration": 35,
    "start_time": "2022-06-20T13:44:06.745Z"
   },
   {
    "duration": 15,
    "start_time": "2022-06-20T13:44:06.781Z"
   },
   {
    "duration": 14,
    "start_time": "2022-06-20T13:44:06.798Z"
   },
   {
    "duration": 69,
    "start_time": "2022-06-20T13:44:06.814Z"
   },
   {
    "duration": 21,
    "start_time": "2022-06-20T13:44:06.884Z"
   },
   {
    "duration": 4,
    "start_time": "2022-06-20T13:44:06.907Z"
   },
   {
    "duration": 57,
    "start_time": "2022-06-20T13:44:06.912Z"
   },
   {
    "duration": 20,
    "start_time": "2022-06-20T13:44:06.971Z"
   },
   {
    "duration": 17,
    "start_time": "2022-06-20T13:44:06.993Z"
   },
   {
    "duration": 21,
    "start_time": "2022-06-20T13:44:07.012Z"
   },
   {
    "duration": 57,
    "start_time": "2022-06-20T13:44:07.035Z"
   },
   {
    "duration": 28,
    "start_time": "2022-06-20T13:44:07.094Z"
   },
   {
    "duration": 25,
    "start_time": "2022-06-20T13:44:07.124Z"
   },
   {
    "duration": 32,
    "start_time": "2022-06-20T13:44:07.151Z"
   },
   {
    "duration": 401,
    "start_time": "2022-06-20T13:44:07.188Z"
   },
   {
    "duration": 45,
    "start_time": "2022-06-20T13:44:07.592Z"
   },
   {
    "duration": 43,
    "start_time": "2022-06-20T13:44:07.638Z"
   },
   {
    "duration": 18,
    "start_time": "2022-06-20T13:44:07.683Z"
   },
   {
    "duration": 13,
    "start_time": "2022-06-20T13:44:07.703Z"
   },
   {
    "duration": 383,
    "start_time": "2022-06-20T13:44:07.718Z"
   },
   {
    "duration": 82,
    "start_time": "2022-06-20T13:44:08.103Z"
   },
   {
    "duration": 24,
    "start_time": "2022-06-20T13:44:08.187Z"
   },
   {
    "duration": 29,
    "start_time": "2022-06-20T13:44:08.213Z"
   },
   {
    "duration": 5,
    "start_time": "2022-06-20T13:44:08.260Z"
   },
   {
    "duration": 38,
    "start_time": "2022-06-20T13:44:08.267Z"
   },
   {
    "duration": 12,
    "start_time": "2022-06-20T13:44:08.307Z"
   },
   {
    "duration": 16,
    "start_time": "2022-06-20T13:44:08.321Z"
   },
   {
    "duration": 11,
    "start_time": "2022-06-20T13:44:08.339Z"
   },
   {
    "duration": 235,
    "start_time": "2022-06-20T13:44:08.352Z"
   },
   {
    "duration": 3,
    "start_time": "2022-06-20T13:44:08.589Z"
   },
   {
    "duration": 27,
    "start_time": "2022-06-20T13:44:08.594Z"
   },
   {
    "duration": 62,
    "start_time": "2022-06-20T13:44:08.623Z"
   },
   {
    "duration": 4,
    "start_time": "2022-06-20T13:44:08.687Z"
   },
   {
    "duration": 242,
    "start_time": "2022-06-20T13:44:08.692Z"
   },
   {
    "duration": 5,
    "start_time": "2022-06-20T13:44:08.935Z"
   },
   {
    "duration": 31,
    "start_time": "2022-06-20T13:44:08.942Z"
   },
   {
    "duration": 30,
    "start_time": "2022-06-20T13:44:08.975Z"
   },
   {
    "duration": 5,
    "start_time": "2022-06-20T13:44:09.006Z"
   },
   {
    "duration": 10,
    "start_time": "2022-06-20T13:44:09.012Z"
   },
   {
    "duration": 16,
    "start_time": "2022-06-20T13:44:09.024Z"
   },
   {
    "duration": 18,
    "start_time": "2022-06-20T13:44:09.042Z"
   },
   {
    "duration": 20,
    "start_time": "2022-06-20T13:44:09.065Z"
   },
   {
    "duration": 54,
    "start_time": "2022-06-20T13:44:09.086Z"
   },
   {
    "duration": 6,
    "start_time": "2022-06-20T13:44:09.141Z"
   },
   {
    "duration": 18,
    "start_time": "2022-06-20T13:44:09.149Z"
   },
   {
    "duration": 7,
    "start_time": "2022-06-20T13:44:09.175Z"
   },
   {
    "duration": 7,
    "start_time": "2022-06-20T13:44:09.184Z"
   },
   {
    "duration": 14,
    "start_time": "2022-06-20T13:44:09.193Z"
   },
   {
    "duration": 19,
    "start_time": "2022-06-20T13:44:09.211Z"
   },
   {
    "duration": 8,
    "start_time": "2022-06-20T13:44:09.232Z"
   },
   {
    "duration": 4,
    "start_time": "2022-06-20T13:44:09.241Z"
   },
   {
    "duration": 32,
    "start_time": "2022-06-20T13:44:31.338Z"
   },
   {
    "duration": 48,
    "start_time": "2022-06-20T13:44:35.850Z"
   },
   {
    "duration": 3,
    "start_time": "2022-06-20T13:44:44.135Z"
   },
   {
    "duration": 8,
    "start_time": "2022-06-20T13:44:44.141Z"
   },
   {
    "duration": 29,
    "start_time": "2022-06-20T13:44:44.151Z"
   },
   {
    "duration": 16,
    "start_time": "2022-06-20T13:44:44.182Z"
   },
   {
    "duration": 165,
    "start_time": "2022-06-20T13:44:44.201Z"
   },
   {
    "duration": 14,
    "start_time": "2022-06-20T13:44:44.369Z"
   },
   {
    "duration": 34,
    "start_time": "2022-06-20T13:44:44.384Z"
   },
   {
    "duration": 22,
    "start_time": "2022-06-20T13:44:44.420Z"
   },
   {
    "duration": 14,
    "start_time": "2022-06-20T13:44:44.443Z"
   },
   {
    "duration": 21,
    "start_time": "2022-06-20T13:44:44.460Z"
   },
   {
    "duration": 11,
    "start_time": "2022-06-20T13:44:44.482Z"
   },
   {
    "duration": 8,
    "start_time": "2022-06-20T13:44:44.494Z"
   },
   {
    "duration": 46,
    "start_time": "2022-06-20T13:44:44.503Z"
   },
   {
    "duration": 31,
    "start_time": "2022-06-20T13:44:44.551Z"
   },
   {
    "duration": 10,
    "start_time": "2022-06-20T13:44:44.583Z"
   },
   {
    "duration": 14,
    "start_time": "2022-06-20T13:44:44.594Z"
   },
   {
    "duration": 65,
    "start_time": "2022-06-20T13:44:44.609Z"
   },
   {
    "duration": 21,
    "start_time": "2022-06-20T13:44:44.675Z"
   },
   {
    "duration": 4,
    "start_time": "2022-06-20T13:44:44.697Z"
   },
   {
    "duration": 32,
    "start_time": "2022-06-20T13:44:44.703Z"
   },
   {
    "duration": 28,
    "start_time": "2022-06-20T13:44:44.764Z"
   },
   {
    "duration": 19,
    "start_time": "2022-06-20T13:44:44.794Z"
   },
   {
    "duration": 22,
    "start_time": "2022-06-20T13:44:44.815Z"
   },
   {
    "duration": 27,
    "start_time": "2022-06-20T13:44:44.858Z"
   },
   {
    "duration": 6,
    "start_time": "2022-06-20T13:44:44.886Z"
   },
   {
    "duration": 26,
    "start_time": "2022-06-20T13:44:44.893Z"
   },
   {
    "duration": 50,
    "start_time": "2022-06-20T13:44:44.921Z"
   },
   {
    "duration": 245,
    "start_time": "2022-06-20T13:44:44.976Z"
   },
   {
    "duration": 51,
    "start_time": "2022-06-20T13:44:45.222Z"
   },
   {
    "duration": 20,
    "start_time": "2022-06-20T13:44:45.275Z"
   },
   {
    "duration": 12,
    "start_time": "2022-06-20T13:44:45.296Z"
   },
   {
    "duration": 9,
    "start_time": "2022-06-20T13:44:45.310Z"
   },
   {
    "duration": 381,
    "start_time": "2022-06-20T13:44:45.320Z"
   },
   {
    "duration": 69,
    "start_time": "2022-06-20T13:44:45.703Z"
   },
   {
    "duration": 23,
    "start_time": "2022-06-20T13:44:45.775Z"
   },
   {
    "duration": 30,
    "start_time": "2022-06-20T13:44:45.799Z"
   },
   {
    "duration": 3,
    "start_time": "2022-06-20T13:44:45.831Z"
   },
   {
    "duration": 30,
    "start_time": "2022-06-20T13:44:45.836Z"
   },
   {
    "duration": 16,
    "start_time": "2022-06-20T13:44:45.867Z"
   },
   {
    "duration": 11,
    "start_time": "2022-06-20T13:44:45.884Z"
   },
   {
    "duration": 8,
    "start_time": "2022-06-20T13:44:45.897Z"
   },
   {
    "duration": 292,
    "start_time": "2022-06-20T13:44:45.907Z"
   },
   {
    "duration": 4,
    "start_time": "2022-06-20T13:44:46.201Z"
   },
   {
    "duration": 28,
    "start_time": "2022-06-20T13:44:46.207Z"
   },
   {
    "duration": 59,
    "start_time": "2022-06-20T13:44:46.238Z"
   },
   {
    "duration": 5,
    "start_time": "2022-06-20T13:44:46.299Z"
   },
   {
    "duration": 173,
    "start_time": "2022-06-20T13:44:46.305Z"
   },
   {
    "duration": 4,
    "start_time": "2022-06-20T13:44:46.480Z"
   },
   {
    "duration": 13,
    "start_time": "2022-06-20T13:44:46.486Z"
   },
   {
    "duration": 23,
    "start_time": "2022-06-20T13:44:46.501Z"
   },
   {
    "duration": 4,
    "start_time": "2022-06-20T13:44:46.526Z"
   },
   {
    "duration": 8,
    "start_time": "2022-06-20T13:44:46.559Z"
   },
   {
    "duration": 22,
    "start_time": "2022-06-20T13:44:46.569Z"
   },
   {
    "duration": 3,
    "start_time": "2022-06-20T13:44:46.593Z"
   },
   {
    "duration": 11,
    "start_time": "2022-06-20T13:44:46.598Z"
   },
   {
    "duration": 69,
    "start_time": "2022-06-20T13:44:46.610Z"
   },
   {
    "duration": 7,
    "start_time": "2022-06-20T13:44:46.682Z"
   },
   {
    "duration": 25,
    "start_time": "2022-06-20T13:44:46.691Z"
   },
   {
    "duration": 6,
    "start_time": "2022-06-20T13:44:46.718Z"
   },
   {
    "duration": 7,
    "start_time": "2022-06-20T13:44:46.726Z"
   },
   {
    "duration": 8,
    "start_time": "2022-06-20T13:44:46.735Z"
   },
   {
    "duration": 32,
    "start_time": "2022-06-20T13:44:46.744Z"
   },
   {
    "duration": 7,
    "start_time": "2022-06-20T13:44:46.779Z"
   },
   {
    "duration": 6,
    "start_time": "2022-06-20T13:44:46.788Z"
   },
   {
    "duration": 59,
    "start_time": "2022-06-20T13:44:46.796Z"
   },
   {
    "duration": 8,
    "start_time": "2022-06-20T13:45:17.632Z"
   },
   {
    "duration": 25,
    "start_time": "2022-06-20T13:45:19.817Z"
   },
   {
    "duration": 4,
    "start_time": "2022-06-20T13:45:33.046Z"
   },
   {
    "duration": 12,
    "start_time": "2022-06-20T13:45:33.052Z"
   },
   {
    "duration": 24,
    "start_time": "2022-06-20T13:45:33.067Z"
   },
   {
    "duration": 8,
    "start_time": "2022-06-20T13:45:33.093Z"
   },
   {
    "duration": 122,
    "start_time": "2022-06-20T13:45:33.103Z"
   },
   {
    "duration": 8,
    "start_time": "2022-06-20T13:45:33.227Z"
   },
   {
    "duration": 27,
    "start_time": "2022-06-20T13:45:33.236Z"
   },
   {
    "duration": 12,
    "start_time": "2022-06-20T13:45:33.268Z"
   },
   {
    "duration": 11,
    "start_time": "2022-06-20T13:45:33.281Z"
   },
   {
    "duration": 6,
    "start_time": "2022-06-20T13:45:33.294Z"
   },
   {
    "duration": 8,
    "start_time": "2022-06-20T13:45:33.302Z"
   },
   {
    "duration": 10,
    "start_time": "2022-06-20T13:45:33.311Z"
   },
   {
    "duration": 61,
    "start_time": "2022-06-20T13:45:33.322Z"
   },
   {
    "duration": 21,
    "start_time": "2022-06-20T13:45:33.385Z"
   },
   {
    "duration": 9,
    "start_time": "2022-06-20T13:45:33.408Z"
   },
   {
    "duration": 42,
    "start_time": "2022-06-20T13:45:33.419Z"
   },
   {
    "duration": 50,
    "start_time": "2022-06-20T13:45:33.473Z"
   },
   {
    "duration": 30,
    "start_time": "2022-06-20T13:45:33.524Z"
   },
   {
    "duration": 6,
    "start_time": "2022-06-20T13:45:33.559Z"
   },
   {
    "duration": 38,
    "start_time": "2022-06-20T13:45:33.571Z"
   },
   {
    "duration": 21,
    "start_time": "2022-06-20T13:45:33.610Z"
   },
   {
    "duration": 32,
    "start_time": "2022-06-20T13:45:33.633Z"
   },
   {
    "duration": 23,
    "start_time": "2022-06-20T13:45:33.671Z"
   },
   {
    "duration": 22,
    "start_time": "2022-06-20T13:45:33.696Z"
   },
   {
    "duration": 5,
    "start_time": "2022-06-20T13:45:33.720Z"
   },
   {
    "duration": 44,
    "start_time": "2022-06-20T13:45:33.726Z"
   },
   {
    "duration": 22,
    "start_time": "2022-06-20T13:45:33.772Z"
   },
   {
    "duration": 335,
    "start_time": "2022-06-20T13:45:33.796Z"
   },
   {
    "duration": 53,
    "start_time": "2022-06-20T13:45:34.133Z"
   },
   {
    "duration": 18,
    "start_time": "2022-06-20T13:45:34.188Z"
   },
   {
    "duration": 12,
    "start_time": "2022-06-20T13:45:34.208Z"
   },
   {
    "duration": 9,
    "start_time": "2022-06-20T13:45:34.221Z"
   },
   {
    "duration": 377,
    "start_time": "2022-06-20T13:45:34.232Z"
   },
   {
    "duration": 67,
    "start_time": "2022-06-20T13:45:34.611Z"
   },
   {
    "duration": 24,
    "start_time": "2022-06-20T13:45:34.680Z"
   },
   {
    "duration": 30,
    "start_time": "2022-06-20T13:45:34.706Z"
   },
   {
    "duration": 25,
    "start_time": "2022-06-20T13:45:34.738Z"
   },
   {
    "duration": 26,
    "start_time": "2022-06-20T13:45:34.768Z"
   },
   {
    "duration": 9,
    "start_time": "2022-06-20T13:45:34.796Z"
   },
   {
    "duration": 11,
    "start_time": "2022-06-20T13:45:34.809Z"
   },
   {
    "duration": 8,
    "start_time": "2022-06-20T13:45:34.821Z"
   },
   {
    "duration": 204,
    "start_time": "2022-06-20T13:45:34.830Z"
   },
   {
    "duration": 4,
    "start_time": "2022-06-20T13:45:35.036Z"
   },
   {
    "duration": 50,
    "start_time": "2022-06-20T13:45:35.041Z"
   },
   {
    "duration": 35,
    "start_time": "2022-06-20T13:45:35.092Z"
   },
   {
    "duration": 7,
    "start_time": "2022-06-20T13:45:35.129Z"
   },
   {
    "duration": 155,
    "start_time": "2022-06-20T13:45:35.137Z"
   },
   {
    "duration": 4,
    "start_time": "2022-06-20T13:45:35.294Z"
   },
   {
    "duration": 23,
    "start_time": "2022-06-20T13:45:35.301Z"
   },
   {
    "duration": 43,
    "start_time": "2022-06-20T13:45:35.326Z"
   },
   {
    "duration": 10,
    "start_time": "2022-06-20T13:45:35.371Z"
   },
   {
    "duration": 15,
    "start_time": "2022-06-20T13:45:35.390Z"
   },
   {
    "duration": 29,
    "start_time": "2022-06-20T13:45:35.407Z"
   },
   {
    "duration": 4,
    "start_time": "2022-06-20T13:45:35.438Z"
   },
   {
    "duration": 14,
    "start_time": "2022-06-20T13:45:35.443Z"
   },
   {
    "duration": 63,
    "start_time": "2022-06-20T13:45:35.461Z"
   },
   {
    "duration": 6,
    "start_time": "2022-06-20T13:45:35.526Z"
   },
   {
    "duration": 15,
    "start_time": "2022-06-20T13:45:35.533Z"
   },
   {
    "duration": 10,
    "start_time": "2022-06-20T13:45:35.550Z"
   },
   {
    "duration": 31,
    "start_time": "2022-06-20T13:45:35.561Z"
   },
   {
    "duration": 7,
    "start_time": "2022-06-20T13:45:35.594Z"
   },
   {
    "duration": 15,
    "start_time": "2022-06-20T13:45:35.603Z"
   },
   {
    "duration": 6,
    "start_time": "2022-06-20T13:45:35.619Z"
   },
   {
    "duration": 6,
    "start_time": "2022-06-20T13:45:35.626Z"
   },
   {
    "duration": 32,
    "start_time": "2022-06-20T13:45:35.634Z"
   },
   {
    "duration": 28,
    "start_time": "2022-06-20T13:46:06.272Z"
   },
   {
    "duration": 22,
    "start_time": "2022-06-20T13:46:09.900Z"
   },
   {
    "duration": 17,
    "start_time": "2022-06-20T13:46:29.722Z"
   },
   {
    "duration": 253,
    "start_time": "2022-06-20T13:46:33.704Z"
   },
   {
    "duration": 426,
    "start_time": "2022-06-20T13:46:34.100Z"
   },
   {
    "duration": 41,
    "start_time": "2022-06-20T13:46:36.009Z"
   },
   {
    "duration": 339,
    "start_time": "2022-06-20T13:46:36.699Z"
   },
   {
    "duration": 110,
    "start_time": "2022-06-20T13:46:52.097Z"
   },
   {
    "duration": 381,
    "start_time": "2022-06-20T13:46:52.329Z"
   },
   {
    "duration": 10,
    "start_time": "2022-06-20T13:49:12.010Z"
   },
   {
    "duration": 5,
    "start_time": "2022-06-20T13:49:14.218Z"
   },
   {
    "duration": 23,
    "start_time": "2022-06-20T13:49:15.546Z"
   },
   {
    "duration": 12,
    "start_time": "2022-06-20T13:49:17.823Z"
   },
   {
    "duration": 16,
    "start_time": "2022-06-20T13:49:39.187Z"
   },
   {
    "duration": 12,
    "start_time": "2022-06-20T13:50:00.526Z"
   },
   {
    "duration": 15,
    "start_time": "2022-06-20T13:50:03.932Z"
   },
   {
    "duration": 7,
    "start_time": "2022-06-20T13:50:04.640Z"
   },
   {
    "duration": 17,
    "start_time": "2022-06-20T13:50:05.355Z"
   },
   {
    "duration": 4,
    "start_time": "2022-06-20T13:51:39.272Z"
   },
   {
    "duration": 31,
    "start_time": "2022-06-20T13:51:39.278Z"
   },
   {
    "duration": 23,
    "start_time": "2022-06-20T13:51:39.310Z"
   },
   {
    "duration": 53,
    "start_time": "2022-06-20T13:51:39.334Z"
   },
   {
    "duration": 151,
    "start_time": "2022-06-20T13:51:39.389Z"
   },
   {
    "duration": 7,
    "start_time": "2022-06-20T13:51:39.542Z"
   },
   {
    "duration": 48,
    "start_time": "2022-06-20T13:51:39.550Z"
   },
   {
    "duration": 13,
    "start_time": "2022-06-20T13:51:39.599Z"
   },
   {
    "duration": 37,
    "start_time": "2022-06-20T13:51:39.613Z"
   },
   {
    "duration": 43,
    "start_time": "2022-06-20T13:51:39.652Z"
   },
   {
    "duration": 24,
    "start_time": "2022-06-20T13:51:39.698Z"
   },
   {
    "duration": 34,
    "start_time": "2022-06-20T13:51:39.723Z"
   },
   {
    "duration": 80,
    "start_time": "2022-06-20T13:51:39.759Z"
   },
   {
    "duration": 25,
    "start_time": "2022-06-20T13:51:39.841Z"
   },
   {
    "duration": 36,
    "start_time": "2022-06-20T13:51:39.868Z"
   },
   {
    "duration": 26,
    "start_time": "2022-06-20T13:51:39.906Z"
   },
   {
    "duration": 92,
    "start_time": "2022-06-20T13:51:39.933Z"
   },
   {
    "duration": 21,
    "start_time": "2022-06-20T13:51:40.026Z"
   },
   {
    "duration": 37,
    "start_time": "2022-06-20T13:51:40.049Z"
   },
   {
    "duration": 52,
    "start_time": "2022-06-20T13:51:40.088Z"
   },
   {
    "duration": 50,
    "start_time": "2022-06-20T13:51:40.141Z"
   },
   {
    "duration": 35,
    "start_time": "2022-06-20T13:51:40.193Z"
   },
   {
    "duration": 20,
    "start_time": "2022-06-20T13:51:40.230Z"
   },
   {
    "duration": 66,
    "start_time": "2022-06-20T13:51:40.252Z"
   },
   {
    "duration": 11,
    "start_time": "2022-06-20T13:51:40.319Z"
   },
   {
    "duration": 76,
    "start_time": "2022-06-20T13:51:40.331Z"
   },
   {
    "duration": 20,
    "start_time": "2022-06-20T13:51:40.409Z"
   },
   {
    "duration": 377,
    "start_time": "2022-06-20T13:51:40.430Z"
   },
   {
    "duration": 37,
    "start_time": "2022-06-20T13:51:40.811Z"
   },
   {
    "duration": 39,
    "start_time": "2022-06-20T13:51:40.850Z"
   },
   {
    "duration": 33,
    "start_time": "2022-06-20T13:51:40.891Z"
   },
   {
    "duration": 26,
    "start_time": "2022-06-20T13:51:40.926Z"
   },
   {
    "duration": 375,
    "start_time": "2022-06-20T13:51:40.954Z"
   },
   {
    "duration": 78,
    "start_time": "2022-06-20T13:51:41.330Z"
   },
   {
    "duration": 21,
    "start_time": "2022-06-20T13:51:41.409Z"
   },
   {
    "duration": 59,
    "start_time": "2022-06-20T13:51:41.431Z"
   },
   {
    "duration": 27,
    "start_time": "2022-06-20T13:51:41.493Z"
   },
   {
    "duration": 67,
    "start_time": "2022-06-20T13:51:41.522Z"
   },
   {
    "duration": 28,
    "start_time": "2022-06-20T13:51:41.591Z"
   },
   {
    "duration": 32,
    "start_time": "2022-06-20T13:51:41.620Z"
   },
   {
    "duration": 55,
    "start_time": "2022-06-20T13:51:41.654Z"
   },
   {
    "duration": 185,
    "start_time": "2022-06-20T13:51:41.711Z"
   },
   {
    "duration": 4,
    "start_time": "2022-06-20T13:51:41.898Z"
   },
   {
    "duration": 33,
    "start_time": "2022-06-20T13:51:41.903Z"
   },
   {
    "duration": 50,
    "start_time": "2022-06-20T13:51:41.938Z"
   },
   {
    "duration": 6,
    "start_time": "2022-06-20T13:51:41.990Z"
   },
   {
    "duration": 153,
    "start_time": "2022-06-20T13:51:41.997Z"
   },
   {
    "duration": 15,
    "start_time": "2022-06-20T13:51:42.152Z"
   },
   {
    "duration": 30,
    "start_time": "2022-06-20T13:51:42.170Z"
   },
   {
    "duration": 45,
    "start_time": "2022-06-20T13:51:42.202Z"
   },
   {
    "duration": 49,
    "start_time": "2022-06-20T13:51:42.249Z"
   },
   {
    "duration": 30,
    "start_time": "2022-06-20T13:51:42.299Z"
   },
   {
    "duration": 66,
    "start_time": "2022-06-20T13:51:42.331Z"
   },
   {
    "duration": 28,
    "start_time": "2022-06-20T13:51:42.398Z"
   },
   {
    "duration": 42,
    "start_time": "2022-06-20T13:51:42.428Z"
   },
   {
    "duration": 79,
    "start_time": "2022-06-20T13:51:42.471Z"
   },
   {
    "duration": 5,
    "start_time": "2022-06-20T13:51:42.552Z"
   },
   {
    "duration": 59,
    "start_time": "2022-06-20T13:51:42.567Z"
   },
   {
    "duration": 36,
    "start_time": "2022-06-20T13:51:42.627Z"
   },
   {
    "duration": 5,
    "start_time": "2022-06-20T13:51:42.665Z"
   },
   {
    "duration": 49,
    "start_time": "2022-06-20T13:51:42.672Z"
   },
   {
    "duration": 35,
    "start_time": "2022-06-20T13:51:42.722Z"
   },
   {
    "duration": 33,
    "start_time": "2022-06-20T13:51:42.763Z"
   },
   {
    "duration": 32,
    "start_time": "2022-06-20T13:51:42.798Z"
   },
   {
    "duration": 77,
    "start_time": "2022-06-20T13:51:42.832Z"
   },
   {
    "duration": 35,
    "start_time": "2022-06-20T13:51:42.910Z"
   },
   {
    "duration": 363,
    "start_time": "2022-06-20T13:51:42.947Z"
   },
   {
    "duration": 323,
    "start_time": "2022-06-20T13:51:43.312Z"
   },
   {
    "duration": 60,
    "start_time": "2022-06-20T13:51:43.636Z"
   },
   {
    "duration": 321,
    "start_time": "2022-06-20T13:51:43.697Z"
   },
   {
    "duration": 119,
    "start_time": "2022-06-20T13:51:44.020Z"
   },
   {
    "duration": 369,
    "start_time": "2022-06-20T13:51:44.141Z"
   },
   {
    "duration": 11,
    "start_time": "2022-06-20T13:51:44.511Z"
   },
   {
    "duration": 32,
    "start_time": "2022-06-20T13:51:44.524Z"
   },
   {
    "duration": 54,
    "start_time": "2022-06-20T13:51:44.557Z"
   },
   {
    "duration": 37,
    "start_time": "2022-06-20T13:51:44.612Z"
   },
   {
    "duration": 19,
    "start_time": "2022-06-20T14:01:10.002Z"
   },
   {
    "duration": 19,
    "start_time": "2022-06-20T14:01:10.734Z"
   },
   {
    "duration": 9,
    "start_time": "2022-06-20T14:01:11.785Z"
   },
   {
    "duration": 19,
    "start_time": "2022-06-20T14:01:27.119Z"
   },
   {
    "duration": 9,
    "start_time": "2022-06-20T14:01:28.404Z"
   },
   {
    "duration": 108,
    "start_time": "2022-06-20T14:01:29.840Z"
   },
   {
    "duration": 12,
    "start_time": "2022-06-20T14:01:39.506Z"
   },
   {
    "duration": 12,
    "start_time": "2022-06-20T14:04:05.195Z"
   },
   {
    "duration": 25,
    "start_time": "2022-06-20T14:04:09.653Z"
   },
   {
    "duration": 4,
    "start_time": "2022-06-20T14:04:16.989Z"
   },
   {
    "duration": 10,
    "start_time": "2022-06-20T14:04:16.996Z"
   },
   {
    "duration": 7,
    "start_time": "2022-06-20T14:04:17.008Z"
   },
   {
    "duration": 7,
    "start_time": "2022-06-20T14:04:17.017Z"
   },
   {
    "duration": 171,
    "start_time": "2022-06-20T14:04:17.026Z"
   },
   {
    "duration": 7,
    "start_time": "2022-06-20T14:04:17.199Z"
   },
   {
    "duration": 26,
    "start_time": "2022-06-20T14:04:17.208Z"
   },
   {
    "duration": 11,
    "start_time": "2022-06-20T14:04:17.235Z"
   },
   {
    "duration": 24,
    "start_time": "2022-06-20T14:04:17.248Z"
   },
   {
    "duration": 17,
    "start_time": "2022-06-20T14:04:17.274Z"
   },
   {
    "duration": 9,
    "start_time": "2022-06-20T14:04:17.293Z"
   },
   {
    "duration": 7,
    "start_time": "2022-06-20T14:04:17.304Z"
   },
   {
    "duration": 43,
    "start_time": "2022-06-20T14:04:17.312Z"
   },
   {
    "duration": 33,
    "start_time": "2022-06-20T14:04:17.356Z"
   },
   {
    "duration": 13,
    "start_time": "2022-06-20T14:04:17.391Z"
   },
   {
    "duration": 20,
    "start_time": "2022-06-20T14:04:17.406Z"
   },
   {
    "duration": 74,
    "start_time": "2022-06-20T14:04:17.427Z"
   },
   {
    "duration": 28,
    "start_time": "2022-06-20T14:04:17.504Z"
   },
   {
    "duration": 5,
    "start_time": "2022-06-20T14:04:17.534Z"
   },
   {
    "duration": 65,
    "start_time": "2022-06-20T14:04:17.559Z"
   },
   {
    "duration": 25,
    "start_time": "2022-06-20T14:04:17.626Z"
   },
   {
    "duration": 33,
    "start_time": "2022-06-20T14:04:17.653Z"
   },
   {
    "duration": 36,
    "start_time": "2022-06-20T14:04:17.689Z"
   },
   {
    "duration": 28,
    "start_time": "2022-06-20T14:04:17.727Z"
   },
   {
    "duration": 12,
    "start_time": "2022-06-20T14:04:17.757Z"
   },
   {
    "duration": 48,
    "start_time": "2022-06-20T14:04:17.771Z"
   },
   {
    "duration": 23,
    "start_time": "2022-06-20T14:04:17.821Z"
   },
   {
    "duration": 263,
    "start_time": "2022-06-20T14:04:17.846Z"
   },
   {
    "duration": 55,
    "start_time": "2022-06-20T14:04:18.113Z"
   },
   {
    "duration": 29,
    "start_time": "2022-06-20T14:04:18.171Z"
   },
   {
    "duration": 13,
    "start_time": "2022-06-20T14:04:18.201Z"
   },
   {
    "duration": 9,
    "start_time": "2022-06-20T14:04:18.215Z"
   },
   {
    "duration": 381,
    "start_time": "2022-06-20T14:04:18.225Z"
   },
   {
    "duration": 69,
    "start_time": "2022-06-20T14:04:18.608Z"
   },
   {
    "duration": 22,
    "start_time": "2022-06-20T14:04:18.686Z"
   },
   {
    "duration": 28,
    "start_time": "2022-06-20T14:04:18.710Z"
   },
   {
    "duration": 3,
    "start_time": "2022-06-20T14:04:18.740Z"
   },
   {
    "duration": 31,
    "start_time": "2022-06-20T14:04:18.744Z"
   },
   {
    "duration": 17,
    "start_time": "2022-06-20T14:04:18.778Z"
   },
   {
    "duration": 11,
    "start_time": "2022-06-20T14:04:18.797Z"
   },
   {
    "duration": 7,
    "start_time": "2022-06-20T14:04:18.809Z"
   },
   {
    "duration": 188,
    "start_time": "2022-06-20T14:04:18.818Z"
   },
   {
    "duration": 4,
    "start_time": "2022-06-20T14:04:19.007Z"
   },
   {
    "duration": 27,
    "start_time": "2022-06-20T14:04:19.013Z"
   },
   {
    "duration": 56,
    "start_time": "2022-06-20T14:04:19.041Z"
   },
   {
    "duration": 4,
    "start_time": "2022-06-20T14:04:19.099Z"
   },
   {
    "duration": 235,
    "start_time": "2022-06-20T14:04:19.104Z"
   },
   {
    "duration": 5,
    "start_time": "2022-06-20T14:04:19.340Z"
   },
   {
    "duration": 38,
    "start_time": "2022-06-20T14:04:19.346Z"
   },
   {
    "duration": 24,
    "start_time": "2022-06-20T14:04:19.385Z"
   },
   {
    "duration": 4,
    "start_time": "2022-06-20T14:04:19.411Z"
   },
   {
    "duration": 7,
    "start_time": "2022-06-20T14:04:19.417Z"
   },
   {
    "duration": 15,
    "start_time": "2022-06-20T14:04:19.426Z"
   },
   {
    "duration": 4,
    "start_time": "2022-06-20T14:04:19.443Z"
   },
   {
    "duration": 26,
    "start_time": "2022-06-20T14:04:19.448Z"
   },
   {
    "duration": 75,
    "start_time": "2022-06-20T14:04:19.475Z"
   },
   {
    "duration": 8,
    "start_time": "2022-06-20T14:04:19.552Z"
   },
   {
    "duration": 30,
    "start_time": "2022-06-20T14:04:19.564Z"
   },
   {
    "duration": 6,
    "start_time": "2022-06-20T14:04:19.595Z"
   },
   {
    "duration": 7,
    "start_time": "2022-06-20T14:04:19.602Z"
   },
   {
    "duration": 8,
    "start_time": "2022-06-20T14:04:19.610Z"
   },
   {
    "duration": 12,
    "start_time": "2022-06-20T14:04:19.619Z"
   },
   {
    "duration": 6,
    "start_time": "2022-06-20T14:04:19.632Z"
   },
   {
    "duration": 6,
    "start_time": "2022-06-20T14:04:19.639Z"
   },
   {
    "duration": 42,
    "start_time": "2022-06-20T14:04:19.646Z"
   },
   {
    "duration": 33,
    "start_time": "2022-06-20T14:04:19.690Z"
   },
   {
    "duration": 224,
    "start_time": "2022-06-20T14:04:19.725Z"
   },
   {
    "duration": 365,
    "start_time": "2022-06-20T14:04:19.950Z"
   },
   {
    "duration": 53,
    "start_time": "2022-06-20T14:04:20.316Z"
   },
   {
    "duration": 341,
    "start_time": "2022-06-20T14:04:20.373Z"
   },
   {
    "duration": 223,
    "start_time": "2022-06-20T14:04:20.716Z"
   },
   {
    "duration": 371,
    "start_time": "2022-06-20T14:04:20.940Z"
   },
   {
    "duration": 12,
    "start_time": "2022-06-20T14:04:21.312Z"
   },
   {
    "duration": 18,
    "start_time": "2022-06-20T14:04:21.325Z"
   },
   {
    "duration": 23,
    "start_time": "2022-06-20T14:04:21.345Z"
   },
   {
    "duration": 126,
    "start_time": "2022-06-20T14:04:21.369Z"
   },
   {
    "duration": 104,
    "start_time": "2022-06-20T14:04:21.497Z"
   },
   {
    "duration": 20,
    "start_time": "2022-06-20T14:04:21.602Z"
   },
   {
    "duration": 13,
    "start_time": "2022-06-20T14:04:21.624Z"
   },
   {
    "duration": 4,
    "start_time": "2022-06-20T14:04:47.739Z"
   },
   {
    "duration": 10,
    "start_time": "2022-06-20T14:04:47.745Z"
   },
   {
    "duration": 28,
    "start_time": "2022-06-20T14:04:47.757Z"
   },
   {
    "duration": 6,
    "start_time": "2022-06-20T14:04:47.787Z"
   },
   {
    "duration": 139,
    "start_time": "2022-06-20T14:04:47.795Z"
   },
   {
    "duration": 7,
    "start_time": "2022-06-20T14:04:47.936Z"
   },
   {
    "duration": 39,
    "start_time": "2022-06-20T14:04:47.944Z"
   },
   {
    "duration": 8,
    "start_time": "2022-06-20T14:04:47.989Z"
   },
   {
    "duration": 13,
    "start_time": "2022-06-20T14:04:47.999Z"
   },
   {
    "duration": 7,
    "start_time": "2022-06-20T14:04:48.014Z"
   },
   {
    "duration": 6,
    "start_time": "2022-06-20T14:04:48.023Z"
   },
   {
    "duration": 10,
    "start_time": "2022-06-20T14:04:48.031Z"
   },
   {
    "duration": 59,
    "start_time": "2022-06-20T14:04:48.043Z"
   },
   {
    "duration": 22,
    "start_time": "2022-06-20T14:04:48.103Z"
   },
   {
    "duration": 11,
    "start_time": "2022-06-20T14:04:48.126Z"
   },
   {
    "duration": 46,
    "start_time": "2022-06-20T14:04:48.138Z"
   },
   {
    "duration": 56,
    "start_time": "2022-06-20T14:04:48.185Z"
   },
   {
    "duration": 38,
    "start_time": "2022-06-20T14:04:48.243Z"
   },
   {
    "duration": 5,
    "start_time": "2022-06-20T14:04:48.288Z"
   },
   {
    "duration": 32,
    "start_time": "2022-06-20T14:04:48.295Z"
   },
   {
    "duration": 20,
    "start_time": "2022-06-20T14:04:48.329Z"
   },
   {
    "duration": 27,
    "start_time": "2022-06-20T14:04:48.367Z"
   },
   {
    "duration": 25,
    "start_time": "2022-06-20T14:04:48.396Z"
   },
   {
    "duration": 51,
    "start_time": "2022-06-20T14:04:48.423Z"
   },
   {
    "duration": 13,
    "start_time": "2022-06-20T14:04:48.475Z"
   },
   {
    "duration": 26,
    "start_time": "2022-06-20T14:04:48.490Z"
   },
   {
    "duration": 28,
    "start_time": "2022-06-20T14:04:48.518Z"
   },
   {
    "duration": 373,
    "start_time": "2022-06-20T14:04:48.549Z"
   },
   {
    "duration": 57,
    "start_time": "2022-06-20T14:04:48.923Z"
   },
   {
    "duration": 22,
    "start_time": "2022-06-20T14:04:48.984Z"
   },
   {
    "duration": 12,
    "start_time": "2022-06-20T14:04:49.008Z"
   },
   {
    "duration": 18,
    "start_time": "2022-06-20T14:04:49.022Z"
   },
   {
    "duration": 361,
    "start_time": "2022-06-20T14:04:49.041Z"
   },
   {
    "duration": 84,
    "start_time": "2022-06-20T14:04:49.404Z"
   },
   {
    "duration": 25,
    "start_time": "2022-06-20T14:04:49.490Z"
   },
   {
    "duration": 31,
    "start_time": "2022-06-20T14:04:49.517Z"
   },
   {
    "duration": 7,
    "start_time": "2022-06-20T14:04:49.567Z"
   },
   {
    "duration": 25,
    "start_time": "2022-06-20T14:04:49.576Z"
   },
   {
    "duration": 10,
    "start_time": "2022-06-20T14:04:49.603Z"
   },
   {
    "duration": 14,
    "start_time": "2022-06-20T14:04:49.614Z"
   },
   {
    "duration": 8,
    "start_time": "2022-06-20T14:04:49.629Z"
   },
   {
    "duration": 198,
    "start_time": "2022-06-20T14:04:49.638Z"
   },
   {
    "duration": 3,
    "start_time": "2022-06-20T14:04:49.838Z"
   },
   {
    "duration": 53,
    "start_time": "2022-06-20T14:04:49.843Z"
   },
   {
    "duration": 35,
    "start_time": "2022-06-20T14:04:49.897Z"
   },
   {
    "duration": 5,
    "start_time": "2022-06-20T14:04:49.934Z"
   },
   {
    "duration": 166,
    "start_time": "2022-06-20T14:04:49.940Z"
   },
   {
    "duration": 5,
    "start_time": "2022-06-20T14:04:50.107Z"
   },
   {
    "duration": 20,
    "start_time": "2022-06-20T14:04:50.113Z"
   },
   {
    "duration": 34,
    "start_time": "2022-06-20T14:04:50.134Z"
   },
   {
    "duration": 6,
    "start_time": "2022-06-20T14:04:50.170Z"
   },
   {
    "duration": 16,
    "start_time": "2022-06-20T14:04:50.181Z"
   },
   {
    "duration": 18,
    "start_time": "2022-06-20T14:04:50.199Z"
   },
   {
    "duration": 17,
    "start_time": "2022-06-20T14:04:50.220Z"
   },
   {
    "duration": 8,
    "start_time": "2022-06-20T14:04:50.239Z"
   },
   {
    "duration": 59,
    "start_time": "2022-06-20T14:04:50.249Z"
   },
   {
    "duration": 5,
    "start_time": "2022-06-20T14:04:50.310Z"
   },
   {
    "duration": 27,
    "start_time": "2022-06-20T14:04:50.317Z"
   },
   {
    "duration": 8,
    "start_time": "2022-06-20T14:04:50.345Z"
   },
   {
    "duration": 32,
    "start_time": "2022-06-20T14:04:50.355Z"
   },
   {
    "duration": 16,
    "start_time": "2022-06-20T14:04:50.389Z"
   },
   {
    "duration": 16,
    "start_time": "2022-06-20T14:04:50.407Z"
   },
   {
    "duration": 10,
    "start_time": "2022-06-20T14:04:50.425Z"
   },
   {
    "duration": 12,
    "start_time": "2022-06-20T14:04:50.437Z"
   },
   {
    "duration": 57,
    "start_time": "2022-06-20T14:04:50.451Z"
   },
   {
    "duration": 31,
    "start_time": "2022-06-20T14:04:50.510Z"
   },
   {
    "duration": 228,
    "start_time": "2022-06-20T14:04:50.543Z"
   },
   {
    "duration": 440,
    "start_time": "2022-06-20T14:04:50.773Z"
   },
   {
    "duration": 61,
    "start_time": "2022-06-20T14:04:51.215Z"
   },
   {
    "duration": 349,
    "start_time": "2022-06-20T14:04:51.283Z"
   },
   {
    "duration": 146,
    "start_time": "2022-06-20T14:04:51.634Z"
   },
   {
    "duration": 341,
    "start_time": "2022-06-20T14:04:51.781Z"
   },
   {
    "duration": 51,
    "start_time": "2022-06-20T14:04:52.124Z"
   },
   {
    "duration": 17,
    "start_time": "2022-06-20T14:04:52.179Z"
   },
   {
    "duration": 65,
    "start_time": "2022-06-20T14:04:52.198Z"
   },
   {
    "duration": 19,
    "start_time": "2022-06-20T14:04:52.265Z"
   },
   {
    "duration": 33,
    "start_time": "2022-06-20T14:04:52.287Z"
   },
   {
    "duration": 16,
    "start_time": "2022-06-20T14:04:59.712Z"
   },
   {
    "duration": 26,
    "start_time": "2022-06-20T14:05:00.159Z"
   },
   {
    "duration": 9,
    "start_time": "2022-06-20T14:05:03.803Z"
   },
   {
    "duration": 11,
    "start_time": "2022-06-20T14:05:10.178Z"
   },
   {
    "duration": 19,
    "start_time": "2022-06-20T14:05:26.699Z"
   },
   {
    "duration": 9,
    "start_time": "2022-06-20T14:05:28.181Z"
   },
   {
    "duration": 19,
    "start_time": "2022-06-20T14:05:34.706Z"
   },
   {
    "duration": 3,
    "start_time": "2022-06-20T14:05:56.802Z"
   },
   {
    "duration": 12,
    "start_time": "2022-06-20T14:06:00.203Z"
   },
   {
    "duration": 28,
    "start_time": "2022-06-20T14:06:07.701Z"
   },
   {
    "duration": 29,
    "start_time": "2022-06-20T14:07:02.611Z"
   },
   {
    "duration": 14,
    "start_time": "2022-06-20T14:07:05.954Z"
   },
   {
    "duration": 30,
    "start_time": "2022-06-20T14:07:54.948Z"
   },
   {
    "duration": 13,
    "start_time": "2022-06-20T14:07:58.103Z"
   },
   {
    "duration": 24,
    "start_time": "2022-06-20T14:08:35.978Z"
   },
   {
    "duration": 10,
    "start_time": "2022-06-20T14:09:13.504Z"
   },
   {
    "duration": 13,
    "start_time": "2022-06-20T14:10:49.029Z"
   },
   {
    "duration": 8,
    "start_time": "2022-06-20T14:10:59.220Z"
   },
   {
    "duration": 13,
    "start_time": "2022-06-20T14:11:05.309Z"
   },
   {
    "duration": 26,
    "start_time": "2022-06-20T14:11:08.914Z"
   },
   {
    "duration": 11,
    "start_time": "2022-06-20T14:11:15.235Z"
   },
   {
    "duration": 21,
    "start_time": "2022-06-20T14:11:36.050Z"
   },
   {
    "duration": 15,
    "start_time": "2022-06-20T14:12:10.965Z"
   },
   {
    "duration": 8,
    "start_time": "2022-06-20T14:13:30.613Z"
   },
   {
    "duration": 22,
    "start_time": "2022-06-20T14:13:34.259Z"
   },
   {
    "duration": 5,
    "start_time": "2022-06-20T14:14:39.252Z"
   },
   {
    "duration": 15,
    "start_time": "2022-06-20T14:14:43.497Z"
   },
   {
    "duration": 12,
    "start_time": "2022-06-20T14:14:56.437Z"
   },
   {
    "duration": 16,
    "start_time": "2022-06-20T14:15:00.212Z"
   },
   {
    "duration": 24,
    "start_time": "2022-06-20T14:15:08.640Z"
   },
   {
    "duration": 11,
    "start_time": "2022-06-20T14:15:39.497Z"
   },
   {
    "duration": 32,
    "start_time": "2022-06-20T14:16:12.500Z"
   },
   {
    "duration": 12,
    "start_time": "2022-06-20T14:16:48.089Z"
   },
   {
    "duration": 12,
    "start_time": "2022-06-20T14:17:36.020Z"
   },
   {
    "duration": 8,
    "start_time": "2022-06-20T14:36:41.593Z"
   },
   {
    "duration": 215,
    "start_time": "2022-06-20T14:37:01.746Z"
   },
   {
    "duration": 182,
    "start_time": "2022-06-20T14:37:11.007Z"
   },
   {
    "duration": 295,
    "start_time": "2022-06-20T14:37:22.689Z"
   },
   {
    "duration": 64,
    "start_time": "2022-06-20T14:37:36.307Z"
   },
   {
    "duration": 182,
    "start_time": "2022-06-20T14:37:39.825Z"
   },
   {
    "duration": 9,
    "start_time": "2022-06-20T14:38:04.901Z"
   },
   {
    "duration": 185,
    "start_time": "2022-06-20T14:38:36.102Z"
   },
   {
    "duration": 180,
    "start_time": "2022-06-20T14:38:40.100Z"
   },
   {
    "duration": 224,
    "start_time": "2022-06-20T14:38:47.121Z"
   },
   {
    "duration": 204,
    "start_time": "2022-06-20T14:39:16.756Z"
   },
   {
    "duration": 291,
    "start_time": "2022-06-20T14:39:47.509Z"
   },
   {
    "duration": 188,
    "start_time": "2022-06-20T14:40:18.898Z"
   },
   {
    "duration": 196,
    "start_time": "2022-06-20T14:48:41.173Z"
   },
   {
    "duration": 156,
    "start_time": "2022-06-20T14:49:59.930Z"
   },
   {
    "duration": 375,
    "start_time": "2022-06-20T14:59:52.916Z"
   },
   {
    "duration": 14,
    "start_time": "2022-06-20T15:04:19.566Z"
   },
   {
    "duration": 13,
    "start_time": "2022-06-20T15:04:29.804Z"
   },
   {
    "duration": 1760,
    "start_time": "2022-06-20T15:42:25.611Z"
   },
   {
    "duration": 5,
    "start_time": "2022-06-20T15:42:27.374Z"
   },
   {
    "duration": 12,
    "start_time": "2022-06-20T15:42:27.381Z"
   },
   {
    "duration": 6,
    "start_time": "2022-06-20T15:42:27.395Z"
   },
   {
    "duration": 645,
    "start_time": "2022-06-20T15:42:27.403Z"
   },
   {
    "duration": 15,
    "start_time": "2022-06-20T15:42:28.050Z"
   },
   {
    "duration": 20,
    "start_time": "2022-06-20T15:42:28.067Z"
   },
   {
    "duration": 12,
    "start_time": "2022-06-20T15:42:28.089Z"
   },
   {
    "duration": 20,
    "start_time": "2022-06-20T15:42:28.104Z"
   },
   {
    "duration": 30,
    "start_time": "2022-06-20T15:42:28.127Z"
   },
   {
    "duration": 45,
    "start_time": "2022-06-20T15:42:28.160Z"
   },
   {
    "duration": 14,
    "start_time": "2022-06-20T15:42:28.207Z"
   },
   {
    "duration": 83,
    "start_time": "2022-06-20T15:42:28.223Z"
   },
   {
    "duration": 26,
    "start_time": "2022-06-20T15:42:28.308Z"
   },
   {
    "duration": 31,
    "start_time": "2022-06-20T15:42:28.336Z"
   },
   {
    "duration": 23,
    "start_time": "2022-06-20T15:42:28.368Z"
   },
   {
    "duration": 75,
    "start_time": "2022-06-20T15:42:28.393Z"
   },
   {
    "duration": 29,
    "start_time": "2022-06-20T15:42:28.470Z"
   },
   {
    "duration": 28,
    "start_time": "2022-06-20T15:42:28.501Z"
   },
   {
    "duration": 31,
    "start_time": "2022-06-20T15:42:28.533Z"
   },
   {
    "duration": 22,
    "start_time": "2022-06-20T15:42:28.565Z"
   },
   {
    "duration": 41,
    "start_time": "2022-06-20T15:42:28.589Z"
   },
   {
    "duration": 36,
    "start_time": "2022-06-20T15:42:28.633Z"
   },
   {
    "duration": 33,
    "start_time": "2022-06-20T15:42:28.670Z"
   },
   {
    "duration": 27,
    "start_time": "2022-06-20T15:42:28.705Z"
   },
   {
    "duration": 40,
    "start_time": "2022-06-20T15:42:28.735Z"
   },
   {
    "duration": 22,
    "start_time": "2022-06-20T15:42:28.777Z"
   },
   {
    "duration": 375,
    "start_time": "2022-06-20T15:42:28.805Z"
   },
   {
    "duration": 63,
    "start_time": "2022-06-20T15:42:29.181Z"
   },
   {
    "duration": 23,
    "start_time": "2022-06-20T15:42:29.246Z"
   },
   {
    "duration": 14,
    "start_time": "2022-06-20T15:42:29.271Z"
   },
   {
    "duration": 20,
    "start_time": "2022-06-20T15:42:29.287Z"
   },
   {
    "duration": 416,
    "start_time": "2022-06-20T15:42:29.332Z"
   },
   {
    "duration": 55,
    "start_time": "2022-06-20T15:42:29.750Z"
   },
   {
    "duration": 44,
    "start_time": "2022-06-20T15:42:29.807Z"
   },
   {
    "duration": 36,
    "start_time": "2022-06-20T15:42:29.853Z"
   },
   {
    "duration": 3,
    "start_time": "2022-06-20T15:42:29.891Z"
   },
   {
    "duration": 33,
    "start_time": "2022-06-20T15:42:29.896Z"
   },
   {
    "duration": 25,
    "start_time": "2022-06-20T15:42:29.931Z"
   },
   {
    "duration": 10,
    "start_time": "2022-06-20T15:42:29.958Z"
   },
   {
    "duration": 9,
    "start_time": "2022-06-20T15:42:29.969Z"
   },
   {
    "duration": 248,
    "start_time": "2022-06-20T15:42:29.980Z"
   },
   {
    "duration": 6,
    "start_time": "2022-06-20T15:42:30.230Z"
   },
   {
    "duration": 48,
    "start_time": "2022-06-20T15:42:30.238Z"
   },
   {
    "duration": 43,
    "start_time": "2022-06-20T15:42:30.288Z"
   },
   {
    "duration": 44,
    "start_time": "2022-06-20T15:42:30.333Z"
   },
   {
    "duration": 248,
    "start_time": "2022-06-20T15:42:30.379Z"
   },
   {
    "duration": 7,
    "start_time": "2022-06-20T15:42:30.629Z"
   },
   {
    "duration": 61,
    "start_time": "2022-06-20T15:42:30.638Z"
   },
   {
    "duration": 48,
    "start_time": "2022-06-20T15:42:30.701Z"
   },
   {
    "duration": 12,
    "start_time": "2022-06-20T15:42:30.751Z"
   },
   {
    "duration": 106,
    "start_time": "2022-06-20T15:42:30.765Z"
   },
   {
    "duration": 57,
    "start_time": "2022-06-20T15:42:30.873Z"
   },
   {
    "duration": 25,
    "start_time": "2022-06-20T15:42:30.932Z"
   },
   {
    "duration": 23,
    "start_time": "2022-06-20T15:42:30.959Z"
   },
   {
    "duration": 111,
    "start_time": "2022-06-20T15:42:30.984Z"
   },
   {
    "duration": 7,
    "start_time": "2022-06-20T15:42:31.097Z"
   },
   {
    "duration": 14,
    "start_time": "2022-06-20T15:42:31.106Z"
   },
   {
    "duration": 32,
    "start_time": "2022-06-20T15:42:31.127Z"
   },
   {
    "duration": 15,
    "start_time": "2022-06-20T15:42:31.161Z"
   },
   {
    "duration": 16,
    "start_time": "2022-06-20T15:42:31.178Z"
   },
   {
    "duration": 17,
    "start_time": "2022-06-20T15:42:31.196Z"
   },
   {
    "duration": 22,
    "start_time": "2022-06-20T15:42:31.215Z"
   },
   {
    "duration": 33,
    "start_time": "2022-06-20T15:42:31.239Z"
   },
   {
    "duration": 63,
    "start_time": "2022-06-20T15:42:31.274Z"
   },
   {
    "duration": 40,
    "start_time": "2022-06-20T15:42:31.339Z"
   },
   {
    "duration": 454,
    "start_time": "2022-06-20T15:42:31.382Z"
   },
   {
    "duration": 385,
    "start_time": "2022-06-20T15:42:31.845Z"
   },
   {
    "duration": 58,
    "start_time": "2022-06-20T15:42:32.232Z"
   },
   {
    "duration": 414,
    "start_time": "2022-06-20T15:42:32.292Z"
   },
   {
    "duration": 127,
    "start_time": "2022-06-20T15:42:32.708Z"
   },
   {
    "duration": 378,
    "start_time": "2022-06-20T15:42:32.837Z"
   },
   {
    "duration": 20,
    "start_time": "2022-06-20T15:42:33.217Z"
   },
   {
    "duration": 36,
    "start_time": "2022-06-20T15:42:33.240Z"
   },
   {
    "duration": 11,
    "start_time": "2022-06-20T15:42:33.278Z"
   },
   {
    "duration": 34,
    "start_time": "2022-06-20T15:42:33.291Z"
   },
   {
    "duration": 31,
    "start_time": "2022-06-20T15:42:33.327Z"
   },
   {
    "duration": 253,
    "start_time": "2022-06-20T15:42:33.360Z"
   },
   {
    "duration": 0,
    "start_time": "2022-06-20T15:42:33.615Z"
   },
   {
    "duration": 0,
    "start_time": "2022-06-20T15:42:33.617Z"
   },
   {
    "duration": 0,
    "start_time": "2022-06-20T15:42:33.617Z"
   },
   {
    "duration": 0,
    "start_time": "2022-06-20T15:42:33.619Z"
   },
   {
    "duration": 0,
    "start_time": "2022-06-20T15:42:33.627Z"
   },
   {
    "duration": 0,
    "start_time": "2022-06-20T15:42:33.628Z"
   },
   {
    "duration": 0,
    "start_time": "2022-06-20T15:42:33.631Z"
   },
   {
    "duration": 0,
    "start_time": "2022-06-20T15:42:33.632Z"
   },
   {
    "duration": 0,
    "start_time": "2022-06-20T15:42:33.633Z"
   },
   {
    "duration": 0,
    "start_time": "2022-06-20T15:42:33.635Z"
   },
   {
    "duration": 0,
    "start_time": "2022-06-20T15:42:33.636Z"
   },
   {
    "duration": 0,
    "start_time": "2022-06-20T15:42:33.638Z"
   },
   {
    "duration": 0,
    "start_time": "2022-06-20T15:42:33.639Z"
   },
   {
    "duration": 0,
    "start_time": "2022-06-20T15:42:33.640Z"
   },
   {
    "duration": 0,
    "start_time": "2022-06-20T15:42:33.641Z"
   },
   {
    "duration": 20,
    "start_time": "2022-06-20T15:43:39.734Z"
   },
   {
    "duration": 39,
    "start_time": "2022-06-20T15:43:41.049Z"
   },
   {
    "duration": 11,
    "start_time": "2022-06-20T15:43:41.748Z"
   },
   {
    "duration": 6,
    "start_time": "2022-06-20T15:43:42.254Z"
   },
   {
    "duration": 18,
    "start_time": "2022-06-20T15:43:42.750Z"
   },
   {
    "duration": 60,
    "start_time": "2022-06-20T15:44:22.478Z"
   },
   {
    "duration": 46,
    "start_time": "2022-06-20T15:44:23.009Z"
   },
   {
    "duration": 6,
    "start_time": "2022-06-20T15:44:23.413Z"
   },
   {
    "duration": 5,
    "start_time": "2022-06-20T15:44:23.848Z"
   },
   {
    "duration": 20,
    "start_time": "2022-06-20T15:44:25.418Z"
   },
   {
    "duration": 34,
    "start_time": "2022-06-20T15:44:25.694Z"
   },
   {
    "duration": 18,
    "start_time": "2022-06-20T15:44:25.984Z"
   },
   {
    "duration": 19,
    "start_time": "2022-06-20T15:44:26.354Z"
   },
   {
    "duration": 10,
    "start_time": "2022-06-20T15:44:26.756Z"
   },
   {
    "duration": 13,
    "start_time": "2022-06-20T15:44:27.549Z"
   },
   {
    "duration": 7,
    "start_time": "2022-06-20T15:44:28.041Z"
   },
   {
    "duration": 88,
    "start_time": "2022-06-21T12:52:54.543Z"
   }
  ],
  "kernelspec": {
   "display_name": "Python 3",
   "language": "python",
   "name": "python3"
  },
  "language_info": {
   "codemirror_mode": {
    "name": "ipython",
    "version": 3
   },
   "file_extension": ".py",
   "mimetype": "text/x-python",
   "name": "python",
   "nbconvert_exporter": "python",
   "pygments_lexer": "ipython3",
   "version": "3.8.5"
  },
  "toc": {
   "base_numbering": 1,
   "nav_menu": {},
   "number_sections": true,
   "sideBar": true,
   "skip_h1_title": true,
   "title_cell": "Table of Contents",
   "title_sidebar": "Contents",
   "toc_cell": false,
   "toc_position": {
    "height": "calc(100% - 180px)",
    "left": "10px",
    "top": "150px",
    "width": "409.097px"
   },
   "toc_section_display": true,
   "toc_window_display": true
  }
 },
 "nbformat": 4,
 "nbformat_minor": 2
}
