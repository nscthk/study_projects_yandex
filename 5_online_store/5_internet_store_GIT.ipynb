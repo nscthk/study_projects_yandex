{
 "cells": [
  {
   "cell_type": "markdown",
   "metadata": {},
   "source": [
    "# Проектная работа"
   ]
  },
  {
   "cell_type": "markdown",
   "metadata": {},
   "source": [
    "**Цель** - Приоритизировать гипотезы, запустить A/B-тест и проанализировать результаты. Гипотезы для увеличения выручки были подготовлены совместно с отделом маркетинга."
   ]
  },
  {
   "cell_type": "markdown",
   "metadata": {},
   "source": [
    "##  Импорт библиотек"
   ]
  },
  {
   "cell_type": "code",
   "execution_count": 1,
   "metadata": {},
   "outputs": [],
   "source": [
    "import pandas as pd\n",
    "import numpy as np\n",
    "from matplotlib import pyplot as plt\n",
    "import datetime as dt\n",
    "import seaborn as sns\n",
    "import scipy.stats as stats\n",
    "\n",
    "pd.options.display.max_colwidth = 130"
   ]
  },
  {
   "cell_type": "markdown",
   "metadata": {},
   "source": [
    "## Задание пользовательских функций"
   ]
  },
  {
   "cell_type": "code",
   "execution_count": 2,
   "metadata": {},
   "outputs": [],
   "source": [
    "def df_check(df):\n",
    "    # функция для проверки количества дубликатов в датафрейме \n",
    "    # и количества пропусков по столбцам\n",
    "    print(f'Количество дубликатов в датафрейме равно {df.duplicated().sum()}')\n",
    "    print('Пропуски в датафрейме:')\n",
    "    print(df.isna().sum())"
   ]
  },
  {
   "cell_type": "markdown",
   "metadata": {},
   "source": [
    "## Загрузка и подготовка данных"
   ]
  },
  {
   "cell_type": "code",
   "execution_count": 3,
   "metadata": {},
   "outputs": [],
   "source": [
    "hypothesis = pd.read_csv('hypothesis.csv')\n",
    "orders = pd.read_csv('orders.csv')\n",
    "visitors = pd.read_csv('visitors.csv')"
   ]
  },
  {
   "cell_type": "markdown",
   "metadata": {},
   "source": [
    "### Датасет hypothesis"
   ]
  },
  {
   "cell_type": "code",
   "execution_count": 4,
   "metadata": {},
   "outputs": [
    {
     "name": "stdout",
     "output_type": "stream",
     "text": [
      "<class 'pandas.core.frame.DataFrame'>\n",
      "RangeIndex: 9 entries, 0 to 8\n",
      "Data columns (total 5 columns):\n",
      " #   Column      Non-Null Count  Dtype \n",
      "---  ------      --------------  ----- \n",
      " 0   Hypothesis  9 non-null      object\n",
      " 1   Reach       9 non-null      int64 \n",
      " 2   Impact      9 non-null      int64 \n",
      " 3   Confidence  9 non-null      int64 \n",
      " 4   Efforts     9 non-null      int64 \n",
      "dtypes: int64(4), object(1)\n",
      "memory usage: 488.0+ bytes\n"
     ]
    }
   ],
   "source": [
    "hypothesis.info()"
   ]
  },
  {
   "cell_type": "code",
   "execution_count": 5,
   "metadata": {},
   "outputs": [
    {
     "data": {
      "text/html": [
       "<div>\n",
       "<style scoped>\n",
       "    .dataframe tbody tr th:only-of-type {\n",
       "        vertical-align: middle;\n",
       "    }\n",
       "\n",
       "    .dataframe tbody tr th {\n",
       "        vertical-align: top;\n",
       "    }\n",
       "\n",
       "    .dataframe thead th {\n",
       "        text-align: right;\n",
       "    }\n",
       "</style>\n",
       "<table border=\"1\" class=\"dataframe\">\n",
       "  <thead>\n",
       "    <tr style=\"text-align: right;\">\n",
       "      <th></th>\n",
       "      <th>Hypothesis</th>\n",
       "      <th>Reach</th>\n",
       "      <th>Impact</th>\n",
       "      <th>Confidence</th>\n",
       "      <th>Efforts</th>\n",
       "    </tr>\n",
       "  </thead>\n",
       "  <tbody>\n",
       "    <tr>\n",
       "      <th>4</th>\n",
       "      <td>Изменить цвет фона главной страницы, чтобы увеличить вовлеченность пользователей</td>\n",
       "      <td>3</td>\n",
       "      <td>1</td>\n",
       "      <td>1</td>\n",
       "      <td>1</td>\n",
       "    </tr>\n",
       "    <tr>\n",
       "      <th>5</th>\n",
       "      <td>Добавить страницу отзывов клиентов о магазине, что позволит увеличить количество заказов</td>\n",
       "      <td>3</td>\n",
       "      <td>2</td>\n",
       "      <td>2</td>\n",
       "      <td>3</td>\n",
       "    </tr>\n",
       "    <tr>\n",
       "      <th>0</th>\n",
       "      <td>Добавить два новых канала привлечения трафика, что позволит привлекать на 30% больше пользователей</td>\n",
       "      <td>3</td>\n",
       "      <td>10</td>\n",
       "      <td>8</td>\n",
       "      <td>6</td>\n",
       "    </tr>\n",
       "    <tr>\n",
       "      <th>3</th>\n",
       "      <td>Изменить структура категорий, что увеличит конверсию, т.к. пользователи быстрее найдут нужный товар</td>\n",
       "      <td>8</td>\n",
       "      <td>3</td>\n",
       "      <td>3</td>\n",
       "      <td>8</td>\n",
       "    </tr>\n",
       "    <tr>\n",
       "      <th>1</th>\n",
       "      <td>Запустить собственную службу доставки, что сократит срок доставки заказов</td>\n",
       "      <td>2</td>\n",
       "      <td>5</td>\n",
       "      <td>4</td>\n",
       "      <td>10</td>\n",
       "    </tr>\n",
       "  </tbody>\n",
       "</table>\n",
       "</div>"
      ],
      "text/plain": [
       "                                                                                            Hypothesis  \\\n",
       "4                     Изменить цвет фона главной страницы, чтобы увеличить вовлеченность пользователей   \n",
       "5             Добавить страницу отзывов клиентов о магазине, что позволит увеличить количество заказов   \n",
       "0   Добавить два новых канала привлечения трафика, что позволит привлекать на 30% больше пользователей   \n",
       "3  Изменить структура категорий, что увеличит конверсию, т.к. пользователи быстрее найдут нужный товар   \n",
       "1                            Запустить собственную службу доставки, что сократит срок доставки заказов   \n",
       "\n",
       "   Reach  Impact  Confidence  Efforts  \n",
       "4      3       1           1        1  \n",
       "5      3       2           2        3  \n",
       "0      3      10           8        6  \n",
       "3      8       3           3        8  \n",
       "1      2       5           4       10  "
      ]
     },
     "execution_count": 5,
     "metadata": {},
     "output_type": "execute_result"
    }
   ],
   "source": [
    "hypothesis.sample(5)"
   ]
  },
  {
   "cell_type": "markdown",
   "metadata": {},
   "source": [
    "В таблице **hypothesis** содержатся следующие данные:\n",
    "1. **Hypothesis** - краткое описание гипотезы, формат object\n",
    "2. **Reach** - охват пользователей по 10-балльной шкале, формат int64 \n",
    "3. **Impact** - влияние на пользователей по 10-балльной шкале, формат int64 \n",
    "4. **Confidence** - уверенность в гипотезе по 10-балльной шкале, формат int64\n",
    "5. **Efforts** - затраты ресурсов на проверку гипотезы по 10-балльной шкале. Чем больше значение Efforts, тем дороже проверка гипотезы, формат object\n",
    "\n",
    "Всего в датасете 5 столбцов и 9 строк, из info видно что пропуски и дубликаты отсутствуют, но на всякий случай проведем проверку. Для этого воспользуемся функцикией проверки df_check."
   ]
  },
  {
   "cell_type": "code",
   "execution_count": 6,
   "metadata": {},
   "outputs": [
    {
     "name": "stdout",
     "output_type": "stream",
     "text": [
      "Количество дубликатов в датафрейме равно 0\n",
      "Пропуски в датафрейме:\n",
      "Hypothesis    0\n",
      "Reach         0\n",
      "Impact        0\n",
      "Confidence    0\n",
      "Efforts       0\n",
      "dtype: int64\n"
     ]
    }
   ],
   "source": [
    "# вызов функции для проверки на дубликаты и пропуски\n",
    "df_check(hypothesis)"
   ]
  },
  {
   "cell_type": "markdown",
   "metadata": {},
   "source": [
    "Итого в датасете **hypothesis** отсутствуют дупликаты и пропуски. Форматы данных также нас устраивают. Осталось только привести названия столбцом к формату snake_case, убрав верхний регистр c помощью метода str.lower(). "
   ]
  },
  {
   "cell_type": "code",
   "execution_count": 7,
   "metadata": {},
   "outputs": [
    {
     "data": {
      "text/plain": [
       "Index(['hypothesis', 'reach', 'impact', 'confidence', 'efforts'], dtype='object')"
      ]
     },
     "execution_count": 7,
     "metadata": {},
     "output_type": "execute_result"
    }
   ],
   "source": [
    "hypothesis.columns = hypothesis.columns.str.lower()\n",
    "hypothesis.columns"
   ]
  },
  {
   "cell_type": "markdown",
   "metadata": {},
   "source": [
    "### Датасет orders"
   ]
  },
  {
   "cell_type": "code",
   "execution_count": 8,
   "metadata": {},
   "outputs": [
    {
     "name": "stdout",
     "output_type": "stream",
     "text": [
      "<class 'pandas.core.frame.DataFrame'>\n",
      "RangeIndex: 1197 entries, 0 to 1196\n",
      "Data columns (total 5 columns):\n",
      " #   Column         Non-Null Count  Dtype \n",
      "---  ------         --------------  ----- \n",
      " 0   transactionId  1197 non-null   int64 \n",
      " 1   visitorId      1197 non-null   int64 \n",
      " 2   date           1197 non-null   object\n",
      " 3   revenue        1197 non-null   int64 \n",
      " 4   group          1197 non-null   object\n",
      "dtypes: int64(3), object(2)\n",
      "memory usage: 46.9+ KB\n"
     ]
    }
   ],
   "source": [
    "orders.info()"
   ]
  },
  {
   "cell_type": "code",
   "execution_count": 9,
   "metadata": {},
   "outputs": [
    {
     "data": {
      "text/html": [
       "<div>\n",
       "<style scoped>\n",
       "    .dataframe tbody tr th:only-of-type {\n",
       "        vertical-align: middle;\n",
       "    }\n",
       "\n",
       "    .dataframe tbody tr th {\n",
       "        vertical-align: top;\n",
       "    }\n",
       "\n",
       "    .dataframe thead th {\n",
       "        text-align: right;\n",
       "    }\n",
       "</style>\n",
       "<table border=\"1\" class=\"dataframe\">\n",
       "  <thead>\n",
       "    <tr style=\"text-align: right;\">\n",
       "      <th></th>\n",
       "      <th>transactionId</th>\n",
       "      <th>visitorId</th>\n",
       "      <th>date</th>\n",
       "      <th>revenue</th>\n",
       "      <th>group</th>\n",
       "    </tr>\n",
       "  </thead>\n",
       "  <tbody>\n",
       "    <tr>\n",
       "      <th>1143</th>\n",
       "      <td>3551685910</td>\n",
       "      <td>2397025226</td>\n",
       "      <td>2019-08-13</td>\n",
       "      <td>910</td>\n",
       "      <td>B</td>\n",
       "    </tr>\n",
       "    <tr>\n",
       "      <th>344</th>\n",
       "      <td>2161369048</td>\n",
       "      <td>130417038</td>\n",
       "      <td>2019-08-03</td>\n",
       "      <td>1530</td>\n",
       "      <td>A</td>\n",
       "    </tr>\n",
       "    <tr>\n",
       "      <th>1187</th>\n",
       "      <td>2274188238</td>\n",
       "      <td>132143192</td>\n",
       "      <td>2019-08-14</td>\n",
       "      <td>750</td>\n",
       "      <td>A</td>\n",
       "    </tr>\n",
       "    <tr>\n",
       "      <th>801</th>\n",
       "      <td>504373597</td>\n",
       "      <td>2604012846</td>\n",
       "      <td>2019-08-05</td>\n",
       "      <td>890</td>\n",
       "      <td>B</td>\n",
       "    </tr>\n",
       "    <tr>\n",
       "      <th>751</th>\n",
       "      <td>348143148</td>\n",
       "      <td>689129267</td>\n",
       "      <td>2019-08-20</td>\n",
       "      <td>37150</td>\n",
       "      <td>B</td>\n",
       "    </tr>\n",
       "  </tbody>\n",
       "</table>\n",
       "</div>"
      ],
      "text/plain": [
       "      transactionId   visitorId        date  revenue group\n",
       "1143     3551685910  2397025226  2019-08-13      910     B\n",
       "344      2161369048   130417038  2019-08-03     1530     A\n",
       "1187     2274188238   132143192  2019-08-14      750     A\n",
       "801       504373597  2604012846  2019-08-05      890     B\n",
       "751       348143148   689129267  2019-08-20    37150     B"
      ]
     },
     "execution_count": 9,
     "metadata": {},
     "output_type": "execute_result"
    }
   ],
   "source": [
    "orders.sample(5)"
   ]
  },
  {
   "cell_type": "markdown",
   "metadata": {},
   "source": [
    "В таблице **orders** содержатся следующие данные:\n",
    "1. **transactionId** - идентификатор заказа, формат int64\n",
    "2. **visitorId** - идентификатор пользователя, совершившего заказ, формат int64 \n",
    "3. **date** - дата, когда был совершён заказ; формат object \n",
    "4. **revenue** - выручка заказа, формат int64\n",
    "5. **group** - группа A/B-теста, в которую попал заказ, формат object\n",
    "\n",
    "Всего в датасете 5 столбцов и 1197 строк, из info видно что пропуски и дубликаты отсутствуют, но на всякий случай проведем проверку. Для этого воспользуемся функцикией проверки df_check."
   ]
  },
  {
   "cell_type": "code",
   "execution_count": 10,
   "metadata": {},
   "outputs": [
    {
     "name": "stdout",
     "output_type": "stream",
     "text": [
      "Количество дубликатов в датафрейме равно 0\n",
      "Пропуски в датафрейме:\n",
      "transactionId    0\n",
      "visitorId        0\n",
      "date             0\n",
      "revenue          0\n",
      "group            0\n",
      "dtype: int64\n"
     ]
    }
   ],
   "source": [
    "# вызов функции для проверки на дубликаты и пропуски\n",
    "df_check(orders)"
   ]
  },
  {
   "cell_type": "markdown",
   "metadata": {},
   "source": [
    "Итого в датасете **orders** отсутствуют дупликаты и пропуски. Приведем названия столбцов **transactionId**, **visitorId** к формату snake_case"
   ]
  },
  {
   "cell_type": "code",
   "execution_count": 11,
   "metadata": {},
   "outputs": [],
   "source": [
    "# Приведение названий столбцов к формату snake_case\n",
    "orders = orders.rename(columns={'transactionId':'transaction_id', 'visitorId':'visitor_id'})"
   ]
  },
  {
   "cell_type": "markdown",
   "metadata": {},
   "source": [
    "Также приведем столбец **date** с датой совершения заказа к нужному формату\n"
   ]
  },
  {
   "cell_type": "code",
   "execution_count": 12,
   "metadata": {},
   "outputs": [],
   "source": [
    "# преобразование даты к формату datetime64[ns]\n",
    "orders['date'] = orders['date'].map(lambda x: dt.datetime.strptime(x, '%Y-%m-%d'))"
   ]
  },
  {
   "cell_type": "markdown",
   "metadata": {},
   "source": [
    "### Датасет visitors"
   ]
  },
  {
   "cell_type": "code",
   "execution_count": 13,
   "metadata": {},
   "outputs": [
    {
     "name": "stdout",
     "output_type": "stream",
     "text": [
      "<class 'pandas.core.frame.DataFrame'>\n",
      "RangeIndex: 62 entries, 0 to 61\n",
      "Data columns (total 3 columns):\n",
      " #   Column    Non-Null Count  Dtype \n",
      "---  ------    --------------  ----- \n",
      " 0   date      62 non-null     object\n",
      " 1   group     62 non-null     object\n",
      " 2   visitors  62 non-null     int64 \n",
      "dtypes: int64(1), object(2)\n",
      "memory usage: 1.6+ KB\n"
     ]
    }
   ],
   "source": [
    "visitors.info()"
   ]
  },
  {
   "cell_type": "code",
   "execution_count": 14,
   "metadata": {},
   "outputs": [
    {
     "data": {
      "text/html": [
       "<div>\n",
       "<style scoped>\n",
       "    .dataframe tbody tr th:only-of-type {\n",
       "        vertical-align: middle;\n",
       "    }\n",
       "\n",
       "    .dataframe tbody tr th {\n",
       "        vertical-align: top;\n",
       "    }\n",
       "\n",
       "    .dataframe thead th {\n",
       "        text-align: right;\n",
       "    }\n",
       "</style>\n",
       "<table border=\"1\" class=\"dataframe\">\n",
       "  <thead>\n",
       "    <tr style=\"text-align: right;\">\n",
       "      <th></th>\n",
       "      <th>date</th>\n",
       "      <th>group</th>\n",
       "      <th>visitors</th>\n",
       "    </tr>\n",
       "  </thead>\n",
       "  <tbody>\n",
       "    <tr>\n",
       "      <th>39</th>\n",
       "      <td>2019-08-09</td>\n",
       "      <td>B</td>\n",
       "      <td>610</td>\n",
       "    </tr>\n",
       "    <tr>\n",
       "      <th>16</th>\n",
       "      <td>2019-08-17</td>\n",
       "      <td>A</td>\n",
       "      <td>412</td>\n",
       "    </tr>\n",
       "    <tr>\n",
       "      <th>52</th>\n",
       "      <td>2019-08-22</td>\n",
       "      <td>B</td>\n",
       "      <td>650</td>\n",
       "    </tr>\n",
       "    <tr>\n",
       "      <th>26</th>\n",
       "      <td>2019-08-27</td>\n",
       "      <td>A</td>\n",
       "      <td>711</td>\n",
       "    </tr>\n",
       "    <tr>\n",
       "      <th>46</th>\n",
       "      <td>2019-08-16</td>\n",
       "      <td>B</td>\n",
       "      <td>413</td>\n",
       "    </tr>\n",
       "  </tbody>\n",
       "</table>\n",
       "</div>"
      ],
      "text/plain": [
       "          date group  visitors\n",
       "39  2019-08-09     B       610\n",
       "16  2019-08-17     A       412\n",
       "52  2019-08-22     B       650\n",
       "26  2019-08-27     A       711\n",
       "46  2019-08-16     B       413"
      ]
     },
     "execution_count": 14,
     "metadata": {},
     "output_type": "execute_result"
    }
   ],
   "source": [
    "visitors.sample(5)"
   ]
  },
  {
   "cell_type": "markdown",
   "metadata": {},
   "source": [
    "В таблице **visitors** содержатся следующие данные:\n",
    "\n",
    "1. **date** - дата, формат object\n",
    "2. **group** -  группа A/B-теста, формат object\n",
    "3. **visitors** - количество пользователей в указанную дату в указанной группе A/B-теста, формат int64\n",
    "\n",
    "Всего в датасете 3 столбца и 62 строки, из info видно что пропуски и дубликаты отсутствуют, но на всякий случай проведем проверку. Для этого воспользуемся функцикией проверки df_check."
   ]
  },
  {
   "cell_type": "code",
   "execution_count": 15,
   "metadata": {},
   "outputs": [
    {
     "name": "stdout",
     "output_type": "stream",
     "text": [
      "Количество дубликатов в датафрейме равно 0\n",
      "Пропуски в датафрейме:\n",
      "date        0\n",
      "group       0\n",
      "visitors    0\n",
      "dtype: int64\n"
     ]
    }
   ],
   "source": [
    "# вызов функции для проверки на дубликаты и пропуски\n",
    "df_check(visitors)"
   ]
  },
  {
   "cell_type": "markdown",
   "metadata": {},
   "source": [
    "Пропусков и дубликатов нет, названия столбцов нас устраивают, осталось только привести столбец с датой к нужному формату"
   ]
  },
  {
   "cell_type": "code",
   "execution_count": 16,
   "metadata": {},
   "outputs": [],
   "source": [
    "# преобразование даты к формату datetime64[ns]\n",
    "visitors['date'] = visitors['date'].map(lambda x: dt.datetime.strptime(x, '%Y-%m-%d'))"
   ]
  },
  {
   "cell_type": "markdown",
   "metadata": {},
   "source": [
    "### Вывод\n"
   ]
  },
  {
   "cell_type": "markdown",
   "metadata": {},
   "source": [
    "Все три датафрейма **hypothesis**, **orders**, **visitors** были проанализированы. Проблем с данными не обнаружено. Столбцы с датами были приведены к нужному формату, заголовки были отформатированы (в формат snake_case)."
   ]
  },
  {
   "cell_type": "markdown",
   "metadata": {},
   "source": [
    "## Приоритизация гипотез"
   ]
  },
  {
   "cell_type": "markdown",
   "metadata": {},
   "source": [
    "### Приоритизация гипотез с помощью фреймворка ICE "
   ]
  },
  {
   "cell_type": "markdown",
   "metadata": {},
   "source": [
    "Одним из самых популярных способов приоритизации задач перед проведением A/B теста является фреймворк ICE (от англ. impact, confidence, effort / ease «влияние, уверенность, усилия / простота»). Ниже приведена формула расчета. "
   ]
  },
  {
   "cell_type": "markdown",
   "metadata": {},
   "source": [
    "$$ ICE = IMPACT * CONFIDENCE * EASE =  \\cfrac{IMPACT * CONFIDENCE}{EFFORTS} $$\n"
   ]
  },
  {
   "cell_type": "markdown",
   "metadata": {},
   "source": [
    "Где \n",
    "- **Impact** — насколько сильно изменение повлияет на пользователей, их опыт и удовлетворение от продукта,\n",
    "- **Confidence** — насколько вы уверены, что это изменение повлияет на пользователей именно так,\n",
    "- **Efforts** — сколько стоит протестировать эту гипотезу.\n",
    "\n",
    "Применим фрейморк к нашим данным."
   ]
  },
  {
   "cell_type": "code",
   "execution_count": 17,
   "metadata": {},
   "outputs": [
    {
     "data": {
      "text/html": [
       "<div>\n",
       "<style scoped>\n",
       "    .dataframe tbody tr th:only-of-type {\n",
       "        vertical-align: middle;\n",
       "    }\n",
       "\n",
       "    .dataframe tbody tr th {\n",
       "        vertical-align: top;\n",
       "    }\n",
       "\n",
       "    .dataframe thead th {\n",
       "        text-align: right;\n",
       "    }\n",
       "</style>\n",
       "<table border=\"1\" class=\"dataframe\">\n",
       "  <thead>\n",
       "    <tr style=\"text-align: right;\">\n",
       "      <th></th>\n",
       "      <th>hypothesis</th>\n",
       "      <th>ICE</th>\n",
       "    </tr>\n",
       "  </thead>\n",
       "  <tbody>\n",
       "    <tr>\n",
       "      <th>8</th>\n",
       "      <td>Запустить акцию, дающую скидку на товар в день рождения</td>\n",
       "      <td>16.200000</td>\n",
       "    </tr>\n",
       "    <tr>\n",
       "      <th>0</th>\n",
       "      <td>Добавить два новых канала привлечения трафика, что позволит привлекать на 30% больше пользователей</td>\n",
       "      <td>13.333333</td>\n",
       "    </tr>\n",
       "    <tr>\n",
       "      <th>7</th>\n",
       "      <td>Добавить форму подписки на все основные страницы, чтобы собрать базу клиентов для email-рассылок</td>\n",
       "      <td>11.200000</td>\n",
       "    </tr>\n",
       "    <tr>\n",
       "      <th>6</th>\n",
       "      <td>Показать на главной странице баннеры с актуальными акциями и распродажами, чтобы увеличить конверсию</td>\n",
       "      <td>8.000000</td>\n",
       "    </tr>\n",
       "    <tr>\n",
       "      <th>2</th>\n",
       "      <td>Добавить блоки рекомендаций товаров на сайт интернет магазина, чтобы повысить конверсию и средний чек заказа</td>\n",
       "      <td>7.000000</td>\n",
       "    </tr>\n",
       "    <tr>\n",
       "      <th>1</th>\n",
       "      <td>Запустить собственную службу доставки, что сократит срок доставки заказов</td>\n",
       "      <td>2.000000</td>\n",
       "    </tr>\n",
       "    <tr>\n",
       "      <th>5</th>\n",
       "      <td>Добавить страницу отзывов клиентов о магазине, что позволит увеличить количество заказов</td>\n",
       "      <td>1.333333</td>\n",
       "    </tr>\n",
       "    <tr>\n",
       "      <th>3</th>\n",
       "      <td>Изменить структура категорий, что увеличит конверсию, т.к. пользователи быстрее найдут нужный товар</td>\n",
       "      <td>1.125000</td>\n",
       "    </tr>\n",
       "    <tr>\n",
       "      <th>4</th>\n",
       "      <td>Изменить цвет фона главной страницы, чтобы увеличить вовлеченность пользователей</td>\n",
       "      <td>1.000000</td>\n",
       "    </tr>\n",
       "  </tbody>\n",
       "</table>\n",
       "</div>"
      ],
      "text/plain": [
       "                                                                                                     hypothesis  \\\n",
       "8                                                       Запустить акцию, дающую скидку на товар в день рождения   \n",
       "0            Добавить два новых канала привлечения трафика, что позволит привлекать на 30% больше пользователей   \n",
       "7              Добавить форму подписки на все основные страницы, чтобы собрать базу клиентов для email-рассылок   \n",
       "6          Показать на главной странице баннеры с актуальными акциями и распродажами, чтобы увеличить конверсию   \n",
       "2  Добавить блоки рекомендаций товаров на сайт интернет магазина, чтобы повысить конверсию и средний чек заказа   \n",
       "1                                     Запустить собственную службу доставки, что сократит срок доставки заказов   \n",
       "5                      Добавить страницу отзывов клиентов о магазине, что позволит увеличить количество заказов   \n",
       "3           Изменить структура категорий, что увеличит конверсию, т.к. пользователи быстрее найдут нужный товар   \n",
       "4                              Изменить цвет фона главной страницы, чтобы увеличить вовлеченность пользователей   \n",
       "\n",
       "         ICE  \n",
       "8  16.200000  \n",
       "0  13.333333  \n",
       "7  11.200000  \n",
       "6   8.000000  \n",
       "2   7.000000  \n",
       "1   2.000000  \n",
       "5   1.333333  \n",
       "3   1.125000  \n",
       "4   1.000000  "
      ]
     },
     "metadata": {},
     "output_type": "display_data"
    }
   ],
   "source": [
    "hypothesis['ICE'] = hypothesis['impact']*hypothesis['confidence']/hypothesis['efforts']\n",
    "display(hypothesis[['hypothesis', 'ICE']].sort_values(by='ICE', ascending=False))"
   ]
  },
  {
   "cell_type": "markdown",
   "metadata": {},
   "source": [
    "По модели приоритизации гипотез ICE можно сделать вывод, что наиболее перспективные для проверки :\n",
    "- **Гипотеза 8** - Запустить акцию, дающую скидку на товар в день рождения (ICE 16.2)\n",
    "- **Гипотеза 0** - Добавить два новых канала привлечения трафика, что позволит привлекать на 30% больше пользователей (ICE 13.3)\n",
    "- **Гипотеза 7** - Добавить форму подписки на все основные страницы, чтобы собрать базу клиентов для email-рассылок (ICE 11.2)\n",
    "\n",
    "Менее перспективные гипотезы:\n",
    "- **Гипотеза 4** - Изменить цвет фона главной страницы, чтобы увеличить вовлеченность пользователей (ICE 1)\n",
    "- **Гипотеза 3** - Изменить структура категорий, что увеличит конверсию, т.к. пользователи быстрее найдут нужный товар (ICE 1.12)\n",
    "- **Гипотеза 5** - Добавить страницу отзывов клиентов о магазине, что позволит увеличить количество заказов (ICE 1.33)"
   ]
  },
  {
   "cell_type": "markdown",
   "metadata": {},
   "source": [
    "### Приоритизация гипотез с помощью фреймворка RICE "
   ]
  },
  {
   "cell_type": "markdown",
   "metadata": {},
   "source": [
    "Приоритизируем гипотезы используя модифицированный метод RICE:"
   ]
  },
  {
   "cell_type": "markdown",
   "metadata": {},
   "source": [
    "$$ RICE = REACH * IMPACT * CONFIDENCE * EASE =  \\cfrac{REACH * IMPACT * CONFIDENCE}{EFFORTS} $$"
   ]
  },
  {
   "cell_type": "markdown",
   "metadata": {},
   "source": [
    "Где добавленный параметр **Reach** — скольких пользователей затронет изменение, которое вы хотите внести,"
   ]
  },
  {
   "cell_type": "code",
   "execution_count": 18,
   "metadata": {},
   "outputs": [
    {
     "data": {
      "text/html": [
       "<div>\n",
       "<style scoped>\n",
       "    .dataframe tbody tr th:only-of-type {\n",
       "        vertical-align: middle;\n",
       "    }\n",
       "\n",
       "    .dataframe tbody tr th {\n",
       "        vertical-align: top;\n",
       "    }\n",
       "\n",
       "    .dataframe thead th {\n",
       "        text-align: right;\n",
       "    }\n",
       "</style>\n",
       "<table border=\"1\" class=\"dataframe\">\n",
       "  <thead>\n",
       "    <tr style=\"text-align: right;\">\n",
       "      <th></th>\n",
       "      <th>hypothesis</th>\n",
       "      <th>RICE</th>\n",
       "    </tr>\n",
       "  </thead>\n",
       "  <tbody>\n",
       "    <tr>\n",
       "      <th>7</th>\n",
       "      <td>Добавить форму подписки на все основные страницы, чтобы собрать базу клиентов для email-рассылок</td>\n",
       "      <td>112.0</td>\n",
       "    </tr>\n",
       "    <tr>\n",
       "      <th>2</th>\n",
       "      <td>Добавить блоки рекомендаций товаров на сайт интернет магазина, чтобы повысить конверсию и средний чек заказа</td>\n",
       "      <td>56.0</td>\n",
       "    </tr>\n",
       "    <tr>\n",
       "      <th>0</th>\n",
       "      <td>Добавить два новых канала привлечения трафика, что позволит привлекать на 30% больше пользователей</td>\n",
       "      <td>40.0</td>\n",
       "    </tr>\n",
       "    <tr>\n",
       "      <th>6</th>\n",
       "      <td>Показать на главной странице баннеры с актуальными акциями и распродажами, чтобы увеличить конверсию</td>\n",
       "      <td>40.0</td>\n",
       "    </tr>\n",
       "    <tr>\n",
       "      <th>8</th>\n",
       "      <td>Запустить акцию, дающую скидку на товар в день рождения</td>\n",
       "      <td>16.2</td>\n",
       "    </tr>\n",
       "    <tr>\n",
       "      <th>3</th>\n",
       "      <td>Изменить структура категорий, что увеличит конверсию, т.к. пользователи быстрее найдут нужный товар</td>\n",
       "      <td>9.0</td>\n",
       "    </tr>\n",
       "    <tr>\n",
       "      <th>1</th>\n",
       "      <td>Запустить собственную службу доставки, что сократит срок доставки заказов</td>\n",
       "      <td>4.0</td>\n",
       "    </tr>\n",
       "    <tr>\n",
       "      <th>5</th>\n",
       "      <td>Добавить страницу отзывов клиентов о магазине, что позволит увеличить количество заказов</td>\n",
       "      <td>4.0</td>\n",
       "    </tr>\n",
       "    <tr>\n",
       "      <th>4</th>\n",
       "      <td>Изменить цвет фона главной страницы, чтобы увеличить вовлеченность пользователей</td>\n",
       "      <td>3.0</td>\n",
       "    </tr>\n",
       "  </tbody>\n",
       "</table>\n",
       "</div>"
      ],
      "text/plain": [
       "                                                                                                     hypothesis  \\\n",
       "7              Добавить форму подписки на все основные страницы, чтобы собрать базу клиентов для email-рассылок   \n",
       "2  Добавить блоки рекомендаций товаров на сайт интернет магазина, чтобы повысить конверсию и средний чек заказа   \n",
       "0            Добавить два новых канала привлечения трафика, что позволит привлекать на 30% больше пользователей   \n",
       "6          Показать на главной странице баннеры с актуальными акциями и распродажами, чтобы увеличить конверсию   \n",
       "8                                                       Запустить акцию, дающую скидку на товар в день рождения   \n",
       "3           Изменить структура категорий, что увеличит конверсию, т.к. пользователи быстрее найдут нужный товар   \n",
       "1                                     Запустить собственную службу доставки, что сократит срок доставки заказов   \n",
       "5                      Добавить страницу отзывов клиентов о магазине, что позволит увеличить количество заказов   \n",
       "4                              Изменить цвет фона главной страницы, чтобы увеличить вовлеченность пользователей   \n",
       "\n",
       "    RICE  \n",
       "7  112.0  \n",
       "2   56.0  \n",
       "0   40.0  \n",
       "6   40.0  \n",
       "8   16.2  \n",
       "3    9.0  \n",
       "1    4.0  \n",
       "5    4.0  \n",
       "4    3.0  "
      ]
     },
     "metadata": {},
     "output_type": "display_data"
    }
   ],
   "source": [
    "hypothesis['RICE'] = hypothesis['reach']*hypothesis['impact']*hypothesis['confidence']/hypothesis['efforts']\n",
    "display(hypothesis[['hypothesis', 'RICE']].sort_values(by='RICE', ascending=False))"
   ]
  },
  {
   "cell_type": "markdown",
   "metadata": {},
   "source": [
    "На первое место вышла **гипотеза 7** - Добавить форму подписки на все основные страницы, чтобы собрать базу клиентов для email-рассылок, причем отрыв от следующей гипотезы в 2 раза больше, значит охват привлеченных изменением пользователей оценен как очень большой.\n",
    "\n",
    "На втором месте идет **гипотеза 2** - Добавить блоки рекомендаций товаров на сайт интернет магазина, чтобы повысить конверсию и средний чек заказа\n",
    "\n",
    "Далее идет **гипотеза 0** - Добавить два новых канала привлечения трафика, что позволит привлекать на 30% больше пользователей \n",
    "\n",
    "И лишь на четвертом месте идет лидер по приоритизации ICE - **гипотеза 8** - Запустить акцию, дающую скидку на товар в день рождения.\n",
    "\n",
    "Топ 3 менее важных гипотез по RICE - **гипотеза 4, гипотеза 5, гипотеза 1**\n",
    "\n",
    "Поскольку метод RICE отличается от ICE параметром **Reach** , отвечающих за количество пользователей, на которое повлияет изменения, то понятно, почему **гипотеза 7** \"Добавить форму подписки на все основные страницы, чтобы собрать базу клиентов для email-рассылок\" вышла на первое место. Такое изменение действительно затронет всех пользователей, зашедших на основную страницу, и его Reach будет очень большим. Аналогично с **гипотезой 8** - \"Запустить акцию, дающую скидку на товар в день рождения\". Несмотря на то, что по методу ICE гипотеза имеет наивысший приоритет, она повлияет лишь на пользователей, у которых день рождение в день покупки. Это достаточно маленькая часть от всех пользователей, поэтому параметр Reach у нее невысок. "
   ]
  },
  {
   "cell_type": "markdown",
   "metadata": {},
   "source": [
    "### Вывод"
   ]
  },
  {
   "cell_type": "code",
   "execution_count": 19,
   "metadata": {},
   "outputs": [
    {
     "data": {
      "text/html": [
       "<style  type=\"text/css\" >\n",
       "#T_acf7fc71_f3cb_11ec_b6f3_28c2dd2b0d96row0_col1,#T_acf7fc71_f3cb_11ec_b6f3_28c2dd2b0d96row2_col2{\n",
       "            background-color:  #800080;\n",
       "            color:  #f1f1f1;\n",
       "        }#T_acf7fc71_f3cb_11ec_b6f3_28c2dd2b0d96row0_col2{\n",
       "            background-color:  #e5d3e5;\n",
       "            color:  #000000;\n",
       "        }#T_acf7fc71_f3cb_11ec_b6f3_28c2dd2b0d96row1_col1{\n",
       "            background-color:  #962d96;\n",
       "            color:  #f1f1f1;\n",
       "        }#T_acf7fc71_f3cb_11ec_b6f3_28c2dd2b0d96row1_col2,#T_acf7fc71_f3cb_11ec_b6f3_28c2dd2b0d96row3_col2{\n",
       "            background-color:  #cc9fcc;\n",
       "            color:  #000000;\n",
       "        }#T_acf7fc71_f3cb_11ec_b6f3_28c2dd2b0d96row2_col1{\n",
       "            background-color:  #a64fa6;\n",
       "            color:  #f1f1f1;\n",
       "        }#T_acf7fc71_f3cb_11ec_b6f3_28c2dd2b0d96row3_col1{\n",
       "            background-color:  #be82be;\n",
       "            color:  #000000;\n",
       "        }#T_acf7fc71_f3cb_11ec_b6f3_28c2dd2b0d96row4_col1{\n",
       "            background-color:  #c591c5;\n",
       "            color:  #000000;\n",
       "        }#T_acf7fc71_f3cb_11ec_b6f3_28c2dd2b0d96row4_col2{\n",
       "            background-color:  #bb7bbb;\n",
       "            color:  #000000;\n",
       "        }#T_acf7fc71_f3cb_11ec_b6f3_28c2dd2b0d96row5_col1{\n",
       "            background-color:  #ece1ec;\n",
       "            color:  #000000;\n",
       "        }#T_acf7fc71_f3cb_11ec_b6f3_28c2dd2b0d96row5_col2,#T_acf7fc71_f3cb_11ec_b6f3_28c2dd2b0d96row6_col2,#T_acf7fc71_f3cb_11ec_b6f3_28c2dd2b0d96row7_col1{\n",
       "            background-color:  #f2eef2;\n",
       "            color:  #000000;\n",
       "        }#T_acf7fc71_f3cb_11ec_b6f3_28c2dd2b0d96row6_col1{\n",
       "            background-color:  #f1ebf1;\n",
       "            color:  #000000;\n",
       "        }#T_acf7fc71_f3cb_11ec_b6f3_28c2dd2b0d96row7_col2{\n",
       "            background-color:  #ece3ec;\n",
       "            color:  #000000;\n",
       "        }#T_acf7fc71_f3cb_11ec_b6f3_28c2dd2b0d96row8_col1,#T_acf7fc71_f3cb_11ec_b6f3_28c2dd2b0d96row8_col2{\n",
       "            background-color:  #f3f0f3;\n",
       "            color:  #000000;\n",
       "        }</style><table id=\"T_acf7fc71_f3cb_11ec_b6f3_28c2dd2b0d96\" ><thead>    <tr>        <th class=\"blank level0\" ></th>        <th class=\"col_heading level0 col0\" >hypothesis</th>        <th class=\"col_heading level0 col1\" >ICE</th>        <th class=\"col_heading level0 col2\" >RICE</th>    </tr></thead><tbody>\n",
       "                <tr>\n",
       "                        <th id=\"T_acf7fc71_f3cb_11ec_b6f3_28c2dd2b0d96level0_row0\" class=\"row_heading level0 row0\" >8</th>\n",
       "                        <td id=\"T_acf7fc71_f3cb_11ec_b6f3_28c2dd2b0d96row0_col0\" class=\"data row0 col0\" >Запустить акцию, дающую скидку на товар в день рождения</td>\n",
       "                        <td id=\"T_acf7fc71_f3cb_11ec_b6f3_28c2dd2b0d96row0_col1\" class=\"data row0 col1\" >16.200000</td>\n",
       "                        <td id=\"T_acf7fc71_f3cb_11ec_b6f3_28c2dd2b0d96row0_col2\" class=\"data row0 col2\" >16.200000</td>\n",
       "            </tr>\n",
       "            <tr>\n",
       "                        <th id=\"T_acf7fc71_f3cb_11ec_b6f3_28c2dd2b0d96level0_row1\" class=\"row_heading level0 row1\" >0</th>\n",
       "                        <td id=\"T_acf7fc71_f3cb_11ec_b6f3_28c2dd2b0d96row1_col0\" class=\"data row1 col0\" >Добавить два новых канала привлечения трафика, что позволит привлекать на 30% больше пользователей</td>\n",
       "                        <td id=\"T_acf7fc71_f3cb_11ec_b6f3_28c2dd2b0d96row1_col1\" class=\"data row1 col1\" >13.333333</td>\n",
       "                        <td id=\"T_acf7fc71_f3cb_11ec_b6f3_28c2dd2b0d96row1_col2\" class=\"data row1 col2\" >40.000000</td>\n",
       "            </tr>\n",
       "            <tr>\n",
       "                        <th id=\"T_acf7fc71_f3cb_11ec_b6f3_28c2dd2b0d96level0_row2\" class=\"row_heading level0 row2\" >7</th>\n",
       "                        <td id=\"T_acf7fc71_f3cb_11ec_b6f3_28c2dd2b0d96row2_col0\" class=\"data row2 col0\" >Добавить форму подписки на все основные страницы, чтобы собрать базу клиентов для email-рассылок</td>\n",
       "                        <td id=\"T_acf7fc71_f3cb_11ec_b6f3_28c2dd2b0d96row2_col1\" class=\"data row2 col1\" >11.200000</td>\n",
       "                        <td id=\"T_acf7fc71_f3cb_11ec_b6f3_28c2dd2b0d96row2_col2\" class=\"data row2 col2\" >112.000000</td>\n",
       "            </tr>\n",
       "            <tr>\n",
       "                        <th id=\"T_acf7fc71_f3cb_11ec_b6f3_28c2dd2b0d96level0_row3\" class=\"row_heading level0 row3\" >6</th>\n",
       "                        <td id=\"T_acf7fc71_f3cb_11ec_b6f3_28c2dd2b0d96row3_col0\" class=\"data row3 col0\" >Показать на главной странице баннеры с актуальными акциями и распродажами, чтобы увеличить конверсию</td>\n",
       "                        <td id=\"T_acf7fc71_f3cb_11ec_b6f3_28c2dd2b0d96row3_col1\" class=\"data row3 col1\" >8.000000</td>\n",
       "                        <td id=\"T_acf7fc71_f3cb_11ec_b6f3_28c2dd2b0d96row3_col2\" class=\"data row3 col2\" >40.000000</td>\n",
       "            </tr>\n",
       "            <tr>\n",
       "                        <th id=\"T_acf7fc71_f3cb_11ec_b6f3_28c2dd2b0d96level0_row4\" class=\"row_heading level0 row4\" >2</th>\n",
       "                        <td id=\"T_acf7fc71_f3cb_11ec_b6f3_28c2dd2b0d96row4_col0\" class=\"data row4 col0\" >Добавить блоки рекомендаций товаров на сайт интернет магазина, чтобы повысить конверсию и средний чек заказа</td>\n",
       "                        <td id=\"T_acf7fc71_f3cb_11ec_b6f3_28c2dd2b0d96row4_col1\" class=\"data row4 col1\" >7.000000</td>\n",
       "                        <td id=\"T_acf7fc71_f3cb_11ec_b6f3_28c2dd2b0d96row4_col2\" class=\"data row4 col2\" >56.000000</td>\n",
       "            </tr>\n",
       "            <tr>\n",
       "                        <th id=\"T_acf7fc71_f3cb_11ec_b6f3_28c2dd2b0d96level0_row5\" class=\"row_heading level0 row5\" >1</th>\n",
       "                        <td id=\"T_acf7fc71_f3cb_11ec_b6f3_28c2dd2b0d96row5_col0\" class=\"data row5 col0\" >Запустить собственную службу доставки, что сократит срок доставки заказов</td>\n",
       "                        <td id=\"T_acf7fc71_f3cb_11ec_b6f3_28c2dd2b0d96row5_col1\" class=\"data row5 col1\" >2.000000</td>\n",
       "                        <td id=\"T_acf7fc71_f3cb_11ec_b6f3_28c2dd2b0d96row5_col2\" class=\"data row5 col2\" >4.000000</td>\n",
       "            </tr>\n",
       "            <tr>\n",
       "                        <th id=\"T_acf7fc71_f3cb_11ec_b6f3_28c2dd2b0d96level0_row6\" class=\"row_heading level0 row6\" >5</th>\n",
       "                        <td id=\"T_acf7fc71_f3cb_11ec_b6f3_28c2dd2b0d96row6_col0\" class=\"data row6 col0\" >Добавить страницу отзывов клиентов о магазине, что позволит увеличить количество заказов</td>\n",
       "                        <td id=\"T_acf7fc71_f3cb_11ec_b6f3_28c2dd2b0d96row6_col1\" class=\"data row6 col1\" >1.333333</td>\n",
       "                        <td id=\"T_acf7fc71_f3cb_11ec_b6f3_28c2dd2b0d96row6_col2\" class=\"data row6 col2\" >4.000000</td>\n",
       "            </tr>\n",
       "            <tr>\n",
       "                        <th id=\"T_acf7fc71_f3cb_11ec_b6f3_28c2dd2b0d96level0_row7\" class=\"row_heading level0 row7\" >3</th>\n",
       "                        <td id=\"T_acf7fc71_f3cb_11ec_b6f3_28c2dd2b0d96row7_col0\" class=\"data row7 col0\" >Изменить структура категорий, что увеличит конверсию, т.к. пользователи быстрее найдут нужный товар</td>\n",
       "                        <td id=\"T_acf7fc71_f3cb_11ec_b6f3_28c2dd2b0d96row7_col1\" class=\"data row7 col1\" >1.125000</td>\n",
       "                        <td id=\"T_acf7fc71_f3cb_11ec_b6f3_28c2dd2b0d96row7_col2\" class=\"data row7 col2\" >9.000000</td>\n",
       "            </tr>\n",
       "            <tr>\n",
       "                        <th id=\"T_acf7fc71_f3cb_11ec_b6f3_28c2dd2b0d96level0_row8\" class=\"row_heading level0 row8\" >4</th>\n",
       "                        <td id=\"T_acf7fc71_f3cb_11ec_b6f3_28c2dd2b0d96row8_col0\" class=\"data row8 col0\" >Изменить цвет фона главной страницы, чтобы увеличить вовлеченность пользователей</td>\n",
       "                        <td id=\"T_acf7fc71_f3cb_11ec_b6f3_28c2dd2b0d96row8_col1\" class=\"data row8 col1\" >1.000000</td>\n",
       "                        <td id=\"T_acf7fc71_f3cb_11ec_b6f3_28c2dd2b0d96row8_col2\" class=\"data row8 col2\" >3.000000</td>\n",
       "            </tr>\n",
       "    </tbody></table>"
      ],
      "text/plain": [
       "<pandas.io.formats.style.Styler at 0x1dd5e91eeb0>"
      ]
     },
     "execution_count": 19,
     "metadata": {},
     "output_type": "execute_result"
    }
   ],
   "source": [
    "pal = sns.light_palette(\"purple\", as_cmap=True)\n",
    "hypothesis[['hypothesis', 'ICE', 'RICE']].sort_values(by=['ICE','RICE'], ascending=False).style.background_gradient(cmap=pal)"
   ]
  },
  {
   "cell_type": "markdown",
   "metadata": {},
   "source": [
    "1. По модели приоритизации гипотез ICE можно сделать вывод, что наиболее перспективные для проверки :\n",
    "- **Гипотеза 8** - Запустить акцию, дающую скидку на товар в день рождения (ICE 16.2)\n",
    "- **Гипотеза 0** - Добавить два новых канала привлечения трафика, что позволит привлекать на 30% больше пользователей (ICE 13.3)\n",
    "- **Гипотеза 7** - Добавить форму подписки на все основные страницы, чтобы собрать базу клиентов для email-рассылок (ICE 11.2)\n",
    "\n",
    "Менее перспективные гипотезы:\n",
    "- **Гипотеза 4** - Изменить цвет фона главной страницы, чтобы увеличить вовлеченность пользователей (ICE 1)\n",
    "- **Гипотеза 3** - Изменить структура категорий, что увеличит конверсию, т.к. пользователи быстрее найдут нужный товар (ICE 1.12)\n",
    "- **Гипотеза 5** - Добавить страницу отзывов клиентов о магазине, что позволит увеличить количество заказов (ICE 1.33)\n",
    "\n",
    "2. По модели RICE  На первое место вышла **гипотеза 7** - Добавить форму подписки на все основные страницы, чтобы собрать базу клиентов для email-рассылок, причем отрыв от следующей гипотезы в 2 раза больше, значит охват привлеченных изменением пользователей оценен как очень большой (RICE 112).\n",
    "- На втором месте идет **гипотеза 2** - Добавить блоки рекомендаций товаров на сайт интернет магазина, чтобы повысить конверсию и средний чек заказа (RICE 56).\n",
    "- Далее идет **гипотеза 0** - Добавить два новых канала привлечения трафика, что позволит привлекать на 30% больше пользователей (RICE 40).\n",
    "- И лишь на четвертом месте идет лидер по приоритизации ICE - **гипотеза 8** - Запустить акцию, дающую скидку на товар в день рождения (RICE 40).\n",
    "Топ 3 менее важных гипотез по RICE - **гипотеза 4 (RICE 3), гипотеза 5 (RICE 4), гипотеза 1 (RICE 4)**\n",
    "\n",
    "3. Поскольку метод RICE отличается от ICE параметром **Reach** , отвечающих за количество пользователей, на которое повлияет изменения, то понятно, почему **гипотеза 7** \"Добавить форму подписки на все основные страницы, чтобы собрать базу клиентов для email-рассылок\" вышла на первое место. Такое изменение действительно затронет всех пользователей, зашедших на основную страницу, и его Reach будет очень большим. Аналогично с **гипотезой 8** - \"Запустить акцию, дающую скидку на товар в день рождения\". Несмотря на то, что по методу ICE гипотеза имеет наивысший приоритет, она повлияет лишь на пользователей, у которых день рождение в день покупки. Это достаточно маленькая часть от всех пользователей, поэтому параметр Reach у нее невысок. "
   ]
  },
  {
   "cell_type": "markdown",
   "metadata": {},
   "source": [
    "## Анализ A/B-теста"
   ]
  },
  {
   "cell_type": "markdown",
   "metadata": {},
   "source": [
    "В датасетах **orders, visitors** хранятся результаты проведенного A/B теста. Проанализируем их."
   ]
  },
  {
   "cell_type": "markdown",
   "metadata": {},
   "source": [
    "    Для начала проверим сколько пользователей вошли в каждую группу"
   ]
  },
  {
   "cell_type": "code",
   "execution_count": 20,
   "metadata": {},
   "outputs": [
    {
     "name": "stdout",
     "output_type": "stream",
     "text": [
      "Количество пользователей в группе А равно 557\n",
      "Количество пользователей в группе В равно 640\n"
     ]
    }
   ],
   "source": [
    "print('Количество пользователей в группе А равно', orders[orders['group'] == 'A']['visitor_id'].count())\n",
    "print('Количество пользователей в группе В равно', orders[orders['group'] == 'B']['visitor_id'].count())"
   ]
  },
  {
   "cell_type": "markdown",
   "metadata": {},
   "source": [
    "в \"идеальном\" A/B тесте количество людей в выборках жолжно быть одинаково, или по крайней мере различие не более чем 0.5 %. Мы видим, что в наших данных другое соотношение. Возможно это следует учитывать при интерпретации результатов."
   ]
  },
  {
   "cell_type": "markdown",
   "metadata": {},
   "source": [
    "Так как при проведении A/B теста группы должны быть независимы, проверим данные на пересечение"
   ]
  },
  {
   "cell_type": "code",
   "execution_count": 21,
   "metadata": {
    "scrolled": true
   },
   "outputs": [
    {
     "name": "stdout",
     "output_type": "stream",
     "text": [
      "Количество пользователей, попавших в обе группы равно 58\n"
     ]
    }
   ],
   "source": [
    "n_users = orders.groupby('visitor_id')['group'].nunique().sort_values(ascending=False)\n",
    "print('Количество пользователей, попавших в обе группы равно', (n_users == 2).sum())"
   ]
  },
  {
   "cell_type": "markdown",
   "metadata": {},
   "source": [
    "Итого, в датасете присутствует 58 visitor_id, которые попали в обе группы исследования. Важным условием успешного A/B теста является уникальность выборок, возможно это следует учитывать при интерпретации результатов."
   ]
  },
  {
   "cell_type": "markdown",
   "metadata": {},
   "source": [
    "Будем работать с кумулятивными (накопленными) значениями. "
   ]
  },
  {
   "cell_type": "markdown",
   "metadata": {},
   "source": [
    "Создаим датафрейм datesGroups с уникальными парами значений 'date' и 'group', таблицы orders. Избавимся от дубликатов методом drop_duplicates()."
   ]
  },
  {
   "cell_type": "code",
   "execution_count": 22,
   "metadata": {},
   "outputs": [],
   "source": [
    "datesGroups = orders[['date','group']].drop_duplicates() "
   ]
  },
  {
   "cell_type": "markdown",
   "metadata": {},
   "source": [
    "Создаем переменную с кумулятивными значениями для выручки **ordersAggregated**, содержащую:\n",
    "1. дату\n",
    "2. группу A/B-теста;\n",
    "3. число уникальных заказов в группе теста по указанную дату включительно;\n",
    "4. число уникальных пользователей, совершивших хотя бы 1 заказ в группе теста по указанную дату включительно;\n",
    "5. суммарную выручку заказов в группе теста по указанную дату включительно;\n",
    "И отсортируем ее по дате и группе"
   ]
  },
  {
   "cell_type": "code",
   "execution_count": 23,
   "metadata": {},
   "outputs": [],
   "source": [
    "ordersAggregated = datesGroups.apply(lambda x: orders[np.logical_and(orders['date'] <= x['date'], orders['group'] ==\n",
    "    x['group'])].agg({'date' : 'max', 'group' : 'max', 'transaction_id' : 'nunique', \n",
    "                      'visitor_id' : 'nunique', 'revenue' : 'sum'}),\n",
    "    axis=1).sort_values(by=['date','group'])"
   ]
  },
  {
   "cell_type": "markdown",
   "metadata": {},
   "source": [
    "Объявите переменную **visitorsAggregated**, содержащую:\n",
    "1. дату;\n",
    "2. группу A/B-теста;\n",
    "3. количество уникальных посетителей в группе теста по указанную дату включительно;\n",
    "И отсортируем ее по дате и группе"
   ]
  },
  {
   "cell_type": "code",
   "execution_count": 24,
   "metadata": {},
   "outputs": [],
   "source": [
    "visitorsAggregated = datesGroups.apply(lambda x: visitors[np.logical_and(visitors['date'] <= x['date'], visitors['group'] ==\n",
    "     x['group'])].agg({'date' : 'max', 'group' : 'max', 'visitors' : 'sum'}), axis=1).sort_values(by=['date','group'])"
   ]
  },
  {
   "cell_type": "markdown",
   "metadata": {},
   "source": [
    "И объеденим их, создав наш массив кумулятивных данных для анализа"
   ]
  },
  {
   "cell_type": "code",
   "execution_count": 25,
   "metadata": {},
   "outputs": [
    {
     "data": {
      "text/html": [
       "<div>\n",
       "<style scoped>\n",
       "    .dataframe tbody tr th:only-of-type {\n",
       "        vertical-align: middle;\n",
       "    }\n",
       "\n",
       "    .dataframe tbody tr th {\n",
       "        vertical-align: top;\n",
       "    }\n",
       "\n",
       "    .dataframe thead th {\n",
       "        text-align: right;\n",
       "    }\n",
       "</style>\n",
       "<table border=\"1\" class=\"dataframe\">\n",
       "  <thead>\n",
       "    <tr style=\"text-align: right;\">\n",
       "      <th></th>\n",
       "      <th>date</th>\n",
       "      <th>group</th>\n",
       "      <th>orders</th>\n",
       "      <th>buyers</th>\n",
       "      <th>revenue</th>\n",
       "      <th>visitors</th>\n",
       "    </tr>\n",
       "  </thead>\n",
       "  <tbody>\n",
       "    <tr>\n",
       "      <th>0</th>\n",
       "      <td>2019-08-01</td>\n",
       "      <td>A</td>\n",
       "      <td>24</td>\n",
       "      <td>20</td>\n",
       "      <td>148579</td>\n",
       "      <td>719</td>\n",
       "    </tr>\n",
       "    <tr>\n",
       "      <th>1</th>\n",
       "      <td>2019-08-01</td>\n",
       "      <td>B</td>\n",
       "      <td>21</td>\n",
       "      <td>20</td>\n",
       "      <td>101217</td>\n",
       "      <td>713</td>\n",
       "    </tr>\n",
       "    <tr>\n",
       "      <th>2</th>\n",
       "      <td>2019-08-02</td>\n",
       "      <td>A</td>\n",
       "      <td>44</td>\n",
       "      <td>38</td>\n",
       "      <td>242401</td>\n",
       "      <td>1338</td>\n",
       "    </tr>\n",
       "    <tr>\n",
       "      <th>3</th>\n",
       "      <td>2019-08-02</td>\n",
       "      <td>B</td>\n",
       "      <td>45</td>\n",
       "      <td>43</td>\n",
       "      <td>266748</td>\n",
       "      <td>1294</td>\n",
       "    </tr>\n",
       "    <tr>\n",
       "      <th>4</th>\n",
       "      <td>2019-08-03</td>\n",
       "      <td>A</td>\n",
       "      <td>68</td>\n",
       "      <td>62</td>\n",
       "      <td>354874</td>\n",
       "      <td>1845</td>\n",
       "    </tr>\n",
       "  </tbody>\n",
       "</table>\n",
       "</div>"
      ],
      "text/plain": [
       "        date group  orders  buyers  revenue  visitors\n",
       "0 2019-08-01     A      24      20   148579       719\n",
       "1 2019-08-01     B      21      20   101217       713\n",
       "2 2019-08-02     A      44      38   242401      1338\n",
       "3 2019-08-02     B      45      43   266748      1294\n",
       "4 2019-08-03     A      68      62   354874      1845"
      ]
     },
     "execution_count": 25,
     "metadata": {},
     "output_type": "execute_result"
    }
   ],
   "source": [
    "cumulativeData = ordersAggregated.merge(visitorsAggregated, left_on=['date', 'group'], right_on=['date', 'group'])\n",
    "cumulativeData.columns = ['date', 'group', 'orders', 'buyers', 'revenue', 'visitors']\n",
    "cumulativeData.head(5)"
   ]
  },
  {
   "cell_type": "markdown",
   "metadata": {},
   "source": [
    "### Анализ графика кумулятивной выручки по группам "
   ]
  },
  {
   "cell_type": "code",
   "execution_count": 26,
   "metadata": {},
   "outputs": [],
   "source": [
    "# создание групп для расчета кумулятивной выручки по группам\n",
    "cumulativeRevenueA = cumulativeData[cumulativeData['group']=='A'][['date','revenue', 'orders']]\n",
    "cumulativeRevenueB = cumulativeData[cumulativeData['group']=='B'][['date','revenue', 'orders']]"
   ]
  },
  {
   "cell_type": "code",
   "execution_count": 27,
   "metadata": {},
   "outputs": [
    {
     "data": {
      "image/png": "[encoded data removed]",
      "text/plain": [
       "<Figure size 960x480 with 1 Axes>"
      ]
     },
     "metadata": {
      "needs_background": "light"
     },
     "output_type": "display_data"
    }
   ],
   "source": [
    "plt.figure(figsize=(12, 6), dpi=80)\n",
    "plt.plot(cumulativeRevenueA['date'], cumulativeRevenueA['revenue'], label='A')\n",
    "plt.plot(cumulativeRevenueB['date'], cumulativeRevenueB['revenue'], label='B')\n",
    "plt.legend() \n",
    "plt.grid()"
   ]
  },
  {
   "cell_type": "markdown",
   "metadata": {},
   "source": [
    "По графику кумулятивной выручки по группам видно, что сегмент B почти сразу вышел вперед, однако разница была маленькая ( 13 августа она даже почти равнялась нулю). Однако 17 августав сегменте В произошел резкий скачок, и начиная с этой даты кумулятивная выручка сегмента B стала больше кумулятивной выручки сегмента A приблизительно на треть. Данный скачок может говорить о резком росте числа заказов, либо о появлении очень дорогих заказов в выборке."
   ]
  },
  {
   "cell_type": "markdown",
   "metadata": {},
   "source": [
    "### Анализ графика кумулятивного среднего чека по группам"
   ]
  },
  {
   "cell_type": "code",
   "execution_count": 28,
   "metadata": {},
   "outputs": [
    {
     "data": {
      "image/png": "[encoded data removed]",
      "text/plain": [
       "<Figure size 960x480 with 1 Axes>"
      ]
     },
     "metadata": {
      "needs_background": "light"
     },
     "output_type": "display_data"
    }
   ],
   "source": [
    "# строим графики кумулятивного среднего чека\n",
    "plt.figure(figsize=(12, 6), dpi=80)\n",
    "plt.plot(cumulativeRevenueA['date'], cumulativeRevenueA['revenue']/cumulativeRevenueA['orders'], label='A')\n",
    "plt.plot(cumulativeRevenueB['date'], cumulativeRevenueB['revenue']/cumulativeRevenueB['orders'], label='B')\n",
    "plt.legend() \n",
    "plt.grid()"
   ]
  },
  {
   "cell_type": "markdown",
   "metadata": {},
   "source": [
    "По графику кумулятивного среднего чека по группам мы видим, что сегмент B почти всегда был лучше сегмента А, кроме небольшого промежутка приблизительно с 11 по 15 августа. Затем в районе 18 августа снова заметен резкий рост среднего чека сегмента B. \n",
    "Затем средний чек группы B плавно пошел на спад, а группы A снова начал плавно возрастать после 23 августа. \n",
    "В целом результаты еще не до конца стабилизировались: чек относительно установился для группы A, а для группы В продолжает падать после резкого скачка. Вероятно нужно больше времени чтобы прийти к реальному значению среднего чека. "
   ]
  },
  {
   "cell_type": "markdown",
   "metadata": {},
   "source": [
    "### Анализ графика относительного изменения кумулятивного среднего чека группы B к группе A"
   ]
  },
  {
   "cell_type": "markdown",
   "metadata": {},
   "source": [
    "Объеденим таблицы cumulativeRevenueA и cumulativeRevenueB методом merge() и построим график относительного изменения кумулятивного среднего чека группы B к группе A "
   ]
  },
  {
   "cell_type": "code",
   "execution_count": 29,
   "metadata": {},
   "outputs": [
    {
     "data": {
      "image/png": "[encoded data removed]",
      "text/plain": [
       "<Figure size 960x480 with 1 Axes>"
      ]
     },
     "metadata": {
      "needs_background": "light"
     },
     "output_type": "display_data"
    }
   ],
   "source": [
    "mergedCumulativeRevenue = cumulativeRevenueA.merge(cumulativeRevenueB, left_on='date', right_on='date', how='left',\n",
    "                          suffixes=['A', 'B'])\n",
    "\n",
    "plt.figure(figsize=(12, 6), dpi=80)\n",
    "plt.plot(mergedCumulativeRevenue['date'],\n",
    "         (mergedCumulativeRevenue['revenueB']/mergedCumulativeRevenue['ordersB']) /\n",
    "         (mergedCumulativeRevenue['revenueA']/mergedCumulativeRevenue['ordersA'])-1)\n",
    "plt.axhline(y=0, color='black', linestyle='--') \n",
    "plt.grid()"
   ]
  },
  {
   "cell_type": "markdown",
   "metadata": {},
   "source": [
    "На графике относительного изменения кумулятивного среднего чека группы B к группе A видны резкие скачки. Вероятно это связано с выбросами и аномальными значениями данных. Скорее всего аномальные заказыы были совершены в даты \"скачков\" на графике"
   ]
  },
  {
   "cell_type": "markdown",
   "metadata": {},
   "source": [
    "### Анализ графика кумулятивной конверсии по группам"
   ]
  },
  {
   "cell_type": "markdown",
   "metadata": {},
   "source": [
    "Добавим расчет конверсии в наши данные и посмотрим на графики конверсии по группам"
   ]
  },
  {
   "cell_type": "code",
   "execution_count": 30,
   "metadata": {},
   "outputs": [],
   "source": [
    "cumulativeData['conversion'] = cumulativeData['orders']/cumulativeData['visitors']\n",
    "cumulativeDataA = cumulativeData[cumulativeData['group']=='A']\n",
    "cumulativeDataB = cumulativeData[cumulativeData['group']=='B']"
   ]
  },
  {
   "cell_type": "code",
   "execution_count": 31,
   "metadata": {},
   "outputs": [
    {
     "data": {
      "image/png": "[encoded data removed]",
      "text/plain": [
       "<Figure size 960x480 with 1 Axes>"
      ]
     },
     "metadata": {
      "needs_background": "light"
     },
     "output_type": "display_data"
    }
   ],
   "source": [
    "plt.figure(figsize=(12, 6), dpi=80)\n",
    "plt.plot(cumulativeDataA['date'], cumulativeDataA['conversion'], label='A')\n",
    "plt.plot(cumulativeDataB['date'], cumulativeDataB['conversion'], label='B')\n",
    "plt.legend()\n",
    "plt.axis([dt.datetime(2019, 8, 1), dt.datetime(2019, 9, 1), 0, 0.05]) \n",
    "plt.grid()"
   ]
  },
  {
   "cell_type": "markdown",
   "metadata": {},
   "source": [
    "Из графиков кумулятивной конверсии по группам видно, что в начале теста был промежуток, когда сегмент А имел большую конверсию, однако начиная с 6 августа конверсия группы B вышла вперед и была выше на протяжении всего теста. Конверсии обеих групп выровнились и конверсия группы B стабильно выше конверсии группы A на пол процента. "
   ]
  },
  {
   "cell_type": "markdown",
   "metadata": {},
   "source": [
    "### Анализ  графика относительного изменения кумулятивной конверсии группы B к группе A"
   ]
  },
  {
   "cell_type": "code",
   "execution_count": 32,
   "metadata": {},
   "outputs": [
    {
     "data": {
      "image/png": "[encoded data removed]",
      "text/plain": [
       "<Figure size 960x480 with 1 Axes>"
      ]
     },
     "metadata": {
      "needs_background": "light"
     },
     "output_type": "display_data"
    }
   ],
   "source": [
    "mergedCumulativeConversions = cumulativeDataA[['date','conversion']].merge(cumulativeDataB[['date','conversion']], \n",
    "                              left_on='date', right_on='date', how='left', suffixes=['A', 'B'])\n",
    "plt.figure(figsize=(12, 6), dpi=80)\n",
    "plt.plot(mergedCumulativeConversions['date'], mergedCumulativeConversions['conversionB']/\n",
    "    mergedCumulativeConversions['conversionA']-1, label=\"Относительный прирост конверсии группы B относительно группы A\")\n",
    "plt.legend()\n",
    "plt.axhline(y=0, color='black', linestyle='--')\n",
    "plt.axhline(y=0.2, color='grey', linestyle='--')\n",
    "plt.grid()\n",
    "#plt.axis([\"2019-08-01\", '2019-09-01', -0.5, 0.5])"
   ]
  },
  {
   "cell_type": "markdown",
   "metadata": {},
   "source": [
    "Анализируя график относительного изменения кумулятивной конверсии группы B к группе A мы видим, что конверсия не зафиксировалась на одном уровне. В начале теста был промежуток проигрыша группе А, затем резкий рост до значения прироста 20 %, однако затем спал к 10% и более плавное увеличение к 15 %. В целом отношение конверсии ещё не установилось, и сейчас делать какие-либо выводы по тесту нельзя. "
   ]
  },
  {
   "cell_type": "markdown",
   "metadata": {},
   "source": [
    "### Анализ точечного графика количества заказов по пользователям"
   ]
  },
  {
   "cell_type": "markdown",
   "metadata": {},
   "source": [
    "Cоздадим датафрейм cо столбцами: 'user_id' и 'orders' - количество заказов по пользователям"
   ]
  },
  {
   "cell_type": "code",
   "execution_count": 33,
   "metadata": {},
   "outputs": [],
   "source": [
    "ordersByUsers = orders.drop(['group', 'revenue', 'date'], axis=1).groupby('visitor_id', \n",
    "                as_index=False).agg({'transaction_id':'nunique'}).sort_values(by='transaction_id', ascending=False)  \n",
    "ordersByUsers.columns = ['user_id', 'orders']"
   ]
  },
  {
   "cell_type": "markdown",
   "metadata": {},
   "source": [
    "Построим гистаграмму и диаграмму рассеяния для количества заказов по пользователем"
   ]
  },
  {
   "cell_type": "code",
   "execution_count": 34,
   "metadata": {},
   "outputs": [
    {
     "data": {
      "image/png": "[encoded data removed]",
      "text/plain": [
       "<Figure size 432x288 with 1 Axes>"
      ]
     },
     "metadata": {
      "needs_background": "light"
     },
     "output_type": "display_data"
    }
   ],
   "source": [
    "plt.hist(ordersByUsers['orders']) \n",
    "plt.show()"
   ]
  },
  {
   "cell_type": "code",
   "execution_count": 35,
   "metadata": {},
   "outputs": [
    {
     "data": {
      "text/plain": [
       "<matplotlib.collections.PathCollection at 0x1dd5f87b130>"
      ]
     },
     "execution_count": 35,
     "metadata": {},
     "output_type": "execute_result"
    },
    {
     "data": {
      "image/png": "[encoded data removed]",
      "text/plain": [
       "<Figure size 432x288 with 1 Axes>"
      ]
     },
     "metadata": {
      "needs_background": "light"
     },
     "output_type": "display_data"
    }
   ],
   "source": [
    "x_values = pd.Series(range(0, len(ordersByUsers)))\n",
    "plt.scatter(x_values, ordersByUsers['orders']) "
   ]
  },
  {
   "cell_type": "markdown",
   "metadata": {},
   "source": [
    "По гистограмме и точечной диаграмме видно, что людей с 4 и более заказами совсем мало, однако попадаются люди с более чем 10 заказами. Осталось понять, какие значени считать выбросами: более 2 или более 4 заказов."
   ]
  },
  {
   "cell_type": "markdown",
   "metadata": {},
   "source": [
    "### Рассчет 95-го и 99-го перцентиля количества заказов на пользователя и определение границы аномальных пользователей"
   ]
  },
  {
   "cell_type": "code",
   "execution_count": 36,
   "metadata": {},
   "outputs": [
    {
     "name": "stdout",
     "output_type": "stream",
     "text": [
      "[2. 4.]\n"
     ]
    }
   ],
   "source": [
    "# рассчет перцентилей\n",
    "print(np.percentile(ordersByUsers['orders'], [95, 99])) "
   ]
  },
  {
   "cell_type": "markdown",
   "metadata": {},
   "source": [
    "Мы видим что менее 5 % пользователей заказало больше 2-х заказов, а менее 1 % заказало более 4-х заказов. Было решено выбрать 4 и более заказов на одного пользователя за нижнюю границу числа заказов, и отсеять аномальных пользователей по ней. "
   ]
  },
  {
   "cell_type": "markdown",
   "metadata": {},
   "source": [
    "### Анализ точечного графика и гистограммы стоимостей заказов"
   ]
  },
  {
   "cell_type": "markdown",
   "metadata": {},
   "source": [
    "Построим гистограмму и диаграмму рассеяния распределения стоимости по заказам"
   ]
  },
  {
   "cell_type": "code",
   "execution_count": 37,
   "metadata": {},
   "outputs": [
    {
     "data": {
      "image/png": "[encoded data removed]",
      "text/plain": [
       "<Figure size 432x288 with 1 Axes>"
      ]
     },
     "metadata": {
      "needs_background": "light"
     },
     "output_type": "display_data"
    }
   ],
   "source": [
    "plt.hist(orders['revenue'], bins=50) \n",
    "plt.show()"
   ]
  },
  {
   "cell_type": "code",
   "execution_count": 38,
   "metadata": {},
   "outputs": [
    {
     "data": {
      "text/plain": [
       "<matplotlib.collections.PathCollection at 0x1dd5f465e50>"
      ]
     },
     "execution_count": 38,
     "metadata": {},
     "output_type": "execute_result"
    },
    {
     "data": {
      "image/png": "[encoded data removed]",
      "text/plain": [
       "<Figure size 432x288 with 1 Axes>"
      ]
     },
     "metadata": {
      "needs_background": "light"
     },
     "output_type": "display_data"
    }
   ],
   "source": [
    "x_values = pd.Series(range(0, len(orders['revenue'])))\n",
    "plt.scatter(x_values, orders['revenue'])"
   ]
  },
  {
   "cell_type": "markdown",
   "metadata": {},
   "source": [
    "Гистограмма оказалось не самой информативной, видно что почти все значения находятся в пределах 100 000. По диаграмме рассеяния также видно мало аномальных заказов: сильно выбивающееся значение в 1.3 миллиона и значение в районе 200 000. Проверим перцентили. Ограничим оси чтобы поближе посмотреть на распределение"
   ]
  },
  {
   "cell_type": "code",
   "execution_count": 39,
   "metadata": {},
   "outputs": [
    {
     "data": {
      "text/plain": [
       "(0.0, 100000.0)"
      ]
     },
     "execution_count": 39,
     "metadata": {},
     "output_type": "execute_result"
    },
    {
     "data": {
      "image/png": "[encoded data removed]",
      "text/plain": [
       "<Figure size 432x288 with 1 Axes>"
      ]
     },
     "metadata": {
      "needs_background": "light"
     },
     "output_type": "display_data"
    }
   ],
   "source": [
    "x_values = pd.Series(range(0, len(orders['revenue'])))\n",
    "plt.scatter(x_values, orders['revenue'])\n",
    "plt.ylim(0, 100000)"
   ]
  },
  {
   "cell_type": "markdown",
   "metadata": {},
   "source": [
    "По диаграмме рассеяния в y-масштабе от 0 до 100 000 видно, что основное облако точек сосредоточено в области до 20 000, начиная с 60 000 частота встречи заказов становится совсем редкой"
   ]
  },
  {
   "cell_type": "markdown",
   "metadata": {},
   "source": [
    "###  Рассчет 95-го и 99-го перцентиля стоимости заказов и определение границы аномальных пользователей"
   ]
  },
  {
   "cell_type": "code",
   "execution_count": 40,
   "metadata": {},
   "outputs": [
    {
     "name": "stdout",
     "output_type": "stream",
     "text": [
      "[28000.  58233.2]\n"
     ]
    }
   ],
   "source": [
    "print(np.percentile(orders['revenue'], [95, 99]))"
   ]
  },
  {
   "cell_type": "markdown",
   "metadata": {},
   "source": [
    "Не более 5 % пользователей совершили закасы стоимостью более 28 000, не более одного процента пользователей совершили заказы на сумму более 58 000. Примем за аномальные значения заказы больше 95 перцентиля, так как мы видим, что выбросы достаточно редки по сравнению с общей частью. "
   ]
  },
  {
   "cell_type": "markdown",
   "metadata": {},
   "source": [
    "### Расчет статистической значимости различий в конверсии между группами по «сырым» данным "
   ]
  },
  {
   "cell_type": "markdown",
   "metadata": {},
   "source": [
    "**Нулевая гипотеза:** различий в конверсии между группами нет. \n",
    "**Альтернативная:** различия в конверсии между группами есть.\n",
    "\n",
    "Сначала подготовим данные"
   ]
  },
  {
   "cell_type": "code",
   "execution_count": 41,
   "metadata": {},
   "outputs": [],
   "source": [
    "# создание датафреймов с кумулятивным количеством посещений в разные даты по группам\n",
    "visitors_a_daily = visitors[visitors['group'] == 'A'][['date', 'visitors']]\n",
    "visitors_a_daily.columns = ['date', 'visitors_per_date_a']\n",
    "visitors_a_cummulative = visitors_a_daily.apply(\n",
    "    lambda x: visitors_a_daily[visitors_a_daily['date'] <= x['date']].agg(\n",
    "        {'date': 'max', 'visitors_per_date_a': 'sum'}\n",
    "    ),\n",
    "    axis=1,\n",
    ")\n",
    "\n",
    "\n",
    "visitors_b_daily = visitors[visitors['group'] == 'B'][['date', 'visitors']]\n",
    "visitors_b_daily.columns = ['date', 'visitors_per_date_b']\n",
    "visitors_b_cummulative = visitors_b_daily.apply(\n",
    "    lambda x: visitors_b_daily[visitors_b_daily['date'] <= x['date']].agg(\n",
    "        {'date': 'max', 'visitors_per_date_b': 'sum'}\n",
    "    ),\n",
    "    axis=1,\n",
    ")"
   ]
  },
  {
   "cell_type": "code",
   "execution_count": 42,
   "metadata": {},
   "outputs": [],
   "source": [
    "# создание датафреймов с кумулятивным количеством заказов в разные даты по группам\n",
    "\n",
    "orders_a_daily = (\n",
    "    orders[orders['group'] == 'A'][['date', 'transaction_id', 'visitor_id', 'revenue']]\n",
    "    .groupby('date', as_index=False)\n",
    "    .agg({'transaction_id': pd.Series.nunique, 'revenue': 'sum'})\n",
    ")\n",
    "orders_a_daily.columns = ['date', 'orders_per_date_a', 'revenue_per_date_a']\n",
    "\n",
    "orders_a_cummulative = orders_a_daily.apply(\n",
    "    lambda x: orders_a_daily[orders_a_daily['date'] <= x['date']].agg(\n",
    "        {'date': 'max', 'orders_per_date_a': 'sum', 'revenue_per_date_a': 'sum'}\n",
    "    ),\n",
    "    axis=1,\n",
    ").sort_values(by=['date'])\n",
    "orders_a_cummulative.columns = [\n",
    "    'date',\n",
    "    'orders_cummulative_a',\n",
    "    'revenue_cummulative_a',\n",
    "]\n",
    "\n",
    "orders_b_daily = (\n",
    "    orders[orders['group'] == 'B'][['date', 'transaction_id', 'visitor_id', 'revenue']]\n",
    "    .groupby('date', as_index=False)\n",
    "    .agg({'transaction_id': pd.Series.nunique, 'revenue': 'sum'})\n",
    ")\n",
    "orders_b_daily.columns = ['date', 'orders_per_date_b', 'revenue_per_date_b']\n",
    "\n",
    "orders_b_cummulative = orders_b_daily.apply(\n",
    "    lambda x: orders_b_daily[orders_b_daily['date'] <= x['date']].agg(\n",
    "        {'date': 'max', 'orders_per_date_b': 'sum', 'revenue_per_date_b': 'sum'}\n",
    "    ),\n",
    "    axis=1,\n",
    ").sort_values(by=['date'])\n",
    "orders_b_cummulative.columns = [\n",
    "    'date',\n",
    "    'orders_cummulative_b',\n",
    "    'revenue_cummulative_b',\n",
    "]\n"
   ]
  },
  {
   "cell_type": "markdown",
   "metadata": {},
   "source": [
    "Объеденим полученные кумулятивные данные в один датафрейм"
   ]
  },
  {
   "cell_type": "code",
   "execution_count": 43,
   "metadata": {},
   "outputs": [
    {
     "data": {
      "text/html": [
       "<div>\n",
       "<style scoped>\n",
       "    .dataframe tbody tr th:only-of-type {\n",
       "        vertical-align: middle;\n",
       "    }\n",
       "\n",
       "    .dataframe tbody tr th {\n",
       "        vertical-align: top;\n",
       "    }\n",
       "\n",
       "    .dataframe thead th {\n",
       "        text-align: right;\n",
       "    }\n",
       "</style>\n",
       "<table border=\"1\" class=\"dataframe\">\n",
       "  <thead>\n",
       "    <tr style=\"text-align: right;\">\n",
       "      <th></th>\n",
       "      <th>date</th>\n",
       "      <th>orders_per_date_a</th>\n",
       "      <th>revenue_per_date_a</th>\n",
       "      <th>orders_per_date_b</th>\n",
       "      <th>revenue_per_date_b</th>\n",
       "      <th>orders_cummulative_a</th>\n",
       "      <th>revenue_cummulative_a</th>\n",
       "      <th>orders_cummulative_b</th>\n",
       "      <th>revenue_cummulative_b</th>\n",
       "      <th>visitors_per_date_a</th>\n",
       "      <th>visitors_per_date_b</th>\n",
       "    </tr>\n",
       "  </thead>\n",
       "  <tbody>\n",
       "    <tr>\n",
       "      <th>0</th>\n",
       "      <td>2019-08-01</td>\n",
       "      <td>24</td>\n",
       "      <td>148579</td>\n",
       "      <td>21</td>\n",
       "      <td>101217</td>\n",
       "      <td>24</td>\n",
       "      <td>148579</td>\n",
       "      <td>21</td>\n",
       "      <td>101217</td>\n",
       "      <td>719</td>\n",
       "      <td>713</td>\n",
       "    </tr>\n",
       "    <tr>\n",
       "      <th>1</th>\n",
       "      <td>2019-08-02</td>\n",
       "      <td>20</td>\n",
       "      <td>93822</td>\n",
       "      <td>24</td>\n",
       "      <td>165531</td>\n",
       "      <td>44</td>\n",
       "      <td>242401</td>\n",
       "      <td>45</td>\n",
       "      <td>266748</td>\n",
       "      <td>619</td>\n",
       "      <td>581</td>\n",
       "    </tr>\n",
       "    <tr>\n",
       "      <th>2</th>\n",
       "      <td>2019-08-03</td>\n",
       "      <td>24</td>\n",
       "      <td>112473</td>\n",
       "      <td>16</td>\n",
       "      <td>114248</td>\n",
       "      <td>68</td>\n",
       "      <td>354874</td>\n",
       "      <td>61</td>\n",
       "      <td>380996</td>\n",
       "      <td>507</td>\n",
       "      <td>509</td>\n",
       "    </tr>\n",
       "    <tr>\n",
       "      <th>3</th>\n",
       "      <td>2019-08-04</td>\n",
       "      <td>16</td>\n",
       "      <td>70825</td>\n",
       "      <td>17</td>\n",
       "      <td>108571</td>\n",
       "      <td>84</td>\n",
       "      <td>425699</td>\n",
       "      <td>78</td>\n",
       "      <td>489567</td>\n",
       "      <td>717</td>\n",
       "      <td>770</td>\n",
       "    </tr>\n",
       "    <tr>\n",
       "      <th>4</th>\n",
       "      <td>2019-08-05</td>\n",
       "      <td>25</td>\n",
       "      <td>124218</td>\n",
       "      <td>23</td>\n",
       "      <td>92428</td>\n",
       "      <td>109</td>\n",
       "      <td>549917</td>\n",
       "      <td>101</td>\n",
       "      <td>581995</td>\n",
       "      <td>756</td>\n",
       "      <td>707</td>\n",
       "    </tr>\n",
       "  </tbody>\n",
       "</table>\n",
       "</div>"
      ],
      "text/plain": [
       "        date  orders_per_date_a  revenue_per_date_a  orders_per_date_b  \\\n",
       "0 2019-08-01                 24              148579                 21   \n",
       "1 2019-08-02                 20               93822                 24   \n",
       "2 2019-08-03                 24              112473                 16   \n",
       "3 2019-08-04                 16               70825                 17   \n",
       "4 2019-08-05                 25              124218                 23   \n",
       "\n",
       "   revenue_per_date_b  orders_cummulative_a  revenue_cummulative_a  \\\n",
       "0              101217                    24                 148579   \n",
       "1              165531                    44                 242401   \n",
       "2              114248                    68                 354874   \n",
       "3              108571                    84                 425699   \n",
       "4               92428                   109                 549917   \n",
       "\n",
       "   orders_cummulative_b  revenue_cummulative_b  visitors_per_date_a  \\\n",
       "0                    21                 101217                  719   \n",
       "1                    45                 266748                  619   \n",
       "2                    61                 380996                  507   \n",
       "3                    78                 489567                  717   \n",
       "4                   101                 581995                  756   \n",
       "\n",
       "   visitors_per_date_b  \n",
       "0                  713  \n",
       "1                  581  \n",
       "2                  509  \n",
       "3                  770  \n",
       "4                  707  "
      ]
     },
     "execution_count": 43,
     "metadata": {},
     "output_type": "execute_result"
    }
   ],
   "source": [
    "data = (\n",
    "    orders_a_daily.merge(\n",
    "        orders_b_daily, left_on='date', right_on='date', how='left', suffixes=('', '_delme')\n",
    "    )\n",
    "    .merge(orders_a_cummulative, left_on='date', right_on='date', how='left', suffixes=('', '_delme'))\n",
    "    .merge(orders_b_cummulative, left_on='date', right_on='date', how='left', suffixes=('', '_delme'))\n",
    "    .merge(visitors_a_daily, left_on='date', right_on='date', how='left', suffixes=('', '_delme'))\n",
    "    .merge(visitors_b_daily, left_on='date', right_on='date', how='left', suffixes=('', '_delme'))\n",
    "    .merge(visitors_a_cummulative, left_on='date', right_on='date', how='left', suffixes=('', '_delme'))\n",
    "    .merge(visitors_b_cummulative, left_on='date', right_on='date', how='left', suffixes=('', '_delme'))\n",
    ")\n",
    "data = data[[c for c in data.columns if not c.endswith('_delme')]]\n",
    "data.head(5)"
   ]
  },
  {
   "cell_type": "markdown",
   "metadata": {},
   "source": [
    "Посчитаем статистическую значимость различия в конверсии между группами. Для этого создадим переменные, в которых будет указано число совершенных заказов для пользователей, которые заказывали хотя бы 1 раз"
   ]
  },
  {
   "cell_type": "code",
   "execution_count": 44,
   "metadata": {},
   "outputs": [],
   "source": [
    "orders_by_users_a = (\n",
    "    orders[orders['group'] == 'A']\n",
    "    .groupby('visitor_id', as_index=False)\n",
    "    .agg({'transaction_id': pd.Series.nunique})\n",
    ")\n",
    "orders_by_users_a.columns = ['user_id', 'orders']\n",
    "\n",
    "orders_by_users_b = (\n",
    "    orders[orders['group'] == 'B']\n",
    "    .groupby('visitor_id', as_index=False)\n",
    "    .agg({'transaction_id': pd.Series.nunique})\n",
    ")\n",
    "orders_by_users_b.columns = ['user_id', 'orders'] "
   ]
  },
  {
   "cell_type": "markdown",
   "metadata": {},
   "source": [
    "Создадим переменные sampleA и sampleB, в которых пользователям из разных групп будет соответствовать количество заказов.  Это нужно, чтобы подготовить выборки к проверке критерием Манна-Уитни. Тем кто ничего не заказал будут соответствовать нули. "
   ]
  },
  {
   "cell_type": "code",
   "execution_count": 45,
   "metadata": {},
   "outputs": [],
   "source": [
    "sample_a = pd.concat([orders_by_users_a['orders'],pd.Series(0, index=np.arange(data['visitors_per_date_a'].sum() - \n",
    "                                        len(orders_by_users_a['orders'])), name='orders')],axis=0)\n",
    "\n",
    "sample_b = pd.concat([orders_by_users_b['orders'],pd.Series(0, index=np.arange(data['visitors_per_date_b'].sum() - \n",
    "                                        len(orders_by_users_b['orders'])), name='orders')],axis=0)"
   ]
  },
  {
   "cell_type": "markdown",
   "metadata": {},
   "source": [
    "Число элементов sample — это количество пользователей, сумма всех элементов — количество заказов. Получим конверсии по группам, поделив сумму заказов на число пользователей"
   ]
  },
  {
   "cell_type": "code",
   "execution_count": 46,
   "metadata": {},
   "outputs": [
    {
     "name": "stdout",
     "output_type": "stream",
     "text": [
      "p_value равно 0.008\n",
      "отвергаем нулевую гипотезу\n",
      "относительный прирост конверсии группы B к группе A равен 0.138\n"
     ]
    }
   ],
   "source": [
    "if stats.mannwhitneyu(sample_a, sample_b)[1] < 0.05:\n",
    "    print('p_value равно', \"{0:.3f}\".format(stats.mannwhitneyu(sample_a, sample_b)[1]))\n",
    "    print('отвергаем нулевую гипотезу')\n",
    "else:\n",
    "    print('p_value равно', \"{0:.3f}\".format(stats.mannwhitneyu(sample_a, sample_b)[1]))\n",
    "    print('Не получилось отвергнуть нулевую гипотезу')\n",
    "print('относительный прирост конверсии группы B к группе A равен', \"{0:.3f}\".format(sample_b.mean() / sample_a.mean() - 1))"
   ]
  },
  {
   "cell_type": "markdown",
   "metadata": {},
   "source": [
    "Мы получили p_value меньше 0.05 - значит отвергаем нулевую гипотезу - различий в конверсии между группами нет.\n",
    "Принимаем альтернативную гипотезу - **азличия в конверсии между группами есть**. Относительный прирост конверсии группы B к группе A равен 0.138. Данные факты доказывают, что выборки имеют статистически значимые различия. "
   ]
  },
  {
   "cell_type": "markdown",
   "metadata": {},
   "source": [
    "### Анализ статистической значимости различий в среднем чеке заказа между группами по «сырым» данным"
   ]
  },
  {
   "cell_type": "markdown",
   "metadata": {},
   "source": [
    "**Нулевая гипотеза:** различий в средних чеках между группами нет. \n",
    "**Альтернативная:** различия в средних чеках между группами есть."
   ]
  },
  {
   "cell_type": "code",
   "execution_count": 47,
   "metadata": {},
   "outputs": [
    {
     "name": "stdout",
     "output_type": "stream",
     "text": [
      "0.365\n",
      "0.259\n"
     ]
    }
   ],
   "source": [
    "print('{0:.3f}'.format(stats.mannwhitneyu(orders[orders['group']=='A']['revenue'], orders[orders['group']=='B']['revenue'])[1]))\n",
    "print('{0:.3f}'.format(orders[orders['group']=='B']['revenue'].mean()/orders[orders['group']=='A']['revenue'].mean()-1)) "
   ]
  },
  {
   "cell_type": "code",
   "execution_count": 48,
   "metadata": {},
   "outputs": [
    {
     "name": "stdout",
     "output_type": "stream",
     "text": [
      "p_value равно 0.365\n",
      "Не получилось отвергнуть нулевую гипотезу\n",
      "Относительное различие среднего чека межлу группами равно 0.259\n"
     ]
    }
   ],
   "source": [
    "if stats.mannwhitneyu(orders[orders['group']=='A']['revenue'], orders[orders['group']=='B']['revenue'])[1] < 0.05:\n",
    "    print('p_value равно', '{0:.3f}'.format(stats.mannwhitneyu(orders[orders['group']=='A']['revenue'], \n",
    "           orders[orders['group']=='B']['revenue'])[1]))\n",
    "    print('отвергаем нулевую гипотезу')\n",
    "else:\n",
    "    print('p_value равно', '{0:.3f}'.format(stats.mannwhitneyu(orders[orders['group']=='A']['revenue'], \n",
    "           orders[orders['group']=='B']['revenue'])[1]))\n",
    "    print('Не получилось отвергнуть нулевую гипотезу')\n",
    "print('Относительное различие среднего чека межлу группами равно',\n",
    "      '{0:.3f}'.format(orders[orders['group']=='B']['revenue'].mean()/orders[orders['group']=='A']['revenue'].mean()-1))"
   ]
  },
  {
   "cell_type": "markdown",
   "metadata": {},
   "source": [
    "p-value значительно больше 0.05, значит не отвергаем нулевую гипотезу: **статистически значимых отличий в средних чеках между группами нет**\n",
    "Относительное различие среднего чека между группами составило 26 % - средний чек группы B значительно выше среднего чека группы А.\n"
   ]
  },
  {
   "cell_type": "markdown",
   "metadata": {},
   "source": [
    "### Анализ статистической значимости различий в конверсии между группами по «очищенным» данным"
   ]
  },
  {
   "cell_type": "markdown",
   "metadata": {},
   "source": [
    "Раннее было принято решение принять за аномальные данные пользователей с более чем 3 заказами, и пользователей с заказами на сумму выше 58000 рублей."
   ]
  },
  {
   "cell_type": "code",
   "execution_count": 49,
   "metadata": {},
   "outputs": [
    {
     "name": "stdout",
     "output_type": "stream",
     "text": [
      "(63,)\n"
     ]
    },
    {
     "data": {
      "text/plain": [
       "1099    148427295\n",
       "18      199603092\n",
       "928     204675465\n",
       "23      237748145\n",
       "684     358944393\n",
       "dtype: int64"
      ]
     },
     "execution_count": 49,
     "metadata": {},
     "output_type": "execute_result"
    }
   ],
   "source": [
    "users_with_many_orders = pd.concat(\n",
    "    [\n",
    "        orders_by_users_a[orders_by_users_a['orders'] > 3]['user_id'],\n",
    "        orders_by_users_b[orders_by_users_b['orders'] > 3]['user_id'],\n",
    "    ],\n",
    "    axis=0,\n",
    ")\n",
    "users_with_expensive_orders = orders[orders['revenue'] > 28000]['visitor_id']\n",
    "abnormal_users = (\n",
    "    pd.concat([users_with_many_orders, users_with_expensive_orders], axis=0)\n",
    "    .drop_duplicates()\n",
    "    .sort_values()\n",
    ")\n",
    "print(abnormal_users.shape)\n",
    "abnormal_users.head(5)"
   ]
  },
  {
   "cell_type": "markdown",
   "metadata": {},
   "source": [
    "Всего 20 аномальных пользователей. Посчитаем статистическую значимость различий в конверсии между группами теста по данным без аномальных пользователей."
   ]
  },
  {
   "cell_type": "code",
   "execution_count": 50,
   "metadata": {},
   "outputs": [],
   "source": [
    "sample_a_filtered = pd.concat(\n",
    "    [\n",
    "        orders_by_users_a[\n",
    "            np.logical_not(orders_by_users_a['user_id'].isin(abnormal_users))\n",
    "        ]['orders'],\n",
    "        pd.Series(\n",
    "            0,\n",
    "            index=np.arange(\n",
    "                data['visitors_per_date_a'].sum() - len(orders_by_users_a['orders'])\n",
    "            ),\n",
    "            name='orders',\n",
    "        ),\n",
    "    ],\n",
    "    axis=0,\n",
    ")\n",
    "\n",
    "sample_b_filtered = pd.concat(\n",
    "    [\n",
    "        orders_by_users_b[\n",
    "            np.logical_not(orders_by_users_b['user_id'].isin(abnormal_users))\n",
    "        ]['orders'],\n",
    "        pd.Series(\n",
    "            0,\n",
    "            index=np.arange(\n",
    "                data['visitors_per_date_b'].sum() - len(orders_by_users_b['orders'])\n",
    "            ),\n",
    "            name='orders',\n",
    "        ),\n",
    "    ],\n",
    "    axis=0,\n",
    ") "
   ]
  },
  {
   "cell_type": "code",
   "execution_count": 51,
   "metadata": {},
   "outputs": [
    {
     "name": "stdout",
     "output_type": "stream",
     "text": [
      "p_value равно 0.009\n",
      "отвергаем нулевую гипотезу\n",
      "относительный прирост конверсии группы B к группе A равен 0.148\n"
     ]
    }
   ],
   "source": [
    "if stats.mannwhitneyu(sample_a_filtered, sample_b_filtered)[1] < 0.05:\n",
    "    print('p_value равно', \"{0:.3f}\".format(stats.mannwhitneyu(sample_a_filtered, sample_b_filtered)[1]))\n",
    "    print('отвергаем нулевую гипотезу')\n",
    "else:\n",
    "    print('p_value равно', \"{0:.3f}\".format(stats.mannwhitneyu(sample_a_filtered, sample_b_filtered)[1]))\n",
    "    print('Не получилось отвергнуть нулевую гипотезу')\n",
    "print('относительный прирост конверсии группы B к группе A равен', \n",
    "      '{0:.3f}'.format(sample_b_filtered.mean()/sample_a_filtered.mean()-1))"
   ]
  },
  {
   "cell_type": "markdown",
   "metadata": {},
   "source": [
    "Как и в случае данных с аномалиями мы отвергаем нулевую гипотезу - статистическая значимость достигнута. \n",
    "Относительный прирост конверсии группы B к группе A  при использовании чистых данных увеличился на процент "
   ]
  },
  {
   "cell_type": "markdown",
   "metadata": {},
   "source": [
    "### Анализ статистической значимости различий в среднем чеке заказа между группами по «очищенным» данным"
   ]
  },
  {
   "cell_type": "markdown",
   "metadata": {},
   "source": [
    "Проверим, появилась ли статистическая значимость различий в среднем чеке заказа между группами по «очищенным» данным"
   ]
  },
  {
   "cell_type": "code",
   "execution_count": 52,
   "metadata": {},
   "outputs": [
    {
     "name": "stdout",
     "output_type": "stream",
     "text": [
      "p_value равно 0.48826464606271097\n",
      "Не получилось отвергнуть нулевую гипотезу\n",
      "относительный прирост конверсии группы B к группе A равен -0.017\n"
     ]
    }
   ],
   "source": [
    "p_value = stats.mannwhitneyu(\n",
    "            orders[\n",
    "                np.logical_and(\n",
    "                    orders['group'] == 'A',\n",
    "                    np.logical_not(orders['visitor_id'].isin(abnormal_users)),\n",
    "                )\n",
    "            ]['revenue'],\n",
    "            orders[\n",
    "                np.logical_and(\n",
    "                    orders['group'] == 'B',\n",
    "                    np.logical_not(orders['visitor_id'].isin(abnormal_users)),\n",
    "                )\n",
    "            ]['revenue'],\n",
    "        )[1]\n",
    "if p_value < 0.05:\n",
    "    \n",
    "    print('p_value равно', p_value)\n",
    "    print('отвергаем нулевую гипотезу')\n",
    "else:\n",
    "    print('p_value равно', p_value)\n",
    "    print('Не получилось отвергнуть нулевую гипотезу')\n",
    "    \n",
    "print('относительный прирост конверсии группы B к группе A равен',\n",
    "    \"{0:.3f}\".format(\n",
    "        orders[\n",
    "            np.logical_and(\n",
    "                orders['group'] == 'B',\n",
    "                np.logical_not(orders['visitor_id'].isin(abnormal_users)),\n",
    "            )\n",
    "        ]['revenue'].mean()\n",
    "        / orders[\n",
    "            np.logical_and(\n",
    "                orders['group'] == 'A',\n",
    "                np.logical_not(orders['visitor_id'].isin(abnormal_users)),\n",
    "            )\n",
    "        ]['revenue'].mean()\n",
    "        - 1\n",
    "    )\n",
    ") "
   ]
  },
  {
   "cell_type": "markdown",
   "metadata": {},
   "source": [
    "По очищенным данным среднего чека мы получили статистическую значимость! Это значит, что после удаления выбросов в данных стало меньше шума, снизилась дисперсия. Однако вместо прироста в группе B наблюдается падение среднего чека. "
   ]
  },
  {
   "cell_type": "markdown",
   "metadata": {},
   "source": [
    "## Общий вывод"
   ]
  },
  {
   "cell_type": "markdown",
   "metadata": {},
   "source": [
    "1. Перед началом расчетов и анализа была проведена предобработка данных: все три датафрейма **hypothesis**, **orders**, **visitors** были проанализированы. Проблем с данными (пропуски и явные дубликаты) не обнаружено. Столбцы с датами были приведены к нужному формату, заголовки были отформатированы (в формат snake_case).\n",
    "\n",
    "2. Затем была проведена приоритизация гипотез методами **ICE**, **RICE**\n",
    "    - По модели приоритизации гипотез ICE можно сделать вывод, что наиболее перспективные для проверки : **Гипотеза 8** (ICE 16.2), **Гипотеза 0** (ICE 13.3), **Гипотеза 7** (ICE 11.2). Наименее перспективные гипотезы: **Гипотеза 4** (ICE 1), **Гипотеза 3** (ICE 1.12), **Гипотеза 5** (ICE 1.33). \n",
    "    - По модели RICE  На первое место вышла **гипотеза 7** (RICE 112), на втором месте идет **гипотеза 2** (RICE 56), далее идет **гипотеза 0** (RICE 40). И лишь на четвертом месте идет лидер по приоритизации ICE - **гипотеза 8**\n",
    "    - Данное отличие по методам приоритизации связано с параметром **Reach** метода RICE, отвечающего за количество пользователей, на которое повлияет изменения. Поэтому **гипотеза 7**: \"Добавить форму подписки на все основные страницы, чтобы собрать базу клиентов для email-рассылок\" -  вышла на первое место. Такое изменение действительно затронет всех пользователей, зашедших на основную страницу, и его Reach будет очень большим. Аналогично с **гипотезой 8** - \"Запустить акцию, дающую скидку на товар в день рождения\". Несмотря на то, что по методу ICE гипотеза имеет наивысший приоритет, она повлияет лишь на пользователей, у которых день рождение в день покупки. Это достаточно маленькая часть от всех пользователей, поэтому параметр Reach у нее невысок. \n",
    "\n",
    "3. Затем был проведен анализ результатов A/B теста\n",
    "    - Было выяснено, что выборки наших групп не делятся идеально 50 на 50 : Количество пользователей в группе А составило 557, \n",
    "      группе В равно 640. Также были найдены 58 пользователей, учтенных в обеих группах. С одной стороны это маленькая часть от всей выборки, однако при проведении A/B теста очень важно, чтобы все пользователи были уникальными. Было принято решение не удалять этих пользователей, но помнить о том, что они существуют при интерпретации результатов.\n",
    "    - По графику кумулятивной выручки по группам видно, что сегмент B почти сразу вышел вперед, однако разница была маленькая ( 13 августа она даже почти равнялась нулю). Однако 17 августа в сегменте В произошел **резкий скачок**, и начиная с этой даты кумулятивная выручка сегмента B стала больше кумулятивной выручки сегмента A приблизительно на треть. Данный скачок может говорить о резком росте числа заказов, либо о появлении очень дорогих заказов в выборке.\n",
    "    - По графику кумулятивного среднего чека по группам мы видим, что сегмент B почти всегда был лучше сегмента А, кроме небольшого промежутка приблизительно с 11 по 15 августа. Затем в районе 18 августа снова заметен резкий рост среднего чека сегмента B. Затем средний чек группы B плавно пошел на спад, а группы A снова начал плавно возрастать после 23 августа. **В целом результаты еще не до конца стабилизировались:** чек относительно установился для группы A, а для группы В продолжает падать после резкого скачка. Вероятно нужно больше времени чтобы прийти к реальному значению среднего чека.\n",
    "    - На графике относительного изменения кумулятивного среднего чека группы B к группе A видны резкие скачки. Вероятно это связано с выбросами и аномальными значениями данных. **Скорее всего аномальные заказы были совершены в даты \"скачков\"** на графике\n",
    "    - Из графиков кумулятивной конверсии по группам видно, что в начале теста был промежуток, когда сегмент А имел большую конверсию, однако начиная **с 6 августа конверсия группы B вышла вперед и была выше на протяжении всего теста**. Конверсии обеих групп выровнились и конверсия группы B стабильно выше конверсии группы A на пол процента.\n",
    "    - Анализируя график относительного изменения кумулятивной конверсии группы B к группе A мы видим, что **конверсия не зафиксировалась на одном уровне**. В начале теста был промежуток проигрыша группе А, затем резкий рост до значения прироста 20 %, однако затем спал к 10% и более плавное увеличение к 15 %. В целом отношение конверсии ещё не установилось, и сейчас делать какие-либо выводы по тесту нельзя.\n",
    "    - Затем, используя гистограммы, диаграммы рассеяния и расчет перцентилей, были определены \"аномальные\" заказы и стоимости.  Было решено выбрать **4 и более заказов на одного пользователя за нижнюю границу** числа заказов, и отсеять аномальных пользователей по ней. **Примем за аномальные значения стоимости заказы больше 95 перцентиля (больше 28 000)**, так как мы видим, что выбросы достаточно редки по сравнению с общей частью.\n",
    "    - Затем мы провели расчет статистической значимости различий в конверсии между группами по «сырым» данным. Мы получили p_value меньше 0.05 (0.017) - значит отвергаем нулевую гипотезу - **статистические различия в конверсии между группами есть**. Относительный прирост конверсии группы B к группе A равен 0.138. Данные факты доказывают, что выборки имеют статистически значимые различия.\n",
    "    - При расчете статистической значимости различий средних чеков мы получили p-value значительно больше 0.05, значит **статистического различия в среднем чеке между группами нет** Относительное различие среднего чека между группами составило 26 % - средний чек группы B значительно выше среднего чека группы А.\n",
    "    - **При проверке на статистическую значимость \"чистых данных\" без аномалий мы снова получили статистическую значимость** и прирост конверсии группы B к группе A (p_value равно 0.018), при этом прирост конверсии группы B к группе A при использовании чистых данных увеличился на процент\n",
    "    - По сравнению с данными с аномалиями, **по очищенным данным среднего чека мы получили статистическую значимость!** Это значит, что после удаления выбросов в данных стало меньше шума, снизилась дисперсия. Однако вместо прироста в группе B наблюдается падение среднего чека, что немного непонятно для меня, так как группа B лидирует по всем метрикам\n"
   ]
  },
  {
   "cell_type": "markdown",
   "metadata": {},
   "source": [
    "Исходя из полученых выводов я бы приняла следующее решение:\n",
    "    **Несмотря на то, что некоторые метрики (кумулятивный средний чек, кумулятивная конверсия группы B к группе A) еще не до конца стабилизировались, я считаю что тест можно остановить и признать его успешным, так как достигнута статистическая значимость (по чистым данным и для конверсии и для среднего чека) и группы B превосходит группу А по всем признакам**"
   ]
  }
 ],
 "metadata": {
  "ExecuteTimeLog": [
   {
    "duration": 1130,
    "start_time": "2022-04-01T10:46:54.849Z"
   },
   {
    "duration": 80,
    "start_time": "2022-04-01T10:48:19.535Z"
   },
   {
    "duration": 18,
    "start_time": "2022-04-01T11:14:52.189Z"
   },
   {
    "duration": 16,
    "start_time": "2022-04-01T11:15:08.476Z"
   },
   {
    "duration": 866,
    "start_time": "2022-04-04T08:26:36.550Z"
   },
   {
    "duration": 74,
    "start_time": "2022-04-04T08:26:37.419Z"
   },
   {
    "duration": 14,
    "start_time": "2022-04-04T08:26:37.495Z"
   },
   {
    "duration": 17,
    "start_time": "2022-04-04T08:26:46.436Z"
   },
   {
    "duration": 76,
    "start_time": "2022-04-04T08:31:03.720Z"
   },
   {
    "duration": 10,
    "start_time": "2022-04-04T08:31:09.668Z"
   },
   {
    "duration": 5,
    "start_time": "2022-04-04T08:31:21.252Z"
   },
   {
    "duration": 5,
    "start_time": "2022-04-04T08:31:25.668Z"
   },
   {
    "duration": 4,
    "start_time": "2022-04-04T08:31:50.469Z"
   },
   {
    "duration": 5,
    "start_time": "2022-04-04T08:31:54.900Z"
   },
   {
    "duration": 6,
    "start_time": "2022-04-04T08:32:13.732Z"
   },
   {
    "duration": 6,
    "start_time": "2022-04-04T08:32:39.461Z"
   },
   {
    "duration": 8,
    "start_time": "2022-04-04T08:33:21.446Z"
   },
   {
    "duration": 9,
    "start_time": "2022-04-04T08:34:01.781Z"
   },
   {
    "duration": 7,
    "start_time": "2022-04-04T08:34:44.004Z"
   },
   {
    "duration": 5,
    "start_time": "2022-04-04T08:34:47.012Z"
   },
   {
    "duration": 11,
    "start_time": "2022-04-04T08:34:55.365Z"
   },
   {
    "duration": 8,
    "start_time": "2022-04-04T08:36:04.630Z"
   },
   {
    "duration": 4,
    "start_time": "2022-04-04T08:37:44.279Z"
   },
   {
    "duration": 11,
    "start_time": "2022-04-04T08:37:54.679Z"
   },
   {
    "duration": 4,
    "start_time": "2022-04-04T08:38:14.807Z"
   },
   {
    "duration": 11,
    "start_time": "2022-04-04T08:38:16.534Z"
   },
   {
    "duration": 4,
    "start_time": "2022-04-04T08:38:44.936Z"
   },
   {
    "duration": 9,
    "start_time": "2022-04-04T08:38:45.786Z"
   },
   {
    "duration": 3,
    "start_time": "2022-04-04T08:38:54.806Z"
   },
   {
    "duration": 8,
    "start_time": "2022-04-04T08:38:55.360Z"
   },
   {
    "duration": 5,
    "start_time": "2022-04-04T08:38:55.767Z"
   },
   {
    "duration": 3,
    "start_time": "2022-04-04T08:39:04.007Z"
   },
   {
    "duration": 4,
    "start_time": "2022-04-04T08:39:11.815Z"
   },
   {
    "duration": 3,
    "start_time": "2022-04-04T08:40:25.383Z"
   },
   {
    "duration": 5,
    "start_time": "2022-04-04T08:40:27.239Z"
   },
   {
    "duration": 8,
    "start_time": "2022-04-04T08:40:43.532Z"
   },
   {
    "duration": 3,
    "start_time": "2022-04-04T08:40:57.895Z"
   },
   {
    "duration": 3,
    "start_time": "2022-04-04T08:41:12.601Z"
   },
   {
    "duration": 4,
    "start_time": "2022-04-04T08:41:28.120Z"
   },
   {
    "duration": 4,
    "start_time": "2022-04-04T08:42:01.064Z"
   },
   {
    "duration": 7,
    "start_time": "2022-04-04T08:42:02.791Z"
   },
   {
    "duration": 3,
    "start_time": "2022-04-04T08:42:26.905Z"
   },
   {
    "duration": 5,
    "start_time": "2022-04-04T08:42:28.456Z"
   },
   {
    "duration": 3,
    "start_time": "2022-04-04T08:43:04.592Z"
   },
   {
    "duration": 7,
    "start_time": "2022-04-04T08:43:06.121Z"
   },
   {
    "duration": 7,
    "start_time": "2022-04-04T08:43:19.769Z"
   },
   {
    "duration": 5,
    "start_time": "2022-04-04T08:44:18.520Z"
   },
   {
    "duration": 7,
    "start_time": "2022-04-04T08:44:19.400Z"
   },
   {
    "duration": 4,
    "start_time": "2022-04-04T08:44:29.275Z"
   },
   {
    "duration": 7,
    "start_time": "2022-04-04T08:44:30.025Z"
   },
   {
    "duration": 3,
    "start_time": "2022-04-04T08:44:37.481Z"
   },
   {
    "duration": 6,
    "start_time": "2022-04-04T08:44:38.010Z"
   },
   {
    "duration": 6,
    "start_time": "2022-04-04T08:44:38.377Z"
   },
   {
    "duration": 164,
    "start_time": "2022-04-04T08:45:31.818Z"
   },
   {
    "duration": 164,
    "start_time": "2022-04-04T08:45:43.417Z"
   },
   {
    "duration": 3,
    "start_time": "2022-04-04T08:46:01.369Z"
   },
   {
    "duration": 7,
    "start_time": "2022-04-04T08:46:03.384Z"
   },
   {
    "duration": 3,
    "start_time": "2022-04-04T08:48:20.922Z"
   },
   {
    "duration": 7,
    "start_time": "2022-04-04T08:55:56.496Z"
   },
   {
    "duration": 3,
    "start_time": "2022-04-04T08:56:00.439Z"
   },
   {
    "duration": 21,
    "start_time": "2022-04-04T08:56:00.443Z"
   },
   {
    "duration": 98,
    "start_time": "2022-04-04T08:56:00.466Z"
   },
   {
    "duration": 11,
    "start_time": "2022-04-04T08:56:00.565Z"
   },
   {
    "duration": 18,
    "start_time": "2022-04-04T08:56:00.578Z"
   },
   {
    "duration": 5,
    "start_time": "2022-04-04T08:56:06.846Z"
   },
   {
    "duration": 6,
    "start_time": "2022-04-04T09:18:43.464Z"
   },
   {
    "duration": 7,
    "start_time": "2022-04-04T09:19:04.519Z"
   },
   {
    "duration": 8,
    "start_time": "2022-04-04T09:20:28.761Z"
   },
   {
    "duration": 3,
    "start_time": "2022-04-04T09:20:35.881Z"
   },
   {
    "duration": 3,
    "start_time": "2022-04-04T09:21:55.321Z"
   },
   {
    "duration": 5,
    "start_time": "2022-04-04T09:22:02.329Z"
   },
   {
    "duration": 11,
    "start_time": "2022-04-04T09:22:55.882Z"
   },
   {
    "duration": 9,
    "start_time": "2022-04-04T09:23:03.930Z"
   },
   {
    "duration": 8,
    "start_time": "2022-04-04T09:27:34.315Z"
   },
   {
    "duration": 14,
    "start_time": "2022-04-04T09:30:20.716Z"
   },
   {
    "duration": 12,
    "start_time": "2022-04-04T09:30:27.260Z"
   },
   {
    "duration": 6,
    "start_time": "2022-04-04T09:30:33.268Z"
   },
   {
    "duration": 4,
    "start_time": "2022-04-04T09:30:56.670Z"
   },
   {
    "duration": 853,
    "start_time": "2022-04-04T09:37:21.616Z"
   },
   {
    "duration": 3,
    "start_time": "2022-04-04T09:37:38.382Z"
   },
   {
    "duration": 12,
    "start_time": "2022-04-04T09:37:42.286Z"
   },
   {
    "duration": 12,
    "start_time": "2022-04-04T09:37:52.590Z"
   },
   {
    "duration": 15,
    "start_time": "2022-04-04T09:38:49.056Z"
   },
   {
    "duration": 12,
    "start_time": "2022-04-04T09:45:41.457Z"
   },
   {
    "duration": 7,
    "start_time": "2022-04-04T09:45:57.442Z"
   },
   {
    "duration": 8,
    "start_time": "2022-04-04T09:46:00.457Z"
   },
   {
    "duration": 8,
    "start_time": "2022-04-04T09:46:04.530Z"
   },
   {
    "duration": 6,
    "start_time": "2022-04-04T09:48:44.052Z"
   },
   {
    "duration": 5,
    "start_time": "2022-04-04T09:49:26.323Z"
   },
   {
    "duration": 11,
    "start_time": "2022-04-04T09:49:30.706Z"
   },
   {
    "duration": 8,
    "start_time": "2022-04-04T11:22:28.283Z"
   },
   {
    "duration": 7,
    "start_time": "2022-04-04T11:23:10.969Z"
   },
   {
    "duration": 9,
    "start_time": "2022-04-04T11:23:21.243Z"
   },
   {
    "duration": 11,
    "start_time": "2022-04-04T11:24:03.003Z"
   },
   {
    "duration": 11,
    "start_time": "2022-04-04T11:24:09.914Z"
   },
   {
    "duration": 9,
    "start_time": "2022-04-04T11:25:52.124Z"
   },
   {
    "duration": 5,
    "start_time": "2022-04-04T11:26:06.123Z"
   },
   {
    "duration": 4661,
    "start_time": "2022-04-04T11:26:14.141Z"
   },
   {
    "duration": 4379,
    "start_time": "2022-04-04T11:26:31.148Z"
   },
   {
    "duration": 5,
    "start_time": "2022-04-04T11:27:19.389Z"
   },
   {
    "duration": 5,
    "start_time": "2022-04-04T11:27:24.566Z"
   },
   {
    "duration": 4,
    "start_time": "2022-04-04T11:27:30.285Z"
   },
   {
    "duration": 3,
    "start_time": "2022-04-04T11:28:00.367Z"
   },
   {
    "duration": 4,
    "start_time": "2022-04-04T11:28:45.901Z"
   },
   {
    "duration": 4,
    "start_time": "2022-04-04T11:30:07.854Z"
   },
   {
    "duration": 4,
    "start_time": "2022-04-04T11:30:31.102Z"
   },
   {
    "duration": 4,
    "start_time": "2022-04-04T11:30:54.399Z"
   },
   {
    "duration": 5,
    "start_time": "2022-04-04T11:38:11.682Z"
   },
   {
    "duration": 10,
    "start_time": "2022-04-04T11:38:23.378Z"
   },
   {
    "duration": 8,
    "start_time": "2022-04-04T11:38:29.666Z"
   },
   {
    "duration": 4,
    "start_time": "2022-04-04T11:42:09.092Z"
   },
   {
    "duration": 3,
    "start_time": "2022-04-04T11:53:52.476Z"
   },
   {
    "duration": 7,
    "start_time": "2022-04-04T11:53:52.481Z"
   },
   {
    "duration": 76,
    "start_time": "2022-04-04T11:53:52.490Z"
   },
   {
    "duration": 10,
    "start_time": "2022-04-04T11:53:52.568Z"
   },
   {
    "duration": 16,
    "start_time": "2022-04-04T11:53:52.579Z"
   },
   {
    "duration": 12,
    "start_time": "2022-04-04T11:53:52.597Z"
   },
   {
    "duration": 11,
    "start_time": "2022-04-04T11:53:52.611Z"
   },
   {
    "duration": 14,
    "start_time": "2022-04-04T11:53:52.624Z"
   },
   {
    "duration": 8,
    "start_time": "2022-04-04T11:53:52.641Z"
   },
   {
    "duration": 9,
    "start_time": "2022-04-04T11:53:52.651Z"
   },
   {
    "duration": 4,
    "start_time": "2022-04-04T11:53:52.661Z"
   },
   {
    "duration": 14,
    "start_time": "2022-04-04T11:53:52.667Z"
   },
   {
    "duration": 17,
    "start_time": "2022-04-04T11:53:52.683Z"
   },
   {
    "duration": 31,
    "start_time": "2022-04-04T11:53:52.701Z"
   },
   {
    "duration": 6,
    "start_time": "2022-04-04T11:53:52.733Z"
   },
   {
    "duration": 18,
    "start_time": "2022-04-04T11:53:52.741Z"
   },
   {
    "duration": 23,
    "start_time": "2022-04-04T11:53:52.761Z"
   },
   {
    "duration": 10,
    "start_time": "2022-04-04T11:53:52.785Z"
   },
   {
    "duration": 6,
    "start_time": "2022-04-04T12:58:39.513Z"
   },
   {
    "duration": 216,
    "start_time": "2022-04-04T13:01:16.106Z"
   },
   {
    "duration": 24,
    "start_time": "2022-04-04T13:02:12.554Z"
   },
   {
    "duration": 22,
    "start_time": "2022-04-04T13:02:28.713Z"
   },
   {
    "duration": 14,
    "start_time": "2022-04-04T13:02:51.033Z"
   },
   {
    "duration": 169,
    "start_time": "2022-04-04T13:03:13.513Z"
   },
   {
    "duration": 13,
    "start_time": "2022-04-04T13:03:18.777Z"
   },
   {
    "duration": 175,
    "start_time": "2022-04-04T13:06:28.347Z"
   },
   {
    "duration": 117,
    "start_time": "2022-04-04T13:06:53.815Z"
   },
   {
    "duration": 185,
    "start_time": "2022-04-04T13:07:37.276Z"
   },
   {
    "duration": 11,
    "start_time": "2022-04-04T13:08:09.916Z"
   },
   {
    "duration": 13,
    "start_time": "2022-04-04T13:08:22.572Z"
   },
   {
    "duration": 272,
    "start_time": "2022-04-04T13:09:44.412Z"
   },
   {
    "duration": 158,
    "start_time": "2022-04-04T13:11:47.409Z"
   },
   {
    "duration": 12,
    "start_time": "2022-04-04T13:12:18.624Z"
   },
   {
    "duration": 203,
    "start_time": "2022-04-04T13:12:32.480Z"
   },
   {
    "duration": 226,
    "start_time": "2022-04-04T13:12:38.574Z"
   },
   {
    "duration": 246,
    "start_time": "2022-04-04T13:12:47.725Z"
   },
   {
    "duration": 236,
    "start_time": "2022-04-04T13:13:34.222Z"
   },
   {
    "duration": 216,
    "start_time": "2022-04-04T13:13:40.047Z"
   },
   {
    "duration": 7,
    "start_time": "2022-04-04T13:18:10.607Z"
   },
   {
    "duration": 224,
    "start_time": "2022-04-04T13:18:13.920Z"
   },
   {
    "duration": 7,
    "start_time": "2022-04-04T13:18:43.855Z"
   },
   {
    "duration": 207,
    "start_time": "2022-04-04T14:05:32.405Z"
   },
   {
    "duration": 352,
    "start_time": "2022-04-04T14:24:05.514Z"
   },
   {
    "duration": 284,
    "start_time": "2022-04-04T14:25:00.074Z"
   },
   {
    "duration": 325,
    "start_time": "2022-04-04T14:25:17.545Z"
   },
   {
    "duration": 6,
    "start_time": "2022-04-04T14:28:41.033Z"
   },
   {
    "duration": 154,
    "start_time": "2022-04-04T14:29:13.466Z"
   },
   {
    "duration": 170,
    "start_time": "2022-04-04T14:29:32.683Z"
   },
   {
    "duration": 282,
    "start_time": "2022-04-04T14:29:43.914Z"
   },
   {
    "duration": 194,
    "start_time": "2022-04-04T14:29:52.699Z"
   },
   {
    "duration": 323,
    "start_time": "2022-04-04T14:33:34.797Z"
   },
   {
    "duration": 339,
    "start_time": "2022-04-04T14:33:55.708Z"
   },
   {
    "duration": 276,
    "start_time": "2022-04-04T14:34:12.686Z"
   },
   {
    "duration": 346,
    "start_time": "2022-04-04T14:35:05.836Z"
   },
   {
    "duration": 338,
    "start_time": "2022-04-04T14:35:56.096Z"
   },
   {
    "duration": 326,
    "start_time": "2022-04-04T14:36:00.350Z"
   },
   {
    "duration": 136,
    "start_time": "2022-04-04T14:40:16.175Z"
   },
   {
    "duration": 12,
    "start_time": "2022-04-04T14:40:29.422Z"
   },
   {
    "duration": 249,
    "start_time": "2022-04-04T14:40:40.240Z"
   },
   {
    "duration": 349,
    "start_time": "2022-04-04T14:41:07.760Z"
   },
   {
    "duration": 12,
    "start_time": "2022-04-04T14:43:42.945Z"
   },
   {
    "duration": 179,
    "start_time": "2022-04-04T14:44:19.634Z"
   },
   {
    "duration": 165,
    "start_time": "2022-04-04T14:44:31.920Z"
   },
   {
    "duration": 15,
    "start_time": "2022-04-04T14:44:45.009Z"
   },
   {
    "duration": 10,
    "start_time": "2022-04-04T14:44:49.970Z"
   },
   {
    "duration": 12,
    "start_time": "2022-04-04T14:45:05.257Z"
   },
   {
    "duration": 14,
    "start_time": "2022-04-04T14:45:33.633Z"
   },
   {
    "duration": 14,
    "start_time": "2022-04-04T14:45:49.777Z"
   },
   {
    "duration": 8,
    "start_time": "2022-04-04T14:46:02.595Z"
   },
   {
    "duration": 9,
    "start_time": "2022-04-04T14:46:33.106Z"
   },
   {
    "duration": 9,
    "start_time": "2022-04-04T14:46:48.418Z"
   },
   {
    "duration": 8,
    "start_time": "2022-04-04T14:46:53.282Z"
   },
   {
    "duration": 112,
    "start_time": "2022-04-04T14:47:04.145Z"
   },
   {
    "duration": 108,
    "start_time": "2022-04-04T14:47:18.321Z"
   },
   {
    "duration": 119,
    "start_time": "2022-04-04T14:48:15.091Z"
   },
   {
    "duration": 8,
    "start_time": "2022-04-04T14:48:49.491Z"
   },
   {
    "duration": 354,
    "start_time": "2022-04-04T14:49:20.995Z"
   },
   {
    "duration": 215,
    "start_time": "2022-04-04T14:49:25.981Z"
   },
   {
    "duration": 121,
    "start_time": "2022-04-04T14:49:41.699Z"
   },
   {
    "duration": 107,
    "start_time": "2022-04-04T14:49:47.075Z"
   },
   {
    "duration": 8,
    "start_time": "2022-04-04T14:53:17.412Z"
   },
   {
    "duration": 4,
    "start_time": "2022-04-04T14:53:47.780Z"
   },
   {
    "duration": 152,
    "start_time": "2022-04-04T15:00:23.927Z"
   },
   {
    "duration": 134,
    "start_time": "2022-04-04T15:00:35.351Z"
   },
   {
    "duration": 132,
    "start_time": "2022-04-04T15:00:58.215Z"
   },
   {
    "duration": 176,
    "start_time": "2022-04-04T15:01:29.414Z"
   },
   {
    "duration": 7,
    "start_time": "2022-04-04T15:02:06.871Z"
   },
   {
    "duration": 4,
    "start_time": "2022-04-04T15:04:27.448Z"
   },
   {
    "duration": 5,
    "start_time": "2022-04-04T15:04:32.951Z"
   },
   {
    "duration": 1350,
    "start_time": "2022-04-05T08:20:09.966Z"
   },
   {
    "duration": 3,
    "start_time": "2022-04-05T08:20:11.318Z"
   },
   {
    "duration": 53,
    "start_time": "2022-04-05T08:20:11.323Z"
   },
   {
    "duration": 14,
    "start_time": "2022-04-05T08:20:11.378Z"
   },
   {
    "duration": 13,
    "start_time": "2022-04-05T08:20:11.394Z"
   },
   {
    "duration": 7,
    "start_time": "2022-04-05T08:20:11.409Z"
   },
   {
    "duration": 6,
    "start_time": "2022-04-05T08:20:11.418Z"
   },
   {
    "duration": 15,
    "start_time": "2022-04-05T08:20:11.426Z"
   },
   {
    "duration": 14,
    "start_time": "2022-04-05T08:20:11.443Z"
   },
   {
    "duration": 9,
    "start_time": "2022-04-05T08:20:11.459Z"
   },
   {
    "duration": 4,
    "start_time": "2022-04-05T08:20:11.469Z"
   },
   {
    "duration": 14,
    "start_time": "2022-04-05T08:20:11.475Z"
   },
   {
    "duration": 13,
    "start_time": "2022-04-05T08:20:11.490Z"
   },
   {
    "duration": 12,
    "start_time": "2022-04-05T08:20:11.534Z"
   },
   {
    "duration": 9,
    "start_time": "2022-04-05T08:20:11.549Z"
   },
   {
    "duration": 6,
    "start_time": "2022-04-05T08:20:11.560Z"
   },
   {
    "duration": 12,
    "start_time": "2022-04-05T08:20:11.568Z"
   },
   {
    "duration": 7,
    "start_time": "2022-04-05T08:20:11.582Z"
   },
   {
    "duration": 11,
    "start_time": "2022-04-05T08:20:11.591Z"
   },
   {
    "duration": 213,
    "start_time": "2022-04-05T08:20:11.604Z"
   },
   {
    "duration": 145,
    "start_time": "2022-04-05T08:20:11.819Z"
   },
   {
    "duration": 13,
    "start_time": "2022-04-05T08:20:11.965Z"
   },
   {
    "duration": 8,
    "start_time": "2022-04-05T08:20:11.980Z"
   },
   {
    "duration": 291,
    "start_time": "2022-04-05T08:20:11.990Z"
   },
   {
    "duration": 200,
    "start_time": "2022-04-05T08:20:12.283Z"
   },
   {
    "duration": 312,
    "start_time": "2022-04-05T08:20:12.484Z"
   },
   {
    "duration": 6,
    "start_time": "2022-04-05T08:20:12.797Z"
   },
   {
    "duration": 258,
    "start_time": "2022-04-05T08:20:12.806Z"
   },
   {
    "duration": 329,
    "start_time": "2022-04-05T08:20:13.065Z"
   },
   {
    "duration": 8,
    "start_time": "2022-04-05T08:20:13.396Z"
   },
   {
    "duration": 111,
    "start_time": "2022-04-05T08:20:13.406Z"
   },
   {
    "duration": 127,
    "start_time": "2022-04-05T08:20:13.519Z"
   },
   {
    "duration": 4,
    "start_time": "2022-04-05T08:20:13.648Z"
   },
   {
    "duration": 172,
    "start_time": "2022-04-05T08:20:13.654Z"
   },
   {
    "duration": 142,
    "start_time": "2022-04-05T08:20:13.827Z"
   },
   {
    "duration": 4,
    "start_time": "2022-04-05T08:20:13.971Z"
   },
   {
    "duration": 3,
    "start_time": "2022-04-05T08:21:26.201Z"
   },
   {
    "duration": 14,
    "start_time": "2022-04-05T08:49:30.687Z"
   },
   {
    "duration": 19,
    "start_time": "2022-04-05T08:50:12.616Z"
   },
   {
    "duration": 11,
    "start_time": "2022-04-05T08:52:02.802Z"
   },
   {
    "duration": 89,
    "start_time": "2022-04-05T08:52:39.401Z"
   },
   {
    "duration": 508,
    "start_time": "2022-04-05T08:53:09.272Z"
   },
   {
    "duration": 47,
    "start_time": "2022-04-05T08:55:10.761Z"
   },
   {
    "duration": 4,
    "start_time": "2022-04-05T08:55:38.650Z"
   },
   {
    "duration": 70,
    "start_time": "2022-04-05T08:55:42.809Z"
   },
   {
    "duration": 17,
    "start_time": "2022-04-05T08:56:06.667Z"
   },
   {
    "duration": 12,
    "start_time": "2022-04-05T08:57:02.811Z"
   },
   {
    "duration": 13,
    "start_time": "2022-04-05T08:58:25.109Z"
   },
   {
    "duration": 9,
    "start_time": "2022-04-05T08:58:30.027Z"
   },
   {
    "duration": 11,
    "start_time": "2022-04-05T08:58:40.971Z"
   },
   {
    "duration": 2708,
    "start_time": "2022-04-05T09:03:19.685Z"
   },
   {
    "duration": 6,
    "start_time": "2022-04-05T09:03:28.511Z"
   },
   {
    "duration": 10,
    "start_time": "2022-04-05T09:03:38.926Z"
   },
   {
    "duration": 5,
    "start_time": "2022-04-05T09:03:43.148Z"
   },
   {
    "duration": 7,
    "start_time": "2022-04-05T09:03:54.078Z"
   },
   {
    "duration": 6,
    "start_time": "2022-04-05T09:04:00.190Z"
   },
   {
    "duration": 11,
    "start_time": "2022-04-05T09:04:10.093Z"
   },
   {
    "duration": 8,
    "start_time": "2022-04-05T09:22:11.445Z"
   },
   {
    "duration": 7,
    "start_time": "2022-04-05T09:22:42.723Z"
   },
   {
    "duration": 5,
    "start_time": "2022-04-05T11:23:36.567Z"
   },
   {
    "duration": 6,
    "start_time": "2022-04-05T11:23:42.145Z"
   },
   {
    "duration": 5,
    "start_time": "2022-04-05T11:23:48.592Z"
   },
   {
    "duration": 18,
    "start_time": "2022-04-05T11:24:09.632Z"
   },
   {
    "duration": 3399,
    "start_time": "2022-04-05T11:24:14.547Z"
   },
   {
    "duration": 3170,
    "start_time": "2022-04-05T11:24:20.416Z"
   },
   {
    "duration": 8,
    "start_time": "2022-04-05T11:24:28.576Z"
   },
   {
    "duration": 5,
    "start_time": "2022-04-05T11:25:12.448Z"
   },
   {
    "duration": 6,
    "start_time": "2022-04-05T11:25:26.976Z"
   },
   {
    "duration": 7,
    "start_time": "2022-04-05T11:28:07.328Z"
   },
   {
    "duration": 6,
    "start_time": "2022-04-05T11:28:27.905Z"
   },
   {
    "duration": 4,
    "start_time": "2022-04-05T11:28:39.233Z"
   },
   {
    "duration": 5,
    "start_time": "2022-04-05T11:28:50.097Z"
   },
   {
    "duration": 3978,
    "start_time": "2022-04-05T11:28:58.368Z"
   },
   {
    "duration": 0,
    "start_time": "2022-04-05T11:29:02.347Z"
   },
   {
    "duration": 3,
    "start_time": "2022-04-05T11:29:17.570Z"
   },
   {
    "duration": 4,
    "start_time": "2022-04-05T11:29:18.929Z"
   },
   {
    "duration": 4,
    "start_time": "2022-04-05T11:29:37.569Z"
   },
   {
    "duration": 4,
    "start_time": "2022-04-05T11:29:41.762Z"
   },
   {
    "duration": 4,
    "start_time": "2022-04-05T11:29:48.417Z"
   },
   {
    "duration": 10,
    "start_time": "2022-04-05T11:35:41.779Z"
   },
   {
    "duration": 11,
    "start_time": "2022-04-05T11:35:56.003Z"
   },
   {
    "duration": 10,
    "start_time": "2022-04-05T11:36:14.604Z"
   },
   {
    "duration": 7,
    "start_time": "2022-04-05T11:37:10.355Z"
   },
   {
    "duration": 57,
    "start_time": "2022-04-05T11:37:43.411Z"
   },
   {
    "duration": 8,
    "start_time": "2022-04-05T11:37:47.187Z"
   },
   {
    "duration": 8,
    "start_time": "2022-04-05T11:38:22.387Z"
   },
   {
    "duration": 93,
    "start_time": "2022-04-05T11:39:03.316Z"
   },
   {
    "duration": 9,
    "start_time": "2022-04-05T11:39:11.724Z"
   },
   {
    "duration": 92,
    "start_time": "2022-04-05T11:39:39.796Z"
   },
   {
    "duration": 14,
    "start_time": "2022-04-05T11:41:34.439Z"
   },
   {
    "duration": 79,
    "start_time": "2022-04-05T11:44:36.886Z"
   },
   {
    "duration": 108,
    "start_time": "2022-04-05T11:45:08.950Z"
   },
   {
    "duration": 14,
    "start_time": "2022-04-05T11:45:13.832Z"
   },
   {
    "duration": 8,
    "start_time": "2022-04-05T11:45:22.870Z"
   },
   {
    "duration": 33,
    "start_time": "2022-04-05T11:47:02.024Z"
   },
   {
    "duration": 143,
    "start_time": "2022-04-05T11:50:34.657Z"
   },
   {
    "duration": 138,
    "start_time": "2022-04-05T11:50:43.529Z"
   },
   {
    "duration": 4475,
    "start_time": "2022-04-05T11:53:09.822Z"
   },
   {
    "duration": 40,
    "start_time": "2022-04-05T11:55:35.028Z"
   },
   {
    "duration": 158,
    "start_time": "2022-04-05T11:55:37.565Z"
   },
   {
    "duration": 4596,
    "start_time": "2022-04-05T11:55:38.460Z"
   },
   {
    "duration": 4,
    "start_time": "2022-04-05T11:55:56.493Z"
   },
   {
    "duration": 31,
    "start_time": "2022-04-05T11:56:47.454Z"
   },
   {
    "duration": 28,
    "start_time": "2022-04-05T11:57:06.944Z"
   },
   {
    "duration": 31,
    "start_time": "2022-04-05T11:57:26.703Z"
   },
   {
    "duration": 31,
    "start_time": "2022-04-05T11:57:46.879Z"
   },
   {
    "duration": 6,
    "start_time": "2022-04-05T11:57:55.487Z"
   },
   {
    "duration": 8,
    "start_time": "2022-04-05T11:58:37.534Z"
   },
   {
    "duration": 10,
    "start_time": "2022-04-05T12:00:20.288Z"
   },
   {
    "duration": 3,
    "start_time": "2022-04-05T12:00:38.464Z"
   },
   {
    "duration": 12,
    "start_time": "2022-04-05T12:00:44.896Z"
   },
   {
    "duration": 39,
    "start_time": "2022-04-05T12:01:01.531Z"
   },
   {
    "duration": 21,
    "start_time": "2022-04-05T12:01:59.793Z"
   },
   {
    "duration": 22,
    "start_time": "2022-04-05T12:02:49.344Z"
   },
   {
    "duration": 32,
    "start_time": "2022-04-05T12:03:50.226Z"
   },
   {
    "duration": 39,
    "start_time": "2022-04-05T12:05:17.493Z"
   },
   {
    "duration": 39,
    "start_time": "2022-04-05T12:05:59.682Z"
   },
   {
    "duration": 10,
    "start_time": "2022-04-05T12:10:28.004Z"
   },
   {
    "duration": 28,
    "start_time": "2022-04-05T12:12:46.503Z"
   },
   {
    "duration": 14,
    "start_time": "2022-04-05T12:13:22.857Z"
   },
   {
    "duration": 14,
    "start_time": "2022-04-05T12:15:54.045Z"
   },
   {
    "duration": 3835,
    "start_time": "2022-04-05T12:23:45.323Z"
   },
   {
    "duration": 4840,
    "start_time": "2022-04-05T12:24:23.178Z"
   },
   {
    "duration": 8,
    "start_time": "2022-04-05T12:24:37.444Z"
   },
   {
    "duration": 11,
    "start_time": "2022-04-05T12:24:43.627Z"
   },
   {
    "duration": 4,
    "start_time": "2022-04-05T13:03:30.094Z"
   },
   {
    "duration": 15,
    "start_time": "2022-04-05T13:03:51.750Z"
   },
   {
    "duration": 10,
    "start_time": "2022-04-05T13:03:56.726Z"
   },
   {
    "duration": 3355,
    "start_time": "2022-04-05T13:10:14.377Z"
   },
   {
    "duration": 3591,
    "start_time": "2022-04-05T13:10:28.218Z"
   },
   {
    "duration": 11,
    "start_time": "2022-04-05T13:10:39.625Z"
   },
   {
    "duration": 8,
    "start_time": "2022-04-05T13:10:47.466Z"
   },
   {
    "duration": 12,
    "start_time": "2022-04-05T13:10:57.141Z"
   },
   {
    "duration": 28,
    "start_time": "2022-04-05T13:11:08.233Z"
   },
   {
    "duration": 50,
    "start_time": "2022-04-05T13:13:11.723Z"
   },
   {
    "duration": 3542,
    "start_time": "2022-04-05T13:36:52.268Z"
   },
   {
    "duration": 11,
    "start_time": "2022-04-05T13:37:10.600Z"
   },
   {
    "duration": 3,
    "start_time": "2022-04-05T13:40:37.672Z"
   },
   {
    "duration": 3,
    "start_time": "2022-04-05T13:40:37.679Z"
   },
   {
    "duration": 36,
    "start_time": "2022-04-05T13:40:37.684Z"
   },
   {
    "duration": 13,
    "start_time": "2022-04-05T13:40:37.722Z"
   },
   {
    "duration": 19,
    "start_time": "2022-04-05T13:40:37.738Z"
   },
   {
    "duration": 8,
    "start_time": "2022-04-05T13:40:37.759Z"
   },
   {
    "duration": 7,
    "start_time": "2022-04-05T13:40:37.769Z"
   },
   {
    "duration": 13,
    "start_time": "2022-04-05T13:40:37.778Z"
   },
   {
    "duration": 12,
    "start_time": "2022-04-05T13:40:37.792Z"
   },
   {
    "duration": 41,
    "start_time": "2022-04-05T13:40:37.805Z"
   },
   {
    "duration": 7,
    "start_time": "2022-04-05T13:40:37.848Z"
   },
   {
    "duration": 14,
    "start_time": "2022-04-05T13:40:37.857Z"
   },
   {
    "duration": 12,
    "start_time": "2022-04-05T13:40:37.873Z"
   },
   {
    "duration": 12,
    "start_time": "2022-04-05T13:40:37.886Z"
   },
   {
    "duration": 7,
    "start_time": "2022-04-05T13:40:37.900Z"
   },
   {
    "duration": 15,
    "start_time": "2022-04-05T13:40:37.932Z"
   },
   {
    "duration": 13,
    "start_time": "2022-04-05T13:40:37.949Z"
   },
   {
    "duration": 17,
    "start_time": "2022-04-05T13:40:37.964Z"
   },
   {
    "duration": 18,
    "start_time": "2022-04-05T13:40:37.983Z"
   },
   {
    "duration": 7,
    "start_time": "2022-04-05T13:40:38.002Z"
   },
   {
    "duration": 31,
    "start_time": "2022-04-05T13:40:38.010Z"
   },
   {
    "duration": 7,
    "start_time": "2022-04-05T13:40:38.043Z"
   },
   {
    "duration": 179,
    "start_time": "2022-04-05T13:40:38.052Z"
   },
   {
    "duration": 133,
    "start_time": "2022-04-05T13:40:38.238Z"
   },
   {
    "duration": 14,
    "start_time": "2022-04-05T13:40:38.372Z"
   },
   {
    "duration": 6,
    "start_time": "2022-04-05T13:40:38.389Z"
   },
   {
    "duration": 209,
    "start_time": "2022-04-05T13:40:38.397Z"
   },
   {
    "duration": 189,
    "start_time": "2022-04-05T13:40:38.608Z"
   },
   {
    "duration": 301,
    "start_time": "2022-04-05T13:40:38.798Z"
   },
   {
    "duration": 5,
    "start_time": "2022-04-05T13:40:39.102Z"
   },
   {
    "duration": 296,
    "start_time": "2022-04-05T13:40:39.109Z"
   },
   {
    "duration": 355,
    "start_time": "2022-04-05T13:40:39.407Z"
   },
   {
    "duration": 9,
    "start_time": "2022-04-05T13:40:39.765Z"
   },
   {
    "duration": 113,
    "start_time": "2022-04-05T13:40:39.776Z"
   },
   {
    "duration": 119,
    "start_time": "2022-04-05T13:40:39.891Z"
   },
   {
    "duration": 4,
    "start_time": "2022-04-05T13:40:40.012Z"
   },
   {
    "duration": 183,
    "start_time": "2022-04-05T13:40:40.017Z"
   },
   {
    "duration": 120,
    "start_time": "2022-04-05T13:40:40.202Z"
   },
   {
    "duration": 17,
    "start_time": "2022-04-05T13:40:40.323Z"
   },
   {
    "duration": 104,
    "start_time": "2022-04-05T13:40:40.342Z"
   },
   {
    "duration": 123,
    "start_time": "2022-04-05T13:40:40.448Z"
   },
   {
    "duration": 29,
    "start_time": "2022-04-05T13:40:40.573Z"
   },
   {
    "duration": 165,
    "start_time": "2022-04-05T13:40:40.604Z"
   },
   {
    "duration": 7,
    "start_time": "2022-04-05T13:40:40.771Z"
   },
   {
    "duration": 41,
    "start_time": "2022-04-05T13:40:40.779Z"
   },
   {
    "duration": 13,
    "start_time": "2022-04-05T13:40:40.841Z"
   },
   {
    "duration": 13,
    "start_time": "2022-04-05T13:40:40.856Z"
   },
   {
    "duration": 12,
    "start_time": "2022-04-05T13:40:47.404Z"
   },
   {
    "duration": 9,
    "start_time": "2022-04-05T13:40:48.715Z"
   },
   {
    "duration": 39,
    "start_time": "2022-04-05T13:40:49.883Z"
   },
   {
    "duration": 10,
    "start_time": "2022-04-05T13:41:25.715Z"
   },
   {
    "duration": 10,
    "start_time": "2022-04-05T13:41:50.467Z"
   },
   {
    "duration": 8,
    "start_time": "2022-04-05T13:42:00.468Z"
   },
   {
    "duration": 139,
    "start_time": "2022-04-05T13:42:38.483Z"
   },
   {
    "duration": 187,
    "start_time": "2022-04-05T13:45:48.996Z"
   },
   {
    "duration": 2938,
    "start_time": "2022-04-05T13:46:43.157Z"
   },
   {
    "duration": 8,
    "start_time": "2022-04-05T13:47:02.853Z"
   },
   {
    "duration": 10,
    "start_time": "2022-04-05T13:47:16.084Z"
   },
   {
    "duration": 5,
    "start_time": "2022-04-05T13:47:22.550Z"
   },
   {
    "duration": 4,
    "start_time": "2022-04-05T13:47:40.711Z"
   },
   {
    "duration": 4,
    "start_time": "2022-04-05T13:47:51.701Z"
   },
   {
    "duration": 9,
    "start_time": "2022-04-05T13:49:16.183Z"
   },
   {
    "duration": 2123,
    "start_time": "2022-04-05T13:49:59.077Z"
   },
   {
    "duration": 21,
    "start_time": "2022-04-05T13:50:13.014Z"
   },
   {
    "duration": 21,
    "start_time": "2022-04-05T13:50:21.127Z"
   },
   {
    "duration": 4,
    "start_time": "2022-04-05T15:17:44.861Z"
   },
   {
    "duration": 5,
    "start_time": "2022-04-05T15:17:44.867Z"
   },
   {
    "duration": 44,
    "start_time": "2022-04-05T15:17:44.874Z"
   },
   {
    "duration": 9,
    "start_time": "2022-04-05T15:17:44.920Z"
   },
   {
    "duration": 25,
    "start_time": "2022-04-05T15:17:44.932Z"
   },
   {
    "duration": 9,
    "start_time": "2022-04-05T15:17:44.958Z"
   },
   {
    "duration": 7,
    "start_time": "2022-04-05T15:17:44.969Z"
   },
   {
    "duration": 15,
    "start_time": "2022-04-05T15:17:44.978Z"
   },
   {
    "duration": 23,
    "start_time": "2022-04-05T15:17:44.994Z"
   },
   {
    "duration": 15,
    "start_time": "2022-04-05T15:17:45.018Z"
   },
   {
    "duration": 5,
    "start_time": "2022-04-05T15:17:45.037Z"
   },
   {
    "duration": 23,
    "start_time": "2022-04-05T15:17:45.044Z"
   },
   {
    "duration": 12,
    "start_time": "2022-04-05T15:17:45.069Z"
   },
   {
    "duration": 11,
    "start_time": "2022-04-05T15:17:45.083Z"
   },
   {
    "duration": 7,
    "start_time": "2022-04-05T15:17:45.096Z"
   },
   {
    "duration": 7,
    "start_time": "2022-04-05T15:17:45.132Z"
   },
   {
    "duration": 20,
    "start_time": "2022-04-05T15:17:45.142Z"
   },
   {
    "duration": 13,
    "start_time": "2022-04-05T15:17:45.163Z"
   },
   {
    "duration": 18,
    "start_time": "2022-04-05T15:17:45.177Z"
   },
   {
    "duration": 8,
    "start_time": "2022-04-05T15:17:45.196Z"
   },
   {
    "duration": 10,
    "start_time": "2022-04-05T15:17:45.232Z"
   },
   {
    "duration": 17,
    "start_time": "2022-04-05T15:17:45.244Z"
   },
   {
    "duration": 171,
    "start_time": "2022-04-05T15:17:45.262Z"
   },
   {
    "duration": 132,
    "start_time": "2022-04-05T15:17:45.435Z"
   },
   {
    "duration": 12,
    "start_time": "2022-04-05T15:17:45.569Z"
   },
   {
    "duration": 8,
    "start_time": "2022-04-05T15:17:45.582Z"
   },
   {
    "duration": 210,
    "start_time": "2022-04-05T15:17:45.591Z"
   },
   {
    "duration": 202,
    "start_time": "2022-04-05T15:17:45.802Z"
   },
   {
    "duration": 353,
    "start_time": "2022-04-05T15:17:46.008Z"
   },
   {
    "duration": 6,
    "start_time": "2022-04-05T15:17:46.362Z"
   },
   {
    "duration": 201,
    "start_time": "2022-04-05T15:17:46.370Z"
   },
   {
    "duration": 296,
    "start_time": "2022-04-05T15:17:46.572Z"
   },
   {
    "duration": 8,
    "start_time": "2022-04-05T15:17:46.870Z"
   },
   {
    "duration": 114,
    "start_time": "2022-04-05T15:17:46.879Z"
   },
   {
    "duration": 225,
    "start_time": "2022-04-05T15:17:46.994Z"
   },
   {
    "duration": 12,
    "start_time": "2022-04-05T15:17:47.221Z"
   },
   {
    "duration": 168,
    "start_time": "2022-04-05T15:17:47.235Z"
   },
   {
    "duration": 133,
    "start_time": "2022-04-05T15:17:47.404Z"
   },
   {
    "duration": 8,
    "start_time": "2022-04-05T15:17:47.539Z"
   },
   {
    "duration": 107,
    "start_time": "2022-04-05T15:17:47.549Z"
   },
   {
    "duration": 119,
    "start_time": "2022-04-05T15:17:47.657Z"
   },
   {
    "duration": 30,
    "start_time": "2022-04-05T15:17:47.778Z"
   },
   {
    "duration": 164,
    "start_time": "2022-04-05T15:17:47.810Z"
   },
   {
    "duration": 6,
    "start_time": "2022-04-05T15:17:47.976Z"
   },
   {
    "duration": 50,
    "start_time": "2022-04-05T15:17:47.984Z"
   },
   {
    "duration": 20,
    "start_time": "2022-04-05T15:17:48.037Z"
   },
   {
    "duration": 15,
    "start_time": "2022-04-05T15:17:48.059Z"
   },
   {
    "duration": 11,
    "start_time": "2022-04-05T15:17:48.076Z"
   },
   {
    "duration": 9,
    "start_time": "2022-04-05T15:17:48.089Z"
   },
   {
    "duration": 81,
    "start_time": "2022-04-05T15:17:48.099Z"
   },
   {
    "duration": 15,
    "start_time": "2022-04-05T15:17:48.181Z"
   },
   {
    "duration": 1175,
    "start_time": "2022-04-05T15:18:53.671Z"
   },
   {
    "duration": 4,
    "start_time": "2022-04-05T15:18:54.848Z"
   },
   {
    "duration": 39,
    "start_time": "2022-04-05T15:18:54.854Z"
   },
   {
    "duration": 11,
    "start_time": "2022-04-05T15:18:54.895Z"
   },
   {
    "duration": 19,
    "start_time": "2022-04-05T15:18:54.908Z"
   },
   {
    "duration": 9,
    "start_time": "2022-04-05T15:18:54.929Z"
   },
   {
    "duration": 16,
    "start_time": "2022-04-05T15:18:54.940Z"
   },
   {
    "duration": 14,
    "start_time": "2022-04-05T15:18:54.958Z"
   },
   {
    "duration": 14,
    "start_time": "2022-04-05T15:18:54.974Z"
   },
   {
    "duration": 10,
    "start_time": "2022-04-05T15:18:54.991Z"
   },
   {
    "duration": 3,
    "start_time": "2022-04-05T15:18:55.003Z"
   },
   {
    "duration": 28,
    "start_time": "2022-04-05T15:18:55.008Z"
   },
   {
    "duration": 22,
    "start_time": "2022-04-05T15:18:55.038Z"
   },
   {
    "duration": 10,
    "start_time": "2022-04-05T15:18:55.061Z"
   },
   {
    "duration": 10,
    "start_time": "2022-04-05T15:18:55.072Z"
   },
   {
    "duration": 6,
    "start_time": "2022-04-05T15:18:55.083Z"
   },
   {
    "duration": 13,
    "start_time": "2022-04-05T15:18:55.090Z"
   },
   {
    "duration": 29,
    "start_time": "2022-04-05T15:18:55.105Z"
   },
   {
    "duration": 59,
    "start_time": "2022-04-05T15:18:55.136Z"
   },
   {
    "duration": 7,
    "start_time": "2022-04-05T15:18:55.196Z"
   },
   {
    "duration": 28,
    "start_time": "2022-04-05T15:18:55.205Z"
   },
   {
    "duration": 9,
    "start_time": "2022-04-05T15:18:55.235Z"
   },
   {
    "duration": 178,
    "start_time": "2022-04-05T15:18:55.246Z"
   },
   {
    "duration": 137,
    "start_time": "2022-04-05T15:18:55.426Z"
   },
   {
    "duration": 12,
    "start_time": "2022-04-05T15:18:55.565Z"
   },
   {
    "duration": 7,
    "start_time": "2022-04-05T15:18:55.579Z"
   },
   {
    "duration": 291,
    "start_time": "2022-04-05T15:18:55.588Z"
   },
   {
    "duration": 221,
    "start_time": "2022-04-05T15:18:55.883Z"
   },
   {
    "duration": 342,
    "start_time": "2022-04-05T15:18:56.106Z"
   },
   {
    "duration": 5,
    "start_time": "2022-04-05T15:18:56.450Z"
   },
   {
    "duration": 196,
    "start_time": "2022-04-05T15:18:56.457Z"
   },
   {
    "duration": 326,
    "start_time": "2022-04-05T15:18:56.654Z"
   },
   {
    "duration": 10,
    "start_time": "2022-04-05T15:18:56.982Z"
   },
   {
    "duration": 124,
    "start_time": "2022-04-05T15:18:56.994Z"
   },
   {
    "duration": 201,
    "start_time": "2022-04-05T15:18:57.121Z"
   },
   {
    "duration": 17,
    "start_time": "2022-04-05T15:18:57.323Z"
   },
   {
    "duration": 176,
    "start_time": "2022-04-05T15:18:57.342Z"
   },
   {
    "duration": 141,
    "start_time": "2022-04-05T15:18:57.519Z"
   },
   {
    "duration": 5,
    "start_time": "2022-04-05T15:18:57.661Z"
   },
   {
    "duration": 108,
    "start_time": "2022-04-05T15:18:57.668Z"
   },
   {
    "duration": 123,
    "start_time": "2022-04-05T15:18:57.778Z"
   },
   {
    "duration": 45,
    "start_time": "2022-04-05T15:18:57.903Z"
   },
   {
    "duration": 149,
    "start_time": "2022-04-05T15:18:57.950Z"
   },
   {
    "duration": 7,
    "start_time": "2022-04-05T15:18:58.100Z"
   },
   {
    "duration": 64,
    "start_time": "2022-04-05T15:18:58.108Z"
   },
   {
    "duration": 10,
    "start_time": "2022-04-05T15:18:58.173Z"
   },
   {
    "duration": 15,
    "start_time": "2022-04-05T15:18:58.185Z"
   },
   {
    "duration": 32,
    "start_time": "2022-04-05T15:18:58.202Z"
   },
   {
    "duration": 12,
    "start_time": "2022-04-05T15:18:58.237Z"
   },
   {
    "duration": 43,
    "start_time": "2022-04-05T15:18:58.251Z"
   },
   {
    "duration": 44,
    "start_time": "2022-04-05T15:18:58.296Z"
   },
   {
    "duration": 1366,
    "start_time": "2022-04-06T08:27:49.196Z"
   },
   {
    "duration": 3,
    "start_time": "2022-04-06T08:27:54.672Z"
   },
   {
    "duration": 40,
    "start_time": "2022-04-06T08:27:58.176Z"
   },
   {
    "duration": 16,
    "start_time": "2022-04-06T08:28:00.112Z"
   },
   {
    "duration": 14,
    "start_time": "2022-04-06T08:28:02.065Z"
   },
   {
    "duration": 6,
    "start_time": "2022-04-06T08:28:06.592Z"
   },
   {
    "duration": 5,
    "start_time": "2022-04-06T08:29:10.131Z"
   },
   {
    "duration": 13,
    "start_time": "2022-04-06T08:29:13.714Z"
   },
   {
    "duration": 9,
    "start_time": "2022-04-06T08:29:15.027Z"
   },
   {
    "duration": 7,
    "start_time": "2022-04-06T08:29:16.145Z"
   },
   {
    "duration": 3,
    "start_time": "2022-04-06T08:29:16.993Z"
   },
   {
    "duration": 13,
    "start_time": "2022-04-06T08:29:18.032Z"
   },
   {
    "duration": 11,
    "start_time": "2022-04-06T08:29:19.889Z"
   },
   {
    "duration": 8,
    "start_time": "2022-04-06T08:29:20.289Z"
   },
   {
    "duration": 6,
    "start_time": "2022-04-06T08:29:21.601Z"
   },
   {
    "duration": 4,
    "start_time": "2022-04-06T08:29:22.593Z"
   },
   {
    "duration": 12,
    "start_time": "2022-04-06T08:29:28.194Z"
   },
   {
    "duration": 12,
    "start_time": "2022-04-06T08:29:32.481Z"
   },
   {
    "duration": 60,
    "start_time": "2022-04-06T08:29:34.210Z"
   },
   {
    "duration": 6,
    "start_time": "2022-04-06T08:29:40.962Z"
   },
   {
    "duration": 6,
    "start_time": "2022-04-06T08:29:42.882Z"
   },
   {
    "duration": 6,
    "start_time": "2022-04-06T08:33:04.963Z"
   },
   {
    "duration": 172,
    "start_time": "2022-04-06T08:33:05.907Z"
   },
   {
    "duration": 123,
    "start_time": "2022-04-06T08:33:07.027Z"
   },
   {
    "duration": 13,
    "start_time": "2022-04-06T08:33:08.060Z"
   },
   {
    "duration": 10,
    "start_time": "2022-04-06T08:33:09.715Z"
   },
   {
    "duration": 324,
    "start_time": "2022-04-06T08:33:10.117Z"
   },
   {
    "duration": 218,
    "start_time": "2022-04-06T08:33:16.949Z"
   },
   {
    "duration": 374,
    "start_time": "2022-04-06T08:33:19.604Z"
   },
   {
    "duration": 292,
    "start_time": "2022-04-06T08:33:36.965Z"
   },
   {
    "duration": 323,
    "start_time": "2022-04-06T08:33:49.141Z"
   },
   {
    "duration": 5,
    "start_time": "2022-04-06T08:34:58.870Z"
   },
   {
    "duration": 212,
    "start_time": "2022-04-06T08:34:59.253Z"
   },
   {
    "duration": 411,
    "start_time": "2022-04-06T08:35:14.982Z"
   },
   {
    "duration": 338,
    "start_time": "2022-04-06T08:35:34.719Z"
   },
   {
    "duration": 78,
    "start_time": "2022-04-06T08:36:54.663Z"
   },
   {
    "duration": 8,
    "start_time": "2022-04-06T08:37:08.928Z"
   },
   {
    "duration": 130,
    "start_time": "2022-04-06T08:37:11.799Z"
   },
   {
    "duration": 126,
    "start_time": "2022-04-06T08:37:13.671Z"
   },
   {
    "duration": 4,
    "start_time": "2022-04-06T08:37:17.495Z"
   },
   {
    "duration": 189,
    "start_time": "2022-04-06T08:37:20.775Z"
   },
   {
    "duration": 157,
    "start_time": "2022-04-06T08:37:21.303Z"
   },
   {
    "duration": 132,
    "start_time": "2022-04-06T08:37:59.656Z"
   },
   {
    "duration": 135,
    "start_time": "2022-04-06T08:38:07.384Z"
   },
   {
    "duration": 140,
    "start_time": "2022-04-06T08:38:11.831Z"
   },
   {
    "duration": 156,
    "start_time": "2022-04-06T08:38:15.208Z"
   },
   {
    "duration": 137,
    "start_time": "2022-04-06T08:38:20.423Z"
   },
   {
    "duration": 4,
    "start_time": "2022-04-06T08:40:01.576Z"
   },
   {
    "duration": 5,
    "start_time": "2022-04-06T08:41:50.905Z"
   },
   {
    "duration": 170,
    "start_time": "2022-04-06T08:41:55.512Z"
   },
   {
    "duration": 120,
    "start_time": "2022-04-06T08:41:56.457Z"
   },
   {
    "duration": 29,
    "start_time": "2022-04-06T08:41:57.233Z"
   },
   {
    "duration": 149,
    "start_time": "2022-04-06T08:42:05.928Z"
   },
   {
    "duration": 6,
    "start_time": "2022-04-06T08:42:07.066Z"
   },
   {
    "duration": 47,
    "start_time": "2022-04-06T08:42:07.818Z"
   },
   {
    "duration": 6,
    "start_time": "2022-04-06T08:42:36.179Z"
   },
   {
    "duration": 48,
    "start_time": "2022-04-06T08:42:38.441Z"
   },
   {
    "duration": 12,
    "start_time": "2022-04-06T08:42:42.617Z"
   },
   {
    "duration": 15,
    "start_time": "2022-04-06T08:43:11.066Z"
   },
   {
    "duration": 11,
    "start_time": "2022-04-06T08:43:53.754Z"
   },
   {
    "duration": 8,
    "start_time": "2022-04-06T08:43:55.866Z"
   },
   {
    "duration": 43,
    "start_time": "2022-04-06T08:44:02.219Z"
   },
   {
    "duration": 14,
    "start_time": "2022-04-06T08:44:04.985Z"
   },
   {
    "duration": 155,
    "start_time": "2022-04-06T08:45:46.900Z"
   },
   {
    "duration": 1237,
    "start_time": "2022-04-06T14:28:06.899Z"
   },
   {
    "duration": 3,
    "start_time": "2022-04-06T14:28:08.138Z"
   },
   {
    "duration": 45,
    "start_time": "2022-04-06T14:28:08.143Z"
   },
   {
    "duration": 11,
    "start_time": "2022-04-06T14:28:08.190Z"
   },
   {
    "duration": 36,
    "start_time": "2022-04-06T14:28:08.202Z"
   },
   {
    "duration": 6,
    "start_time": "2022-04-06T14:28:08.239Z"
   },
   {
    "duration": 18,
    "start_time": "2022-04-06T14:28:08.246Z"
   },
   {
    "duration": 14,
    "start_time": "2022-04-06T14:28:08.266Z"
   },
   {
    "duration": 23,
    "start_time": "2022-04-06T14:28:08.281Z"
   },
   {
    "duration": 13,
    "start_time": "2022-04-06T14:28:08.306Z"
   },
   {
    "duration": 11,
    "start_time": "2022-04-06T14:28:08.320Z"
   },
   {
    "duration": 15,
    "start_time": "2022-04-06T14:28:08.332Z"
   },
   {
    "duration": 19,
    "start_time": "2022-04-06T14:28:08.348Z"
   },
   {
    "duration": 9,
    "start_time": "2022-04-06T14:28:08.369Z"
   },
   {
    "duration": 22,
    "start_time": "2022-04-06T14:28:08.379Z"
   },
   {
    "duration": 18,
    "start_time": "2022-04-06T14:28:08.403Z"
   },
   {
    "duration": 15,
    "start_time": "2022-04-06T14:28:08.422Z"
   },
   {
    "duration": 12,
    "start_time": "2022-04-06T14:28:08.438Z"
   },
   {
    "duration": 64,
    "start_time": "2022-04-06T14:28:08.451Z"
   },
   {
    "duration": 6,
    "start_time": "2022-04-06T14:28:08.516Z"
   },
   {
    "duration": 20,
    "start_time": "2022-04-06T14:28:08.523Z"
   },
   {
    "duration": 6,
    "start_time": "2022-04-06T14:28:08.544Z"
   },
   {
    "duration": 150,
    "start_time": "2022-04-06T14:28:08.551Z"
   },
   {
    "duration": 111,
    "start_time": "2022-04-06T14:28:08.703Z"
   },
   {
    "duration": 11,
    "start_time": "2022-04-06T14:28:08.816Z"
   },
   {
    "duration": 16,
    "start_time": "2022-04-06T14:28:08.829Z"
   },
   {
    "duration": 257,
    "start_time": "2022-04-06T14:28:08.846Z"
   },
   {
    "duration": 175,
    "start_time": "2022-04-06T14:28:09.106Z"
   },
   {
    "duration": 313,
    "start_time": "2022-04-06T14:28:09.282Z"
   },
   {
    "duration": 5,
    "start_time": "2022-04-06T14:28:09.597Z"
   },
   {
    "duration": 170,
    "start_time": "2022-04-06T14:28:09.603Z"
   },
   {
    "duration": 297,
    "start_time": "2022-04-06T14:28:09.775Z"
   },
   {
    "duration": 8,
    "start_time": "2022-04-06T14:28:10.074Z"
   },
   {
    "duration": 181,
    "start_time": "2022-04-06T14:28:10.083Z"
   },
   {
    "duration": 108,
    "start_time": "2022-04-06T14:28:10.266Z"
   },
   {
    "duration": 3,
    "start_time": "2022-04-06T14:28:10.376Z"
   },
   {
    "duration": 152,
    "start_time": "2022-04-06T14:28:10.380Z"
   },
   {
    "duration": 110,
    "start_time": "2022-04-06T14:28:10.534Z"
   },
   {
    "duration": 119,
    "start_time": "2022-04-06T14:28:10.646Z"
   },
   {
    "duration": 3,
    "start_time": "2022-04-06T14:28:10.767Z"
   },
   {
    "duration": 93,
    "start_time": "2022-04-06T14:28:10.772Z"
   },
   {
    "duration": 121,
    "start_time": "2022-04-06T14:28:10.867Z"
   },
   {
    "duration": 30,
    "start_time": "2022-04-06T14:28:10.990Z"
   },
   {
    "duration": 134,
    "start_time": "2022-04-06T14:28:11.022Z"
   },
   {
    "duration": 6,
    "start_time": "2022-04-06T14:28:11.162Z"
   },
   {
    "duration": 68,
    "start_time": "2022-04-06T14:28:11.169Z"
   },
   {
    "duration": 9,
    "start_time": "2022-04-06T14:28:11.239Z"
   },
   {
    "duration": 25,
    "start_time": "2022-04-06T14:28:11.249Z"
   },
   {
    "duration": 27,
    "start_time": "2022-04-06T14:28:11.275Z"
   },
   {
    "duration": 37,
    "start_time": "2022-04-06T14:28:11.304Z"
   },
   {
    "duration": 46,
    "start_time": "2022-04-06T14:28:11.342Z"
   },
   {
    "duration": 15,
    "start_time": "2022-04-06T14:28:11.389Z"
   },
   {
    "duration": 2357,
    "start_time": "2022-04-06T14:41:48.964Z"
   },
   {
    "duration": 2057,
    "start_time": "2022-04-06T14:43:08.041Z"
   },
   {
    "duration": 7,
    "start_time": "2022-04-06T14:43:56.306Z"
   },
   {
    "duration": 5,
    "start_time": "2022-04-06T14:44:11.404Z"
   },
   {
    "duration": 7,
    "start_time": "2022-04-06T14:44:14.123Z"
   },
   {
    "duration": 5,
    "start_time": "2022-04-06T14:44:27.541Z"
   }
  ],
  "kernelspec": {
   "display_name": "Python 3",
   "language": "python",
   "name": "python3"
  },
  "language_info": {
   "codemirror_mode": {
    "name": "ipython",
    "version": 3
   },
   "file_extension": ".py",
   "mimetype": "text/x-python",
   "name": "python",
   "nbconvert_exporter": "python",
   "pygments_lexer": "ipython3",
   "version": "3.8.5"
  },
  "toc": {
   "base_numbering": 1,
   "nav_menu": {},
   "number_sections": true,
   "sideBar": true,
   "skip_h1_title": true,
   "title_cell": "Table of Contents",
   "title_sidebar": "Contents",
   "toc_cell": false,
   "toc_position": {},
   "toc_section_display": true,
   "toc_window_display": false
  }
 },
 "nbformat": 4,
 "nbformat_minor": 2
}
