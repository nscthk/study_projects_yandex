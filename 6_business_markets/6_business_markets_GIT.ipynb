{
 "cells": [
  {
   "cell_type": "markdown",
   "metadata": {},
   "source": [
    "# Проектная работа"
   ]
  },
  {
   "cell_type": "markdown",
   "metadata": {},
   "source": [
    "**Цель** - Подготовить исследование рынка объектов общественного питания (в дальнейшем ООП) в Москве для того, чтобы понять нужно ли открывать \"робокафе\", где и с какими вводными его лучше открыть\n"
   ]
  },
  {
   "cell_type": "markdown",
   "metadata": {},
   "source": [
    "## Импорт библиотек"
   ]
  },
  {
   "cell_type": "code",
   "execution_count": 1,
   "metadata": {},
   "outputs": [],
   "source": [
    "import pandas as pd\n",
    "import numpy as np\n",
    "import matplotlib.pyplot as plt\n",
    "import seaborn as sns\n",
    "import warnings\n",
    "warnings.filterwarnings(\"ignore\")"
   ]
  },
  {
   "cell_type": "code",
   "execution_count": 2,
   "metadata": {},
   "outputs": [],
   "source": [
    "# Задание палетки и темы для графиков\n",
    "\n",
    "sns.set_theme(style=\"whitegrid\", palette=\"pastel\") "
   ]
  },
  {
   "cell_type": "markdown",
   "metadata": {},
   "source": [
    "## Задание пользовательских функций"
   ]
  },
  {
   "cell_type": "code",
   "execution_count": 3,
   "metadata": {},
   "outputs": [],
   "source": [
    "def df_check(df):\n",
    "    # функция для проверки количества дубликатов в датафрейме \n",
    "    # и количества пропусков по столбцам\n",
    "    print(f'Количество дубликатов в датафрейме равно {df.duplicated().sum()}')\n",
    "    print('Пропуски в датафрейме:')\n",
    "    print(df.isna().sum())"
   ]
  },
  {
   "cell_type": "markdown",
   "metadata": {},
   "source": [
    "## Предобработка данных"
   ]
  },
  {
   "cell_type": "markdown",
   "metadata": {},
   "source": [
    "Для начала посмотрим на наш датасет"
   ]
  },
  {
   "cell_type": "code",
   "execution_count": 4,
   "metadata": {},
   "outputs": [],
   "source": [
    "test_data = pd.read_csv('rest_data.csv')"
   ]
  },
  {
   "cell_type": "code",
   "execution_count": 5,
   "metadata": {
    "scrolled": true
   },
   "outputs": [
    {
     "name": "stdout",
     "output_type": "stream",
     "text": [
      "<class 'pandas.core.frame.DataFrame'>\n",
      "RangeIndex: 15366 entries, 0 to 15365\n",
      "Data columns (total 6 columns):\n",
      " #   Column       Non-Null Count  Dtype \n",
      "---  ------       --------------  ----- \n",
      " 0   id           15366 non-null  int64 \n",
      " 1   object_name  15366 non-null  object\n",
      " 2   chain        15366 non-null  object\n",
      " 3   object_type  15366 non-null  object\n",
      " 4   address      15366 non-null  object\n",
      " 5   number       15366 non-null  int64 \n",
      "dtypes: int64(2), object(4)\n",
      "memory usage: 720.4+ KB\n"
     ]
    }
   ],
   "source": [
    "test_data.info()"
   ]
  },
  {
   "cell_type": "code",
   "execution_count": 6,
   "metadata": {},
   "outputs": [
    {
     "data": {
      "text/html": [
       "<div>\n",
       "<style scoped>\n",
       "    .dataframe tbody tr th:only-of-type {\n",
       "        vertical-align: middle;\n",
       "    }\n",
       "\n",
       "    .dataframe tbody tr th {\n",
       "        vertical-align: top;\n",
       "    }\n",
       "\n",
       "    .dataframe thead th {\n",
       "        text-align: right;\n",
       "    }\n",
       "</style>\n",
       "<table border=\"1\" class=\"dataframe\">\n",
       "  <thead>\n",
       "    <tr style=\"text-align: right;\">\n",
       "      <th></th>\n",
       "      <th>id</th>\n",
       "      <th>object_name</th>\n",
       "      <th>chain</th>\n",
       "      <th>object_type</th>\n",
       "      <th>address</th>\n",
       "      <th>number</th>\n",
       "    </tr>\n",
       "  </thead>\n",
       "  <tbody>\n",
       "    <tr>\n",
       "      <th>2973</th>\n",
       "      <td>22736</td>\n",
       "      <td>Луна</td>\n",
       "      <td>нет</td>\n",
       "      <td>кафе</td>\n",
       "      <td>город Москва, Михалковская улица, дом 38, стро...</td>\n",
       "      <td>40</td>\n",
       "    </tr>\n",
       "    <tr>\n",
       "      <th>2593</th>\n",
       "      <td>29065</td>\n",
       "      <td>Столовая ГБОУ 45 Гимназия имени Л.И. Мильграмма</td>\n",
       "      <td>нет</td>\n",
       "      <td>столовая</td>\n",
       "      <td>город Москва, улица Гримау, дом 8</td>\n",
       "      <td>300</td>\n",
       "    </tr>\n",
       "    <tr>\n",
       "      <th>6737</th>\n",
       "      <td>23349</td>\n",
       "      <td>Столовая ГБОУ СОШ № 1900</td>\n",
       "      <td>нет</td>\n",
       "      <td>столовая</td>\n",
       "      <td>город Москва, Дубравная улица, дом 41, корпус 4</td>\n",
       "      <td>240</td>\n",
       "    </tr>\n",
       "    <tr>\n",
       "      <th>14940</th>\n",
       "      <td>222539</td>\n",
       "      <td>Holy Vegan</td>\n",
       "      <td>нет</td>\n",
       "      <td>кафе</td>\n",
       "      <td>город Москва, Ходынский бульвар, дом 4</td>\n",
       "      <td>0</td>\n",
       "    </tr>\n",
       "    <tr>\n",
       "      <th>4088</th>\n",
       "      <td>26585</td>\n",
       "      <td>Ресторан «Очаг гурманов»</td>\n",
       "      <td>нет</td>\n",
       "      <td>ресторан</td>\n",
       "      <td>город Москва, Каширское шоссе, дом 51, корпус 3</td>\n",
       "      <td>42</td>\n",
       "    </tr>\n",
       "  </tbody>\n",
       "</table>\n",
       "</div>"
      ],
      "text/plain": [
       "           id                                      object_name chain  \\\n",
       "2973    22736                                             Луна   нет   \n",
       "2593    29065  Столовая ГБОУ 45 Гимназия имени Л.И. Мильграмма   нет   \n",
       "6737    23349                         Столовая ГБОУ СОШ № 1900   нет   \n",
       "14940  222539                                       Holy Vegan   нет   \n",
       "4088    26585                         Ресторан «Очаг гурманов»   нет   \n",
       "\n",
       "      object_type                                            address  number  \n",
       "2973         кафе  город Москва, Михалковская улица, дом 38, стро...      40  \n",
       "2593     столовая                  город Москва, улица Гримау, дом 8     300  \n",
       "6737     столовая    город Москва, Дубравная улица, дом 41, корпус 4     240  \n",
       "14940        кафе             город Москва, Ходынский бульвар, дом 4       0  \n",
       "4088     ресторан    город Москва, Каширское шоссе, дом 51, корпус 3      42  "
      ]
     },
     "execution_count": 6,
     "metadata": {},
     "output_type": "execute_result"
    }
   ],
   "source": [
    "test_data.sample(5, random_state=1)"
   ]
  },
  {
   "cell_type": "markdown",
   "metadata": {},
   "source": [
    "В датасете содержатся следующие данные:\n",
    "1. Столбец **id** - идентификатор объекта ООП, формат int64\n",
    "2. Столбец **object_name** -  название объекта общественного питания, формат object\n",
    "3. Столбец **chain** -является ли ресторан сетевым, формат object\n",
    "4. Столбец **object_type** - тип ООП, формат object\n",
    "5. Столбец **address** - адрес ООП, формат object\n",
    "6. Столбец **number** - количество посадочных мест, формат int64"
   ]
  },
  {
   "cell_type": "markdown",
   "metadata": {},
   "source": [
    "### Пропуски и дубликаты"
   ]
  },
  {
   "cell_type": "markdown",
   "metadata": {},
   "source": [
    "На первый взгляд исходя из info пропусков данных нет. Убедимся в отсутствии пропускоы и дубликатов, воспользовавшись пользовательской функцией **df_check**"
   ]
  },
  {
   "cell_type": "code",
   "execution_count": 7,
   "metadata": {},
   "outputs": [
    {
     "name": "stdout",
     "output_type": "stream",
     "text": [
      "Количество дубликатов в датафрейме равно 0\n",
      "Пропуски в датафрейме:\n",
      "id             0\n",
      "object_name    0\n",
      "chain          0\n",
      "object_type    0\n",
      "address        0\n",
      "number         0\n",
      "dtype: int64\n"
     ]
    }
   ],
   "source": [
    "df_check(test_data)"
   ]
  },
  {
   "cell_type": "markdown",
   "metadata": {},
   "source": [
    "Явные дубликаты и пропуски отсутствуют. Проверим какие значения хранятся в столбцах **chain** и **object_type** (там могут неявные дубликты и опечатки)"
   ]
  },
  {
   "cell_type": "code",
   "execution_count": 8,
   "metadata": {
    "scrolled": true
   },
   "outputs": [
    {
     "data": {
      "text/plain": [
       "нет    12398\n",
       "да      2968\n",
       "Name: chain, dtype: int64"
      ]
     },
     "execution_count": 8,
     "metadata": {},
     "output_type": "execute_result"
    }
   ],
   "source": [
    "test_data['chain'].value_counts()"
   ]
  },
  {
   "cell_type": "code",
   "execution_count": 9,
   "metadata": {},
   "outputs": [
    {
     "data": {
      "text/plain": [
       "кафе                                 6099\n",
       "столовая                             2587\n",
       "ресторан                             2285\n",
       "предприятие быстрого обслуживания    1923\n",
       "бар                                   856\n",
       "буфет                                 585\n",
       "кафетерий                             398\n",
       "закусочная                            360\n",
       "магазин (отдел кулинарии)             273\n",
       "Name: object_type, dtype: int64"
      ]
     },
     "execution_count": 9,
     "metadata": {},
     "output_type": "execute_result"
    }
   ],
   "source": [
    "test_data['object_type'].value_counts()"
   ]
  },
  {
   "cell_type": "markdown",
   "metadata": {},
   "source": [
    "Неявных дубликатов нет, все названия написаны с маленькой буквы, что устраивает нас для дальнейшего исследования"
   ]
  },
  {
   "cell_type": "markdown",
   "metadata": {},
   "source": [
    "### Переименование столбцов"
   ]
  },
  {
   "cell_type": "markdown",
   "metadata": {},
   "source": [
    "Переименуем столбец **seats** так, чтобы он имел название, отражающее количество посадочных мест"
   ]
  },
  {
   "cell_type": "code",
   "execution_count": 10,
   "metadata": {},
   "outputs": [],
   "source": [
    "test_data = test_data.rename(columns={'number':'seats'})"
   ]
  },
  {
   "cell_type": "markdown",
   "metadata": {},
   "source": [
    "### Работа с неявными дубликатами"
   ]
  },
  {
   "cell_type": "markdown",
   "metadata": {},
   "source": [
    "Солбец **object_name** приведем к нижнему регистру, так, как некоторые названия записаны в верхнем, это избавит нас от множества сущностей"
   ]
  },
  {
   "cell_type": "code",
   "execution_count": 11,
   "metadata": {},
   "outputs": [],
   "source": [
    "test_data['object_name'] = test_data['object_name'].str.lower()"
   ]
  },
  {
   "cell_type": "markdown",
   "metadata": {},
   "source": [
    "Также заметно, что в столбце **object_name** некоторые названия записаны по разному, например макдональдс. Сложно найти все такие неявные дубликаты, приведем к одной сущности самые часто повторяющиеся"
   ]
  },
  {
   "cell_type": "code",
   "execution_count": 12,
   "metadata": {},
   "outputs": [
    {
     "data": {
      "text/plain": [
       "object_name\n",
       "столовая                                                       321\n",
       "кафе                                                           278\n",
       "шаурма                                                         250\n",
       "шоколадница                                                    158\n",
       "kfc                                                            155\n",
       "                                                              ... \n",
       "православный центр образования святителя николая чудотворца      1\n",
       "правда кафе                                                      1\n",
       "правdа кафе                                                      1\n",
       "ппк пропиком                                                     1\n",
       "1-й мок                                                          1\n",
       "Name: id, Length: 9924, dtype: int64"
      ]
     },
     "execution_count": 12,
     "metadata": {},
     "output_type": "execute_result"
    }
   ],
   "source": [
    "test_data.groupby('object_name')['id'].count().sort_values(ascending=False)"
   ]
  },
  {
   "cell_type": "code",
   "execution_count": 13,
   "metadata": {},
   "outputs": [
    {
     "data": {
      "text/plain": [
       "array(['макдоналдс', 'ресторан «макдоналдс»',\n",
       "       'предприятие быстрого обслуживания «макдоналдс»',\n",
       "       'москва - макдоналдс', 'кафе макдоналдс', 'кафе «макдоналдс»',\n",
       "       'ресторан«макдоналдс»'], dtype=object)"
      ]
     },
     "execution_count": 13,
     "metadata": {},
     "output_type": "execute_result"
    }
   ],
   "source": [
    "# считаем количество неявных дубликатов\n",
    "test_data['object_name'][test_data['object_name'].str.contains('Макдон', case=False)].unique()"
   ]
  },
  {
   "cell_type": "code",
   "execution_count": 14,
   "metadata": {},
   "outputs": [
    {
     "data": {
      "text/plain": [
       "array(['макдоналдс'], dtype=object)"
      ]
     },
     "execution_count": 14,
     "metadata": {},
     "output_type": "execute_result"
    }
   ],
   "source": [
    "# заменяем строки с неявными дубликатами\n",
    "test_data['object_name'] = test_data['object_name'].str.replace(r'(^.*макдон.*$)', 'макдоналдс')\n",
    "test_data['object_name'][test_data['object_name'].str.contains('Макдон', case=False)].unique()"
   ]
  },
  {
   "cell_type": "code",
   "execution_count": 15,
   "metadata": {},
   "outputs": [
    {
     "data": {
      "text/plain": [
       "array(['kfc', 'кафе «kfc»', 'ростикс kfc', 'закусочная kfc',\n",
       "       'kfc волгоградский', 'кафе kfc', 'пбо «kfc покрышкина»', 'kfc.',\n",
       "       'предприятие быстрого обслуживания «kfc»', 'закусочная «kfc»',\n",
       "       'ресторан kfc', 'пбо «kfc»', 'ресторан «kfc»', 'fridays kfc',\n",
       "       'ресторан быстрого питания kfc'], dtype=object)"
      ]
     },
     "execution_count": 15,
     "metadata": {},
     "output_type": "execute_result"
    }
   ],
   "source": [
    "test_data['object_name'][test_data['object_name'].str.contains('kfc', case=False)].unique()"
   ]
  },
  {
   "cell_type": "code",
   "execution_count": 16,
   "metadata": {},
   "outputs": [
    {
     "data": {
      "text/plain": [
       "array(['макдоналдс'], dtype=object)"
      ]
     },
     "execution_count": 16,
     "metadata": {},
     "output_type": "execute_result"
    }
   ],
   "source": [
    "test_data['object_name'] = test_data['object_name'].str.replace(r'(^.*kfc.*$)', 'kfc')\n",
    "test_data['object_name'][test_data['object_name'].str.contains('Макдон', case=False)].unique()"
   ]
  },
  {
   "cell_type": "code",
   "execution_count": 17,
   "metadata": {},
   "outputs": [
    {
     "data": {
      "text/plain": [
       "array(['шоколадница', 'шоколадница кофе хаус', 'кофейня «шоколадница»',\n",
       "       'кафе «шоколадница»', 'кофейня шоколадница',\n",
       "       'шоколадница экспресс', 'шоколадница кофемания'], dtype=object)"
      ]
     },
     "execution_count": 17,
     "metadata": {},
     "output_type": "execute_result"
    }
   ],
   "source": [
    "test_data['object_name'][test_data['object_name'].str.contains('шоколадница', case=False)].unique()"
   ]
  },
  {
   "cell_type": "code",
   "execution_count": 18,
   "metadata": {},
   "outputs": [
    {
     "data": {
      "text/plain": [
       "array(['шоколадница'], dtype=object)"
      ]
     },
     "execution_count": 18,
     "metadata": {},
     "output_type": "execute_result"
    }
   ],
   "source": [
    "test_data['object_name'] = test_data['object_name'].str.replace(r'(^.*шоколадница.*$)', 'шоколадница')\n",
    "test_data['object_name'][test_data['object_name'].str.contains('шоколадница', case=False)].unique()"
   ]
  },
  {
   "cell_type": "markdown",
   "metadata": {},
   "source": [
    "### Поиск и удаление строк дубликатов (но с разными id)"
   ]
  },
  {
   "cell_type": "markdown",
   "metadata": {},
   "source": [
    "Посмотрим на количество дубликатов в датафрейме и получим их индексы"
   ]
  },
  {
   "cell_type": "code",
   "execution_count": 19,
   "metadata": {},
   "outputs": [
    {
     "data": {
      "text/plain": [
       "85"
      ]
     },
     "execution_count": 19,
     "metadata": {},
     "output_type": "execute_result"
    }
   ],
   "source": [
    "test_data[['object_name', 'chain', 'object_type', 'address', 'seats']].duplicated().sum()"
   ]
  },
  {
   "cell_type": "markdown",
   "metadata": {},
   "source": [
    "Всего 82 строки повторяющие друг друга, за исключением id, я знаю что в Москве в одном торговом центре может быть 2 одинаковых заведения, например макдональдса, однако это случается крайне редко. Поэтому я приняла решение удалить данные дубликаты. Найдем индексы дубликатов и удалим их из датафрейма"
   ]
  },
  {
   "cell_type": "code",
   "execution_count": 20,
   "metadata": {},
   "outputs": [],
   "source": [
    "dupl_index = test_data[test_data[['object_name', 'chain', 'object_type', 'address', 'seats']].duplicated()].index\n"
   ]
  },
  {
   "cell_type": "code",
   "execution_count": 21,
   "metadata": {},
   "outputs": [
    {
     "name": "stdout",
     "output_type": "stream",
     "text": [
      "<class 'pandas.core.frame.DataFrame'>\n",
      "Int64Index: 15281 entries, 0 to 15365\n",
      "Data columns (total 6 columns):\n",
      " #   Column       Non-Null Count  Dtype \n",
      "---  ------       --------------  ----- \n",
      " 0   id           15281 non-null  int64 \n",
      " 1   object_name  15281 non-null  object\n",
      " 2   chain        15281 non-null  object\n",
      " 3   object_type  15281 non-null  object\n",
      " 4   address      15281 non-null  object\n",
      " 5   seats        15281 non-null  int64 \n",
      "dtypes: int64(2), object(4)\n",
      "memory usage: 835.7+ KB\n"
     ]
    }
   ],
   "source": [
    "test_data = test_data.drop(dupl_index)\n",
    "test_data.info()"
   ]
  },
  {
   "cell_type": "markdown",
   "metadata": {},
   "source": [
    "Удалили 85 строк дубликатов"
   ]
  },
  {
   "cell_type": "markdown",
   "metadata": {},
   "source": [
    "### Вывод\n",
    "В процессе знакомства с данными не было найдено проблем (дубликатов, пропусков и т.д.). Названия колонок написаны в стиле snake-case, удобно читаются и передают суть информации, лежащей в них, за исключением колонки с количеством посадочных мест, которая была переименована. Также столбец **object_name** был приведен к нижнему регистру и из него были убраны дубликаты по макдональдсу, kfc, шоколаднице. Также были удалены 85 полных дубликатов (но у них были разные id)"
   ]
  },
  {
   "cell_type": "markdown",
   "metadata": {},
   "source": [
    "## Анализ данных"
   ]
  },
  {
   "cell_type": "markdown",
   "metadata": {},
   "source": [
    "### Анализ объектов общественного питания по количеству"
   ]
  },
  {
   "cell_type": "markdown",
   "metadata": {},
   "source": [
    "Поскольку в нашем датасете всего 9 видов объектов общественного питания, то выберем в качестве визуализации столбчатую диаграмму и проанализируем её. Для начала сгруппируем данные по виду ООП и найдем количество заведений каждого вида."
   ]
  },
  {
   "cell_type": "code",
   "execution_count": 22,
   "metadata": {},
   "outputs": [],
   "source": [
    "oop_count = test_data.groupby('object_type')['id'].count().sort_values(ascending=False).reset_index()"
   ]
  },
  {
   "cell_type": "code",
   "execution_count": 23,
   "metadata": {},
   "outputs": [
    {
     "data": {
      "image/png": "[encoded data removed]",
      "text/plain": [
       "<Figure size 864x432 with 1 Axes>"
      ]
     },
     "metadata": {},
     "output_type": "display_data"
    }
   ],
   "source": [
    "# строим барплот, наводим красоту\n",
    "\n",
    "plt.figure(figsize=(12, 6)) \n",
    "ax = sns.barplot(x='object_type', y='id', data=oop_count)\n",
    "ax.set_title('Количество заведений общественного питания в зависимости от типа', fontsize=15)\n",
    "ax.set_xlabel('Типы общественных объектов питания', fontsize=15)\n",
    "ax.set_ylabel('Количество', fontsize=15)\n",
    "ax.set_xticklabels(ax.get_xticklabels(), rotation=20, horizontalalignment='right')\n",
    "\n",
    "plt.show()"
   ]
  },
  {
   "cell_type": "code",
   "execution_count": 24,
   "metadata": {},
   "outputs": [
    {
     "data": {
      "text/html": [
       "<div>\n",
       "<style scoped>\n",
       "    .dataframe tbody tr th:only-of-type {\n",
       "        vertical-align: middle;\n",
       "    }\n",
       "\n",
       "    .dataframe tbody tr th {\n",
       "        vertical-align: top;\n",
       "    }\n",
       "\n",
       "    .dataframe thead th {\n",
       "        text-align: right;\n",
       "    }\n",
       "</style>\n",
       "<table border=\"1\" class=\"dataframe\">\n",
       "  <thead>\n",
       "    <tr style=\"text-align: right;\">\n",
       "      <th></th>\n",
       "      <th>object_type</th>\n",
       "      <th>id</th>\n",
       "    </tr>\n",
       "  </thead>\n",
       "  <tbody>\n",
       "    <tr>\n",
       "      <th>0</th>\n",
       "      <td>кафе</td>\n",
       "      <td>6071</td>\n",
       "    </tr>\n",
       "    <tr>\n",
       "      <th>1</th>\n",
       "      <td>столовая</td>\n",
       "      <td>2584</td>\n",
       "    </tr>\n",
       "    <tr>\n",
       "      <th>2</th>\n",
       "      <td>ресторан</td>\n",
       "      <td>2282</td>\n",
       "    </tr>\n",
       "    <tr>\n",
       "      <th>3</th>\n",
       "      <td>предприятие быстрого обслуживания</td>\n",
       "      <td>1897</td>\n",
       "    </tr>\n",
       "    <tr>\n",
       "      <th>4</th>\n",
       "      <td>бар</td>\n",
       "      <td>855</td>\n",
       "    </tr>\n",
       "    <tr>\n",
       "      <th>5</th>\n",
       "      <td>буфет</td>\n",
       "      <td>576</td>\n",
       "    </tr>\n",
       "    <tr>\n",
       "      <th>6</th>\n",
       "      <td>кафетерий</td>\n",
       "      <td>395</td>\n",
       "    </tr>\n",
       "    <tr>\n",
       "      <th>7</th>\n",
       "      <td>закусочная</td>\n",
       "      <td>348</td>\n",
       "    </tr>\n",
       "    <tr>\n",
       "      <th>8</th>\n",
       "      <td>магазин (отдел кулинарии)</td>\n",
       "      <td>273</td>\n",
       "    </tr>\n",
       "  </tbody>\n",
       "</table>\n",
       "</div>"
      ],
      "text/plain": [
       "                         object_type    id\n",
       "0                               кафе  6071\n",
       "1                           столовая  2584\n",
       "2                           ресторан  2282\n",
       "3  предприятие быстрого обслуживания  1897\n",
       "4                                бар   855\n",
       "5                              буфет   576\n",
       "6                          кафетерий   395\n",
       "7                         закусочная   348\n",
       "8          магазин (отдел кулинарии)   273"
      ]
     },
     "execution_count": 24,
     "metadata": {},
     "output_type": "execute_result"
    }
   ],
   "source": [
    "oop_count"
   ]
  },
  {
   "cell_type": "markdown",
   "metadata": {},
   "source": [
    "По графику мы видим, что большинство объектов общественного питания в Москве это кафе (больше 6000). С большим отрывом от кафе и почти наравне идут столовые, рестораны и преприятия быстрого обслуживания. На последнем месте находятся отделы кулинарии в магазинах, на втором и третьем с конца - закусочные и кафетерии. "
   ]
  },
  {
   "cell_type": "markdown",
   "metadata": {},
   "source": [
    "### Анализ количества ООП с разбивкой на сетевые и несетевые заведения "
   ]
  },
  {
   "cell_type": "markdown",
   "metadata": {},
   "source": [
    "Для ответа на данный вопрос построим круговую диаграмму"
   ]
  },
  {
   "cell_type": "code",
   "execution_count": 25,
   "metadata": {},
   "outputs": [
    {
     "data": {
      "image/png": "[encoded data removed]",
      "text/plain": [
       "<Figure size 864x432 with 1 Axes>"
      ]
     },
     "metadata": {},
     "output_type": "display_data"
    }
   ],
   "source": [
    "plt.figure(figsize=(12, 6)) \n",
    "plt.pie(test_data.groupby('chain')['id'].count().sort_values(ascending=False),\n",
    "         autopct='%.0f%%')\n",
    "plt.title('Разбивка на несетевые и сетевые ООП')\n",
    "plt.legend(['Не сеть', 'сеть'])\n",
    "plt.show()"
   ]
  },
  {
   "cell_type": "markdown",
   "metadata": {},
   "source": [
    "Итого, в Москве всего лишь 19 процентов мест общественного питания принадлежат сетевым предприятиям! "
   ]
  },
  {
   "cell_type": "markdown",
   "metadata": {},
   "source": [
    "### Поиск вида объекта общественного питания, для которого характерно сетевое распространение"
   ]
  },
  {
   "cell_type": "markdown",
   "metadata": {},
   "source": [
    "Построим график для сетевых заведений "
   ]
  },
  {
   "cell_type": "code",
   "execution_count": 26,
   "metadata": {},
   "outputs": [],
   "source": [
    "chain_grouped = test_data[test_data['chain'] == \n",
    "    'да'].groupby('object_type')['id'].count().sort_values(ascending=False).reset_index()"
   ]
  },
  {
   "cell_type": "code",
   "execution_count": 27,
   "metadata": {},
   "outputs": [
    {
     "data": {
      "image/png": "[encoded data removed]",
      "text/plain": [
       "<Figure size 864x432 with 1 Axes>"
      ]
     },
     "metadata": {},
     "output_type": "display_data"
    }
   ],
   "source": [
    "plt.figure(figsize=(12, 6)) \n",
    "ax = sns.barplot(x='object_type', y='id', data=chain_grouped)\n",
    "ax.set_title('Количество сетевых заведений общественного питания', fontsize=15)\n",
    "ax.set_xlabel('Типы общественных объектов питания', fontsize=15)\n",
    "ax.set_ylabel('Количество', fontsize=15)\n",
    "ax.set_xticklabels(ax.get_xticklabels(), rotation=20, horizontalalignment='right')\n",
    "\n",
    "plt.show()"
   ]
  },
  {
   "cell_type": "markdown",
   "metadata": {},
   "source": [
    "Среди сетевых заведений на первом месте также находятся кафе, затем идут предприятия быстрого обслуживания, затем рестораны. Замыкают рейтинг столовые, буфеты и бары"
   ]
  },
  {
   "cell_type": "markdown",
   "metadata": {},
   "source": [
    "И найдем долю сетевых заведений от общего количества по разбивке на тип предприятия"
   ]
  },
  {
   "cell_type": "code",
   "execution_count": 28,
   "metadata": {
    "scrolled": true
   },
   "outputs": [
    {
     "data": {
      "text/html": [
       "<div>\n",
       "<style scoped>\n",
       "    .dataframe tbody tr th:only-of-type {\n",
       "        vertical-align: middle;\n",
       "    }\n",
       "\n",
       "    .dataframe tbody tr th {\n",
       "        vertical-align: top;\n",
       "    }\n",
       "\n",
       "    .dataframe thead th {\n",
       "        text-align: right;\n",
       "    }\n",
       "</style>\n",
       "<table border=\"1\" class=\"dataframe\">\n",
       "  <thead>\n",
       "    <tr style=\"text-align: right;\">\n",
       "      <th></th>\n",
       "      <th>object_type</th>\n",
       "      <th>id</th>\n",
       "    </tr>\n",
       "  </thead>\n",
       "  <tbody>\n",
       "    <tr>\n",
       "      <th>0</th>\n",
       "      <td>предприятие быстрого обслуживания</td>\n",
       "      <td>41.539273</td>\n",
       "    </tr>\n",
       "    <tr>\n",
       "      <th>1</th>\n",
       "      <td>магазин (отдел кулинарии)</td>\n",
       "      <td>28.571429</td>\n",
       "    </tr>\n",
       "    <tr>\n",
       "      <th>2</th>\n",
       "      <td>ресторан</td>\n",
       "      <td>23.794917</td>\n",
       "    </tr>\n",
       "    <tr>\n",
       "      <th>3</th>\n",
       "      <td>кафе</td>\n",
       "      <td>22.994564</td>\n",
       "    </tr>\n",
       "    <tr>\n",
       "      <th>4</th>\n",
       "      <td>закусочная</td>\n",
       "      <td>16.091954</td>\n",
       "    </tr>\n",
       "    <tr>\n",
       "      <th>5</th>\n",
       "      <td>кафетерий</td>\n",
       "      <td>13.164557</td>\n",
       "    </tr>\n",
       "    <tr>\n",
       "      <th>6</th>\n",
       "      <td>бар</td>\n",
       "      <td>4.327485</td>\n",
       "    </tr>\n",
       "    <tr>\n",
       "      <th>7</th>\n",
       "      <td>буфет</td>\n",
       "      <td>1.909722</td>\n",
       "    </tr>\n",
       "    <tr>\n",
       "      <th>8</th>\n",
       "      <td>столовая</td>\n",
       "      <td>0.116099</td>\n",
       "    </tr>\n",
       "  </tbody>\n",
       "</table>\n",
       "</div>"
      ],
      "text/plain": [
       "                         object_type         id\n",
       "0  предприятие быстрого обслуживания  41.539273\n",
       "1          магазин (отдел кулинарии)  28.571429\n",
       "2                           ресторан  23.794917\n",
       "3                               кафе  22.994564\n",
       "4                         закусочная  16.091954\n",
       "5                          кафетерий  13.164557\n",
       "6                                бар   4.327485\n",
       "7                              буфет   1.909722\n",
       "8                           столовая   0.116099"
      ]
     },
     "execution_count": 28,
     "metadata": {},
     "output_type": "execute_result"
    }
   ],
   "source": [
    "((test_data[test_data['chain'] == \n",
    "           'да'].groupby('object_type')['id'].count() / test_data.groupby('object_type')['id'].count()) *100\n",
    ").sort_values(ascending=False).reset_index()"
   ]
  },
  {
   "cell_type": "code",
   "execution_count": 29,
   "metadata": {},
   "outputs": [
    {
     "data": {
      "image/png": "[encoded data removed]",
      "text/plain": [
       "<Figure size 864x432 with 1 Axes>"
      ]
     },
     "metadata": {},
     "output_type": "display_data"
    }
   ],
   "source": [
    "plt.figure(figsize=(12, 6)) \n",
    "ax = sns.barplot(x='object_type', y='id',\n",
    "                 data=((test_data[test_data['chain'] == \n",
    "           'да'].groupby('object_type')['id'].count() / test_data.groupby('object_type')['id'].count()) *100\n",
    ").sort_values(ascending=False).reset_index())\n",
    "ax.set_title('Доля сетевых заведений общественного питания от всех заведений в данной категории', fontsize=15)\n",
    "ax.set_xlabel('Типы общественных объектов питания', fontsize=15)\n",
    "ax.set_ylabel('Доля, %', fontsize=15)\n",
    "ax.set_xticklabels(ax.get_xticklabels(), rotation=20, horizontalalignment='right')\n",
    "\n",
    "plt.show()"
   ]
  },
  {
   "cell_type": "markdown",
   "metadata": {},
   "source": [
    "Мы видим, что если смотреть на доли, то больше всего сетевых объектов среди заведений быстрого обслуживания, кулинарии и ресторанов. Меньше всего баров, буфетов и столовых, как и на графике сетевых общественных заведений. "
   ]
  },
  {
   "cell_type": "markdown",
   "metadata": {},
   "source": [
    "### Теперь посмотрим, что характерно для сетевых заведений: много заведений с небольшим числом посадочных мест в каждом или мало заведений с большим количеством посадочных мест?"
   ]
  },
  {
   "cell_type": "markdown",
   "metadata": {},
   "source": [
    "Для этого создадим датафрейм с количеством заведений и средним количеством посадочных мест и построим диаграмму рассеяния"
   ]
  },
  {
   "cell_type": "code",
   "execution_count": 30,
   "metadata": {},
   "outputs": [],
   "source": [
    "scat_data = test_data[test_data['chain'] == 'да'].groupby('object_name').agg(count_oop=('object_name', 'count'), \n",
    "                               mean_seats=('seats', 'mean')).reset_index().sort_values(by='count_oop', ascending=False)"
   ]
  },
  {
   "cell_type": "code",
   "execution_count": 31,
   "metadata": {},
   "outputs": [
    {
     "data": {
      "text/plain": [
       "<Figure size 864x432 with 0 Axes>"
      ]
     },
     "metadata": {},
     "output_type": "display_data"
    },
    {
     "data": {
      "image/png": "[encoded data removed]",
      "text/plain": [
       "<Figure size 432x432 with 3 Axes>"
      ]
     },
     "metadata": {},
     "output_type": "display_data"
    }
   ],
   "source": [
    "plt.figure(figsize=(12, 6)) \n",
    "ax = sns.jointplot(x='count_oop', y='mean_seats', data=scat_data, kind='reg', color='blue') \n",
    "ax.fig.suptitle(\"Зависимость среднего количества сидений от количества сетевых заведений\")\n",
    "ax.set_axis_labels('количество ООП', 'среднее количество сидений', fontsize=16)\n",
    "plt.show()\n"
   ]
  },
  {
   "cell_type": "markdown",
   "metadata": {},
   "source": [
    "Большая часть сетевых заведений имеет не более 20 точек, среднее количество мест в которых варьируется, но большая часть лежит в пределах от 0 до 100 мест. В больших сетях, где более 40 точек среднее количество мест лежит в пределах от 0 до 50, то есть это точки с небольшим количеством мест"
   ]
  },
  {
   "cell_type": "markdown",
   "metadata": {},
   "source": [
    "### Найдем  среднее количество посадочных мест для каждого вида объекта общественного питания"
   ]
  },
  {
   "cell_type": "code",
   "execution_count": 32,
   "metadata": {
    "scrolled": true
   },
   "outputs": [
    {
     "data": {
      "image/png": "[encoded data removed]",
      "text/plain": [
       "<Figure size 1080x864 with 1 Axes>"
      ]
     },
     "metadata": {},
     "output_type": "display_data"
    }
   ],
   "source": [
    "plt.figure(figsize=(15, 12)) \n",
    "ax = sns.boxplot(x='object_type', y='seats', hue='chain', data=test_data) \n",
    "\n",
    "ax.set_title('Количество посадочных мест в зависимости от предприятия', fontsize=15)\n",
    "ax.set_xlabel('Типы общественных объектов питания', fontsize=15)\n",
    "ax.set_ylabel('Количество мест', fontsize=15)\n",
    "ax.set_xticklabels(ax.get_xticklabels(), rotation=20, horizontalalignment='right')\n",
    "\n",
    "plt.show()"
   ]
  },
  {
   "cell_type": "markdown",
   "metadata": {},
   "source": [
    "Боксплоты становится трудно интерпретировать из-за большого количества выбросов. Изменим вертикальную шкалу для более подробного рассмотрения боксплотов"
   ]
  },
  {
   "cell_type": "code",
   "execution_count": 33,
   "metadata": {
    "scrolled": true
   },
   "outputs": [
    {
     "data": {
      "image/png": "[encoded data removed]",
      "text/plain": [
       "<Figure size 1080x648 with 1 Axes>"
      ]
     },
     "metadata": {},
     "output_type": "display_data"
    }
   ],
   "source": [
    "plt.figure(figsize=(15, 9)) \n",
    "ax = sns.boxplot(x='object_type', y='seats', hue='chain', data=test_data) \n",
    "\n",
    "ax.set_title('Количество посадочных мест в зависимости от предприятия', fontsize=15)\n",
    "ax.set_xlabel('Типы общественных объектов питания', fontsize=15)\n",
    "ax.set_ylabel('Количество мест', fontsize=15)\n",
    "ax.set_xticklabels(ax.get_xticklabels(), rotation=20, horizontalalignment='right')\n",
    "ax.set_ylim([0,500])\n",
    "plt.show()"
   ]
  },
  {
   "cell_type": "markdown",
   "metadata": {},
   "source": [
    "Видно, что наибольший дипазон разброса по количеству мест у несетевых заведений. Самый большой разброс принадлежит категории рестораны, затем идет категория столовых и категория кафе. В отделе кулинарии, кафетериях и закусочных аномально большие значения количества мест практически отсутствуют. Посмотрим на средние значения"
   ]
  },
  {
   "cell_type": "code",
   "execution_count": 34,
   "metadata": {
    "scrolled": true
   },
   "outputs": [
    {
     "data": {
      "text/html": [
       "<div>\n",
       "<style scoped>\n",
       "    .dataframe tbody tr th:only-of-type {\n",
       "        vertical-align: middle;\n",
       "    }\n",
       "\n",
       "    .dataframe tbody tr th {\n",
       "        vertical-align: top;\n",
       "    }\n",
       "\n",
       "    .dataframe thead th {\n",
       "        text-align: right;\n",
       "    }\n",
       "</style>\n",
       "<table border=\"1\" class=\"dataframe\">\n",
       "  <thead>\n",
       "    <tr style=\"text-align: right;\">\n",
       "      <th></th>\n",
       "      <th>object_type</th>\n",
       "      <th>chain</th>\n",
       "      <th>mean_seats</th>\n",
       "    </tr>\n",
       "  </thead>\n",
       "  <tbody>\n",
       "    <tr>\n",
       "      <th>0</th>\n",
       "      <td>столовая</td>\n",
       "      <td>нет</td>\n",
       "      <td>130.358776</td>\n",
       "    </tr>\n",
       "    <tr>\n",
       "      <th>1</th>\n",
       "      <td>столовая</td>\n",
       "      <td>да</td>\n",
       "      <td>112.333333</td>\n",
       "    </tr>\n",
       "    <tr>\n",
       "      <th>2</th>\n",
       "      <td>ресторан</td>\n",
       "      <td>да</td>\n",
       "      <td>100.362799</td>\n",
       "    </tr>\n",
       "    <tr>\n",
       "      <th>3</th>\n",
       "      <td>ресторан</td>\n",
       "      <td>нет</td>\n",
       "      <td>95.798735</td>\n",
       "    </tr>\n",
       "    <tr>\n",
       "      <th>4</th>\n",
       "      <td>бар</td>\n",
       "      <td>да</td>\n",
       "      <td>53.027027</td>\n",
       "    </tr>\n",
       "    <tr>\n",
       "      <th>5</th>\n",
       "      <td>буфет</td>\n",
       "      <td>нет</td>\n",
       "      <td>52.178761</td>\n",
       "    </tr>\n",
       "    <tr>\n",
       "      <th>6</th>\n",
       "      <td>кафе</td>\n",
       "      <td>да</td>\n",
       "      <td>47.426934</td>\n",
       "    </tr>\n",
       "    <tr>\n",
       "      <th>7</th>\n",
       "      <td>бар</td>\n",
       "      <td>нет</td>\n",
       "      <td>43.103912</td>\n",
       "    </tr>\n",
       "    <tr>\n",
       "      <th>8</th>\n",
       "      <td>предприятие быстрого обслуживания</td>\n",
       "      <td>да</td>\n",
       "      <td>40.319797</td>\n",
       "    </tr>\n",
       "    <tr>\n",
       "      <th>9</th>\n",
       "      <td>кафе</td>\n",
       "      <td>нет</td>\n",
       "      <td>37.503957</td>\n",
       "    </tr>\n",
       "    <tr>\n",
       "      <th>10</th>\n",
       "      <td>закусочная</td>\n",
       "      <td>да</td>\n",
       "      <td>14.375000</td>\n",
       "    </tr>\n",
       "    <tr>\n",
       "      <th>11</th>\n",
       "      <td>буфет</td>\n",
       "      <td>да</td>\n",
       "      <td>12.727273</td>\n",
       "    </tr>\n",
       "    <tr>\n",
       "      <th>12</th>\n",
       "      <td>кафетерий</td>\n",
       "      <td>да</td>\n",
       "      <td>12.269231</td>\n",
       "    </tr>\n",
       "    <tr>\n",
       "      <th>13</th>\n",
       "      <td>кафетерий</td>\n",
       "      <td>нет</td>\n",
       "      <td>8.717201</td>\n",
       "    </tr>\n",
       "    <tr>\n",
       "      <th>14</th>\n",
       "      <td>магазин (отдел кулинарии)</td>\n",
       "      <td>да</td>\n",
       "      <td>8.679487</td>\n",
       "    </tr>\n",
       "    <tr>\n",
       "      <th>15</th>\n",
       "      <td>предприятие быстрого обслуживания</td>\n",
       "      <td>нет</td>\n",
       "      <td>6.944995</td>\n",
       "    </tr>\n",
       "    <tr>\n",
       "      <th>16</th>\n",
       "      <td>закусочная</td>\n",
       "      <td>нет</td>\n",
       "      <td>6.595890</td>\n",
       "    </tr>\n",
       "    <tr>\n",
       "      <th>17</th>\n",
       "      <td>магазин (отдел кулинарии)</td>\n",
       "      <td>нет</td>\n",
       "      <td>4.353846</td>\n",
       "    </tr>\n",
       "  </tbody>\n",
       "</table>\n",
       "</div>"
      ],
      "text/plain": [
       "                          object_type chain  mean_seats\n",
       "0                            столовая   нет  130.358776\n",
       "1                            столовая    да  112.333333\n",
       "2                            ресторан    да  100.362799\n",
       "3                            ресторан   нет   95.798735\n",
       "4                                 бар    да   53.027027\n",
       "5                               буфет   нет   52.178761\n",
       "6                                кафе    да   47.426934\n",
       "7                                 бар   нет   43.103912\n",
       "8   предприятие быстрого обслуживания    да   40.319797\n",
       "9                                кафе   нет   37.503957\n",
       "10                         закусочная    да   14.375000\n",
       "11                              буфет    да   12.727273\n",
       "12                          кафетерий    да   12.269231\n",
       "13                          кафетерий   нет    8.717201\n",
       "14          магазин (отдел кулинарии)    да    8.679487\n",
       "15  предприятие быстрого обслуживания   нет    6.944995\n",
       "16                         закусочная   нет    6.595890\n",
       "17          магазин (отдел кулинарии)   нет    4.353846"
      ]
     },
     "execution_count": 34,
     "metadata": {},
     "output_type": "execute_result"
    }
   ],
   "source": [
    "test_data.groupby(['object_type', 'chain']).agg(mean_seats=('seats',\n",
    "                        'mean')).sort_values(by='mean_seats', ascending=False).reset_index()"
   ]
  },
  {
   "cell_type": "markdown",
   "metadata": {},
   "source": [
    "И на средние значения по разбивке на сетевые и не сетевые"
   ]
  },
  {
   "cell_type": "code",
   "execution_count": 35,
   "metadata": {},
   "outputs": [
    {
     "name": "stdout",
     "output_type": "stream",
     "text": [
      "Среднее количество посадочных мест по сетевым заведением составило mean_seats    44.613431\n",
      "dtype: float64\n",
      "Среднее количество посадочных мест по несетевым заведением составило mean_seats    42.839564\n",
      "dtype: float64\n"
     ]
    }
   ],
   "source": [
    "test_chain = test_data.groupby(['object_type', 'chain']).agg(mean_seats=('seats',\n",
    "                        'mean')).sort_values(by='mean_seats', ascending=False).reset_index()\n",
    "\n",
    "print('Среднее количество посадочных мест по сетевым заведением составило', test_chain[test_chain['chain'] == 'да'].mean())\n",
    "print('Среднее количество посадочных мест по несетевым заведением составило', test_chain[test_chain['chain'] == 'нет'].mean())"
   ]
  },
  {
   "cell_type": "code",
   "execution_count": 36,
   "metadata": {},
   "outputs": [
    {
     "data": {
      "image/png": "[encoded data removed]",
      "text/plain": [
       "<Figure size 864x432 with 1 Axes>"
      ]
     },
     "metadata": {},
     "output_type": "display_data"
    }
   ],
   "source": [
    "plt.figure(figsize=(12, 6)) \n",
    "ax = sns.barplot(x='object_type', y='mean_seats', hue='chain',\n",
    "                 data=test_data.groupby(['object_type', 'chain']).agg(mean_seats=('seats',\n",
    "                        'mean')).sort_values(by='mean_seats', ascending=False).reset_index())\n",
    "                 \n",
    "ax.set_title('Среднее количество мест по категориям ООП', fontsize=15)\n",
    "ax.set_xlabel('Типы общественных объектов питания', fontsize=15)\n",
    "ax.set_ylabel('Среднее количество мест', fontsize=15)\n",
    "ax.set_xticklabels(ax.get_xticklabels(), rotation=20, horizontalalignment='right')\n",
    "\n",
    "plt.show()"
   ]
  },
  {
   "cell_type": "markdown",
   "metadata": {},
   "source": [
    "Наибольшее среднее количество посадочных мест у несетевых столовых (около 130), затем у сетевых (112). Далее идут сетевые (100) и несетевые (95) рестораны. Наименьшие средние количества посадочных мест у кулинарии в магазинах. Вторые и третьи с конца - кафетерии и закусочные. У сетевых предприятий быстрого обслуживания много посадочных мест (40) по сравнению с несетевыми (7). У кафе данный показатель равен 47 для сетевых и 37 для несетевых."
   ]
  },
  {
   "cell_type": "markdown",
   "metadata": {},
   "source": [
    "### График топ-10 улиц по количеству объектов общественного питания"
   ]
  },
  {
   "cell_type": "markdown",
   "metadata": {},
   "source": [
    "Для начала выделим столбец в котором будут названия улицы"
   ]
  },
  {
   "cell_type": "code",
   "execution_count": 37,
   "metadata": {},
   "outputs": [],
   "source": [
    "#проведем некоторые преобразования чтобы проще было выделить улицу\n",
    "symbols = [',', '«', '»', '(', ')', '\"', '  ']\n",
    "\n",
    "for s in symbols:\n",
    "    test_data['address'] = test_data['address'].str.replace(s, ' ')\n",
    "test_data['address'] = test_data['address'].str.replace('ё','е')"
   ]
  },
  {
   "cell_type": "code",
   "execution_count": 38,
   "metadata": {},
   "outputs": [
    {
     "data": {
      "text/html": [
       "<div>\n",
       "<style scoped>\n",
       "    .dataframe tbody tr th:only-of-type {\n",
       "        vertical-align: middle;\n",
       "    }\n",
       "\n",
       "    .dataframe tbody tr th {\n",
       "        vertical-align: top;\n",
       "    }\n",
       "\n",
       "    .dataframe thead th {\n",
       "        text-align: right;\n",
       "    }\n",
       "</style>\n",
       "<table border=\"1\" class=\"dataframe\">\n",
       "  <thead>\n",
       "    <tr style=\"text-align: right;\">\n",
       "      <th></th>\n",
       "      <th>id</th>\n",
       "      <th>object_name</th>\n",
       "      <th>chain</th>\n",
       "      <th>object_type</th>\n",
       "      <th>address</th>\n",
       "      <th>seats</th>\n",
       "      <th>street_name</th>\n",
       "    </tr>\n",
       "  </thead>\n",
       "  <tbody>\n",
       "    <tr>\n",
       "      <th>0</th>\n",
       "      <td>151635</td>\n",
       "      <td>сметана</td>\n",
       "      <td>нет</td>\n",
       "      <td>кафе</td>\n",
       "      <td>город Москва улица Егора Абакумова дом 9</td>\n",
       "      <td>48</td>\n",
       "      <td>улица Егора Абакумова</td>\n",
       "    </tr>\n",
       "    <tr>\n",
       "      <th>1</th>\n",
       "      <td>77874</td>\n",
       "      <td>родник</td>\n",
       "      <td>нет</td>\n",
       "      <td>кафе</td>\n",
       "      <td>город Москва улица Талалихина дом 2/1 корпус 1</td>\n",
       "      <td>35</td>\n",
       "      <td>улица Талалихина</td>\n",
       "    </tr>\n",
       "    <tr>\n",
       "      <th>2</th>\n",
       "      <td>24309</td>\n",
       "      <td>кафе «академия»</td>\n",
       "      <td>нет</td>\n",
       "      <td>кафе</td>\n",
       "      <td>город Москва Абельмановская улица дом 6</td>\n",
       "      <td>95</td>\n",
       "      <td>Абельмановская улица</td>\n",
       "    </tr>\n",
       "    <tr>\n",
       "      <th>3</th>\n",
       "      <td>21894</td>\n",
       "      <td>пиццетория</td>\n",
       "      <td>да</td>\n",
       "      <td>кафе</td>\n",
       "      <td>город Москва Абрамцевская улица дом 1</td>\n",
       "      <td>40</td>\n",
       "      <td>Абрамцевская улица</td>\n",
       "    </tr>\n",
       "    <tr>\n",
       "      <th>4</th>\n",
       "      <td>119365</td>\n",
       "      <td>кафе «вишневая метель»</td>\n",
       "      <td>нет</td>\n",
       "      <td>кафе</td>\n",
       "      <td>город Москва Абрамцевская улица дом 9 корпус 1</td>\n",
       "      <td>50</td>\n",
       "      <td>Абрамцевская улица</td>\n",
       "    </tr>\n",
       "    <tr>\n",
       "      <th>5</th>\n",
       "      <td>27429</td>\n",
       "      <td>стол. при гоу сош № 1051</td>\n",
       "      <td>нет</td>\n",
       "      <td>столовая</td>\n",
       "      <td>город Москва Абрамцевская улица дом 15 корпус 1</td>\n",
       "      <td>240</td>\n",
       "      <td>Абрамцевская улица</td>\n",
       "    </tr>\n",
       "    <tr>\n",
       "      <th>6</th>\n",
       "      <td>148815</td>\n",
       "      <td>брусника</td>\n",
       "      <td>да</td>\n",
       "      <td>кафе</td>\n",
       "      <td>город Москва переулок Сивцев Вражек дом 6/2</td>\n",
       "      <td>10</td>\n",
       "      <td>переулок Сивцев Вражек</td>\n",
       "    </tr>\n",
       "    <tr>\n",
       "      <th>7</th>\n",
       "      <td>20957</td>\n",
       "      <td>буфет мтуси</td>\n",
       "      <td>нет</td>\n",
       "      <td>столовая</td>\n",
       "      <td>город Москва Авиамоторная улица дом 8 строение 1</td>\n",
       "      <td>90</td>\n",
       "      <td>Авиамоторная улица</td>\n",
       "    </tr>\n",
       "    <tr>\n",
       "      <th>8</th>\n",
       "      <td>20958</td>\n",
       "      <td>кпф семья-1</td>\n",
       "      <td>нет</td>\n",
       "      <td>столовая</td>\n",
       "      <td>город Москва Авиамоторная улица дом 8 строение 1</td>\n",
       "      <td>150</td>\n",
       "      <td>Авиамоторная улица</td>\n",
       "    </tr>\n",
       "    <tr>\n",
       "      <th>9</th>\n",
       "      <td>28858</td>\n",
       "      <td>столовая мтуси</td>\n",
       "      <td>нет</td>\n",
       "      <td>столовая</td>\n",
       "      <td>город Москва Авиамоторная улица дом 8 строение 1</td>\n",
       "      <td>120</td>\n",
       "      <td>Авиамоторная улица</td>\n",
       "    </tr>\n",
       "  </tbody>\n",
       "</table>\n",
       "</div>"
      ],
      "text/plain": [
       "       id               object_name chain object_type  \\\n",
       "0  151635                   сметана   нет        кафе   \n",
       "1   77874                    родник   нет        кафе   \n",
       "2   24309           кафе «академия»   нет        кафе   \n",
       "3   21894                пиццетория    да        кафе   \n",
       "4  119365    кафе «вишневая метель»   нет        кафе   \n",
       "5   27429  стол. при гоу сош № 1051   нет    столовая   \n",
       "6  148815                  брусника    да        кафе   \n",
       "7   20957               буфет мтуси   нет    столовая   \n",
       "8   20958               кпф семья-1   нет    столовая   \n",
       "9   28858            столовая мтуси   нет    столовая   \n",
       "\n",
       "                                            address  seats  \\\n",
       "0          город Москва улица Егора Абакумова дом 9     48   \n",
       "1    город Москва улица Талалихина дом 2/1 корпус 1     35   \n",
       "2           город Москва Абельмановская улица дом 6     95   \n",
       "3             город Москва Абрамцевская улица дом 1     40   \n",
       "4    город Москва Абрамцевская улица дом 9 корпус 1     50   \n",
       "5   город Москва Абрамцевская улица дом 15 корпус 1    240   \n",
       "6       город Москва переулок Сивцев Вражек дом 6/2     10   \n",
       "7  город Москва Авиамоторная улица дом 8 строение 1     90   \n",
       "8  город Москва Авиамоторная улица дом 8 строение 1    150   \n",
       "9  город Москва Авиамоторная улица дом 8 строение 1    120   \n",
       "\n",
       "              street_name  \n",
       "0   улица Егора Абакумова  \n",
       "1        улица Талалихина  \n",
       "2    Абельмановская улица  \n",
       "3      Абрамцевская улица  \n",
       "4      Абрамцевская улица  \n",
       "5      Абрамцевская улица  \n",
       "6  переулок Сивцев Вражек  \n",
       "7      Авиамоторная улица  \n",
       "8      Авиамоторная улица  \n",
       "9      Авиамоторная улица  "
      ]
     },
     "execution_count": 38,
     "metadata": {},
     "output_type": "execute_result"
    }
   ],
   "source": [
    "# преобразуем столбец в список, и удалим из него информацию о городе и доме\n",
    "# затем преобразуем обратно\n",
    "\n",
    "address = test_data['address'].to_list()\n",
    "streets = []\n",
    "\n",
    "for street in address:  \n",
    "    start = street.find('город москва')\n",
    "    end = street.find('дом ')\n",
    "    streets.append(street[start+14:end-1])\n",
    "\n",
    "test_data['street_name'] = streets    \n",
    "test_data.head(10)    "
   ]
  },
  {
   "cell_type": "markdown",
   "metadata": {},
   "source": [
    "Найдем топ10 улиц по количеству ресторанов"
   ]
  },
  {
   "cell_type": "code",
   "execution_count": 39,
   "metadata": {},
   "outputs": [
    {
     "data": {
      "text/html": [
       "<div>\n",
       "<style scoped>\n",
       "    .dataframe tbody tr th:only-of-type {\n",
       "        vertical-align: middle;\n",
       "    }\n",
       "\n",
       "    .dataframe tbody tr th {\n",
       "        vertical-align: top;\n",
       "    }\n",
       "\n",
       "    .dataframe thead th {\n",
       "        text-align: right;\n",
       "    }\n",
       "</style>\n",
       "<table border=\"1\" class=\"dataframe\">\n",
       "  <thead>\n",
       "    <tr style=\"text-align: right;\">\n",
       "      <th></th>\n",
       "      <th>street_name</th>\n",
       "      <th>count_oop</th>\n",
       "    </tr>\n",
       "  </thead>\n",
       "  <tbody>\n",
       "    <tr>\n",
       "      <th>0</th>\n",
       "      <td>проспект Мира</td>\n",
       "      <td>203</td>\n",
       "    </tr>\n",
       "    <tr>\n",
       "      <th>1</th>\n",
       "      <td>Профсоюзная улица</td>\n",
       "      <td>181</td>\n",
       "    </tr>\n",
       "    <tr>\n",
       "      <th>2</th>\n",
       "      <td>Ленинградский проспект</td>\n",
       "      <td>169</td>\n",
       "    </tr>\n",
       "    <tr>\n",
       "      <th>3</th>\n",
       "      <td>Пресненская набережная</td>\n",
       "      <td>167</td>\n",
       "    </tr>\n",
       "    <tr>\n",
       "      <th>4</th>\n",
       "      <td>Варшавское шоссе</td>\n",
       "      <td>155</td>\n",
       "    </tr>\n",
       "  </tbody>\n",
       "</table>\n",
       "</div>"
      ],
      "text/plain": [
       "              street_name  count_oop\n",
       "0           проспект Мира        203\n",
       "1       Профсоюзная улица        181\n",
       "2  Ленинградский проспект        169\n",
       "3  Пресненская набережная        167\n",
       "4        Варшавское шоссе        155"
      ]
     },
     "execution_count": 39,
     "metadata": {},
     "output_type": "execute_result"
    }
   ],
   "source": [
    "top_10 = test_data.groupby(['street_name']).agg(count_oop=('object_name', \n",
    "                'count')).sort_values(by='count_oop', ascending=False).reset_index().head(10)\n",
    "top_10.head()"
   ]
  },
  {
   "cell_type": "code",
   "execution_count": 40,
   "metadata": {},
   "outputs": [
    {
     "data": {
      "image/png": "[encoded data removed]",
      "text/plain": [
       "<Figure size 864x432 with 1 Axes>"
      ]
     },
     "metadata": {},
     "output_type": "display_data"
    }
   ],
   "source": [
    "plt.figure(figsize=(12, 6)) \n",
    "ax = sns.barplot(x='street_name', y='count_oop', data=top_10)\n",
    "ax.set_title('ТОП 10 улиц по количеству ресторанов', fontsize=15)\n",
    "ax.set_xlabel('улица', fontsize=15)\n",
    "ax.set_ylabel('Количество ресторанов', fontsize=15)\n",
    "ax.set_xticklabels(ax.get_xticklabels(), rotation=20, horizontalalignment='right')\n",
    "\n",
    "plt.show()"
   ]
  },
  {
   "cell_type": "markdown",
   "metadata": {},
   "source": [
    "В ТОП 10 улиц по количеству ресторанов вошли следующие улицы:\n",
    "1. **проспект Мира** ( районы Алексеевский, Марьина роща, Ярославский, Останкинский, Ростокино, Свиблово, Мещанский)\n",
    "\n",
    "2. **Профсоюзная улица** ( районы Академический, Черемушки, Ясенево, Обручево, Коньково, Теплый Стан)\n",
    "\n",
    "3. **Ленинградский проспект** ( районы Беговой, Аэропорт, Сокол, Хорошевский)\n",
    "\n",
    "4. **Пресненская набережная** ( район Пресненский)\n",
    "\n",
    "5. **Варшавское шоссе** ( район Северного, Центрального и Южного Чертаново, Донской, Нагатино-Садовники, Нагорный, Южное и Северное Бутово)\n",
    "\n",
    "6. **Ленинский проспект** ( район Проспект Вернадского, Тропарево-Никулино, Донской, Гагаринский, Ломоносовский, Обручевский, Теплый Стан, Якиманка)\n",
    "\n",
    "7. **проспект Вернандского** ( район Проспект Вернадского, Тропарево-Никулино, Раменки, Гагаринский, Ломоносовский)\n",
    "\n",
    "8. **Кутузовский проспект** (район Дорогомилово, Фили-Давыдково)\n",
    "\n",
    "9. **Каширское шоссе** (район Москворечье-Сабурово, Нагатино-Садовники,Орехово-Борисово Южное и Северное)\n",
    "\n",
    "10. **Ходынский бульвар** ( район Северного, Центрального и Южного Чертаново)\n",
    "\n",
    "Как мне кажется основное их сходство - все это основные автомобильные дороги Москвы, по которым в день проезжает огромное число людей. Заведением общественного питания выгодно открываться рядом с большим потоком людей, и когда люди на транспорте они могут с легкостью остановиться в заведении, если проголодаются.\n",
    "\n",
    "Также эти улицы очень длинные и захватывают многие районы."
   ]
  },
  {
   "cell_type": "markdown",
   "metadata": {},
   "source": [
    "Сделаем автоматическое сопоставление улиц с районами Москвы, для этого загрузим таблицу с информацией о районах"
   ]
  },
  {
   "cell_type": "code",
   "execution_count": 41,
   "metadata": {},
   "outputs": [
    {
     "data": {
      "text/html": [
       "<div>\n",
       "<style scoped>\n",
       "    .dataframe tbody tr th:only-of-type {\n",
       "        vertical-align: middle;\n",
       "    }\n",
       "\n",
       "    .dataframe tbody tr th {\n",
       "        vertical-align: top;\n",
       "    }\n",
       "\n",
       "    .dataframe thead th {\n",
       "        text-align: right;\n",
       "    }\n",
       "</style>\n",
       "<table border=\"1\" class=\"dataframe\">\n",
       "  <thead>\n",
       "    <tr style=\"text-align: right;\">\n",
       "      <th></th>\n",
       "      <th>streetname</th>\n",
       "      <th>areaid</th>\n",
       "      <th>okrug</th>\n",
       "      <th>area</th>\n",
       "    </tr>\n",
       "  </thead>\n",
       "  <tbody>\n",
       "    <tr>\n",
       "      <th>0</th>\n",
       "      <td>Выставочный переулок</td>\n",
       "      <td>17</td>\n",
       "      <td>ЦАО</td>\n",
       "      <td>Пресненский район</td>\n",
       "    </tr>\n",
       "    <tr>\n",
       "      <th>1</th>\n",
       "      <td>улица Гашека</td>\n",
       "      <td>17</td>\n",
       "      <td>ЦАО</td>\n",
       "      <td>Пресненский район</td>\n",
       "    </tr>\n",
       "    <tr>\n",
       "      <th>2</th>\n",
       "      <td>Большая Никитская улица</td>\n",
       "      <td>17</td>\n",
       "      <td>ЦАО</td>\n",
       "      <td>Пресненский район</td>\n",
       "    </tr>\n",
       "    <tr>\n",
       "      <th>3</th>\n",
       "      <td>Глубокий переулок</td>\n",
       "      <td>17</td>\n",
       "      <td>ЦАО</td>\n",
       "      <td>Пресненский район</td>\n",
       "    </tr>\n",
       "    <tr>\n",
       "      <th>4</th>\n",
       "      <td>Большой Гнездниковский переулок</td>\n",
       "      <td>17</td>\n",
       "      <td>ЦАО</td>\n",
       "      <td>Пресненский район</td>\n",
       "    </tr>\n",
       "  </tbody>\n",
       "</table>\n",
       "</div>"
      ],
      "text/plain": [
       "                        streetname  areaid okrug               area\n",
       "0             Выставочный переулок      17   ЦАО  Пресненский район\n",
       "1                     улица Гашека      17   ЦАО  Пресненский район\n",
       "2          Большая Никитская улица      17   ЦАО  Пресненский район\n",
       "3                Глубокий переулок      17   ЦАО  Пресненский район\n",
       "4  Большой Гнездниковский переулок      17   ЦАО  Пресненский район"
      ]
     },
     "execution_count": 41,
     "metadata": {},
     "output_type": "execute_result"
    }
   ],
   "source": [
    "from io import BytesIO\n",
    "import requests\n",
    "spreadsheet_id = '1E_dqNS92qe1hdLYQg8R7i7X1ozlhWzeWNM_NcQpv0Is'\n",
    "file_name = 'https://docs.google.com/spreadsheets/d/{}/export?format=csv'.format(spreadsheet_id)\n",
    "r = requests.get(file_name)\n",
    "df = pd.read_csv(BytesIO(r.content))\n",
    "df.head()"
   ]
  },
  {
   "cell_type": "markdown",
   "metadata": {},
   "source": [
    "И получим из загруженного датафрейма районы, через которые проходят наши топ10 улиц"
   ]
  },
  {
   "cell_type": "code",
   "execution_count": 42,
   "metadata": {},
   "outputs": [
    {
     "data": {
      "text/html": [
       "<div>\n",
       "<style scoped>\n",
       "    .dataframe tbody tr th:only-of-type {\n",
       "        vertical-align: middle;\n",
       "    }\n",
       "\n",
       "    .dataframe tbody tr th {\n",
       "        vertical-align: top;\n",
       "    }\n",
       "\n",
       "    .dataframe thead th {\n",
       "        text-align: right;\n",
       "    }\n",
       "</style>\n",
       "<table border=\"1\" class=\"dataframe\">\n",
       "  <thead>\n",
       "    <tr style=\"text-align: right;\">\n",
       "      <th></th>\n",
       "      <th>streetname</th>\n",
       "      <th>areaid</th>\n",
       "      <th>okrug</th>\n",
       "      <th>area</th>\n",
       "    </tr>\n",
       "  </thead>\n",
       "  <tbody>\n",
       "    <tr>\n",
       "      <th>3241</th>\n",
       "      <td>Варшавское шоссе</td>\n",
       "      <td>99</td>\n",
       "      <td>ЮАО</td>\n",
       "      <td>Донской район</td>\n",
       "    </tr>\n",
       "    <tr>\n",
       "      <th>3349</th>\n",
       "      <td>Варшавское шоссе</td>\n",
       "      <td>104</td>\n",
       "      <td>ЮАО</td>\n",
       "      <td>Нагорный район</td>\n",
       "    </tr>\n",
       "    <tr>\n",
       "      <th>3305</th>\n",
       "      <td>Варшавское шоссе</td>\n",
       "      <td>102</td>\n",
       "      <td>ЮАО</td>\n",
       "      <td>Район Нагатино-Садовники</td>\n",
       "    </tr>\n",
       "    <tr>\n",
       "      <th>3999</th>\n",
       "      <td>Варшавское шоссе</td>\n",
       "      <td>130</td>\n",
       "      <td>ЮЗАО</td>\n",
       "      <td>Район Северное Бутово</td>\n",
       "    </tr>\n",
       "    <tr>\n",
       "      <th>3117</th>\n",
       "      <td>Варшавское шоссе</td>\n",
       "      <td>108</td>\n",
       "      <td>ЮАО</td>\n",
       "      <td>Район Чертаново Северное</td>\n",
       "    </tr>\n",
       "  </tbody>\n",
       "</table>\n",
       "</div>"
      ],
      "text/plain": [
       "            streetname  areaid okrug                      area\n",
       "3241  Варшавское шоссе      99   ЮАО             Донской район\n",
       "3349  Варшавское шоссе     104   ЮАО            Нагорный район\n",
       "3305  Варшавское шоссе     102   ЮАО  Район Нагатино-Садовники\n",
       "3999  Варшавское шоссе     130  ЮЗАО     Район Северное Бутово\n",
       "3117  Варшавское шоссе     108   ЮАО  Район Чертаново Северное"
      ]
     },
     "execution_count": 42,
     "metadata": {},
     "output_type": "execute_result"
    }
   ],
   "source": [
    "top10_areas = df[df['streetname'].isin(top_10['street_name'])].sort_values(by=['streetname', 'area'])\n",
    "top10_areas.head()"
   ]
  },
  {
   "cell_type": "markdown",
   "metadata": {},
   "source": [
    "### Анализ улиц с одним объектом общественного питания"
   ]
  },
  {
   "cell_type": "code",
   "execution_count": 43,
   "metadata": {},
   "outputs": [
    {
     "data": {
      "text/plain": [
       "street_name    Спортивный проездСпартаковский переулокСоюзный...\n",
       "count_oop                                                    827\n",
       "dtype: object"
      ]
     },
     "execution_count": 43,
     "metadata": {},
     "output_type": "execute_result"
    }
   ],
   "source": [
    "data_street = test_data.groupby(['street_name']).agg(count_oop=('object_name', \n",
    "                'count')).sort_values(by='count_oop').reset_index()\n",
    "data_street[data_street['count_oop'] == 1].sum()"
   ]
  },
  {
   "cell_type": "markdown",
   "metadata": {},
   "source": [
    "Поскольку нашлось целых 826 улиц с одним ООП, возьмем первые 10 из них для анализа"
   ]
  },
  {
   "cell_type": "code",
   "execution_count": 44,
   "metadata": {},
   "outputs": [
    {
     "data": {
      "text/html": [
       "<div>\n",
       "<style scoped>\n",
       "    .dataframe tbody tr th:only-of-type {\n",
       "        vertical-align: middle;\n",
       "    }\n",
       "\n",
       "    .dataframe tbody tr th {\n",
       "        vertical-align: top;\n",
       "    }\n",
       "\n",
       "    .dataframe thead th {\n",
       "        text-align: right;\n",
       "    }\n",
       "</style>\n",
       "<table border=\"1\" class=\"dataframe\">\n",
       "  <thead>\n",
       "    <tr style=\"text-align: right;\">\n",
       "      <th></th>\n",
       "      <th>street_name</th>\n",
       "      <th>count_oop</th>\n",
       "    </tr>\n",
       "  </thead>\n",
       "  <tbody>\n",
       "    <tr>\n",
       "      <th>1</th>\n",
       "      <td>Спортивный проезд</td>\n",
       "      <td>1</td>\n",
       "    </tr>\n",
       "    <tr>\n",
       "      <th>2</th>\n",
       "      <td>Спартаковский переулок</td>\n",
       "      <td>1</td>\n",
       "    </tr>\n",
       "    <tr>\n",
       "      <th>3</th>\n",
       "      <td>Союзный проспект</td>\n",
       "      <td>1</td>\n",
       "    </tr>\n",
       "    <tr>\n",
       "      <th>4</th>\n",
       "      <td>Софийская набережная</td>\n",
       "      <td>1</td>\n",
       "    </tr>\n",
       "    <tr>\n",
       "      <th>5</th>\n",
       "      <td>Сосновая аллея</td>\n",
       "      <td>1</td>\n",
       "    </tr>\n",
       "    <tr>\n",
       "      <th>6</th>\n",
       "      <td>Сормовский проезд</td>\n",
       "      <td>1</td>\n",
       "    </tr>\n",
       "    <tr>\n",
       "      <th>7</th>\n",
       "      <td>Средний Кондратьевский переулок</td>\n",
       "      <td>1</td>\n",
       "    </tr>\n",
       "    <tr>\n",
       "      <th>8</th>\n",
       "      <td>Солнечногорский проезд</td>\n",
       "      <td>1</td>\n",
       "    </tr>\n",
       "    <tr>\n",
       "      <th>9</th>\n",
       "      <td>Соймоновский проезд</td>\n",
       "      <td>1</td>\n",
       "    </tr>\n",
       "    <tr>\n",
       "      <th>10</th>\n",
       "      <td>Скорняжный переулок</td>\n",
       "      <td>1</td>\n",
       "    </tr>\n",
       "  </tbody>\n",
       "</table>\n",
       "</div>"
      ],
      "text/plain": [
       "                        street_name  count_oop\n",
       "1                 Спортивный проезд          1\n",
       "2            Спартаковский переулок          1\n",
       "3                  Союзный проспект          1\n",
       "4              Софийская набережная          1\n",
       "5                    Сосновая аллея          1\n",
       "6                 Сормовский проезд          1\n",
       "7   Средний Кондратьевский переулок          1\n",
       "8            Солнечногорский проезд          1\n",
       "9               Соймоновский проезд          1\n",
       "10              Скорняжный переулок          1"
      ]
     },
     "execution_count": 44,
     "metadata": {},
     "output_type": "execute_result"
    }
   ],
   "source": [
    "data_street[1:11]"
   ]
  },
  {
   "cell_type": "markdown",
   "metadata": {},
   "source": [
    "Районы на которых расположены улицы:\n",
    "1. Спартаковский переулок - Басманном район - длина улицы 500 метров\n",
    "2. Союзный проспект - Новогиреево - длина улицы 1.2 километра\n",
    "3. Софийская набережная\t- Якиманка - длина улицы 800 метров\n",
    "4. Сосновая аллея - Покровское-Стрешнево - длина улицы 780 метров\n",
    "5. Сормовский проезд - Выхино-Жулебино - длина улицы 433 метра\n",
    "6. Солнечногорский проезд - Головинский район - длина улицы 550 метров\n",
    "7. Спортивный проезд - Люблино - длина улицы 340 метров\n",
    "8. Соколово-Мещерская улица - Куркино - длина улицы 1.75 километров\n",
    "9. Скорняжный переулок - Красносельский район - длина улицы 340 метров\n",
    "10. Скатертный переулок - Пресненский район - длина улицы 650 метров\n",
    "\n",
    "Исходя из этих данных можно сказать, что один объект ООП находится на маленьких пешеходных улицах"
   ]
  },
  {
   "cell_type": "markdown",
   "metadata": {},
   "source": [
    "Аналогично получим автоматическое сопоставление для улиц с одним объектом общественного питания"
   ]
  },
  {
   "cell_type": "code",
   "execution_count": 45,
   "metadata": {},
   "outputs": [
    {
     "data": {
      "text/html": [
       "<div>\n",
       "<style scoped>\n",
       "    .dataframe tbody tr th:only-of-type {\n",
       "        vertical-align: middle;\n",
       "    }\n",
       "\n",
       "    .dataframe tbody tr th {\n",
       "        vertical-align: top;\n",
       "    }\n",
       "\n",
       "    .dataframe thead th {\n",
       "        text-align: right;\n",
       "    }\n",
       "</style>\n",
       "<table border=\"1\" class=\"dataframe\">\n",
       "  <thead>\n",
       "    <tr style=\"text-align: right;\">\n",
       "      <th></th>\n",
       "      <th>streetname</th>\n",
       "      <th>areaid</th>\n",
       "      <th>okrug</th>\n",
       "      <th>area</th>\n",
       "    </tr>\n",
       "  </thead>\n",
       "  <tbody>\n",
       "    <tr>\n",
       "      <th>3145</th>\n",
       "      <td>1-й Автозаводский проезд</td>\n",
       "      <td>98</td>\n",
       "      <td>ЮАО</td>\n",
       "      <td>Даниловский район</td>\n",
       "    </tr>\n",
       "    <tr>\n",
       "      <th>1829</th>\n",
       "      <td>1-й Амбулаторный проезд</td>\n",
       "      <td>54</td>\n",
       "      <td>САО</td>\n",
       "      <td>Район Аэропорт</td>\n",
       "    </tr>\n",
       "    <tr>\n",
       "      <th>1834</th>\n",
       "      <td>1-й Балтийский переулок</td>\n",
       "      <td>54</td>\n",
       "      <td>САО</td>\n",
       "      <td>Район Аэропорт</td>\n",
       "    </tr>\n",
       "    <tr>\n",
       "      <th>805</th>\n",
       "      <td>1-й Басманный переулок</td>\n",
       "      <td>13</td>\n",
       "      <td>ЦАО</td>\n",
       "      <td>Басманный район</td>\n",
       "    </tr>\n",
       "    <tr>\n",
       "      <th>4213</th>\n",
       "      <td>1-й Басманный переулок</td>\n",
       "      <td>15</td>\n",
       "      <td>ЦАО</td>\n",
       "      <td>Красносельский район</td>\n",
       "    </tr>\n",
       "  </tbody>\n",
       "</table>\n",
       "</div>"
      ],
      "text/plain": [
       "                    streetname  areaid okrug                  area\n",
       "3145  1-й Автозаводский проезд      98   ЮАО     Даниловский район\n",
       "1829   1-й Амбулаторный проезд      54   САО        Район Аэропорт\n",
       "1834   1-й Балтийский переулок      54   САО        Район Аэропорт\n",
       "805     1-й Басманный переулок      13   ЦАО       Басманный район\n",
       "4213    1-й Басманный переулок      15   ЦАО  Красносельский район"
      ]
     },
     "execution_count": 45,
     "metadata": {},
     "output_type": "execute_result"
    }
   ],
   "source": [
    "one_oop_areas = df[df['streetname'].isin(data_street['street_name'])].sort_values(by=['streetname', 'area'])\n",
    "one_oop_areas.head()"
   ]
  },
  {
   "cell_type": "markdown",
   "metadata": {},
   "source": [
    "### Анализ распределения количества посадочных мест для улиц с большим количеством объектов общественного питания"
   ]
  },
  {
   "cell_type": "markdown",
   "metadata": {},
   "source": [
    "Будем работать с нашим ТОП 10 улиц для анализа данного вопроса"
   ]
  },
  {
   "cell_type": "code",
   "execution_count": 46,
   "metadata": {},
   "outputs": [
    {
     "data": {
      "text/html": [
       "<div>\n",
       "<style scoped>\n",
       "    .dataframe tbody tr th:only-of-type {\n",
       "        vertical-align: middle;\n",
       "    }\n",
       "\n",
       "    .dataframe tbody tr th {\n",
       "        vertical-align: top;\n",
       "    }\n",
       "\n",
       "    .dataframe thead th {\n",
       "        text-align: right;\n",
       "    }\n",
       "</style>\n",
       "<table border=\"1\" class=\"dataframe\">\n",
       "  <thead>\n",
       "    <tr style=\"text-align: right;\">\n",
       "      <th></th>\n",
       "      <th>id</th>\n",
       "      <th>object_name</th>\n",
       "      <th>chain</th>\n",
       "      <th>object_type</th>\n",
       "      <th>address</th>\n",
       "      <th>seats</th>\n",
       "      <th>street_name</th>\n",
       "    </tr>\n",
       "  </thead>\n",
       "  <tbody>\n",
       "    <tr>\n",
       "      <th>151</th>\n",
       "      <td>155973</td>\n",
       "      <td>кафе «андерсон»</td>\n",
       "      <td>да</td>\n",
       "      <td>кафе</td>\n",
       "      <td>город Москва Варшавское шоссе дом 2</td>\n",
       "      <td>150</td>\n",
       "      <td>Варшавское шоссе</td>\n",
       "    </tr>\n",
       "    <tr>\n",
       "      <th>152</th>\n",
       "      <td>23618</td>\n",
       "      <td>кафе «subway»</td>\n",
       "      <td>да</td>\n",
       "      <td>кафе</td>\n",
       "      <td>город Москва Варшавское шоссе дом 7 корпус 1</td>\n",
       "      <td>36</td>\n",
       "      <td>Варшавское шоссе</td>\n",
       "    </tr>\n",
       "    <tr>\n",
       "      <th>153</th>\n",
       "      <td>155852</td>\n",
       "      <td>кафе «ламаджо»</td>\n",
       "      <td>нет</td>\n",
       "      <td>кафе</td>\n",
       "      <td>город Москва Варшавское шоссе дом 29</td>\n",
       "      <td>30</td>\n",
       "      <td>Варшавское шоссе</td>\n",
       "    </tr>\n",
       "    <tr>\n",
       "      <th>154</th>\n",
       "      <td>152556</td>\n",
       "      <td>шаурма в пите</td>\n",
       "      <td>нет</td>\n",
       "      <td>предприятие быстрого обслуживания</td>\n",
       "      <td>город Москва Варшавское шоссе дом 72 корпус 2</td>\n",
       "      <td>0</td>\n",
       "      <td>Варшавское шоссе</td>\n",
       "    </tr>\n",
       "    <tr>\n",
       "      <th>155</th>\n",
       "      <td>120658</td>\n",
       "      <td>выпечка</td>\n",
       "      <td>нет</td>\n",
       "      <td>кафетерий</td>\n",
       "      <td>город Москва Варшавское шоссе дом 100</td>\n",
       "      <td>2</td>\n",
       "      <td>Варшавское шоссе</td>\n",
       "    </tr>\n",
       "  </tbody>\n",
       "</table>\n",
       "</div>"
      ],
      "text/plain": [
       "         id      object_name chain                        object_type  \\\n",
       "151  155973  кафе «андерсон»    да                               кафе   \n",
       "152   23618    кафе «subway»    да                               кафе   \n",
       "153  155852   кафе «ламаджо»   нет                               кафе   \n",
       "154  152556    шаурма в пите   нет  предприятие быстрого обслуживания   \n",
       "155  120658          выпечка   нет                          кафетерий   \n",
       "\n",
       "                                           address  seats       street_name  \n",
       "151            город Москва Варшавское шоссе дом 2    150  Варшавское шоссе  \n",
       "152   город Москва Варшавское шоссе дом 7 корпус 1     36  Варшавское шоссе  \n",
       "153           город Москва Варшавское шоссе дом 29     30  Варшавское шоссе  \n",
       "154  город Москва Варшавское шоссе дом 72 корпус 2      0  Варшавское шоссе  \n",
       "155          город Москва Варшавское шоссе дом 100      2  Варшавское шоссе  "
      ]
     },
     "execution_count": 46,
     "metadata": {},
     "output_type": "execute_result"
    }
   ],
   "source": [
    "data_top10 = test_data[test_data['street_name'].isin(top_10['street_name'])]\n",
    "data_top10.head()"
   ]
  },
  {
   "cell_type": "code",
   "execution_count": 47,
   "metadata": {},
   "outputs": [
    {
     "name": "stdout",
     "output_type": "stream",
     "text": [
      "Среднее количество посадочных мест по сетевым заведением ТОП 10 составило 52.956756756756754\n",
      "Среднее количество посадочных мест по несетевым заведением ТОП 10 составило 56.72677595628415\n"
     ]
    }
   ],
   "source": [
    "print('Среднее количество посадочных мест по сетевым заведением ТОП 10 составило', \n",
    "      data_top10[data_top10['chain']=='да']['seats'].mean())\n",
    "\n",
    "print('Среднее количество посадочных мест по несетевым заведением ТОП 10 составило', \n",
    "      data_top10[data_top10['chain']=='нет']['seats'].mean())"
   ]
  },
  {
   "cell_type": "code",
   "execution_count": 48,
   "metadata": {},
   "outputs": [
    {
     "data": {
      "image/png": "[encoded data removed]",
      "text/plain": [
       "<Figure size 864x432 with 1 Axes>"
      ]
     },
     "metadata": {},
     "output_type": "display_data"
    }
   ],
   "source": [
    "plt.figure(figsize=(12, 6)) \n",
    "ax = sns.barplot(x='object_type', y='mean_seats', hue='chain',\n",
    "                 data=data_top10.groupby(['object_type', 'chain']).agg(mean_seats=('seats',\n",
    "                        'mean')).sort_values(by='mean_seats', ascending=False).reset_index())\n",
    "                 \n",
    "ax.set_title('Среднее количество мест по категориям ООП на улицах с большим количеством ООП', fontsize=15)\n",
    "ax.set_xlabel('Типы общественных объектов питания', fontsize=15)\n",
    "ax.set_ylabel('Среднее количество мест', fontsize=15)\n",
    "ax.set_xticklabels(ax.get_xticklabels(), rotation=20, horizontalalignment='right')\n",
    "\n",
    "plt.show()"
   ]
  },
  {
   "cell_type": "markdown",
   "metadata": {},
   "source": [
    "Мы видим что по количеству средних мест на ТОП 10 улицах лидируют столовые, причем сетевые столовые отсутствуют. Затем идут бары, рестораны, буфет, кафе. На последнем месте кафетерии и кулинария. В целом посадочных мест заметно меньше, по сравнению со всеми данными. Посмотрим на боксплот"
   ]
  },
  {
   "cell_type": "code",
   "execution_count": 49,
   "metadata": {},
   "outputs": [
    {
     "data": {
      "image/png": "[encoded data removed]",
      "text/plain": [
       "<Figure size 1080x648 with 1 Axes>"
      ]
     },
     "metadata": {},
     "output_type": "display_data"
    }
   ],
   "source": [
    "plt.figure(figsize=(15, 9)) \n",
    "ax = sns.boxplot(x='object_type', y='seats', data=data_top10) \n",
    "\n",
    "ax.set_title('Количество посадочных мест на ТОП 10 улицах', fontsize=15)\n",
    "ax.set_xlabel('Типы общественных объектов питания', fontsize=15)\n",
    "ax.set_ylabel('Количество мест', fontsize=15)\n",
    "ax.set_xticklabels(ax.get_xticklabels(), rotation=20, horizontalalignment='right')\n",
    "ax.set_ylim([0,500])\n",
    "plt.show()"
   ]
  },
  {
   "cell_type": "markdown",
   "metadata": {},
   "source": [
    "Мы видим что на ТОП 10 улицах количество выбросов и больших значений заметно меньше. Возможно это связано с высокими ценами аренды на помещения вследствие большой конкуренции"
   ]
  },
  {
   "cell_type": "markdown",
   "metadata": {},
   "source": [
    "### Вывод"
   ]
  },
  {
   "cell_type": "markdown",
   "metadata": {},
   "source": [
    "1. Сначала мы проанализировали столбчатую диаграмму количества заведений каждого вида предприятия.  Мы увидели, что большинство объектов общественного питания в Москве это кафе (больше 6000). С большим отрывом от кафе и почти наравне идут столовые, рестораны и преприятия быстрого обслуживания. На последнем месте находятся отделы кулинарии в магазинах, на втором и третьем с конца - закусочные и кафетерии.\n",
    "\n",
    "2. Затем чтобы понять сколько у нас сетевых и несетевых объектов мы построили круговую диаграмму и получили, что 81 % заведений в Москве - несетевые, и лишь 19 % сети питания. \n",
    "\n",
    "3. Далее мы работали с сетевыми предприятиями. Анализируя столбчатые диаграммы мы сделали вывод, что Среди сетевых заведений на первом месте находятся кафе, затем идут предприятия быстрого обслуживания, затем рестораны. Замыкают рейтинг столовые, буфеты и бары. Данный результат похож на тот, что мы получили, анализируя весь датасет. Однако, если визуализировать долю сетевых заведений от всех с разбивкой на типы, то мы получим другой результат - наибольшая доля сетевых объектов принадлежит заведениям быстрого обслуживания, кулинарии и ресторанам. Меньше всего баров, буфетов и столовых, как и на графике сетевых общественных заведений.\n",
    "\n",
    "4. Затем было выяснено (используя джоинплот и боксплоты), что большая часть сетевых заведений имеет не более 20 точек, среднее количество мест в которых варьируется, но большая часть лежит в пределах от 0 до 100 мест. В больших сетях, где более 40 точек среднее количество мест лежит в пределах от 0 до 50, то есть это точки с небольшим количеством мест. Наибольший дипазон разброса среднего количества мест посадки у несетевых заведений. Самый большой разброс принадлежит категории рестораны, затем идет категория столовых и категория кафе. В отделе кулинарии, кафетериях и закусочных аномально большие значения количества мест практически отсутствуют. Посмотрим на средние значения. Наибольшее среднее количество посадочных мест у несетевых столовых (около 130), затем у сетевых (112). Далее идут сетевые (100) и несетевые (95) рестораны. Наименьшие средние количества посадочных мест у кулинарии в магазинах. Вторые и третьи с конца - кафетерии и закусочные. У сетевых предприятий быстрого обслуживания много посадочных мест (40) по сравнению с несетевыми (7). У кафе данный показатель равен 47 для сетевых и 37 для несетевых.\n",
    "\n",
    "5. Далее мы построили график ТОП 10 улиц с наибольшим количеством ресторанов в Москве. Мы получили, что:\n",
    "    В ТОП 10 улиц по количеству ресторанов вошли следующие улицы:\n",
    "            - проспект Мира ( районы Алексеевский, Марьина роща, Ярославский, Останкинский, Ростокино, Свиблово, Мещанский)\n",
    "            - Профсоюзная улица ( районы Академический, Черемушки, Ясенево, Обручево, Коньково, Теплый Стан)\n",
    "            - Ленинградский проспект ( районы Беговой, Аэропорт, Сокол, Хорошевский)\n",
    "            - Пресненская набережная ( район Пресненский)\n",
    "            - Варшавское шоссе ( район Северного, Центрального и Южного Чертаново, Донской, Нагатино-Садовники, Нагорный, Южное и Северное Бутово)\n",
    "            - Ленинский проспект ( район Проспект Вернадского, Тропарево-Никулино, Донской, Гагаринский, Ломоносовский, Обручевский, Теплый Стан, Якиманка)\n",
    "            - проспект Вернандского ( район Проспект Вернадского, Тропарево-Никулино, Раменки, Гагаринский, Ломоносовский)\n",
    "            - Кутузовский проспект (район Дорогомилово, Фили-Давыдково)\n",
    "            - Каширское шоссе (район Москворечье-Сабурово, Нагатино-Садовники,Орехово-Борисово Южное и Северное)\n",
    "            - Ходынский бульвар ( район Северного, Центрального и Южного Чертаново)\n",
    "\n",
    "Наше предположение, что самые прибыльные районы в городе это улицы с основными автомобильными дорогами Москвы, по которым в день проезжает огромное число людей. Заведением общественного питания выгодно открываться рядом с большим потоком людей, и когда люди на транспорте они могут с легкостью остановиться в заведении, если проголодаются.Также эти улицы очень длинные и захватывают многие районы.\n",
    "\n",
    "6. Среди улиц с одним ООП также был выделен ТОП 10.Районы на которых расположены улицы:\n",
    "            - Спартаковский переулок - Басманном район - длина улицы 500 метров\n",
    "            - Союзный проспект - Новогиреево - длина улицы 1.2 километра\n",
    "            - Софийская набережная - Якиманка - длина улицы 800 метров\n",
    "            - Сосновая аллея - Покровское-Стрешнево - длина улицы 780 метров\n",
    "            - Сормовский проезд - Выхино-Жулебино - длина улицы 433 метра\n",
    "            - Солнечногорский проезд - Головинский район - длина улицы 550 метров\n",
    "            - Спортивный проезд - Люблино - длина улицы 340 метров\n",
    "            - Соколово-Мещерская улица - Куркино - длина улицы 1.75 километров\n",
    "            - Скорняжный переулок - Красносельский район - длина улицы 340 метров\n",
    "            - Скатертный переулок - Пресненский район - длина улицы 650 метров\n",
    "Исходя из этих данных можно сказать, что один объект ООП находится на маленьких пешеходных улицах. \n",
    "\n",
    "7. При анализе распределения количества посадочных мест для улиц с большим количеством объектов общественного питания мы увидели, что по количеству средних мест на ТОП 10 улицах лидируют столовые, причем сетевые столовые отсутствуют. Затем идут бары, рестораны, буфет, кафе. На последнем месте кафетерии и кулинария. В целом посадочных мест заметно меньше, по сравнению со всеми данными. Возможно это связано с высокими ценами аренды на помещения вследствие большой конкуренции."
   ]
  },
  {
   "cell_type": "markdown",
   "metadata": {},
   "source": [
    "## Общий вывод"
   ]
  },
  {
   "cell_type": "markdown",
   "metadata": {},
   "source": [
    "1. В процессе знакомства с данными не было найдено проблем (дубликатов, пропусков и т.д.). Названия колонок написаны в стиле snake-case, удобно читаются и передают суть информации, лежащей в них, за исключением колонки с количеством посадочных мест, которая была переименована. Также столбец **object_name** был приведен к нижнему регистру и из него были убраны дубликаты по макдональдсу, kfc, шоколаднице. Были удалены 85 дубликатов из датафрейма\n",
    "2. Затем в процессе анализа данных мы получили следующие выводы\n",
    "    1. Самые популярные объекты ООП это кафе, столовые и рестораны. Самые непопулярные - кулинарии в магазинах, закусочные и кафетерии\n",
    "    2. Деление в москве на сетевые и несетевые объекты - 81 к 19 процентам. Среди сетевых заведений в Москве больше всего заведений быстрого обслуживания, кулинарии и ресторанов. Меньше всего - баров, буфетов и столовых. Однако если смотреть на доли, то оказалось, что наибольшая доля сетевых объектов принадлежит заведениям быстрого обслуживания, кулинарии и ресторанам. Меньше всего баров, буфетов и столовых, как и на графике сетевых общественных заведений.\n",
    "    3.Большая часть сетевых заведений имеет не более 20 точек, среднее количество мест в которых варьируется, но большая часть лежит в пределах от 0 до 100 мест. В больших сетях, где более 40 точек среднее количество мест лежит в пределах от 0 до 50, то есть это точки с небольшим количеством мест. Среднее количество посадочных мест по сетевым заведениям 44, по несетевым 43. \n",
    "    4. Затем мы нашли топ 10 улиц по количеству ООП, основное сходство - все это основные автомобильные дороги Москвы, по которым в день проезжает огромное число людей. Заведением общественного питания выгодно открываться рядом с большим потоком людей, и когда люди на транспорте они могут с легкостью остановиться в заведении, если проголодаются. Также эти улицы очень длинные и захватывают многие районы. Среднее количество посадочных мест по сетевым заведениям 53, по несетевым 56. По количеству средних мест на ТОП 10 улицах лидируют столовые, причем сетевые столовые отсутствуют. Затем идут бары, рестораны, буфет, кафе. На последнем месте кафетерии и кулинария. В целом посадочных мест заметно меньше, по сравнению со всеми данными. Возможно это связано с высокими ценами аренды на помещения вследствие большой конкуренции.\n",
    "    5. Улицы на которых находится 1 объект ООП - маленькие пешеходные улицы. "
   ]
  },
  {
   "cell_type": "markdown",
   "metadata": {},
   "source": [
    "## Рекомендации"
   ]
  },
  {
   "cell_type": "markdown",
   "metadata": {},
   "source": [
    "Мы открываем небольшое кафе в Москве. Оно имеет особенность  — гостей должны обслуживать роботы. \n",
    "Исходя из анализа кафе является самым популярным объектом пищевой инфраструктуры в Москве. Также наше кафе несетевое, в Москве большая часть ООП является несетевым заведением. Это значит что мы правильно выбрали самую популярную нишу, но и самую конкурентную. \n",
    "Касаемо расположения, я бы рекомендовала открыть кафе в ТОП 10  популярных улиц, ввследствие высокого потока клиентов. Однако тут также есть угроза в виде конкуренции и большой арендной платы. Следует продолжить анализ по перспективным районам чтобы уточнить более оптимальное местоположение (может быть какие-то развивающиеся районы). По количеству средних мест стоит выбрать число в районе 40-60 посадочных мест. \n",
    "Данная тактика подойдет при большом вливании денег инвесторов, так как мы планируем врываться в самую конкурентную нишу, и ООП объекты ООП окупаются не сразу. "
   ]
  }
 ],
 "metadata": {
  "ExecuteTimeLog": [
   {
    "duration": 499,
    "start_time": "2022-04-11T19:10:24.003Z"
   },
   {
    "duration": 1358,
    "start_time": "2022-04-11T19:11:10.751Z"
   },
   {
    "duration": 87,
    "start_time": "2022-04-11T19:11:43.017Z"
   },
   {
    "duration": 14,
    "start_time": "2022-04-11T19:11:59.166Z"
   },
   {
    "duration": 21,
    "start_time": "2022-04-11T19:20:08.409Z"
   },
   {
    "duration": 15,
    "start_time": "2022-04-11T19:20:20.319Z"
   },
   {
    "duration": 7,
    "start_time": "2022-04-11T19:27:17.052Z"
   },
   {
    "duration": 57,
    "start_time": "2022-04-11T19:27:18.352Z"
   },
   {
    "duration": 17,
    "start_time": "2022-04-11T19:27:18.653Z"
   },
   {
    "duration": 13,
    "start_time": "2022-04-11T19:27:19.309Z"
   },
   {
    "duration": 22,
    "start_time": "2022-04-11T19:27:40.577Z"
   },
   {
    "duration": 6,
    "start_time": "2022-04-11T19:28:19.896Z"
   },
   {
    "duration": 5,
    "start_time": "2022-04-11T19:28:26.795Z"
   },
   {
    "duration": 8,
    "start_time": "2022-04-11T19:28:35.907Z"
   },
   {
    "duration": 106,
    "start_time": "2022-04-11T19:28:54.670Z"
   },
   {
    "duration": 9,
    "start_time": "2022-04-11T19:28:57.695Z"
   },
   {
    "duration": 12,
    "start_time": "2022-04-11T19:29:12.921Z"
   },
   {
    "duration": 9,
    "start_time": "2022-04-11T19:31:36.110Z"
   },
   {
    "duration": 10,
    "start_time": "2022-04-11T19:32:08.861Z"
   },
   {
    "duration": 19,
    "start_time": "2022-04-11T19:40:22.742Z"
   },
   {
    "duration": 7,
    "start_time": "2022-04-11T19:40:34.724Z"
   },
   {
    "duration": 5,
    "start_time": "2022-04-11T19:41:31.798Z"
   },
   {
    "duration": 4,
    "start_time": "2022-04-11T19:41:35.220Z"
   },
   {
    "duration": 6,
    "start_time": "2022-04-11T19:41:49.665Z"
   },
   {
    "duration": 7,
    "start_time": "2022-04-11T19:41:51.533Z"
   },
   {
    "duration": 162,
    "start_time": "2022-04-11T19:42:04.400Z"
   },
   {
    "duration": 411,
    "start_time": "2022-04-11T19:42:21.923Z"
   },
   {
    "duration": 397,
    "start_time": "2022-04-11T19:42:30.378Z"
   },
   {
    "duration": 12,
    "start_time": "2022-04-11T19:44:43.516Z"
   },
   {
    "duration": 6,
    "start_time": "2022-04-11T19:44:54.123Z"
   },
   {
    "duration": 7,
    "start_time": "2022-04-11T19:44:57.441Z"
   },
   {
    "duration": 6,
    "start_time": "2022-04-11T19:45:13.462Z"
   },
   {
    "duration": 7,
    "start_time": "2022-04-11T19:45:15.065Z"
   },
   {
    "duration": 157,
    "start_time": "2022-04-11T19:45:27.586Z"
   },
   {
    "duration": 3,
    "start_time": "2022-04-11T19:48:28.072Z"
   },
   {
    "duration": 3,
    "start_time": "2022-04-11T19:48:43.001Z"
   },
   {
    "duration": 3,
    "start_time": "2022-04-11T19:48:47.981Z"
   },
   {
    "duration": 3,
    "start_time": "2022-04-11T19:48:49.667Z"
   },
   {
    "duration": 50,
    "start_time": "2022-04-11T19:48:50.474Z"
   },
   {
    "duration": 14,
    "start_time": "2022-04-11T19:48:50.865Z"
   },
   {
    "duration": 17,
    "start_time": "2022-04-11T19:48:51.251Z"
   },
   {
    "duration": 35,
    "start_time": "2022-04-11T19:48:52.291Z"
   },
   {
    "duration": 11,
    "start_time": "2022-04-11T19:48:53.133Z"
   },
   {
    "duration": 12,
    "start_time": "2022-04-11T19:48:53.438Z"
   },
   {
    "duration": 6,
    "start_time": "2022-04-11T19:48:55.726Z"
   },
   {
    "duration": 266,
    "start_time": "2022-04-11T19:48:56.046Z"
   },
   {
    "duration": 188,
    "start_time": "2022-04-11T19:50:03.321Z"
   },
   {
    "duration": 192,
    "start_time": "2022-04-11T19:50:46.834Z"
   },
   {
    "duration": 212,
    "start_time": "2022-04-11T19:50:51.498Z"
   },
   {
    "duration": 273,
    "start_time": "2022-04-11T19:50:57.507Z"
   },
   {
    "duration": 201,
    "start_time": "2022-04-11T19:51:06.514Z"
   },
   {
    "duration": 200,
    "start_time": "2022-04-11T19:51:38.322Z"
   },
   {
    "duration": 200,
    "start_time": "2022-04-11T19:52:00.283Z"
   },
   {
    "duration": 215,
    "start_time": "2022-04-11T19:52:31.979Z"
   },
   {
    "duration": 214,
    "start_time": "2022-04-11T19:52:40.833Z"
   },
   {
    "duration": 207,
    "start_time": "2022-04-11T19:52:46.805Z"
   },
   {
    "duration": 198,
    "start_time": "2022-04-11T19:52:51.737Z"
   },
   {
    "duration": 209,
    "start_time": "2022-04-11T19:52:56.147Z"
   },
   {
    "duration": 202,
    "start_time": "2022-04-11T19:53:03.072Z"
   },
   {
    "duration": 310,
    "start_time": "2022-04-11T19:53:33.330Z"
   },
   {
    "duration": 327,
    "start_time": "2022-04-11T19:53:39.335Z"
   },
   {
    "duration": 4,
    "start_time": "2022-04-11T19:54:16.193Z"
   },
   {
    "duration": 4,
    "start_time": "2022-04-11T19:54:17.898Z"
   },
   {
    "duration": 65,
    "start_time": "2022-04-11T19:54:18.783Z"
   },
   {
    "duration": 13,
    "start_time": "2022-04-11T19:54:19.065Z"
   },
   {
    "duration": 10,
    "start_time": "2022-04-11T19:54:19.350Z"
   },
   {
    "duration": 22,
    "start_time": "2022-04-11T19:54:20.231Z"
   },
   {
    "duration": 7,
    "start_time": "2022-04-11T19:54:20.843Z"
   },
   {
    "duration": 7,
    "start_time": "2022-04-11T19:54:21.136Z"
   },
   {
    "duration": 8,
    "start_time": "2022-04-11T19:54:23.167Z"
   },
   {
    "duration": 221,
    "start_time": "2022-04-11T19:54:23.678Z"
   },
   {
    "duration": 416,
    "start_time": "2022-04-11T19:54:23.999Z"
   },
   {
    "duration": 3,
    "start_time": "2022-04-11T19:54:54.461Z"
   },
   {
    "duration": 4,
    "start_time": "2022-04-11T19:54:55.137Z"
   },
   {
    "duration": 52,
    "start_time": "2022-04-11T19:54:56.172Z"
   },
   {
    "duration": 14,
    "start_time": "2022-04-11T19:54:56.448Z"
   },
   {
    "duration": 11,
    "start_time": "2022-04-11T19:54:56.755Z"
   },
   {
    "duration": 24,
    "start_time": "2022-04-11T19:54:57.826Z"
   },
   {
    "duration": 6,
    "start_time": "2022-04-11T19:54:58.764Z"
   },
   {
    "duration": 7,
    "start_time": "2022-04-11T19:54:59.101Z"
   },
   {
    "duration": 7,
    "start_time": "2022-04-11T19:55:01.637Z"
   },
   {
    "duration": 229,
    "start_time": "2022-04-11T19:55:02.161Z"
   },
   {
    "duration": 218,
    "start_time": "2022-04-11T19:55:51.084Z"
   },
   {
    "duration": 221,
    "start_time": "2022-04-11T19:55:56.296Z"
   },
   {
    "duration": 227,
    "start_time": "2022-04-11T19:56:26.158Z"
   },
   {
    "duration": 366,
    "start_time": "2022-04-11T19:56:32.781Z"
   },
   {
    "duration": 355,
    "start_time": "2022-04-11T19:56:41.108Z"
   },
   {
    "duration": 351,
    "start_time": "2022-04-11T19:56:48.496Z"
   },
   {
    "duration": 232,
    "start_time": "2022-04-11T19:56:56.023Z"
   },
   {
    "duration": 357,
    "start_time": "2022-04-11T19:59:39.574Z"
   },
   {
    "duration": 222,
    "start_time": "2022-04-11T19:59:46.237Z"
   },
   {
    "duration": 237,
    "start_time": "2022-04-11T20:01:13.505Z"
   },
   {
    "duration": 128,
    "start_time": "2022-04-11T20:06:27.579Z"
   },
   {
    "duration": 330,
    "start_time": "2022-04-11T20:06:32.240Z"
   },
   {
    "duration": 332,
    "start_time": "2022-04-11T20:07:45.387Z"
   },
   {
    "duration": 239,
    "start_time": "2022-04-11T20:10:15.364Z"
   },
   {
    "duration": 235,
    "start_time": "2022-04-11T20:10:17.463Z"
   },
   {
    "duration": 242,
    "start_time": "2022-04-11T20:10:20.800Z"
   },
   {
    "duration": 231,
    "start_time": "2022-04-11T20:11:11.640Z"
   },
   {
    "duration": 222,
    "start_time": "2022-04-11T20:11:17.592Z"
   },
   {
    "duration": 7,
    "start_time": "2022-04-11T20:11:51.567Z"
   },
   {
    "duration": 11,
    "start_time": "2022-04-11T20:11:52.672Z"
   },
   {
    "duration": 219,
    "start_time": "2022-04-11T20:11:53.193Z"
   },
   {
    "duration": 10,
    "start_time": "2022-04-11T20:20:22.178Z"
   },
   {
    "duration": 171,
    "start_time": "2022-04-11T20:20:39.239Z"
   },
   {
    "duration": 9,
    "start_time": "2022-04-11T20:20:49.784Z"
   },
   {
    "duration": 111,
    "start_time": "2022-04-11T20:21:09.506Z"
   },
   {
    "duration": 191,
    "start_time": "2022-04-11T20:26:14.925Z"
   },
   {
    "duration": 112,
    "start_time": "2022-04-11T20:26:25.618Z"
   },
   {
    "duration": 67,
    "start_time": "2022-04-11T20:26:30.497Z"
   },
   {
    "duration": 77,
    "start_time": "2022-04-11T20:26:36.938Z"
   },
   {
    "duration": 60,
    "start_time": "2022-04-11T20:26:42.896Z"
   },
   {
    "duration": 8,
    "start_time": "2022-04-11T20:27:05.183Z"
   },
   {
    "duration": 62,
    "start_time": "2022-04-11T20:27:21.128Z"
   },
   {
    "duration": 74,
    "start_time": "2022-04-11T20:27:40.050Z"
   },
   {
    "duration": 76,
    "start_time": "2022-04-11T20:27:59.812Z"
   },
   {
    "duration": 195,
    "start_time": "2022-04-11T20:28:29.556Z"
   },
   {
    "duration": 117,
    "start_time": "2022-04-11T20:28:53.687Z"
   },
   {
    "duration": 133,
    "start_time": "2022-04-11T20:29:01.760Z"
   },
   {
    "duration": 113,
    "start_time": "2022-04-11T20:29:41.302Z"
   },
   {
    "duration": 129,
    "start_time": "2022-04-11T20:29:45.925Z"
   },
   {
    "duration": 196,
    "start_time": "2022-04-11T20:30:14.403Z"
   },
   {
    "duration": 21,
    "start_time": "2022-04-11T20:35:12.595Z"
   },
   {
    "duration": 19,
    "start_time": "2022-04-11T20:35:51.471Z"
   },
   {
    "duration": 21,
    "start_time": "2022-04-11T20:36:00.842Z"
   },
   {
    "duration": 908,
    "start_time": "2022-04-11T20:36:18.254Z"
   },
   {
    "duration": 9,
    "start_time": "2022-04-11T20:36:57.003Z"
   },
   {
    "duration": 13,
    "start_time": "2022-04-11T20:37:10.513Z"
   },
   {
    "duration": 18,
    "start_time": "2022-04-11T20:37:24.450Z"
   },
   {
    "duration": 218,
    "start_time": "2022-04-11T20:37:38.976Z"
   },
   {
    "duration": 8,
    "start_time": "2022-04-11T20:37:41.331Z"
   },
   {
    "duration": 17,
    "start_time": "2022-04-11T20:37:48.761Z"
   },
   {
    "duration": 20,
    "start_time": "2022-04-11T20:38:43.986Z"
   },
   {
    "duration": 18,
    "start_time": "2022-04-11T20:39:20.386Z"
   },
   {
    "duration": 13,
    "start_time": "2022-04-11T20:40:38.472Z"
   },
   {
    "duration": 12,
    "start_time": "2022-04-11T20:42:09.753Z"
   },
   {
    "duration": 15,
    "start_time": "2022-04-11T20:42:31.253Z"
   },
   {
    "duration": 21,
    "start_time": "2022-04-11T20:42:52.220Z"
   },
   {
    "duration": 21,
    "start_time": "2022-04-11T20:43:00.927Z"
   },
   {
    "duration": 22,
    "start_time": "2022-04-11T20:43:16.093Z"
   },
   {
    "duration": 1541,
    "start_time": "2022-04-12T07:42:35.135Z"
   },
   {
    "duration": 3,
    "start_time": "2022-04-12T07:42:36.678Z"
   },
   {
    "duration": 12,
    "start_time": "2022-04-12T07:42:36.683Z"
   },
   {
    "duration": 67,
    "start_time": "2022-04-12T07:42:36.697Z"
   },
   {
    "duration": 15,
    "start_time": "2022-04-12T07:42:36.766Z"
   },
   {
    "duration": 14,
    "start_time": "2022-04-12T07:42:36.783Z"
   },
   {
    "duration": 49,
    "start_time": "2022-04-12T07:42:36.798Z"
   },
   {
    "duration": 7,
    "start_time": "2022-04-12T07:42:36.848Z"
   },
   {
    "duration": 9,
    "start_time": "2022-04-12T07:42:36.857Z"
   },
   {
    "duration": 8,
    "start_time": "2022-04-12T07:42:36.869Z"
   },
   {
    "duration": 314,
    "start_time": "2022-04-12T07:42:36.879Z"
   },
   {
    "duration": 171,
    "start_time": "2022-04-12T07:42:37.195Z"
   },
   {
    "duration": 12,
    "start_time": "2022-04-12T07:42:37.368Z"
   },
   {
    "duration": 19,
    "start_time": "2022-04-12T07:42:37.382Z"
   },
   {
    "duration": 45,
    "start_time": "2022-04-12T07:42:37.403Z"
   },
   {
    "duration": 8,
    "start_time": "2022-04-12T07:43:05.784Z"
   },
   {
    "duration": 8,
    "start_time": "2022-04-12T07:43:22.641Z"
   },
   {
    "duration": 263,
    "start_time": "2022-04-12T07:43:41.363Z"
   },
   {
    "duration": 244,
    "start_time": "2022-04-12T07:43:47.603Z"
   },
   {
    "duration": 241,
    "start_time": "2022-04-12T07:43:59.089Z"
   },
   {
    "duration": 256,
    "start_time": "2022-04-12T07:44:19.217Z"
   },
   {
    "duration": 8,
    "start_time": "2022-04-12T07:46:40.818Z"
   },
   {
    "duration": 10,
    "start_time": "2022-04-12T07:46:54.026Z"
   },
   {
    "duration": 247,
    "start_time": "2022-04-12T07:46:59.029Z"
   },
   {
    "duration": 16,
    "start_time": "2022-04-12T07:48:08.331Z"
   },
   {
    "duration": 3,
    "start_time": "2022-04-12T07:50:17.928Z"
   },
   {
    "duration": 4,
    "start_time": "2022-04-12T07:50:18.198Z"
   },
   {
    "duration": 4,
    "start_time": "2022-04-12T07:50:19.190Z"
   },
   {
    "duration": 80,
    "start_time": "2022-04-12T07:50:20.086Z"
   },
   {
    "duration": 14,
    "start_time": "2022-04-12T07:50:20.381Z"
   },
   {
    "duration": 13,
    "start_time": "2022-04-12T07:50:20.758Z"
   },
   {
    "duration": 35,
    "start_time": "2022-04-12T07:50:22.326Z"
   },
   {
    "duration": 9,
    "start_time": "2022-04-12T07:50:23.798Z"
   },
   {
    "duration": 8,
    "start_time": "2022-04-12T07:50:24.549Z"
   },
   {
    "duration": 109,
    "start_time": "2022-04-12T07:50:57.462Z"
   },
   {
    "duration": 18,
    "start_time": "2022-04-12T07:51:04.067Z"
   },
   {
    "duration": 5,
    "start_time": "2022-04-12T07:51:10.823Z"
   },
   {
    "duration": 8,
    "start_time": "2022-04-12T07:51:39.126Z"
   },
   {
    "duration": 244,
    "start_time": "2022-04-12T07:51:39.750Z"
   },
   {
    "duration": 236,
    "start_time": "2022-04-12T07:51:42.694Z"
   },
   {
    "duration": 11,
    "start_time": "2022-04-12T07:51:45.318Z"
   },
   {
    "duration": 265,
    "start_time": "2022-04-12T07:51:45.734Z"
   },
   {
    "duration": 17,
    "start_time": "2022-04-12T07:51:48.088Z"
   },
   {
    "duration": 8,
    "start_time": "2022-04-12T07:57:03.609Z"
   },
   {
    "duration": 9,
    "start_time": "2022-04-12T07:57:49.305Z"
   },
   {
    "duration": 4,
    "start_time": "2022-04-12T07:58:05.105Z"
   },
   {
    "duration": 8,
    "start_time": "2022-04-12T07:58:11.704Z"
   },
   {
    "duration": 6,
    "start_time": "2022-04-12T07:58:58.410Z"
   },
   {
    "duration": 9,
    "start_time": "2022-04-12T07:58:58.906Z"
   },
   {
    "duration": 219,
    "start_time": "2022-04-12T07:59:36.649Z"
   },
   {
    "duration": 5,
    "start_time": "2022-04-12T07:59:48.234Z"
   },
   {
    "duration": 9,
    "start_time": "2022-04-12T07:59:48.586Z"
   },
   {
    "duration": 5,
    "start_time": "2022-04-12T08:00:06.458Z"
   },
   {
    "duration": 9,
    "start_time": "2022-04-12T08:00:08.297Z"
   },
   {
    "duration": 10,
    "start_time": "2022-04-12T08:01:31.435Z"
   },
   {
    "duration": 8,
    "start_time": "2022-04-12T08:01:46.668Z"
   },
   {
    "duration": 9,
    "start_time": "2022-04-12T08:02:02.251Z"
   },
   {
    "duration": 13,
    "start_time": "2022-04-12T08:02:12.877Z"
   },
   {
    "duration": 154,
    "start_time": "2022-04-12T08:02:36.075Z"
   },
   {
    "duration": 220,
    "start_time": "2022-04-12T08:02:44.106Z"
   },
   {
    "duration": 12,
    "start_time": "2022-04-12T08:02:47.243Z"
   },
   {
    "duration": 191,
    "start_time": "2022-04-12T08:03:42.794Z"
   },
   {
    "duration": 15,
    "start_time": "2022-04-12T08:03:48.043Z"
   },
   {
    "duration": 170,
    "start_time": "2022-04-12T08:05:14.347Z"
   },
   {
    "duration": 154,
    "start_time": "2022-04-12T08:05:19.390Z"
   },
   {
    "duration": 171,
    "start_time": "2022-04-12T08:05:31.244Z"
   },
   {
    "duration": 13,
    "start_time": "2022-04-12T08:05:35.407Z"
   },
   {
    "duration": 10,
    "start_time": "2022-04-12T08:06:20.159Z"
   },
   {
    "duration": 4,
    "start_time": "2022-04-12T08:06:38.120Z"
   },
   {
    "duration": 9,
    "start_time": "2022-04-12T08:06:41.040Z"
   },
   {
    "duration": 18,
    "start_time": "2022-04-12T08:08:09.983Z"
   },
   {
    "duration": 14,
    "start_time": "2022-04-12T08:08:19.071Z"
   },
   {
    "duration": 12,
    "start_time": "2022-04-12T08:08:27.377Z"
   },
   {
    "duration": 18,
    "start_time": "2022-04-12T08:08:38.048Z"
   },
   {
    "duration": 10,
    "start_time": "2022-04-12T08:09:08.078Z"
   },
   {
    "duration": 9,
    "start_time": "2022-04-12T08:09:14.369Z"
   },
   {
    "duration": 253,
    "start_time": "2022-04-12T08:09:24.707Z"
   },
   {
    "duration": 258,
    "start_time": "2022-04-12T08:10:00.399Z"
   },
   {
    "duration": 253,
    "start_time": "2022-04-12T08:10:21.743Z"
   },
   {
    "duration": 268,
    "start_time": "2022-04-12T08:10:25.999Z"
   },
   {
    "duration": 251,
    "start_time": "2022-04-12T08:10:36.319Z"
   },
   {
    "duration": 871,
    "start_time": "2022-04-12T08:14:43.810Z"
   },
   {
    "duration": 261,
    "start_time": "2022-04-12T08:15:16.693Z"
   },
   {
    "duration": 8,
    "start_time": "2022-04-12T08:16:02.677Z"
   },
   {
    "duration": 9,
    "start_time": "2022-04-12T08:17:32.995Z"
   },
   {
    "duration": 353,
    "start_time": "2022-04-12T08:17:42.323Z"
   },
   {
    "duration": 306,
    "start_time": "2022-04-12T08:18:21.732Z"
   },
   {
    "duration": 304,
    "start_time": "2022-04-12T08:18:40.197Z"
   },
   {
    "duration": 260,
    "start_time": "2022-04-12T08:19:01.027Z"
   },
   {
    "duration": 304,
    "start_time": "2022-04-12T08:19:05.875Z"
   },
   {
    "duration": 389,
    "start_time": "2022-04-12T08:19:10.932Z"
   },
   {
    "duration": 299,
    "start_time": "2022-04-12T08:19:30.405Z"
   },
   {
    "duration": 311,
    "start_time": "2022-04-12T08:19:36.963Z"
   },
   {
    "duration": 16,
    "start_time": "2022-04-12T08:20:11.534Z"
   },
   {
    "duration": 8,
    "start_time": "2022-04-12T08:20:26.324Z"
   },
   {
    "duration": 16,
    "start_time": "2022-04-12T08:21:37.957Z"
   },
   {
    "duration": 18,
    "start_time": "2022-04-12T08:22:04.469Z"
   },
   {
    "duration": 19,
    "start_time": "2022-04-12T08:22:14.517Z"
   },
   {
    "duration": 19,
    "start_time": "2022-04-12T08:23:47.270Z"
   },
   {
    "duration": 18,
    "start_time": "2022-04-12T08:25:17.738Z"
   },
   {
    "duration": 17,
    "start_time": "2022-04-12T08:25:38.358Z"
   },
   {
    "duration": 164,
    "start_time": "2022-04-12T08:25:44.002Z"
   },
   {
    "duration": 19,
    "start_time": "2022-04-12T08:25:47.095Z"
   },
   {
    "duration": 30,
    "start_time": "2022-04-12T08:26:04.038Z"
   },
   {
    "duration": 29,
    "start_time": "2022-04-12T08:26:16.887Z"
   },
   {
    "duration": 25,
    "start_time": "2022-04-12T08:26:26.327Z"
   },
   {
    "duration": 14,
    "start_time": "2022-04-12T08:28:16.971Z"
   },
   {
    "duration": 13,
    "start_time": "2022-04-12T08:28:33.081Z"
   },
   {
    "duration": 11,
    "start_time": "2022-04-12T08:28:42.488Z"
   },
   {
    "duration": 14,
    "start_time": "2022-04-12T08:28:57.866Z"
   },
   {
    "duration": 13,
    "start_time": "2022-04-12T08:29:03.289Z"
   },
   {
    "duration": 25,
    "start_time": "2022-04-12T08:30:13.268Z"
   },
   {
    "duration": 32,
    "start_time": "2022-04-12T08:30:37.843Z"
   },
   {
    "duration": 32,
    "start_time": "2022-04-12T08:30:46.199Z"
   },
   {
    "duration": 35,
    "start_time": "2022-04-12T08:30:52.251Z"
   },
   {
    "duration": 25,
    "start_time": "2022-04-12T08:31:18.665Z"
   },
   {
    "duration": 26,
    "start_time": "2022-04-12T08:31:32.505Z"
   },
   {
    "duration": 19,
    "start_time": "2022-04-12T08:32:02.457Z"
   },
   {
    "duration": 12,
    "start_time": "2022-04-12T08:32:05.981Z"
   },
   {
    "duration": 1563,
    "start_time": "2022-04-12T08:32:41.947Z"
   },
   {
    "duration": 17,
    "start_time": "2022-04-12T08:33:30.136Z"
   },
   {
    "duration": 1631,
    "start_time": "2022-04-12T08:33:49.864Z"
   },
   {
    "duration": 1481,
    "start_time": "2022-04-12T08:34:10.186Z"
   },
   {
    "duration": 1661,
    "start_time": "2022-04-12T08:34:23.561Z"
   },
   {
    "duration": 1658,
    "start_time": "2022-04-12T08:34:35.948Z"
   },
   {
    "duration": 1806,
    "start_time": "2022-04-12T08:34:54.857Z"
   },
   {
    "duration": 1819,
    "start_time": "2022-04-12T08:35:30.074Z"
   },
   {
    "duration": 1803,
    "start_time": "2022-04-12T08:36:30.580Z"
   },
   {
    "duration": 1600,
    "start_time": "2022-04-12T08:37:18.604Z"
   },
   {
    "duration": 1956,
    "start_time": "2022-04-12T08:37:25.164Z"
   },
   {
    "duration": 1994,
    "start_time": "2022-04-12T08:37:38.875Z"
   },
   {
    "duration": 1952,
    "start_time": "2022-04-12T08:37:52.603Z"
   },
   {
    "duration": 1971,
    "start_time": "2022-04-12T08:38:24.752Z"
   },
   {
    "duration": 17,
    "start_time": "2022-04-12T08:38:36.316Z"
   },
   {
    "duration": 2888,
    "start_time": "2022-04-12T08:38:36.861Z"
   },
   {
    "duration": 17,
    "start_time": "2022-04-12T08:39:14.795Z"
   },
   {
    "duration": 1907,
    "start_time": "2022-04-12T08:39:15.290Z"
   },
   {
    "duration": 1893,
    "start_time": "2022-04-12T08:39:51.296Z"
   },
   {
    "duration": 1892,
    "start_time": "2022-04-12T08:39:56.797Z"
   },
   {
    "duration": 1790,
    "start_time": "2022-04-12T08:40:33.261Z"
   },
   {
    "duration": 2068,
    "start_time": "2022-04-12T08:41:49.629Z"
   },
   {
    "duration": 331,
    "start_time": "2022-04-12T08:46:39.630Z"
   },
   {
    "duration": 612,
    "start_time": "2022-04-12T08:46:47.328Z"
   },
   {
    "duration": 317,
    "start_time": "2022-04-12T08:46:52.976Z"
   },
   {
    "duration": 497,
    "start_time": "2022-04-12T08:47:33.280Z"
   },
   {
    "duration": 515,
    "start_time": "2022-04-12T08:47:41.454Z"
   },
   {
    "duration": 516,
    "start_time": "2022-04-12T08:47:47.968Z"
   },
   {
    "duration": 660,
    "start_time": "2022-04-12T08:47:57.278Z"
   },
   {
    "duration": 606,
    "start_time": "2022-04-12T08:49:19.256Z"
   },
   {
    "duration": 523,
    "start_time": "2022-04-12T08:52:16.496Z"
   },
   {
    "duration": 492,
    "start_time": "2022-04-12T08:52:22.832Z"
   },
   {
    "duration": 547,
    "start_time": "2022-04-12T08:52:46.353Z"
   },
   {
    "duration": 480,
    "start_time": "2022-04-12T08:53:31.043Z"
   },
   {
    "duration": 148,
    "start_time": "2022-04-12T09:24:34.267Z"
   },
   {
    "duration": 17,
    "start_time": "2022-04-12T09:24:37.899Z"
   },
   {
    "duration": 17,
    "start_time": "2022-04-12T09:24:43.834Z"
   },
   {
    "duration": 15,
    "start_time": "2022-04-12T09:24:49.657Z"
   },
   {
    "duration": 17,
    "start_time": "2022-04-12T09:24:54.666Z"
   },
   {
    "duration": 154,
    "start_time": "2022-04-12T09:25:10.651Z"
   },
   {
    "duration": 418,
    "start_time": "2022-04-12T09:25:22.410Z"
   },
   {
    "duration": 248,
    "start_time": "2022-04-12T09:25:54.235Z"
   },
   {
    "duration": 22,
    "start_time": "2022-04-12T09:26:13.659Z"
   },
   {
    "duration": 246,
    "start_time": "2022-04-12T09:26:24.380Z"
   },
   {
    "duration": 247,
    "start_time": "2022-04-12T09:26:31.790Z"
   },
   {
    "duration": 256,
    "start_time": "2022-04-12T09:26:43.035Z"
   },
   {
    "duration": 4,
    "start_time": "2022-04-12T09:26:57.610Z"
   },
   {
    "duration": 13,
    "start_time": "2022-04-12T09:27:00.123Z"
   },
   {
    "duration": 20,
    "start_time": "2022-04-12T09:27:04.891Z"
   },
   {
    "duration": 29,
    "start_time": "2022-04-12T09:28:03.692Z"
   },
   {
    "duration": 26,
    "start_time": "2022-04-12T09:28:40.989Z"
   },
   {
    "duration": 29,
    "start_time": "2022-04-12T09:28:59.004Z"
   },
   {
    "duration": 2461,
    "start_time": "2022-04-12T09:29:53.499Z"
   },
   {
    "duration": 12,
    "start_time": "2022-04-12T09:30:24.302Z"
   },
   {
    "duration": 13,
    "start_time": "2022-04-12T09:30:49.018Z"
   },
   {
    "duration": 4,
    "start_time": "2022-04-12T09:32:42.637Z"
   },
   {
    "duration": 10,
    "start_time": "2022-04-12T09:33:01.293Z"
   },
   {
    "duration": 25,
    "start_time": "2022-04-12T09:33:06.573Z"
   },
   {
    "duration": 8,
    "start_time": "2022-04-12T09:33:18.974Z"
   },
   {
    "duration": 21,
    "start_time": "2022-04-12T09:33:19.381Z"
   },
   {
    "duration": 12,
    "start_time": "2022-04-12T09:33:52.736Z"
   },
   {
    "duration": 22,
    "start_time": "2022-04-12T09:33:53.357Z"
   },
   {
    "duration": 3,
    "start_time": "2022-04-12T09:33:59.792Z"
   },
   {
    "duration": 11,
    "start_time": "2022-04-12T09:34:00.206Z"
   },
   {
    "duration": 16,
    "start_time": "2022-04-12T09:34:00.670Z"
   },
   {
    "duration": 24,
    "start_time": "2022-04-12T09:34:09.630Z"
   },
   {
    "duration": 22,
    "start_time": "2022-04-12T09:34:10.049Z"
   },
   {
    "duration": 5,
    "start_time": "2022-04-12T09:34:39.597Z"
   },
   {
    "duration": 17,
    "start_time": "2022-04-12T09:34:39.982Z"
   },
   {
    "duration": 19,
    "start_time": "2022-04-12T09:34:40.525Z"
   },
   {
    "duration": 4,
    "start_time": "2022-04-12T09:34:49.421Z"
   },
   {
    "duration": 27,
    "start_time": "2022-04-12T09:34:50.030Z"
   },
   {
    "duration": 8,
    "start_time": "2022-04-12T09:34:59.965Z"
   },
   {
    "duration": 17,
    "start_time": "2022-04-12T09:35:01.934Z"
   },
   {
    "duration": 4,
    "start_time": "2022-04-12T09:35:09.377Z"
   },
   {
    "duration": 12,
    "start_time": "2022-04-12T09:35:09.725Z"
   },
   {
    "duration": 11,
    "start_time": "2022-04-12T09:35:10.032Z"
   },
   {
    "duration": 11,
    "start_time": "2022-04-12T09:35:33.919Z"
   },
   {
    "duration": 11,
    "start_time": "2022-04-12T09:37:21.455Z"
   },
   {
    "duration": 17,
    "start_time": "2022-04-12T09:37:22.003Z"
   },
   {
    "duration": 4,
    "start_time": "2022-04-12T09:38:24.616Z"
   },
   {
    "duration": 22,
    "start_time": "2022-04-12T09:38:25.544Z"
   },
   {
    "duration": 10,
    "start_time": "2022-04-12T09:39:27.951Z"
   },
   {
    "duration": 18,
    "start_time": "2022-04-12T09:39:28.511Z"
   },
   {
    "duration": 4,
    "start_time": "2022-04-12T09:40:23.456Z"
   },
   {
    "duration": 20,
    "start_time": "2022-04-12T09:40:24.368Z"
   },
   {
    "duration": 13,
    "start_time": "2022-04-12T09:40:25.568Z"
   },
   {
    "duration": 18,
    "start_time": "2022-04-12T09:40:26.016Z"
   },
   {
    "duration": 9,
    "start_time": "2022-04-12T09:40:30.784Z"
   },
   {
    "duration": 14,
    "start_time": "2022-04-12T09:40:31.217Z"
   },
   {
    "duration": 27,
    "start_time": "2022-04-12T09:40:47.264Z"
   },
   {
    "duration": 17,
    "start_time": "2022-04-12T09:41:47.984Z"
   },
   {
    "duration": 15,
    "start_time": "2022-04-12T09:42:35.969Z"
   },
   {
    "duration": 16,
    "start_time": "2022-04-12T09:43:05.184Z"
   },
   {
    "duration": 16,
    "start_time": "2022-04-12T09:43:14.401Z"
   },
   {
    "duration": 20,
    "start_time": "2022-04-12T09:43:26.466Z"
   },
   {
    "duration": 21,
    "start_time": "2022-04-12T09:44:28.754Z"
   },
   {
    "duration": 29,
    "start_time": "2022-04-12T09:44:45.856Z"
   },
   {
    "duration": 231,
    "start_time": "2022-04-12T09:44:57.009Z"
   },
   {
    "duration": 27,
    "start_time": "2022-04-12T09:45:11.137Z"
   },
   {
    "duration": 309,
    "start_time": "2022-04-12T09:45:29.954Z"
   },
   {
    "duration": 22,
    "start_time": "2022-04-12T09:45:52.817Z"
   },
   {
    "duration": 14,
    "start_time": "2022-04-12T09:50:48.052Z"
   },
   {
    "duration": 2586,
    "start_time": "2022-04-12T09:51:31.604Z"
   },
   {
    "duration": 6,
    "start_time": "2022-04-12T09:51:40.549Z"
   },
   {
    "duration": 20,
    "start_time": "2022-04-12T09:52:20.469Z"
   },
   {
    "duration": 2431,
    "start_time": "2022-04-12T09:53:27.126Z"
   },
   {
    "duration": 2386,
    "start_time": "2022-04-12T09:54:45.079Z"
   },
   {
    "duration": 11,
    "start_time": "2022-04-12T09:54:57.062Z"
   },
   {
    "duration": 11,
    "start_time": "2022-04-12T09:55:11.097Z"
   },
   {
    "duration": 10,
    "start_time": "2022-04-12T09:55:19.413Z"
   },
   {
    "duration": 14,
    "start_time": "2022-04-12T09:55:26.955Z"
   },
   {
    "duration": 18,
    "start_time": "2022-04-12T09:55:31.640Z"
   },
   {
    "duration": 15,
    "start_time": "2022-04-12T09:56:55.655Z"
   },
   {
    "duration": 16,
    "start_time": "2022-04-12T09:57:05.992Z"
   },
   {
    "duration": 11,
    "start_time": "2022-04-12T09:57:17.769Z"
   },
   {
    "duration": 15,
    "start_time": "2022-04-12T09:57:27.239Z"
   },
   {
    "duration": 13,
    "start_time": "2022-04-12T09:58:00.984Z"
   },
   {
    "duration": 6,
    "start_time": "2022-04-12T09:58:06.568Z"
   },
   {
    "duration": 10,
    "start_time": "2022-04-12T10:02:58.010Z"
   },
   {
    "duration": 10,
    "start_time": "2022-04-12T10:03:09.803Z"
   },
   {
    "duration": 27,
    "start_time": "2022-04-12T10:03:15.993Z"
   },
   {
    "duration": 143,
    "start_time": "2022-04-12T10:05:15.675Z"
   },
   {
    "duration": 7,
    "start_time": "2022-04-12T10:05:20.924Z"
   },
   {
    "duration": 32,
    "start_time": "2022-04-12T10:05:44.593Z"
   },
   {
    "duration": 21,
    "start_time": "2022-04-12T10:05:51.482Z"
   },
   {
    "duration": 4,
    "start_time": "2022-04-12T10:05:56.827Z"
   },
   {
    "duration": 4,
    "start_time": "2022-04-12T10:06:06.890Z"
   },
   {
    "duration": 5,
    "start_time": "2022-04-12T10:06:13.059Z"
   },
   {
    "duration": 4,
    "start_time": "2022-04-12T10:06:18.587Z"
   },
   {
    "duration": 12,
    "start_time": "2022-04-12T10:09:29.408Z"
   },
   {
    "duration": 20,
    "start_time": "2022-04-12T10:09:52.268Z"
   },
   {
    "duration": 7,
    "start_time": "2022-04-12T10:09:57.821Z"
   },
   {
    "duration": 4,
    "start_time": "2022-04-12T10:10:43.022Z"
   },
   {
    "duration": 4,
    "start_time": "2022-04-12T10:10:51.229Z"
   },
   {
    "duration": 4,
    "start_time": "2022-04-12T10:11:11.566Z"
   },
   {
    "duration": 4,
    "start_time": "2022-04-12T10:11:31.357Z"
   },
   {
    "duration": 162,
    "start_time": "2022-04-12T10:12:03.645Z"
   },
   {
    "duration": 160,
    "start_time": "2022-04-12T10:12:08.693Z"
   },
   {
    "duration": 3248,
    "start_time": "2022-04-12T10:12:13.188Z"
   },
   {
    "duration": 7,
    "start_time": "2022-04-12T10:12:23.549Z"
   },
   {
    "duration": 8231,
    "start_time": "2022-04-12T10:13:12.702Z"
   },
   {
    "duration": 17,
    "start_time": "2022-04-12T10:13:20.936Z"
   },
   {
    "duration": 29,
    "start_time": "2022-04-12T10:13:22.015Z"
   },
   {
    "duration": 6,
    "start_time": "2022-04-12T10:13:23.986Z"
   },
   {
    "duration": 8796,
    "start_time": "2022-04-12T10:13:24.624Z"
   },
   {
    "duration": 7,
    "start_time": "2022-04-12T10:13:35.229Z"
   },
   {
    "duration": 9,
    "start_time": "2022-04-12T10:13:59.010Z"
   },
   {
    "duration": 6,
    "start_time": "2022-04-12T10:14:10.478Z"
   },
   {
    "duration": 3,
    "start_time": "2022-04-12T10:14:41.813Z"
   },
   {
    "duration": 6,
    "start_time": "2022-04-12T10:14:41.818Z"
   },
   {
    "duration": 6,
    "start_time": "2022-04-12T10:14:41.826Z"
   },
   {
    "duration": 73,
    "start_time": "2022-04-12T10:14:41.835Z"
   },
   {
    "duration": 27,
    "start_time": "2022-04-12T10:14:41.910Z"
   },
   {
    "duration": 21,
    "start_time": "2022-04-12T10:14:41.939Z"
   },
   {
    "duration": 30,
    "start_time": "2022-04-12T10:14:41.962Z"
   },
   {
    "duration": 7,
    "start_time": "2022-04-12T10:14:41.994Z"
   },
   {
    "duration": 35,
    "start_time": "2022-04-12T10:14:42.005Z"
   },
   {
    "duration": 7,
    "start_time": "2022-04-12T10:14:42.042Z"
   },
   {
    "duration": 11,
    "start_time": "2022-04-12T10:14:42.051Z"
   },
   {
    "duration": 281,
    "start_time": "2022-04-12T10:14:42.064Z"
   },
   {
    "duration": 8,
    "start_time": "2022-04-12T10:14:42.347Z"
   },
   {
    "duration": 267,
    "start_time": "2022-04-12T10:14:42.357Z"
   },
   {
    "duration": 12,
    "start_time": "2022-04-12T10:14:42.627Z"
   },
   {
    "duration": 334,
    "start_time": "2022-04-12T10:14:42.641Z"
   },
   {
    "duration": 20,
    "start_time": "2022-04-12T10:14:42.977Z"
   },
   {
    "duration": 429,
    "start_time": "2022-04-12T10:14:42.999Z"
   },
   {
    "duration": 21,
    "start_time": "2022-04-12T10:14:43.429Z"
   },
   {
    "duration": 1754,
    "start_time": "2022-04-12T10:14:43.452Z"
   },
   {
    "duration": 730,
    "start_time": "2022-04-12T10:14:45.208Z"
   },
   {
    "duration": 527,
    "start_time": "2022-04-12T10:14:45.941Z"
   },
   {
    "duration": 32,
    "start_time": "2022-04-12T10:14:46.471Z"
   },
   {
    "duration": 354,
    "start_time": "2022-04-12T10:14:46.507Z"
   },
   {
    "duration": 30,
    "start_time": "2022-04-12T10:15:10.799Z"
   },
   {
    "duration": 31,
    "start_time": "2022-04-12T10:15:27.074Z"
   },
   {
    "duration": 18,
    "start_time": "2022-04-12T10:15:31.439Z"
   },
   {
    "duration": 2449,
    "start_time": "2022-04-12T10:15:58.111Z"
   },
   {
    "duration": 7969,
    "start_time": "2022-04-12T10:16:29.281Z"
   },
   {
    "duration": 20,
    "start_time": "2022-04-12T10:16:38.642Z"
   },
   {
    "duration": 107,
    "start_time": "2022-04-12T10:19:15.940Z"
   },
   {
    "duration": 8,
    "start_time": "2022-04-12T10:19:26.196Z"
   },
   {
    "duration": 107,
    "start_time": "2022-04-12T10:20:19.266Z"
   },
   {
    "duration": 8,
    "start_time": "2022-04-12T10:20:21.711Z"
   },
   {
    "duration": 12,
    "start_time": "2022-04-12T10:20:34.896Z"
   },
   {
    "duration": 5,
    "start_time": "2022-04-12T10:20:44.561Z"
   },
   {
    "duration": 22,
    "start_time": "2022-04-12T10:20:45.345Z"
   },
   {
    "duration": 3,
    "start_time": "2022-04-12T10:22:40.620Z"
   },
   {
    "duration": 4,
    "start_time": "2022-04-12T10:22:40.630Z"
   },
   {
    "duration": 13,
    "start_time": "2022-04-12T10:22:40.636Z"
   },
   {
    "duration": 82,
    "start_time": "2022-04-12T10:22:40.651Z"
   },
   {
    "duration": 16,
    "start_time": "2022-04-12T10:22:40.736Z"
   },
   {
    "duration": 16,
    "start_time": "2022-04-12T10:22:40.754Z"
   },
   {
    "duration": 67,
    "start_time": "2022-04-12T10:22:40.772Z"
   },
   {
    "duration": 9,
    "start_time": "2022-04-12T10:22:40.842Z"
   },
   {
    "duration": 14,
    "start_time": "2022-04-12T10:22:40.853Z"
   },
   {
    "duration": 9,
    "start_time": "2022-04-12T10:22:40.869Z"
   },
   {
    "duration": 9,
    "start_time": "2022-04-12T10:22:40.881Z"
   },
   {
    "duration": 289,
    "start_time": "2022-04-12T10:22:40.892Z"
   },
   {
    "duration": 9,
    "start_time": "2022-04-12T10:22:41.183Z"
   },
   {
    "duration": 181,
    "start_time": "2022-04-12T10:22:41.194Z"
   },
   {
    "duration": 10,
    "start_time": "2022-04-12T10:22:41.376Z"
   },
   {
    "duration": 269,
    "start_time": "2022-04-12T10:22:41.389Z"
   },
   {
    "duration": 19,
    "start_time": "2022-04-12T10:22:41.660Z"
   },
   {
    "duration": 299,
    "start_time": "2022-04-12T10:22:41.682Z"
   },
   {
    "duration": 20,
    "start_time": "2022-04-12T10:22:41.983Z"
   },
   {
    "duration": 2187,
    "start_time": "2022-04-12T10:22:42.004Z"
   },
   {
    "duration": 592,
    "start_time": "2022-04-12T10:22:44.193Z"
   },
   {
    "duration": 713,
    "start_time": "2022-04-12T10:22:44.786Z"
   },
   {
    "duration": 43,
    "start_time": "2022-04-12T10:22:45.501Z"
   },
   {
    "duration": 352,
    "start_time": "2022-04-12T10:22:45.546Z"
   },
   {
    "duration": 26,
    "start_time": "2022-04-12T10:23:00.821Z"
   },
   {
    "duration": 7,
    "start_time": "2022-04-12T10:23:04.931Z"
   },
   {
    "duration": 9,
    "start_time": "2022-04-12T10:26:31.430Z"
   },
   {
    "duration": 14,
    "start_time": "2022-04-12T10:27:45.478Z"
   },
   {
    "duration": 3,
    "start_time": "2022-04-12T10:27:49.316Z"
   },
   {
    "duration": 15,
    "start_time": "2022-04-12T10:27:49.845Z"
   },
   {
    "duration": 5,
    "start_time": "2022-04-12T10:27:54.710Z"
   },
   {
    "duration": 6,
    "start_time": "2022-04-12T10:28:00.178Z"
   },
   {
    "duration": 3,
    "start_time": "2022-04-12T10:28:34.660Z"
   },
   {
    "duration": 13,
    "start_time": "2022-04-12T10:29:37.780Z"
   },
   {
    "duration": 4,
    "start_time": "2022-04-12T10:29:41.430Z"
   },
   {
    "duration": 12,
    "start_time": "2022-04-12T10:29:41.943Z"
   },
   {
    "duration": 4,
    "start_time": "2022-04-12T10:30:03.925Z"
   },
   {
    "duration": 3,
    "start_time": "2022-04-12T10:30:07.606Z"
   },
   {
    "duration": 12,
    "start_time": "2022-04-12T10:30:15.252Z"
   },
   {
    "duration": 3,
    "start_time": "2022-04-12T10:30:20.503Z"
   },
   {
    "duration": 183,
    "start_time": "2022-04-12T10:30:35.285Z"
   },
   {
    "duration": 4,
    "start_time": "2022-04-12T10:30:41.957Z"
   },
   {
    "duration": 349,
    "start_time": "2022-04-12T10:36:26.120Z"
   },
   {
    "duration": 8,
    "start_time": "2022-04-12T10:36:30.505Z"
   },
   {
    "duration": 7,
    "start_time": "2022-04-12T10:36:58.583Z"
   },
   {
    "duration": 30,
    "start_time": "2022-04-12T10:38:53.352Z"
   },
   {
    "duration": 6,
    "start_time": "2022-04-12T10:39:10.392Z"
   },
   {
    "duration": 8,
    "start_time": "2022-04-12T10:39:17.000Z"
   },
   {
    "duration": 32,
    "start_time": "2022-04-12T10:39:35.625Z"
   },
   {
    "duration": 8,
    "start_time": "2022-04-12T10:39:37.099Z"
   },
   {
    "duration": 7,
    "start_time": "2022-04-12T10:39:37.945Z"
   },
   {
    "duration": 48,
    "start_time": "2022-04-12T10:39:47.226Z"
   },
   {
    "duration": 6,
    "start_time": "2022-04-12T10:39:49.081Z"
   },
   {
    "duration": 6,
    "start_time": "2022-04-12T10:39:49.800Z"
   },
   {
    "duration": 15,
    "start_time": "2022-04-12T10:39:58.793Z"
   },
   {
    "duration": 12,
    "start_time": "2022-04-12T10:40:19.577Z"
   },
   {
    "duration": 10,
    "start_time": "2022-04-12T10:40:24.631Z"
   },
   {
    "duration": 10,
    "start_time": "2022-04-12T10:40:32.936Z"
   },
   {
    "duration": 72,
    "start_time": "2022-04-12T11:07:19.288Z"
   },
   {
    "duration": 27,
    "start_time": "2022-04-12T11:07:19.958Z"
   },
   {
    "duration": 2,
    "start_time": "2022-04-12T11:07:30.232Z"
   },
   {
    "duration": 18,
    "start_time": "2022-04-12T11:07:30.236Z"
   },
   {
    "duration": 14,
    "start_time": "2022-04-12T11:07:30.256Z"
   },
   {
    "duration": 67,
    "start_time": "2022-04-12T11:07:30.272Z"
   },
   {
    "duration": 16,
    "start_time": "2022-04-12T11:07:30.341Z"
   },
   {
    "duration": 11,
    "start_time": "2022-04-12T11:07:30.358Z"
   },
   {
    "duration": 28,
    "start_time": "2022-04-12T11:07:30.371Z"
   },
   {
    "duration": 6,
    "start_time": "2022-04-12T11:07:30.401Z"
   },
   {
    "duration": 29,
    "start_time": "2022-04-12T11:07:30.410Z"
   },
   {
    "duration": 6,
    "start_time": "2022-04-12T11:07:30.441Z"
   },
   {
    "duration": 24,
    "start_time": "2022-04-12T11:07:30.449Z"
   },
   {
    "duration": 236,
    "start_time": "2022-04-12T11:07:30.475Z"
   },
   {
    "duration": 7,
    "start_time": "2022-04-12T11:07:30.713Z"
   },
   {
    "duration": 151,
    "start_time": "2022-04-12T11:07:30.734Z"
   },
   {
    "duration": 8,
    "start_time": "2022-04-12T11:07:30.887Z"
   },
   {
    "duration": 248,
    "start_time": "2022-04-12T11:07:30.896Z"
   },
   {
    "duration": 16,
    "start_time": "2022-04-12T11:07:31.146Z"
   },
   {
    "duration": 269,
    "start_time": "2022-04-12T11:07:31.164Z"
   },
   {
    "duration": 19,
    "start_time": "2022-04-12T11:07:31.435Z"
   },
   {
    "duration": 1677,
    "start_time": "2022-04-12T11:07:31.455Z"
   },
   {
    "duration": 502,
    "start_time": "2022-04-12T11:07:33.133Z"
   },
   {
    "duration": 650,
    "start_time": "2022-04-12T11:07:33.636Z"
   },
   {
    "duration": 22,
    "start_time": "2022-04-12T11:07:34.287Z"
   },
   {
    "duration": 300,
    "start_time": "2022-04-12T11:07:34.333Z"
   },
   {
    "duration": 68,
    "start_time": "2022-04-12T11:07:34.635Z"
   },
   {
    "duration": 61,
    "start_time": "2022-04-12T11:07:39.943Z"
   },
   {
    "duration": 25,
    "start_time": "2022-04-12T11:07:41.606Z"
   },
   {
    "duration": 25,
    "start_time": "2022-04-12T11:08:28.476Z"
   },
   {
    "duration": 22,
    "start_time": "2022-04-12T11:09:55.480Z"
   },
   {
    "duration": 21,
    "start_time": "2022-04-12T11:10:15.768Z"
   },
   {
    "duration": 21,
    "start_time": "2022-04-12T11:10:24.599Z"
   },
   {
    "duration": 23,
    "start_time": "2022-04-12T11:10:33.751Z"
   },
   {
    "duration": 22,
    "start_time": "2022-04-12T11:11:26.633Z"
   },
   {
    "duration": 21,
    "start_time": "2022-04-12T11:11:40.087Z"
   },
   {
    "duration": 17,
    "start_time": "2022-04-12T11:11:48.359Z"
   },
   {
    "duration": 21,
    "start_time": "2022-04-12T11:12:09.625Z"
   },
   {
    "duration": 169,
    "start_time": "2022-04-12T11:13:15.350Z"
   },
   {
    "duration": 272,
    "start_time": "2022-04-12T11:13:25.225Z"
   },
   {
    "duration": 21,
    "start_time": "2022-04-12T11:29:48.559Z"
   },
   {
    "duration": 20,
    "start_time": "2022-04-12T11:29:53.841Z"
   },
   {
    "duration": 20,
    "start_time": "2022-04-12T11:30:08.706Z"
   },
   {
    "duration": 20,
    "start_time": "2022-04-12T11:30:13.281Z"
   },
   {
    "duration": 22,
    "start_time": "2022-04-12T11:30:21.471Z"
   },
   {
    "duration": 24,
    "start_time": "2022-04-12T11:30:32.367Z"
   },
   {
    "duration": 15,
    "start_time": "2022-04-12T11:30:59.026Z"
   },
   {
    "duration": 10,
    "start_time": "2022-04-12T11:31:07.598Z"
   },
   {
    "duration": 22,
    "start_time": "2022-04-12T11:31:22.783Z"
   },
   {
    "duration": 21,
    "start_time": "2022-04-12T11:31:49.726Z"
   },
   {
    "duration": 3,
    "start_time": "2022-04-12T11:32:40.608Z"
   },
   {
    "duration": 8,
    "start_time": "2022-04-12T11:32:46.015Z"
   },
   {
    "duration": 8,
    "start_time": "2022-04-12T11:33:06.213Z"
   },
   {
    "duration": 8,
    "start_time": "2022-04-12T11:33:34.159Z"
   },
   {
    "duration": 8,
    "start_time": "2022-04-12T11:50:26.532Z"
   },
   {
    "duration": 11,
    "start_time": "2022-04-12T11:51:38.561Z"
   },
   {
    "duration": 16,
    "start_time": "2022-04-12T11:52:14.803Z"
   },
   {
    "duration": 20,
    "start_time": "2022-04-12T11:53:43.467Z"
   },
   {
    "duration": 6,
    "start_time": "2022-04-12T11:54:55.634Z"
   },
   {
    "duration": 23,
    "start_time": "2022-04-12T11:55:09.811Z"
   },
   {
    "duration": 25,
    "start_time": "2022-04-12T11:55:45.925Z"
   },
   {
    "duration": 26,
    "start_time": "2022-04-12T11:55:55.943Z"
   },
   {
    "duration": 327,
    "start_time": "2022-04-12T11:56:18.227Z"
   },
   {
    "duration": 333,
    "start_time": "2022-04-12T11:56:46.442Z"
   },
   {
    "duration": 158,
    "start_time": "2022-04-12T12:55:49.443Z"
   },
   {
    "duration": 163,
    "start_time": "2022-04-12T12:56:33.399Z"
   },
   {
    "duration": 310,
    "start_time": "2022-04-12T12:56:44.626Z"
   },
   {
    "duration": 321,
    "start_time": "2022-04-12T12:57:22.276Z"
   },
   {
    "duration": 323,
    "start_time": "2022-04-12T12:57:30.564Z"
   },
   {
    "duration": 316,
    "start_time": "2022-04-12T12:57:36.978Z"
   },
   {
    "duration": 325,
    "start_time": "2022-04-12T12:57:40.036Z"
   },
   {
    "duration": 20,
    "start_time": "2022-04-12T13:09:52.710Z"
   },
   {
    "duration": 311,
    "start_time": "2022-04-12T13:10:04.312Z"
   },
   {
    "duration": 503,
    "start_time": "2022-04-12T13:10:09.654Z"
   },
   {
    "duration": 20,
    "start_time": "2022-04-12T14:03:39.780Z"
   },
   {
    "duration": 176,
    "start_time": "2022-04-12T14:03:52.418Z"
   },
   {
    "duration": 22,
    "start_time": "2022-04-12T14:03:55.108Z"
   },
   {
    "duration": 2620,
    "start_time": "2022-04-12T14:05:06.901Z"
   },
   {
    "duration": 16,
    "start_time": "2022-04-12T14:05:39.268Z"
   },
   {
    "duration": 20,
    "start_time": "2022-04-12T14:06:19.604Z"
   },
   {
    "duration": 24,
    "start_time": "2022-04-12T14:07:16.567Z"
   },
   {
    "duration": 14,
    "start_time": "2022-04-12T14:07:56.150Z"
   },
   {
    "duration": 18,
    "start_time": "2022-04-12T14:08:17.046Z"
   },
   {
    "duration": 7,
    "start_time": "2022-04-12T14:08:32.212Z"
   },
   {
    "duration": 7,
    "start_time": "2022-04-12T14:08:37.001Z"
   },
   {
    "duration": 8,
    "start_time": "2022-04-12T14:09:59.529Z"
   },
   {
    "duration": 43,
    "start_time": "2022-04-13T10:13:42.367Z"
   },
   {
    "duration": 1230,
    "start_time": "2022-04-13T10:13:45.792Z"
   },
   {
    "duration": 4,
    "start_time": "2022-04-13T10:13:47.024Z"
   },
   {
    "duration": 6,
    "start_time": "2022-04-13T10:13:47.029Z"
   },
   {
    "duration": 64,
    "start_time": "2022-04-13T10:13:47.036Z"
   },
   {
    "duration": 14,
    "start_time": "2022-04-13T10:13:47.102Z"
   },
   {
    "duration": 12,
    "start_time": "2022-04-13T10:13:47.118Z"
   },
   {
    "duration": 30,
    "start_time": "2022-04-13T10:13:47.132Z"
   },
   {
    "duration": 6,
    "start_time": "2022-04-13T10:13:47.164Z"
   },
   {
    "duration": 7,
    "start_time": "2022-04-13T10:13:47.172Z"
   },
   {
    "duration": 5,
    "start_time": "2022-04-13T10:13:47.181Z"
   },
   {
    "duration": 4,
    "start_time": "2022-04-13T10:13:48.556Z"
   },
   {
    "duration": 12,
    "start_time": "2022-04-13T10:13:49.116Z"
   },
   {
    "duration": 9,
    "start_time": "2022-04-13T10:14:11.324Z"
   },
   {
    "duration": 9,
    "start_time": "2022-04-13T10:14:21.787Z"
   },
   {
    "duration": 6,
    "start_time": "2022-04-13T10:14:32.204Z"
   },
   {
    "duration": 6,
    "start_time": "2022-04-13T10:14:36.556Z"
   },
   {
    "duration": 3,
    "start_time": "2022-04-13T10:14:41.711Z"
   },
   {
    "duration": 4,
    "start_time": "2022-04-13T10:14:41.718Z"
   },
   {
    "duration": 6,
    "start_time": "2022-04-13T10:14:41.724Z"
   },
   {
    "duration": 48,
    "start_time": "2022-04-13T10:14:41.732Z"
   },
   {
    "duration": 13,
    "start_time": "2022-04-13T10:14:41.782Z"
   },
   {
    "duration": 10,
    "start_time": "2022-04-13T10:14:41.796Z"
   },
   {
    "duration": 22,
    "start_time": "2022-04-13T10:14:41.808Z"
   },
   {
    "duration": 6,
    "start_time": "2022-04-13T10:14:41.848Z"
   },
   {
    "duration": 7,
    "start_time": "2022-04-13T10:14:41.856Z"
   },
   {
    "duration": 11,
    "start_time": "2022-04-13T10:15:00.139Z"
   },
   {
    "duration": 5,
    "start_time": "2022-04-13T10:15:01.260Z"
   },
   {
    "duration": 15,
    "start_time": "2022-04-13T10:15:20.780Z"
   },
   {
    "duration": 14,
    "start_time": "2022-04-13T10:15:53.276Z"
   },
   {
    "duration": 9,
    "start_time": "2022-04-13T10:23:23.586Z"
   },
   {
    "duration": 120,
    "start_time": "2022-04-13T10:23:23.999Z"
   },
   {
    "duration": 6,
    "start_time": "2022-04-13T10:23:28.319Z"
   },
   {
    "duration": 17,
    "start_time": "2022-04-13T10:24:47.503Z"
   },
   {
    "duration": 18,
    "start_time": "2022-04-13T10:25:18.832Z"
   },
   {
    "duration": 13,
    "start_time": "2022-04-13T10:25:20.409Z"
   },
   {
    "duration": 14,
    "start_time": "2022-04-13T10:25:44.433Z"
   },
   {
    "duration": 12,
    "start_time": "2022-04-13T10:26:02.033Z"
   },
   {
    "duration": 3,
    "start_time": "2022-04-13T10:27:19.377Z"
   },
   {
    "duration": 60,
    "start_time": "2022-04-13T10:28:39.603Z"
   },
   {
    "duration": 17,
    "start_time": "2022-04-13T10:28:49.860Z"
   },
   {
    "duration": 19,
    "start_time": "2022-04-13T10:28:56.978Z"
   },
   {
    "duration": 22,
    "start_time": "2022-04-13T10:29:05.283Z"
   },
   {
    "duration": 20,
    "start_time": "2022-04-13T10:29:07.667Z"
   },
   {
    "duration": 3,
    "start_time": "2022-04-13T10:29:26.686Z"
   },
   {
    "duration": 5,
    "start_time": "2022-04-13T10:29:26.691Z"
   },
   {
    "duration": 5,
    "start_time": "2022-04-13T10:29:26.698Z"
   },
   {
    "duration": 56,
    "start_time": "2022-04-13T10:29:26.705Z"
   },
   {
    "duration": 12,
    "start_time": "2022-04-13T10:29:26.763Z"
   },
   {
    "duration": 12,
    "start_time": "2022-04-13T10:29:26.777Z"
   },
   {
    "duration": 22,
    "start_time": "2022-04-13T10:29:26.791Z"
   },
   {
    "duration": 6,
    "start_time": "2022-04-13T10:29:26.814Z"
   },
   {
    "duration": 32,
    "start_time": "2022-04-13T10:29:26.822Z"
   },
   {
    "duration": 7,
    "start_time": "2022-04-13T10:29:26.855Z"
   },
   {
    "duration": 12,
    "start_time": "2022-04-13T10:29:26.864Z"
   },
   {
    "duration": 20,
    "start_time": "2022-04-13T10:29:26.877Z"
   },
   {
    "duration": 16,
    "start_time": "2022-04-13T10:29:29.570Z"
   },
   {
    "duration": 13,
    "start_time": "2022-04-13T10:29:30.044Z"
   },
   {
    "duration": 25,
    "start_time": "2022-04-13T10:29:31.265Z"
   },
   {
    "duration": 39,
    "start_time": "2022-04-13T10:30:04.026Z"
   },
   {
    "duration": 24,
    "start_time": "2022-04-13T10:33:12.741Z"
   },
   {
    "duration": 7,
    "start_time": "2022-04-13T10:34:54.230Z"
   },
   {
    "duration": 283,
    "start_time": "2022-04-13T10:34:54.567Z"
   },
   {
    "duration": 9,
    "start_time": "2022-04-13T10:34:54.916Z"
   },
   {
    "duration": 131,
    "start_time": "2022-04-13T10:34:57.108Z"
   },
   {
    "duration": 8,
    "start_time": "2022-04-13T10:34:59.733Z"
   },
   {
    "duration": 313,
    "start_time": "2022-04-13T10:35:00.166Z"
   },
   {
    "duration": 16,
    "start_time": "2022-04-13T10:35:01.766Z"
   },
   {
    "duration": 206,
    "start_time": "2022-04-13T10:35:02.244Z"
   },
   {
    "duration": 17,
    "start_time": "2022-04-13T10:35:04.742Z"
   },
   {
    "duration": 1074,
    "start_time": "2022-04-13T10:35:05.156Z"
   },
   {
    "duration": 432,
    "start_time": "2022-04-13T10:35:07.044Z"
   },
   {
    "duration": 387,
    "start_time": "2022-04-13T10:35:08.180Z"
   },
   {
    "duration": 20,
    "start_time": "2022-04-13T10:35:09.396Z"
   },
   {
    "duration": 19,
    "start_time": "2022-04-13T10:35:10.564Z"
   },
   {
    "duration": 250,
    "start_time": "2022-04-13T10:35:10.916Z"
   },
   {
    "duration": 65,
    "start_time": "2022-04-13T10:35:13.348Z"
   },
   {
    "duration": 22,
    "start_time": "2022-04-13T10:35:13.989Z"
   },
   {
    "duration": 20,
    "start_time": "2022-04-13T10:35:15.236Z"
   },
   {
    "duration": 213,
    "start_time": "2022-04-13T10:35:15.732Z"
   },
   {
    "duration": 18,
    "start_time": "2022-04-13T10:35:18.179Z"
   },
   {
    "duration": 7,
    "start_time": "2022-04-13T10:35:19.241Z"
   },
   {
    "duration": 17,
    "start_time": "2022-04-13T10:35:21.477Z"
   },
   {
    "duration": 7,
    "start_time": "2022-04-13T10:35:22.341Z"
   },
   {
    "duration": 255,
    "start_time": "2022-04-13T10:35:22.836Z"
   },
   {
    "duration": 257,
    "start_time": "2022-04-13T10:35:24.612Z"
   },
   {
    "duration": 304,
    "start_time": "2022-04-13T11:11:44.773Z"
   },
   {
    "duration": 906,
    "start_time": "2022-04-13T11:16:00.837Z"
   },
   {
    "duration": 1253,
    "start_time": "2022-04-13T11:30:08.037Z"
   },
   {
    "duration": 4,
    "start_time": "2022-04-13T11:30:09.293Z"
   },
   {
    "duration": 9,
    "start_time": "2022-04-13T11:30:09.298Z"
   },
   {
    "duration": 81,
    "start_time": "2022-04-13T11:30:09.309Z"
   },
   {
    "duration": 15,
    "start_time": "2022-04-13T11:30:09.392Z"
   },
   {
    "duration": 12,
    "start_time": "2022-04-13T11:30:09.408Z"
   },
   {
    "duration": 42,
    "start_time": "2022-04-13T11:30:09.422Z"
   },
   {
    "duration": 9,
    "start_time": "2022-04-13T11:30:09.465Z"
   },
   {
    "duration": 11,
    "start_time": "2022-04-13T11:30:09.476Z"
   },
   {
    "duration": 6,
    "start_time": "2022-04-13T11:30:09.491Z"
   },
   {
    "duration": 21,
    "start_time": "2022-04-13T11:30:09.499Z"
   },
   {
    "duration": 45,
    "start_time": "2022-04-13T11:30:09.522Z"
   },
   {
    "duration": 20,
    "start_time": "2022-04-13T11:30:09.569Z"
   },
   {
    "duration": 62,
    "start_time": "2022-04-13T11:30:09.591Z"
   },
   {
    "duration": 20,
    "start_time": "2022-04-13T11:30:09.655Z"
   },
   {
    "duration": 45,
    "start_time": "2022-04-13T11:30:09.677Z"
   },
   {
    "duration": 33,
    "start_time": "2022-04-13T11:30:09.724Z"
   },
   {
    "duration": 37,
    "start_time": "2022-04-13T11:30:09.759Z"
   },
   {
    "duration": 7,
    "start_time": "2022-04-13T11:30:09.798Z"
   },
   {
    "duration": 330,
    "start_time": "2022-04-13T11:30:09.807Z"
   },
   {
    "duration": 13,
    "start_time": "2022-04-13T11:30:10.139Z"
   },
   {
    "duration": 133,
    "start_time": "2022-04-13T11:30:10.153Z"
   },
   {
    "duration": 9,
    "start_time": "2022-04-13T11:30:10.287Z"
   },
   {
    "duration": 299,
    "start_time": "2022-04-13T11:30:10.297Z"
   },
   {
    "duration": 15,
    "start_time": "2022-04-13T11:30:10.598Z"
   },
   {
    "duration": 221,
    "start_time": "2022-04-13T11:30:10.614Z"
   },
   {
    "duration": 24,
    "start_time": "2022-04-13T11:30:10.837Z"
   },
   {
    "duration": 1052,
    "start_time": "2022-04-13T11:30:10.865Z"
   },
   {
    "duration": 437,
    "start_time": "2022-04-13T11:30:11.919Z"
   },
   {
    "duration": 598,
    "start_time": "2022-04-13T11:30:12.358Z"
   },
   {
    "duration": 20,
    "start_time": "2022-04-13T11:30:12.958Z"
   },
   {
    "duration": 19,
    "start_time": "2022-04-13T11:30:12.980Z"
   },
   {
    "duration": 283,
    "start_time": "2022-04-13T11:30:13.001Z"
   },
   {
    "duration": 83,
    "start_time": "2022-04-13T11:30:13.286Z"
   },
   {
    "duration": 21,
    "start_time": "2022-04-13T11:30:13.371Z"
   },
   {
    "duration": 21,
    "start_time": "2022-04-13T11:30:13.394Z"
   },
   {
    "duration": 365,
    "start_time": "2022-04-13T11:30:13.417Z"
   },
   {
    "duration": 20,
    "start_time": "2022-04-13T11:30:13.784Z"
   },
   {
    "duration": 8,
    "start_time": "2022-04-13T11:30:13.806Z"
   },
   {
    "duration": 35,
    "start_time": "2022-04-13T11:30:13.816Z"
   },
   {
    "duration": 7,
    "start_time": "2022-04-13T11:30:13.853Z"
   },
   {
    "duration": 285,
    "start_time": "2022-04-13T11:30:13.862Z"
   },
   {
    "duration": 297,
    "start_time": "2022-04-13T11:30:14.150Z"
   },
   {
    "duration": 2865,
    "start_time": "2022-04-13T16:54:38.636Z"
   },
   {
    "duration": 5,
    "start_time": "2022-04-13T16:54:41.505Z"
   },
   {
    "duration": 14,
    "start_time": "2022-04-13T16:54:41.514Z"
   },
   {
    "duration": 202,
    "start_time": "2022-04-13T16:54:41.532Z"
   },
   {
    "duration": 84,
    "start_time": "2022-04-13T16:54:41.737Z"
   },
   {
    "duration": 87,
    "start_time": "2022-04-13T16:54:41.824Z"
   },
   {
    "duration": 99,
    "start_time": "2022-04-13T16:54:41.914Z"
   },
   {
    "duration": 14,
    "start_time": "2022-04-13T16:54:42.017Z"
   },
   {
    "duration": 75,
    "start_time": "2022-04-13T16:54:42.034Z"
   },
   {
    "duration": 8,
    "start_time": "2022-04-13T16:54:42.117Z"
   },
   {
    "duration": 78,
    "start_time": "2022-04-13T16:54:42.128Z"
   },
   {
    "duration": 112,
    "start_time": "2022-04-13T16:54:42.210Z"
   },
   {
    "duration": 72,
    "start_time": "2022-04-13T16:54:42.325Z"
   },
   {
    "duration": 99,
    "start_time": "2022-04-13T16:54:42.399Z"
   },
   {
    "duration": 47,
    "start_time": "2022-04-13T16:54:42.501Z"
   },
   {
    "duration": 147,
    "start_time": "2022-04-13T16:54:42.550Z"
   },
   {
    "duration": 25,
    "start_time": "2022-04-13T16:54:42.699Z"
   },
   {
    "duration": 120,
    "start_time": "2022-04-13T16:54:42.728Z"
   },
   {
    "duration": 50,
    "start_time": "2022-04-13T16:54:42.850Z"
   },
   {
    "duration": 418,
    "start_time": "2022-04-13T16:54:42.904Z"
   },
   {
    "duration": 12,
    "start_time": "2022-04-13T16:54:43.324Z"
   },
   {
    "duration": 276,
    "start_time": "2022-04-13T16:54:43.339Z"
   },
   {
    "duration": 12,
    "start_time": "2022-04-13T16:54:43.618Z"
   },
   {
    "duration": 432,
    "start_time": "2022-04-13T16:54:43.632Z"
   },
   {
    "duration": 45,
    "start_time": "2022-04-13T16:54:44.066Z"
   },
   {
    "duration": 621,
    "start_time": "2022-04-13T16:54:44.114Z"
   },
   {
    "duration": 35,
    "start_time": "2022-04-13T16:54:44.738Z"
   },
   {
    "duration": 1903,
    "start_time": "2022-04-13T16:54:44.794Z"
   },
   {
    "duration": 963,
    "start_time": "2022-04-13T16:54:46.699Z"
   },
   {
    "duration": 781,
    "start_time": "2022-04-13T16:54:47.665Z"
   },
   {
    "duration": 50,
    "start_time": "2022-04-13T16:54:48.448Z"
   },
   {
    "duration": 32,
    "start_time": "2022-04-13T16:54:48.501Z"
   },
   {
    "duration": 502,
    "start_time": "2022-04-13T16:54:48.535Z"
   },
   {
    "duration": 123,
    "start_time": "2022-04-13T16:54:49.039Z"
   },
   {
    "duration": 52,
    "start_time": "2022-04-13T16:54:49.165Z"
   },
   {
    "duration": 47,
    "start_time": "2022-04-13T16:54:49.220Z"
   },
   {
    "duration": 405,
    "start_time": "2022-04-13T16:54:49.296Z"
   },
   {
    "duration": 47,
    "start_time": "2022-04-13T16:54:49.709Z"
   },
   {
    "duration": 39,
    "start_time": "2022-04-13T16:54:49.759Z"
   },
   {
    "duration": 24,
    "start_time": "2022-04-13T16:54:49.801Z"
   },
   {
    "duration": 11,
    "start_time": "2022-04-13T16:54:49.827Z"
   },
   {
    "duration": 808,
    "start_time": "2022-04-13T16:54:49.840Z"
   },
   {
    "duration": 552,
    "start_time": "2022-04-13T16:54:50.652Z"
   },
   {
    "duration": 1888,
    "start_time": "2022-04-13T16:56:05.378Z"
   },
   {
    "duration": 1810,
    "start_time": "2022-04-13T16:56:15.050Z"
   },
   {
    "duration": 2698,
    "start_time": "2022-04-13T16:56:20.582Z"
   },
   {
    "duration": 2006,
    "start_time": "2022-04-13T16:56:30.990Z"
   },
   {
    "duration": 25,
    "start_time": "2022-04-13T17:06:40.097Z"
   },
   {
    "duration": 196,
    "start_time": "2022-04-13T17:06:59.531Z"
   },
   {
    "duration": 20,
    "start_time": "2022-04-13T17:07:03.253Z"
   },
   {
    "duration": 1408,
    "start_time": "2022-04-15T07:31:57.442Z"
   },
   {
    "duration": 3,
    "start_time": "2022-04-15T07:31:58.852Z"
   },
   {
    "duration": 17,
    "start_time": "2022-04-15T07:31:58.856Z"
   },
   {
    "duration": 56,
    "start_time": "2022-04-15T07:31:58.875Z"
   },
   {
    "duration": 13,
    "start_time": "2022-04-15T07:31:58.932Z"
   },
   {
    "duration": 14,
    "start_time": "2022-04-15T07:32:03.271Z"
   },
   {
    "duration": 9,
    "start_time": "2022-04-15T07:32:05.579Z"
   },
   {
    "duration": 13,
    "start_time": "2022-04-15T07:35:01.459Z"
   },
   {
    "duration": 8910,
    "start_time": "2022-04-15T07:35:10.942Z"
   },
   {
    "duration": 11,
    "start_time": "2022-04-15T07:35:22.981Z"
   },
   {
    "duration": 13,
    "start_time": "2022-04-15T07:36:10.137Z"
   },
   {
    "duration": 13,
    "start_time": "2022-04-15T07:36:46.004Z"
   },
   {
    "duration": 19,
    "start_time": "2022-04-15T07:36:54.145Z"
   },
   {
    "duration": 17,
    "start_time": "2022-04-15T07:37:24.235Z"
   },
   {
    "duration": 4,
    "start_time": "2022-04-15T07:38:40.828Z"
   },
   {
    "duration": 14,
    "start_time": "2022-04-15T07:38:48.140Z"
   },
   {
    "duration": 1043,
    "start_time": "2022-04-15T07:41:51.451Z"
   },
   {
    "duration": 23,
    "start_time": "2022-04-15T07:41:55.692Z"
   },
   {
    "duration": 15,
    "start_time": "2022-04-15T07:42:27.547Z"
   },
   {
    "duration": 15,
    "start_time": "2022-04-15T07:42:37.467Z"
   },
   {
    "duration": 8,
    "start_time": "2022-04-15T07:43:23.087Z"
   },
   {
    "duration": 13,
    "start_time": "2022-04-15T07:43:27.189Z"
   },
   {
    "duration": 4,
    "start_time": "2022-04-15T07:44:08.403Z"
   },
   {
    "duration": 14,
    "start_time": "2022-04-15T07:44:14.814Z"
   },
   {
    "duration": 12,
    "start_time": "2022-04-15T07:44:24.709Z"
   },
   {
    "duration": 16,
    "start_time": "2022-04-15T07:44:45.250Z"
   },
   {
    "duration": 17,
    "start_time": "2022-04-15T07:44:58.627Z"
   },
   {
    "duration": 17,
    "start_time": "2022-04-15T07:45:05.435Z"
   },
   {
    "duration": 3,
    "start_time": "2022-04-15T07:45:11.174Z"
   },
   {
    "duration": 6,
    "start_time": "2022-04-15T07:45:11.180Z"
   },
   {
    "duration": 5,
    "start_time": "2022-04-15T07:45:11.188Z"
   },
   {
    "duration": 64,
    "start_time": "2022-04-15T07:45:11.196Z"
   },
   {
    "duration": 14,
    "start_time": "2022-04-15T07:45:11.262Z"
   },
   {
    "duration": 11,
    "start_time": "2022-04-15T07:45:11.278Z"
   },
   {
    "duration": 38,
    "start_time": "2022-04-15T07:45:11.290Z"
   },
   {
    "duration": 7,
    "start_time": "2022-04-15T07:45:11.330Z"
   },
   {
    "duration": 7,
    "start_time": "2022-04-15T07:45:11.339Z"
   },
   {
    "duration": 7,
    "start_time": "2022-04-15T07:45:11.348Z"
   },
   {
    "duration": 16,
    "start_time": "2022-04-15T07:45:11.357Z"
   },
   {
    "duration": 19,
    "start_time": "2022-04-15T07:45:11.407Z"
   },
   {
    "duration": 15,
    "start_time": "2022-04-15T07:45:11.428Z"
   },
   {
    "duration": 30,
    "start_time": "2022-04-15T07:45:11.444Z"
   },
   {
    "duration": 44,
    "start_time": "2022-04-15T07:45:11.475Z"
   },
   {
    "duration": 28,
    "start_time": "2022-04-15T07:45:11.521Z"
   },
   {
    "duration": 11,
    "start_time": "2022-04-15T07:45:11.550Z"
   },
   {
    "duration": 58,
    "start_time": "2022-04-15T07:45:11.563Z"
   },
   {
    "duration": 13,
    "start_time": "2022-04-15T07:45:11.624Z"
   },
   {
    "duration": 11,
    "start_time": "2022-04-15T07:45:37.089Z"
   },
   {
    "duration": 12,
    "start_time": "2022-04-15T07:45:52.894Z"
   },
   {
    "duration": 11,
    "start_time": "2022-04-15T07:46:01.923Z"
   },
   {
    "duration": 14,
    "start_time": "2022-04-15T07:46:14.744Z"
   },
   {
    "duration": 18,
    "start_time": "2022-04-15T07:46:22.765Z"
   },
   {
    "duration": 25,
    "start_time": "2022-04-15T07:46:25.967Z"
   },
   {
    "duration": 17,
    "start_time": "2022-04-15T07:46:37.297Z"
   },
   {
    "duration": 15,
    "start_time": "2022-04-15T07:46:47.399Z"
   },
   {
    "duration": 6,
    "start_time": "2022-04-15T07:47:50.074Z"
   },
   {
    "duration": 15,
    "start_time": "2022-04-15T07:47:59.131Z"
   },
   {
    "duration": 769,
    "start_time": "2022-04-15T07:56:07.259Z"
   },
   {
    "duration": 661,
    "start_time": "2022-04-15T07:56:13.355Z"
   },
   {
    "duration": 653,
    "start_time": "2022-04-15T07:56:21.158Z"
   },
   {
    "duration": 759,
    "start_time": "2022-04-15T07:56:26.186Z"
   },
   {
    "duration": 2,
    "start_time": "2022-04-15T07:56:47.769Z"
   },
   {
    "duration": 6,
    "start_time": "2022-04-15T07:56:47.773Z"
   },
   {
    "duration": 7,
    "start_time": "2022-04-15T07:56:47.781Z"
   },
   {
    "duration": 54,
    "start_time": "2022-04-15T07:56:47.790Z"
   },
   {
    "duration": 13,
    "start_time": "2022-04-15T07:56:47.846Z"
   },
   {
    "duration": 11,
    "start_time": "2022-04-15T07:56:47.860Z"
   },
   {
    "duration": 50,
    "start_time": "2022-04-15T07:56:47.872Z"
   },
   {
    "duration": 5,
    "start_time": "2022-04-15T07:56:47.924Z"
   },
   {
    "duration": 7,
    "start_time": "2022-04-15T07:56:47.931Z"
   },
   {
    "duration": 5,
    "start_time": "2022-04-15T07:56:47.940Z"
   },
   {
    "duration": 11,
    "start_time": "2022-04-15T07:56:47.947Z"
   },
   {
    "duration": 56,
    "start_time": "2022-04-15T07:56:47.960Z"
   },
   {
    "duration": 13,
    "start_time": "2022-04-15T07:56:48.018Z"
   },
   {
    "duration": 25,
    "start_time": "2022-04-15T07:56:48.033Z"
   },
   {
    "duration": 14,
    "start_time": "2022-04-15T07:56:48.059Z"
   },
   {
    "duration": 26,
    "start_time": "2022-04-15T07:56:48.107Z"
   },
   {
    "duration": 14,
    "start_time": "2022-04-15T07:56:48.135Z"
   },
   {
    "duration": 59,
    "start_time": "2022-04-15T07:56:48.151Z"
   },
   {
    "duration": 18,
    "start_time": "2022-04-15T07:56:48.212Z"
   },
   {
    "duration": 17,
    "start_time": "2022-04-15T07:56:48.232Z"
   },
   {
    "duration": 14,
    "start_time": "2022-04-15T07:56:48.250Z"
   },
   {
    "duration": 45,
    "start_time": "2022-04-15T07:56:48.266Z"
   },
   {
    "duration": 232,
    "start_time": "2022-04-15T07:56:48.312Z"
   },
   {
    "duration": 7,
    "start_time": "2022-04-15T07:56:48.545Z"
   },
   {
    "duration": 150,
    "start_time": "2022-04-15T07:56:48.553Z"
   },
   {
    "duration": 7,
    "start_time": "2022-04-15T07:56:48.708Z"
   },
   {
    "duration": 226,
    "start_time": "2022-04-15T07:56:48.716Z"
   },
   {
    "duration": 16,
    "start_time": "2022-04-15T07:56:48.943Z"
   },
   {
    "duration": 247,
    "start_time": "2022-04-15T07:56:48.962Z"
   },
   {
    "duration": 16,
    "start_time": "2022-04-15T07:56:49.211Z"
   },
   {
    "duration": 1154,
    "start_time": "2022-04-15T07:56:49.229Z"
   },
   {
    "duration": 468,
    "start_time": "2022-04-15T07:56:50.385Z"
   },
   {
    "duration": 447,
    "start_time": "2022-04-15T07:56:50.855Z"
   },
   {
    "duration": 19,
    "start_time": "2022-04-15T07:56:51.303Z"
   },
   {
    "duration": 17,
    "start_time": "2022-04-15T07:56:51.324Z"
   },
   {
    "duration": 301,
    "start_time": "2022-04-15T07:56:51.342Z"
   },
   {
    "duration": 78,
    "start_time": "2022-04-15T07:56:51.645Z"
   },
   {
    "duration": 23,
    "start_time": "2022-04-15T07:56:51.724Z"
   },
   {
    "duration": 21,
    "start_time": "2022-04-15T07:56:51.748Z"
   },
   {
    "duration": 268,
    "start_time": "2022-04-15T07:56:51.771Z"
   },
   {
    "duration": 784,
    "start_time": "2022-04-15T07:56:52.041Z"
   },
   {
    "duration": 6,
    "start_time": "2022-04-15T07:57:31.345Z"
   },
   {
    "duration": 13,
    "start_time": "2022-04-15T07:57:40.633Z"
   },
   {
    "duration": 5,
    "start_time": "2022-04-15T07:57:50.218Z"
   },
   {
    "duration": 12,
    "start_time": "2022-04-15T07:58:16.498Z"
   },
   {
    "duration": 6,
    "start_time": "2022-04-15T07:59:19.211Z"
   },
   {
    "duration": 6,
    "start_time": "2022-04-15T07:59:56.935Z"
   },
   {
    "duration": 12,
    "start_time": "2022-04-15T08:00:02.376Z"
   },
   {
    "duration": 15,
    "start_time": "2022-04-15T08:00:21.180Z"
   },
   {
    "duration": 15,
    "start_time": "2022-04-15T08:00:34.688Z"
   },
   {
    "duration": 5,
    "start_time": "2022-04-15T08:01:22.148Z"
   },
   {
    "duration": 13,
    "start_time": "2022-04-15T08:01:30.068Z"
   },
   {
    "duration": 9,
    "start_time": "2022-04-15T08:03:05.630Z"
   },
   {
    "duration": 2,
    "start_time": "2022-04-15T08:03:15.069Z"
   },
   {
    "duration": 10,
    "start_time": "2022-04-15T08:03:15.075Z"
   },
   {
    "duration": 6,
    "start_time": "2022-04-15T08:03:15.087Z"
   },
   {
    "duration": 64,
    "start_time": "2022-04-15T08:03:15.095Z"
   },
   {
    "duration": 14,
    "start_time": "2022-04-15T08:03:15.160Z"
   },
   {
    "duration": 38,
    "start_time": "2022-04-15T08:03:15.176Z"
   },
   {
    "duration": 23,
    "start_time": "2022-04-15T08:03:15.215Z"
   },
   {
    "duration": 7,
    "start_time": "2022-04-15T08:03:15.239Z"
   },
   {
    "duration": 16,
    "start_time": "2022-04-15T08:03:15.247Z"
   },
   {
    "duration": 6,
    "start_time": "2022-04-15T08:03:15.265Z"
   },
   {
    "duration": 43,
    "start_time": "2022-04-15T08:03:15.272Z"
   },
   {
    "duration": 18,
    "start_time": "2022-04-15T08:03:15.317Z"
   },
   {
    "duration": 14,
    "start_time": "2022-04-15T08:03:15.336Z"
   },
   {
    "duration": 27,
    "start_time": "2022-04-15T08:03:15.352Z"
   },
   {
    "duration": 39,
    "start_time": "2022-04-15T08:03:15.381Z"
   },
   {
    "duration": 29,
    "start_time": "2022-04-15T08:03:15.422Z"
   },
   {
    "duration": 23,
    "start_time": "2022-04-15T08:03:15.453Z"
   },
   {
    "duration": 46,
    "start_time": "2022-04-15T08:03:15.478Z"
   },
   {
    "duration": 17,
    "start_time": "2022-04-15T08:03:15.525Z"
   },
   {
    "duration": 21,
    "start_time": "2022-04-15T08:03:15.544Z"
   },
   {
    "duration": 40,
    "start_time": "2022-04-15T08:03:15.567Z"
   },
   {
    "duration": 6,
    "start_time": "2022-04-15T08:03:15.609Z"
   },
   {
    "duration": 237,
    "start_time": "2022-04-15T08:03:15.617Z"
   },
   {
    "duration": 7,
    "start_time": "2022-04-15T08:03:15.855Z"
   },
   {
    "duration": 269,
    "start_time": "2022-04-15T08:03:15.864Z"
   },
   {
    "duration": 8,
    "start_time": "2022-04-15T08:03:16.134Z"
   },
   {
    "duration": 235,
    "start_time": "2022-04-15T08:03:16.143Z"
   },
   {
    "duration": 27,
    "start_time": "2022-04-15T08:03:16.380Z"
   },
   {
    "duration": 239,
    "start_time": "2022-04-15T08:03:16.409Z"
   },
   {
    "duration": 16,
    "start_time": "2022-04-15T08:03:16.650Z"
   },
   {
    "duration": 1101,
    "start_time": "2022-04-15T08:03:16.668Z"
   },
   {
    "duration": 471,
    "start_time": "2022-04-15T08:03:17.771Z"
   },
   {
    "duration": 550,
    "start_time": "2022-04-15T08:03:18.243Z"
   },
   {
    "duration": 28,
    "start_time": "2022-04-15T08:03:18.794Z"
   },
   {
    "duration": 20,
    "start_time": "2022-04-15T08:03:18.823Z"
   },
   {
    "duration": 305,
    "start_time": "2022-04-15T08:03:18.845Z"
   },
   {
    "duration": 82,
    "start_time": "2022-04-15T08:03:19.152Z"
   },
   {
    "duration": 23,
    "start_time": "2022-04-15T08:03:19.236Z"
   },
   {
    "duration": 26,
    "start_time": "2022-04-15T08:03:19.261Z"
   },
   {
    "duration": 246,
    "start_time": "2022-04-15T08:03:19.307Z"
   },
   {
    "duration": 801,
    "start_time": "2022-04-15T08:03:19.555Z"
   },
   {
    "duration": 12,
    "start_time": "2022-04-15T08:03:20.360Z"
   },
   {
    "duration": 21,
    "start_time": "2022-04-15T08:03:20.373Z"
   },
   {
    "duration": 6,
    "start_time": "2022-04-15T08:03:20.396Z"
   },
   {
    "duration": 14,
    "start_time": "2022-04-15T08:03:21.123Z"
   },
   {
    "duration": 14,
    "start_time": "2022-04-15T08:03:55.995Z"
   },
   {
    "duration": 7,
    "start_time": "2022-04-15T08:03:56.416Z"
   },
   {
    "duration": 270,
    "start_time": "2022-04-15T08:03:57.064Z"
   },
   {
    "duration": 265,
    "start_time": "2022-04-15T08:03:57.750Z"
   }
  ],
  "kernelspec": {
   "display_name": "Python 3",
   "language": "python",
   "name": "python3"
  },
  "language_info": {
   "codemirror_mode": {
    "name": "ipython",
    "version": 3
   },
   "file_extension": ".py",
   "mimetype": "text/x-python",
   "name": "python",
   "nbconvert_exporter": "python",
   "pygments_lexer": "ipython3",
   "version": "3.8.5"
  },
  "toc": {
   "base_numbering": 1,
   "nav_menu": {},
   "number_sections": true,
   "sideBar": true,
   "skip_h1_title": true,
   "title_cell": "Table of Contents",
   "title_sidebar": "Contents",
   "toc_cell": false,
   "toc_position": {},
   "toc_section_display": true,
   "toc_window_display": true
  }
 },
 "nbformat": 4,
 "nbformat_minor": 2
}
